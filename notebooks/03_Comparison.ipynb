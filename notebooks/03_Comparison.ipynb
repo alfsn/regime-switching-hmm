{
 "cells": [
  {
   "cell_type": "markdown",
   "id": "53f032f0",
   "metadata": {},
   "source": [
    "# Comparison\n"
   ]
  },
  {
   "cell_type": "code",
   "execution_count": 2,
   "id": "1eba1443",
   "metadata": {},
   "outputs": [],
   "source": [
    "import pandas as pd\n",
    "import numpy as np\n",
    "import os\n",
    "\n",
    "pd.set_option(\"display.max_columns\", None)"
   ]
  },
  {
   "cell_type": "code",
   "execution_count": 3,
   "id": "a94baead",
   "metadata": {},
   "outputs": [],
   "source": [
    "from scripts.params import get_params\n",
    "\n",
    "params = get_params()"
   ]
  },
  {
   "cell_type": "code",
   "execution_count": 19,
   "id": "7a500c37",
   "metadata": {},
   "outputs": [],
   "source": [
    "from epftoolbox.evaluation import DM, GW, plot_multivariate_GW_test, plot_multivariate_DM_test\n",
    "\n",
    "# note: to install this package, execute\n",
    "    #git clone https://github.com/jeslago/epftoolbox.git\n",
    "    #cd epftoolbox\n",
    "    #pip install .\n",
    "# may also need to modify epftoolbox/setup.py to be able to install it after python 3.11"
   ]
  },
  {
   "cell_type": "code",
   "execution_count": 5,
   "id": "904542a3",
   "metadata": {},
   "outputs": [],
   "source": [
    "dataroute = os.path.join(\"..\", \"data\")\n",
    "dumproute = os.path.join(\"..\", \"dump\")\n",
    "resultsroute = os.path.join(\"..\", \"results\")"
   ]
  },
  {
   "cell_type": "code",
   "execution_count": 6,
   "id": "260608bd",
   "metadata": {},
   "outputs": [],
   "source": [
    "start_test = params[\"start_test\"]"
   ]
  },
  {
   "cell_type": "code",
   "execution_count": 7,
   "id": "95e9fb2e",
   "metadata": {},
   "outputs": [
    {
     "name": "stdout",
     "output_type": "stream",
     "text": [
      "{'GARCH_AR_^MERV_aic_best_residuals.pickle': '..\\\\results\\\\GARCH_AR_^MERV_aic_best_residuals.pickle', 'GARCH_AR_^MERV_bic_best_residuals.pickle': '..\\\\results\\\\GARCH_AR_^MERV_bic_best_residuals.pickle', 'HMM_multiv_AR_^MERV_aic_best_residuals.pickle': '..\\\\results\\\\HMM_multiv_AR_^MERV_aic_best_residuals.pickle', 'HMM_multiv_AR_^MERV_aic_residuals.pickle': '..\\\\results\\\\HMM_multiv_AR_^MERV_aic_residuals.pickle', 'HMM_multiv_AR_^MERV_bic_best_residuals.pickle': '..\\\\results\\\\HMM_multiv_AR_^MERV_bic_best_residuals.pickle', 'HMM_multiv_AR_^MERV_bic_residuals.pickle': '..\\\\results\\\\HMM_multiv_AR_^MERV_bic_residuals.pickle', 'HMM_univ_AR_^MERV_aic_best_residuals.pickle': '..\\\\results\\\\HMM_univ_AR_^MERV_aic_best_residuals.pickle', 'HMM_univ_AR_^MERV_aic_residuals.pickle': '..\\\\results\\\\HMM_univ_AR_^MERV_aic_residuals.pickle', 'HMM_univ_AR_^MERV_bic_best_residuals.pickle': '..\\\\results\\\\HMM_univ_AR_^MERV_bic_best_residuals.pickle', 'HMM_univ_AR_^MERV_bic_residuals.pickle': '..\\\\results\\\\HMM_univ_AR_^MERV_bic_residuals.pickle', 'HMM_with_vol_AR_^MERV_aic_best_residuals.pickle': '..\\\\results\\\\HMM_with_vol_AR_^MERV_aic_best_residuals.pickle', 'HMM_with_vol_AR_^MERV_aic_residuals.pickle': '..\\\\results\\\\HMM_with_vol_AR_^MERV_aic_residuals.pickle', 'HMM_with_vol_AR_^MERV_bic_best_residuals.pickle': '..\\\\results\\\\HMM_with_vol_AR_^MERV_bic_best_residuals.pickle', 'HMM_with_vol_AR_^MERV_bic_residuals.pickle': '..\\\\results\\\\HMM_with_vol_AR_^MERV_bic_residuals.pickle', 'VAR_multiv_AR_^MERV_aic_best_residuals.pickle': '..\\\\results\\\\VAR_multiv_AR_^MERV_aic_best_residuals.pickle', 'VAR_multiv_AR_^MERV_bic_best_residuals.pickle': '..\\\\results\\\\VAR_multiv_AR_^MERV_bic_best_residuals.pickle', 'VAR_with_vol_AR_^MERV_aic_best_residuals.pickle': '..\\\\results\\\\VAR_with_vol_AR_^MERV_aic_best_residuals.pickle', 'VAR_with_vol_AR_^MERV_bic_best_residuals.pickle': '..\\\\results\\\\VAR_with_vol_AR_^MERV_bic_best_residuals.pickle'}\n"
     ]
    }
   ],
   "source": [
    "all_residuals = {}\n",
    "\n",
    "for filename in os.listdir(resultsroute):\n",
    "    file_path = os.path.join(resultsroute, filename)\n",
    "    if os.path.isfile(file_path) and \"residual\" in filename:\n",
    "        all_residuals[filename] = file_path\n",
    "\n",
    "print(all_residuals)"
   ]
  },
  {
   "cell_type": "code",
   "execution_count": 8,
   "id": "457b493d",
   "metadata": {},
   "outputs": [],
   "source": [
    "def get_only_log_rets(dict_with_dfs: dict, stock: str):\n",
    "    if type(dict_with_dfs[stock]) == pd.Series:\n",
    "        # univariate models are saved as series\n",
    "        df = pd.DataFrame(dict_with_dfs[stock])\n",
    "\n",
    "    else:\n",
    "        try:\n",
    "            # multivariate models are saved as dataframes\n",
    "            df = pd.DataFrame(dict_with_dfs[stock][f\"{stock}_log_rets\"])\n",
    "        except:  # TODO: SACAR ESTO! Es un chanchullo pq hay algunas que son guardadas como None\n",
    "            pass\n",
    "    return df"
   ]
  },
  {
   "cell_type": "code",
   "execution_count": 9,
   "id": "4a1e6923",
   "metadata": {},
   "outputs": [
    {
     "name": "stdout",
     "output_type": "stream",
     "text": [
      "GARCH_AR_^MERV_aic_best_residuals.pickle\n",
      "GARCH_AR_^MERV_bic_best_residuals.pickle\n",
      "HMM_multiv_AR_^MERV_aic_best_residuals.pickle\n",
      "HMM_multiv_AR_^MERV_aic_residuals.pickle\n",
      "HMM_multiv_AR_^MERV_bic_best_residuals.pickle\n",
      "HMM_multiv_AR_^MERV_bic_residuals.pickle\n",
      "HMM_univ_AR_^MERV_aic_best_residuals.pickle\n",
      "HMM_univ_AR_^MERV_aic_residuals.pickle\n",
      "HMM_univ_AR_^MERV_bic_best_residuals.pickle\n",
      "HMM_univ_AR_^MERV_bic_residuals.pickle\n",
      "HMM_with_vol_AR_^MERV_aic_best_residuals.pickle\n",
      "HMM_with_vol_AR_^MERV_aic_residuals.pickle\n",
      "HMM_with_vol_AR_^MERV_bic_best_residuals.pickle\n",
      "HMM_with_vol_AR_^MERV_bic_residuals.pickle\n",
      "VAR_multiv_AR_^MERV_aic_best_residuals.pickle\n",
      "VAR_multiv_AR_^MERV_bic_best_residuals.pickle\n",
      "VAR_with_vol_AR_^MERV_aic_best_residuals.pickle\n",
      "VAR_with_vol_AR_^MERV_bic_best_residuals.pickle\n"
     ]
    }
   ],
   "source": [
    "residual_df = pd.DataFrame()\n",
    "\n",
    "for name, dir in all_residuals.items():\n",
    "    dict_with_dfs = pd.read_pickle(dir)\n",
    "    print(name)\n",
    "\n",
    "    for stock in dict_with_dfs.keys():\n",
    "        df = get_only_log_rets(dict_with_dfs, stock)\n",
    "\n",
    "        modelname = (\n",
    "            name.replace(\"residuals.pickle\", \"\")\n",
    "            .replace(\"best\", \"\")\n",
    "            .replace(params[\"tablename\"], \"\")\n",
    "            .replace(\"__\", \"_\")\n",
    "            .replace(\"__\", \"_\")\n",
    "        )\n",
    "\n",
    "        df.columns = [modelname + \"_\" + stock]\n",
    "\n",
    "        residual_df = pd.merge(\n",
    "            residual_df, df, left_index=True, right_index=True, how=\"outer\"\n",
    "        )\n",
    "\n",
    "residual_df.index = pd.to_datetime(residual_df.index)\n",
    "residual_df = residual_df[residual_df.index > start_test]"
   ]
  },
  {
   "cell_type": "code",
   "execution_count": 10,
   "id": "2a223984",
   "metadata": {},
   "outputs": [],
   "source": [
    "def subset_of_columns(df: pd.DataFrame, substring: str):\n",
    "    filtered_columns = [col for col in df.columns if substring in col]\n",
    "    return df[filtered_columns]"
   ]
  },
  {
   "cell_type": "code",
   "execution_count": 11,
   "id": "5d118a56",
   "metadata": {},
   "outputs": [],
   "source": [
    "aic_residuals = subset_of_columns(residual_df, \"aic\")\n",
    "bic_residuals = subset_of_columns(residual_df, \"bic\")"
   ]
  },
  {
   "cell_type": "code",
   "execution_count": 12,
   "id": "065b30c9",
   "metadata": {},
   "outputs": [
    {
     "data": {
      "text/plain": [
       "count    198.000000\n",
       "mean       0.829433\n",
       "std        2.654380\n",
       "min        0.000000\n",
       "25%        0.000000\n",
       "50%        0.000000\n",
       "75%        0.813008\n",
       "max       17.886179\n",
       "dtype: float64"
      ]
     },
     "execution_count": 12,
     "metadata": {},
     "output_type": "execute_result"
    }
   ],
   "source": [
    "# estadisticos de nans\n",
    "(residual_df.isna().sum() / len(residual_df.index) * 100).describe()"
   ]
  },
  {
   "cell_type": "code",
   "execution_count": 13,
   "id": "8faa4f1b",
   "metadata": {},
   "outputs": [
    {
     "data": {
      "text/plain": [
       "HMM_multiv_aic__YPF_x     17.886179\n",
       "HMM_multiv_aic__YPF_y     17.886179\n",
       "HMM_multiv_bic__YPF_x     17.886179\n",
       "HMM_multiv_bic__YPF_y     17.886179\n",
       "HMM_multiv_aic__BBAR_x     6.504065\n",
       "HMM_multiv_aic__BBAR_y     6.504065\n",
       "HMM_multiv_bic__BBAR_x     6.504065\n",
       "HMM_multiv_bic__BBAR_y     6.504065\n",
       "HMM_multiv_aic__BMA_x      3.252033\n",
       "HMM_multiv_aic__BMA_y      3.252033\n",
       "dtype: float64"
      ]
     },
     "execution_count": 13,
     "metadata": {},
     "output_type": "execute_result"
    }
   ],
   "source": [
    "# estadisticos de nans\n",
    "((residual_df.isna().sum(axis=0) / len(residual_df.index)) * 100).nlargest(10)\n",
    "# VAR tiene problemas con NANs"
   ]
  },
  {
   "cell_type": "code",
   "execution_count": 17,
   "id": "67019ecd",
   "metadata": {},
   "outputs": [],
   "source": [
    "stock_dict={}\n",
    "\n",
    "for stock in params[\"tickerlist\"]:\n",
    "     stock_dict[stock]= subset_of_columns(residual_df, stock)"
   ]
  },
  {
   "cell_type": "code",
   "execution_count": 43,
   "id": "42c315a2",
   "metadata": {},
   "outputs": [
    {
     "data": {
      "text/html": [
       "<div>\n",
       "<style scoped>\n",
       "    .dataframe tbody tr th:only-of-type {\n",
       "        vertical-align: middle;\n",
       "    }\n",
       "\n",
       "    .dataframe tbody tr th {\n",
       "        vertical-align: top;\n",
       "    }\n",
       "\n",
       "    .dataframe thead th {\n",
       "        text-align: right;\n",
       "    }\n",
       "</style>\n",
       "<table border=\"1\" class=\"dataframe\">\n",
       "  <thead>\n",
       "    <tr style=\"text-align: right;\">\n",
       "      <th></th>\n",
       "      <th>0</th>\n",
       "    </tr>\n",
       "  </thead>\n",
       "  <tbody>\n",
       "    <tr>\n",
       "      <th>0</th>\n",
       "      <td>0.0</td>\n",
       "    </tr>\n",
       "    <tr>\n",
       "      <th>1</th>\n",
       "      <td>0.0</td>\n",
       "    </tr>\n",
       "    <tr>\n",
       "      <th>2</th>\n",
       "      <td>0.0</td>\n",
       "    </tr>\n",
       "    <tr>\n",
       "      <th>3</th>\n",
       "      <td>0.0</td>\n",
       "    </tr>\n",
       "    <tr>\n",
       "      <th>4</th>\n",
       "      <td>0.0</td>\n",
       "    </tr>\n",
       "    <tr>\n",
       "      <th>...</th>\n",
       "      <td>...</td>\n",
       "    </tr>\n",
       "    <tr>\n",
       "      <th>118</th>\n",
       "      <td>0.0</td>\n",
       "    </tr>\n",
       "    <tr>\n",
       "      <th>119</th>\n",
       "      <td>0.0</td>\n",
       "    </tr>\n",
       "    <tr>\n",
       "      <th>120</th>\n",
       "      <td>0.0</td>\n",
       "    </tr>\n",
       "    <tr>\n",
       "      <th>121</th>\n",
       "      <td>0.0</td>\n",
       "    </tr>\n",
       "    <tr>\n",
       "      <th>122</th>\n",
       "      <td>0.0</td>\n",
       "    </tr>\n",
       "  </tbody>\n",
       "</table>\n",
       "<p>123 rows × 1 columns</p>\n",
       "</div>"
      ],
      "text/plain": [
       "       0\n",
       "0    0.0\n",
       "1    0.0\n",
       "2    0.0\n",
       "3    0.0\n",
       "4    0.0\n",
       "..   ...\n",
       "118  0.0\n",
       "119  0.0\n",
       "120  0.0\n",
       "121  0.0\n",
       "122  0.0\n",
       "\n",
       "[123 rows x 1 columns]"
      ]
     },
     "execution_count": 43,
     "metadata": {},
     "output_type": "execute_result"
    }
   ],
   "source": [
    "pd.DataFrame(np.zeros_like(stock_dict[stock].iloc[:,0]))"
   ]
  },
  {
   "cell_type": "code",
   "execution_count": 48,
   "id": "3cd05471",
   "metadata": {},
   "outputs": [
    {
     "data": {
      "text/plain": [
       "0     -0.000395\n",
       "1     -0.000367\n",
       "2     -0.000334\n",
       "3     -0.000627\n",
       "4     -0.000627\n",
       "         ...   \n",
       "118    0.179704\n",
       "119   -0.004316\n",
       "120   -0.102741\n",
       "121   -0.000747\n",
       "122         NaN\n",
       "Name: GARCH_aic__BBAR.BA, Length: 123, dtype: float64"
      ]
     },
     "execution_count": 48,
     "metadata": {},
     "output_type": "execute_result"
    }
   ],
   "source": [
    "stock_dict[stock].iloc[:,0].reset_index(drop=True)"
   ]
  },
  {
   "cell_type": "code",
   "execution_count": 49,
   "id": "70c696ec",
   "metadata": {},
   "outputs": [
    {
     "ename": "ValueError",
     "evalue": "cannot reshape array of size 123 into shape (24)",
     "output_type": "error",
     "traceback": [
      "\u001b[1;31m---------------------------------------------------------------------------\u001b[0m",
      "\u001b[1;31mValueError\u001b[0m                                Traceback (most recent call last)",
      "Cell \u001b[1;32mIn[49], line 1\u001b[0m\n\u001b[1;32m----> 1\u001b[0m \u001b[43mplot_multivariate_DM_test\u001b[49m\u001b[43m(\u001b[49m\u001b[43mreal_price\u001b[49m\u001b[38;5;241;43m=\u001b[39;49m\u001b[43mpd\u001b[49m\u001b[38;5;241;43m.\u001b[39;49m\u001b[43mDataFrame\u001b[49m\u001b[43m(\u001b[49m\u001b[43mnp\u001b[49m\u001b[38;5;241;43m.\u001b[39;49m\u001b[43mzeros_like\u001b[49m\u001b[43m(\u001b[49m\u001b[43mstock_dict\u001b[49m\u001b[43m[\u001b[49m\u001b[43mstock\u001b[49m\u001b[43m]\u001b[49m\u001b[38;5;241;43m.\u001b[39;49m\u001b[43miloc\u001b[49m\u001b[43m[\u001b[49m\u001b[43m:\u001b[49m\u001b[43m,\u001b[49m\u001b[38;5;241;43m0\u001b[39;49m\u001b[43m]\u001b[49m\u001b[43m)\u001b[49m\u001b[43m)\u001b[49m\u001b[43m,\u001b[49m\u001b[43m \u001b[49m\n\u001b[0;32m      2\u001b[0m \u001b[43m                          \u001b[49m\u001b[43mforecasts\u001b[49m\u001b[38;5;241;43m=\u001b[39;49m\u001b[43mstock_dict\u001b[49m\u001b[43m[\u001b[49m\u001b[43mstock\u001b[49m\u001b[43m]\u001b[49m\u001b[38;5;241;43m.\u001b[39;49m\u001b[43mreset_index\u001b[49m\u001b[43m(\u001b[49m\u001b[43mdrop\u001b[49m\u001b[38;5;241;43m=\u001b[39;49m\u001b[38;5;28;43;01mTrue\u001b[39;49;00m\u001b[43m)\u001b[49m\u001b[43m,\u001b[49m\u001b[43m \u001b[49m\n\u001b[0;32m      3\u001b[0m \u001b[43m                          \u001b[49m\u001b[43mtitle\u001b[49m\u001b[38;5;241;43m=\u001b[39;49m\u001b[38;5;124;43mf\u001b[39;49m\u001b[38;5;124;43m\"\u001b[39;49m\u001b[38;5;124;43mDM test \u001b[39;49m\u001b[38;5;132;43;01m{\u001b[39;49;00m\u001b[43mstock\u001b[49m\u001b[38;5;132;43;01m}\u001b[39;49;00m\u001b[38;5;124;43m\"\u001b[39;49m\u001b[43m)\u001b[49m\n",
      "File \u001b[1;32mc:\\Users\\alfredo.sampron\\AppData\\Local\\miniconda3\\envs\\hmm\\Lib\\site-packages\\epftoolbox\\evaluation\\_dm.py:223\u001b[0m, in \u001b[0;36mplot_multivariate_DM_test\u001b[1;34m(real_price, forecasts, norm, title, savefig, path)\u001b[0m\n\u001b[0;32m    221\u001b[0m             p_values\u001b[38;5;241m.\u001b[39mloc[model1, model2] \u001b[38;5;241m=\u001b[39m \u001b[38;5;241m1\u001b[39m\n\u001b[0;32m    222\u001b[0m         \u001b[38;5;28;01melse\u001b[39;00m:\n\u001b[1;32m--> 223\u001b[0m             p_values\u001b[38;5;241m.\u001b[39mloc[model1, model2] \u001b[38;5;241m=\u001b[39m DM(p_real\u001b[38;5;241m=\u001b[39m\u001b[43mreal_price\u001b[49m\u001b[38;5;241;43m.\u001b[39;49m\u001b[43mvalues\u001b[49m\u001b[38;5;241;43m.\u001b[39;49m\u001b[43mreshape\u001b[49m\u001b[43m(\u001b[49m\u001b[38;5;241;43m-\u001b[39;49m\u001b[38;5;241;43m1\u001b[39;49m\u001b[43m,\u001b[49m\u001b[43m \u001b[49m\u001b[38;5;241;43m24\u001b[39;49m\u001b[43m)\u001b[49m, \n\u001b[0;32m    224\u001b[0m                                               p_pred_1\u001b[38;5;241m=\u001b[39mforecasts\u001b[38;5;241m.\u001b[39mloc[:, model1]\u001b[38;5;241m.\u001b[39mvalues\u001b[38;5;241m.\u001b[39mreshape(\u001b[38;5;241m-\u001b[39m\u001b[38;5;241m1\u001b[39m, \u001b[38;5;241m24\u001b[39m), \n\u001b[0;32m    225\u001b[0m                                               p_pred_2\u001b[38;5;241m=\u001b[39mforecasts\u001b[38;5;241m.\u001b[39mloc[:, model2]\u001b[38;5;241m.\u001b[39mvalues\u001b[38;5;241m.\u001b[39mreshape(\u001b[38;5;241m-\u001b[39m\u001b[38;5;241m1\u001b[39m, \u001b[38;5;241m24\u001b[39m), \n\u001b[0;32m    226\u001b[0m                                               norm\u001b[38;5;241m=\u001b[39mnorm, version\u001b[38;5;241m=\u001b[39m\u001b[38;5;124m'\u001b[39m\u001b[38;5;124mmultivariate\u001b[39m\u001b[38;5;124m'\u001b[39m)\n\u001b[0;32m    228\u001b[0m \u001b[38;5;66;03m# Defining color map\u001b[39;00m\n\u001b[0;32m    229\u001b[0m red \u001b[38;5;241m=\u001b[39m np\u001b[38;5;241m.\u001b[39mconcatenate([np\u001b[38;5;241m.\u001b[39mlinspace(\u001b[38;5;241m0\u001b[39m, \u001b[38;5;241m1\u001b[39m, \u001b[38;5;241m50\u001b[39m), np\u001b[38;5;241m.\u001b[39mlinspace(\u001b[38;5;241m1\u001b[39m, \u001b[38;5;241m0.5\u001b[39m, \u001b[38;5;241m50\u001b[39m)[\u001b[38;5;241m1\u001b[39m:], [\u001b[38;5;241m0\u001b[39m]])\n",
      "\u001b[1;31mValueError\u001b[0m: cannot reshape array of size 123 into shape (24)"
     ]
    }
   ],
   "source": [
    "plot_multivariate_DM_test(real_price=pd.DataFrame(np.zeros_like(stock_dict[stock].iloc[:,0])), \n",
    "                          forecasts=stock_dict[stock].reset_index(drop=True), \n",
    "                          title=f\"DM test {stock}\")"
   ]
  },
  {
   "cell_type": "code",
   "execution_count": null,
   "id": "cc469e57",
   "metadata": {},
   "outputs": [],
   "source": []
  },
  {
   "cell_type": "code",
   "execution_count": 59,
   "id": "70b6a097",
   "metadata": {},
   "outputs": [
    {
     "data": {
      "text/html": [
       "<div>\n",
       "<style scoped>\n",
       "    .dataframe tbody tr th:only-of-type {\n",
       "        vertical-align: middle;\n",
       "    }\n",
       "\n",
       "    .dataframe tbody tr th {\n",
       "        vertical-align: top;\n",
       "    }\n",
       "\n",
       "    .dataframe thead th {\n",
       "        text-align: right;\n",
       "    }\n",
       "</style>\n",
       "<table border=\"1\" class=\"dataframe\">\n",
       "  <thead>\n",
       "    <tr style=\"text-align: right;\">\n",
       "      <th></th>\n",
       "      <th>GARCH_bic__^MERV</th>\n",
       "      <th>GARCH_bic__GGAL.BA</th>\n",
       "      <th>GARCH_bic__GGAL</th>\n",
       "      <th>GARCH_bic__YPFD.BA</th>\n",
       "      <th>GARCH_bic__YPF</th>\n",
       "      <th>GARCH_bic__EDN.BA</th>\n",
       "      <th>GARCH_bic__EDN</th>\n",
       "      <th>GARCH_bic__BMA.BA</th>\n",
       "      <th>GARCH_bic__BMA</th>\n",
       "      <th>GARCH_bic__BBAR.BA</th>\n",
       "      <th>GARCH_bic__BBAR</th>\n",
       "    </tr>\n",
       "  </thead>\n",
       "  <tbody>\n",
       "    <tr>\n",
       "      <th>2023-06-02</th>\n",
       "      <td>-0.005047</td>\n",
       "      <td>-0.025661</td>\n",
       "      <td>-0.022235</td>\n",
       "      <td>0.007722</td>\n",
       "      <td>0.012681</td>\n",
       "      <td>0.063604</td>\n",
       "      <td>0.100486</td>\n",
       "      <td>-0.001323</td>\n",
       "      <td>0.003509</td>\n",
       "      <td>-0.000395</td>\n",
       "      <td>-0.008184</td>\n",
       "    </tr>\n",
       "    <tr>\n",
       "      <th>2023-06-05</th>\n",
       "      <td>0.016250</td>\n",
       "      <td>0.035360</td>\n",
       "      <td>0.038094</td>\n",
       "      <td>0.013768</td>\n",
       "      <td>0.018403</td>\n",
       "      <td>0.086247</td>\n",
       "      <td>0.093646</td>\n",
       "      <td>0.095998</td>\n",
       "      <td>0.042085</td>\n",
       "      <td>-0.000367</td>\n",
       "      <td>0.033212</td>\n",
       "    </tr>\n",
       "    <tr>\n",
       "      <th>2023-06-06</th>\n",
       "      <td>0.044891</td>\n",
       "      <td>0.110336</td>\n",
       "      <td>0.111440</td>\n",
       "      <td>0.044727</td>\n",
       "      <td>0.056079</td>\n",
       "      <td>0.003740</td>\n",
       "      <td>0.026269</td>\n",
       "      <td>0.110873</td>\n",
       "      <td>0.132402</td>\n",
       "      <td>-0.000334</td>\n",
       "      <td>0.111272</td>\n",
       "    </tr>\n",
       "    <tr>\n",
       "      <th>2023-06-07</th>\n",
       "      <td>-0.005159</td>\n",
       "      <td>0.034746</td>\n",
       "      <td>0.035308</td>\n",
       "      <td>-0.000354</td>\n",
       "      <td>0.002430</td>\n",
       "      <td>-0.014999</td>\n",
       "      <td>-0.031311</td>\n",
       "      <td>0.036467</td>\n",
       "      <td>0.023737</td>\n",
       "      <td>-0.000627</td>\n",
       "      <td>0.034402</td>\n",
       "    </tr>\n",
       "    <tr>\n",
       "      <th>2023-06-08</th>\n",
       "      <td>-0.003221</td>\n",
       "      <td>0.018402</td>\n",
       "      <td>0.009482</td>\n",
       "      <td>0.008347</td>\n",
       "      <td>0.003759</td>\n",
       "      <td>0.007923</td>\n",
       "      <td>0.008615</td>\n",
       "      <td>-0.016975</td>\n",
       "      <td>-0.027999</td>\n",
       "      <td>-0.000627</td>\n",
       "      <td>-0.038866</td>\n",
       "    </tr>\n",
       "  </tbody>\n",
       "</table>\n",
       "</div>"
      ],
      "text/plain": [
       "            GARCH_bic__^MERV  GARCH_bic__GGAL.BA  GARCH_bic__GGAL  \\\n",
       "2023-06-02         -0.005047           -0.025661        -0.022235   \n",
       "2023-06-05          0.016250            0.035360         0.038094   \n",
       "2023-06-06          0.044891            0.110336         0.111440   \n",
       "2023-06-07         -0.005159            0.034746         0.035308   \n",
       "2023-06-08         -0.003221            0.018402         0.009482   \n",
       "\n",
       "            GARCH_bic__YPFD.BA  GARCH_bic__YPF  GARCH_bic__EDN.BA  \\\n",
       "2023-06-02            0.007722        0.012681           0.063604   \n",
       "2023-06-05            0.013768        0.018403           0.086247   \n",
       "2023-06-06            0.044727        0.056079           0.003740   \n",
       "2023-06-07           -0.000354        0.002430          -0.014999   \n",
       "2023-06-08            0.008347        0.003759           0.007923   \n",
       "\n",
       "            GARCH_bic__EDN  GARCH_bic__BMA.BA  GARCH_bic__BMA  \\\n",
       "2023-06-02        0.100486          -0.001323        0.003509   \n",
       "2023-06-05        0.093646           0.095998        0.042085   \n",
       "2023-06-06        0.026269           0.110873        0.132402   \n",
       "2023-06-07       -0.031311           0.036467        0.023737   \n",
       "2023-06-08        0.008615          -0.016975       -0.027999   \n",
       "\n",
       "            GARCH_bic__BBAR.BA  GARCH_bic__BBAR  \n",
       "2023-06-02           -0.000395        -0.008184  \n",
       "2023-06-05           -0.000367         0.033212  \n",
       "2023-06-06           -0.000334         0.111272  \n",
       "2023-06-07           -0.000627         0.034402  \n",
       "2023-06-08           -0.000627        -0.038866  "
      ]
     },
     "execution_count": 59,
     "metadata": {},
     "output_type": "execute_result"
    }
   ],
   "source": [
    "model_list = [\"GARCH\", \"HMM_univ\", \"HMM_multiv\", \"VAR_multiv\", \"VAR_with_vol\"]\n",
    "\n",
    "aggregating_dict = {\"aic\": {}, \"bic\": {}}\n",
    "\n",
    "for criteria, dataframe in zip((\"aic\", \"bic\"), (aic_residuals, bic_residuals)):\n",
    "    for model in model_list:\n",
    "        aggregating_dict[criteria][model] = subset_of_columns(dataframe, model)\n",
    "\n",
    "aggregating_dict[\"bic\"][\"GARCH\"].head()"
   ]
  },
  {
   "cell_type": "code",
   "execution_count": 63,
   "id": "2fc575ed",
   "metadata": {},
   "outputs": [
    {
     "data": {
      "text/html": [
       "<div>\n",
       "<style scoped>\n",
       "    .dataframe tbody tr th:only-of-type {\n",
       "        vertical-align: middle;\n",
       "    }\n",
       "\n",
       "    .dataframe tbody tr th {\n",
       "        vertical-align: top;\n",
       "    }\n",
       "\n",
       "    .dataframe thead th {\n",
       "        text-align: right;\n",
       "    }\n",
       "</style>\n",
       "<table border=\"1\" class=\"dataframe\">\n",
       "  <thead>\n",
       "    <tr style=\"text-align: right;\">\n",
       "      <th></th>\n",
       "      <th>aic_GARCH</th>\n",
       "      <th>aic_HMM_univ</th>\n",
       "      <th>aic_HMM_multiv</th>\n",
       "      <th>aic_VAR_multiv</th>\n",
       "      <th>aic_VAR_with_vol</th>\n",
       "      <th>bic_GARCH</th>\n",
       "      <th>bic_HMM_univ</th>\n",
       "      <th>bic_HMM_multiv</th>\n",
       "      <th>bic_VAR_multiv</th>\n",
       "      <th>bic_VAR_with_vol</th>\n",
       "    </tr>\n",
       "  </thead>\n",
       "  <tbody>\n",
       "    <tr>\n",
       "      <th>mse</th>\n",
       "      <td>6.653008e+06</td>\n",
       "      <td>0.153527</td>\n",
       "      <td>0.176854</td>\n",
       "      <td>0.293429</td>\n",
       "      <td>0.417043</td>\n",
       "      <td>6.653008e+06</td>\n",
       "      <td>0.171918</td>\n",
       "      <td>0.184005</td>\n",
       "      <td>0.431818</td>\n",
       "      <td>0.460903</td>\n",
       "    </tr>\n",
       "    <tr>\n",
       "      <th>meanabs</th>\n",
       "      <td>7.075074e+02</td>\n",
       "      <td>2.899991</td>\n",
       "      <td>3.042162</td>\n",
       "      <td>2.460573</td>\n",
       "      <td>2.844710</td>\n",
       "      <td>7.075155e+02</td>\n",
       "      <td>2.990630</td>\n",
       "      <td>3.096038</td>\n",
       "      <td>3.099160</td>\n",
       "      <td>3.216367</td>\n",
       "    </tr>\n",
       "    <tr>\n",
       "      <th>medianabs</th>\n",
       "      <td>2.272801e+00</td>\n",
       "      <td>2.207734</td>\n",
       "      <td>2.220856</td>\n",
       "      <td>1.758667</td>\n",
       "      <td>2.130095</td>\n",
       "      <td>2.284190e+00</td>\n",
       "      <td>2.292984</td>\n",
       "      <td>2.380128</td>\n",
       "      <td>2.227783</td>\n",
       "      <td>2.206785</td>\n",
       "    </tr>\n",
       "  </tbody>\n",
       "</table>\n",
       "</div>"
      ],
      "text/plain": [
       "              aic_GARCH  aic_HMM_univ  aic_HMM_multiv  aic_VAR_multiv  \\\n",
       "mse        6.653008e+06      0.153527        0.176854        0.293429   \n",
       "meanabs    7.075074e+02      2.899991        3.042162        2.460573   \n",
       "medianabs  2.272801e+00      2.207734        2.220856        1.758667   \n",
       "\n",
       "           aic_VAR_with_vol     bic_GARCH  bic_HMM_univ  bic_HMM_multiv  \\\n",
       "mse                0.417043  6.653008e+06      0.171918        0.184005   \n",
       "meanabs            2.844710  7.075155e+02      2.990630        3.096038   \n",
       "medianabs          2.130095  2.284190e+00      2.292984        2.380128   \n",
       "\n",
       "           bic_VAR_multiv  bic_VAR_with_vol  \n",
       "mse              0.431818          0.460903  \n",
       "meanabs          3.099160          3.216367  \n",
       "medianabs        2.227783          2.206785  "
      ]
     },
     "execution_count": 63,
     "metadata": {},
     "output_type": "execute_result"
    }
   ],
   "source": [
    "metrics_df = pd.DataFrame(index=[\"mse\", \"meanabs\", \"medianabs\"])\n",
    "\n",
    "for criteria, dictionary in aggregating_dict.items():\n",
    "    for model, dataframe in dictionary.items():\n",
    "        metrics_df.loc[\"mse\", f\"{criteria}_{model}\"] = (\n",
    "            (dataframe**2).mean().mean()\n",
    "        )\n",
    "        metrics_df.loc[\"meanabs\", f\"{criteria}_{model}\"] = (\n",
    "            dataframe.abs().mean().mean()\n",
    "        )\n",
    "        metrics_df.loc[\"medianabs\", f\"{criteria}_{model}\"] = (\n",
    "            (dataframe.abs()).median().median()\n",
    "        )\n",
    "\n",
    "metrics_df = metrics_df * 100\n",
    "metrics_df"
   ]
  },
  {
   "cell_type": "code",
   "execution_count": 64,
   "id": "a52cc5e1",
   "metadata": {},
   "outputs": [
    {
     "name": "stdout",
     "output_type": "stream",
     "text": [
      "aic\n",
      "mse\n",
      "aic_HMM_univ\n",
      "0.15353\n",
      "\n",
      "meanabs\n",
      "aic_VAR_multiv\n",
      "2.46057\n",
      "\n",
      "medianabs\n",
      "aic_VAR_multiv\n",
      "1.75867\n",
      "\n",
      "\n",
      "bic\n",
      "mse\n",
      "bic_HMM_univ\n",
      "0.17192\n",
      "\n",
      "meanabs\n",
      "bic_HMM_univ\n",
      "2.99063\n",
      "\n",
      "medianabs\n",
      "bic_VAR_with_vol\n",
      "2.20679\n",
      "\n",
      "\n"
     ]
    }
   ],
   "source": [
    "for criteria in [\"aic\", \"bic\"]:\n",
    "    print(criteria)\n",
    "    filtered_columns = [col for col in metrics_df.columns if criteria in col]\n",
    "    for metric in metrics_df.index:\n",
    "        print(metric)\n",
    "        print(metrics_df[filtered_columns].loc[metric].idxmin())\n",
    "        print(np.round(metrics_df[filtered_columns].loc[metric].min(), 5))\n",
    "        print()\n",
    "    print()"
   ]
  },
  {
   "cell_type": "code",
   "execution_count": null,
   "id": "ae3ef2b5",
   "metadata": {},
   "outputs": [],
   "source": [
    "DM(p_real=0,)"
   ]
  },
  {
   "cell_type": "code",
   "execution_count": null,
   "id": "a9434ccd",
   "metadata": {},
   "outputs": [],
   "source": []
  }
 ],
 "metadata": {
  "@webio": {
   "lastCommId": null,
   "lastKernelId": null
  },
  "kernelspec": {
   "display_name": "Python 3 (ipykernel)",
   "language": "python",
   "name": "python3"
  },
  "language_info": {
   "codemirror_mode": {
    "name": "ipython",
    "version": 3
   },
   "file_extension": ".py",
   "mimetype": "text/x-python",
   "name": "python",
   "nbconvert_exporter": "python",
   "pygments_lexer": "ipython3",
   "version": "3.11.5"
  }
 },
 "nbformat": 4,
 "nbformat_minor": 5
}
