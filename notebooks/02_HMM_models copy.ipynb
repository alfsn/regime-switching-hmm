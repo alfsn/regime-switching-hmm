{
 "cells": [
  {
   "cell_type": "markdown",
   "metadata": {},
   "source": [
    "## Startup"
   ]
  },
  {
   "cell_type": "code",
   "execution_count": 74,
   "metadata": {},
   "outputs": [],
   "source": [
    "import numpy as np\n",
    "import pandas as pd\n",
    "import matplotlib.pyplot as plt\n",
    "import pomegranate as pm\n",
    "import torch\n",
    "from scipy.special import logsumexp\n",
    "\n",
    "import logging\n",
    "import os\n",
    "import pickle\n",
    "import warnings"
   ]
  },
  {
   "cell_type": "code",
   "execution_count": 2,
   "metadata": {},
   "outputs": [],
   "source": [
    "from pomegranate.distributions import Uniform, Normal\n",
    "from pomegranate.hmm import DenseHMM"
   ]
  },
  {
   "cell_type": "code",
   "execution_count": 3,
   "metadata": {},
   "outputs": [],
   "source": [
    "random_state = 42\n",
    "np.random.seed(random_state)\n",
    "# logging.captureWarnings(True)"
   ]
  },
  {
   "cell_type": "code",
   "execution_count": 4,
   "metadata": {},
   "outputs": [],
   "source": [
    "from scripts.params import get_params\n",
    "from scripts.aux_functions import (\n",
    "    generate_columns,\n",
    "    save_as_pickle,\n",
    "    get_all_results_matching,\n",
    "    clean_modelname,\n",
    ")\n",
    "\n",
    "params = get_params()"
   ]
  },
  {
   "cell_type": "markdown",
   "metadata": {},
   "source": [
    "## Data Retrieval"
   ]
  },
  {
   "cell_type": "code",
   "execution_count": 5,
   "metadata": {},
   "outputs": [],
   "source": [
    "dataroute = params[\"dataroute\"]\n",
    "resultsroute = params[\"resultsroute\"]\n",
    "dumproute = params[\"dumproute\"]"
   ]
  },
  {
   "cell_type": "code",
   "execution_count": 6,
   "metadata": {},
   "outputs": [],
   "source": [
    "name = f'finaldf_train_{params[\"tablename\"]}.pickle'\n",
    "filename = os.path.join(dataroute, name)\n",
    "with open(filename, \"rb\") as handle:\n",
    "    df = pickle.load(handle)"
   ]
  },
  {
   "cell_type": "code",
   "execution_count": 7,
   "metadata": {},
   "outputs": [
    {
     "data": {
      "text/html": [
       "<div>\n",
       "<style scoped>\n",
       "    .dataframe tbody tr th:only-of-type {\n",
       "        vertical-align: middle;\n",
       "    }\n",
       "\n",
       "    .dataframe tbody tr th {\n",
       "        vertical-align: top;\n",
       "    }\n",
       "\n",
       "    .dataframe thead th {\n",
       "        text-align: right;\n",
       "    }\n",
       "</style>\n",
       "<table border=\"1\" class=\"dataframe\">\n",
       "  <thead>\n",
       "    <tr style=\"text-align: right;\">\n",
       "      <th></th>\n",
       "      <th>^BVSP_rets</th>\n",
       "      <th>^BVSP_log_rets</th>\n",
       "      <th>^BVSP_gk_vol</th>\n",
       "      <th>VALE3.SA_rets</th>\n",
       "      <th>VALE3.SA_log_rets</th>\n",
       "      <th>VALE3.SA_gk_vol</th>\n",
       "      <th>VALE_rets</th>\n",
       "      <th>VALE_log_rets</th>\n",
       "      <th>VALE_gk_vol</th>\n",
       "      <th>PETR3.SA_rets</th>\n",
       "      <th>...</th>\n",
       "      <th>ABEV3.SA_gk_vol</th>\n",
       "      <th>ABEV_rets</th>\n",
       "      <th>ABEV_log_rets</th>\n",
       "      <th>ABEV_gk_vol</th>\n",
       "      <th>USD_rets</th>\n",
       "      <th>USD_log_rets</th>\n",
       "      <th>USD_gk_vol</th>\n",
       "      <th>^BVSP_USD_rets</th>\n",
       "      <th>^BVSP_USD_log_rets</th>\n",
       "      <th>^BVSP_USD_gk_vol</th>\n",
       "    </tr>\n",
       "  </thead>\n",
       "  <tbody>\n",
       "    <tr>\n",
       "      <th>2013-01-03</th>\n",
       "      <td>0.012182</td>\n",
       "      <td>0.012109</td>\n",
       "      <td>0.000218</td>\n",
       "      <td>-0.017007</td>\n",
       "      <td>-0.017153</td>\n",
       "      <td>0.000190</td>\n",
       "      <td>-0.011168</td>\n",
       "      <td>-0.011231</td>\n",
       "      <td>0.000204</td>\n",
       "      <td>0.037298</td>\n",
       "      <td>...</td>\n",
       "      <td>0.000185</td>\n",
       "      <td>0.006920</td>\n",
       "      <td>0.006896</td>\n",
       "      <td>0.000123</td>\n",
       "      <td>0.005423</td>\n",
       "      <td>0.005409</td>\n",
       "      <td>0.000005</td>\n",
       "      <td>0.008609</td>\n",
       "      <td>0.008572</td>\n",
       "      <td>0.000218</td>\n",
       "    </tr>\n",
       "    <tr>\n",
       "      <th>2013-01-04</th>\n",
       "      <td>-0.012462</td>\n",
       "      <td>-0.012540</td>\n",
       "      <td>0.000163</td>\n",
       "      <td>-0.015455</td>\n",
       "      <td>-0.015576</td>\n",
       "      <td>0.000512</td>\n",
       "      <td>-0.008471</td>\n",
       "      <td>-0.008507</td>\n",
       "      <td>0.000265</td>\n",
       "      <td>0.003401</td>\n",
       "      <td>...</td>\n",
       "      <td>0.000270</td>\n",
       "      <td>0.000711</td>\n",
       "      <td>0.000711</td>\n",
       "      <td>0.000056</td>\n",
       "      <td>-0.009110</td>\n",
       "      <td>-0.009152</td>\n",
       "      <td>0.000127</td>\n",
       "      <td>-0.012968</td>\n",
       "      <td>-0.013053</td>\n",
       "      <td>0.000163</td>\n",
       "    </tr>\n",
       "    <tr>\n",
       "      <th>2013-01-07</th>\n",
       "      <td>-0.009437</td>\n",
       "      <td>-0.009481</td>\n",
       "      <td>0.000180</td>\n",
       "      <td>-0.019681</td>\n",
       "      <td>-0.019878</td>\n",
       "      <td>0.000541</td>\n",
       "      <td>-0.018510</td>\n",
       "      <td>-0.018683</td>\n",
       "      <td>0.000324</td>\n",
       "      <td>-0.013075</td>\n",
       "      <td>...</td>\n",
       "      <td>0.000146</td>\n",
       "      <td>-0.007814</td>\n",
       "      <td>-0.007845</td>\n",
       "      <td>0.000065</td>\n",
       "      <td>0.002544</td>\n",
       "      <td>0.002541</td>\n",
       "      <td>0.000056</td>\n",
       "      <td>-0.004489</td>\n",
       "      <td>-0.004499</td>\n",
       "      <td>0.000180</td>\n",
       "    </tr>\n",
       "    <tr>\n",
       "      <th>2013-01-08</th>\n",
       "      <td>-0.012998</td>\n",
       "      <td>-0.013083</td>\n",
       "      <td>0.000250</td>\n",
       "      <td>-0.007887</td>\n",
       "      <td>-0.007919</td>\n",
       "      <td>0.000184</td>\n",
       "      <td>-0.014990</td>\n",
       "      <td>-0.015104</td>\n",
       "      <td>0.000108</td>\n",
       "      <td>-0.028460</td>\n",
       "      <td>...</td>\n",
       "      <td>0.000141</td>\n",
       "      <td>0.005967</td>\n",
       "      <td>0.005949</td>\n",
       "      <td>0.000061</td>\n",
       "      <td>0.002794</td>\n",
       "      <td>0.002790</td>\n",
       "      <td>0.000030</td>\n",
       "      <td>-0.017548</td>\n",
       "      <td>-0.017704</td>\n",
       "      <td>0.000250</td>\n",
       "    </tr>\n",
       "    <tr>\n",
       "      <th>2013-01-09</th>\n",
       "      <td>0.007378</td>\n",
       "      <td>0.007351</td>\n",
       "      <td>0.000087</td>\n",
       "      <td>0.004577</td>\n",
       "      <td>0.004567</td>\n",
       "      <td>0.000137</td>\n",
       "      <td>0.001964</td>\n",
       "      <td>0.001962</td>\n",
       "      <td>0.000136</td>\n",
       "      <td>0.010101</td>\n",
       "      <td>...</td>\n",
       "      <td>0.000309</td>\n",
       "      <td>0.007117</td>\n",
       "      <td>0.007092</td>\n",
       "      <td>0.000037</td>\n",
       "      <td>0.003096</td>\n",
       "      <td>0.003092</td>\n",
       "      <td>0.000028</td>\n",
       "      <td>0.009302</td>\n",
       "      <td>0.009259</td>\n",
       "      <td>0.000087</td>\n",
       "    </tr>\n",
       "  </tbody>\n",
       "</table>\n",
       "<p>5 rows × 33 columns</p>\n",
       "</div>"
      ],
      "text/plain": [
       "            ^BVSP_rets  ^BVSP_log_rets  ^BVSP_gk_vol  VALE3.SA_rets  \\\n",
       "2013-01-03    0.012182        0.012109      0.000218      -0.017007   \n",
       "2013-01-04   -0.012462       -0.012540      0.000163      -0.015455   \n",
       "2013-01-07   -0.009437       -0.009481      0.000180      -0.019681   \n",
       "2013-01-08   -0.012998       -0.013083      0.000250      -0.007887   \n",
       "2013-01-09    0.007378        0.007351      0.000087       0.004577   \n",
       "\n",
       "            VALE3.SA_log_rets  VALE3.SA_gk_vol  VALE_rets  VALE_log_rets  \\\n",
       "2013-01-03          -0.017153         0.000190  -0.011168      -0.011231   \n",
       "2013-01-04          -0.015576         0.000512  -0.008471      -0.008507   \n",
       "2013-01-07          -0.019878         0.000541  -0.018510      -0.018683   \n",
       "2013-01-08          -0.007919         0.000184  -0.014990      -0.015104   \n",
       "2013-01-09           0.004567         0.000137   0.001964       0.001962   \n",
       "\n",
       "            VALE_gk_vol  PETR3.SA_rets  ...  ABEV3.SA_gk_vol  ABEV_rets  \\\n",
       "2013-01-03     0.000204       0.037298  ...         0.000185   0.006920   \n",
       "2013-01-04     0.000265       0.003401  ...         0.000270   0.000711   \n",
       "2013-01-07     0.000324      -0.013075  ...         0.000146  -0.007814   \n",
       "2013-01-08     0.000108      -0.028460  ...         0.000141   0.005967   \n",
       "2013-01-09     0.000136       0.010101  ...         0.000309   0.007117   \n",
       "\n",
       "            ABEV_log_rets  ABEV_gk_vol  USD_rets  USD_log_rets  USD_gk_vol  \\\n",
       "2013-01-03       0.006896     0.000123  0.005423      0.005409    0.000005   \n",
       "2013-01-04       0.000711     0.000056 -0.009110     -0.009152    0.000127   \n",
       "2013-01-07      -0.007845     0.000065  0.002544      0.002541    0.000056   \n",
       "2013-01-08       0.005949     0.000061  0.002794      0.002790    0.000030   \n",
       "2013-01-09       0.007092     0.000037  0.003096      0.003092    0.000028   \n",
       "\n",
       "            ^BVSP_USD_rets  ^BVSP_USD_log_rets  ^BVSP_USD_gk_vol  \n",
       "2013-01-03        0.008609            0.008572          0.000218  \n",
       "2013-01-04       -0.012968           -0.013053          0.000163  \n",
       "2013-01-07       -0.004489           -0.004499          0.000180  \n",
       "2013-01-08       -0.017548           -0.017704          0.000250  \n",
       "2013-01-09        0.009302            0.009259          0.000087  \n",
       "\n",
       "[5 rows x 33 columns]"
      ]
     },
     "execution_count": 7,
     "metadata": {},
     "output_type": "execute_result"
    }
   ],
   "source": [
    "df.head()"
   ]
  },
  {
   "cell_type": "markdown",
   "metadata": {},
   "source": [
    "## HMM Training"
   ]
  },
  {
   "cell_type": "code",
   "execution_count": 8,
   "metadata": {},
   "outputs": [],
   "source": [
    "range_states = range(1, 16)\n",
    "emptydf = pd.DataFrame(columns=[\"AIC\", \"BIC\"], index=range_states)\n",
    "emptydf.fillna(np.inf, inplace=True)\n",
    "results_dict_df = {stock: emptydf for stock in params[\"tickerlist\"]}"
   ]
  },
  {
   "cell_type": "code",
   "execution_count": 9,
   "metadata": {},
   "outputs": [],
   "source": [
    "def from_df_to_reshaped(data: pd.DataFrame):\n",
    "    npdata = data.values\n",
    "    data_reshaped = npdata[:, :, np.newaxis]\n",
    "    return data_reshaped"
   ]
  },
  {
   "cell_type": "code",
   "execution_count": 10,
   "metadata": {},
   "outputs": [],
   "source": [
    "def GaussianHMM(data_reshaped: np.ndarray, n_state: int):\n",
    "    model = DenseHMM(distributions=[Normal() for _ in range(n_state)], sample_length=1)\n",
    "\n",
    "    res = model.fit(data_reshaped)\n",
    "    return res"
   ]
  },
  {
   "cell_type": "code",
   "execution_count": 11,
   "metadata": {},
   "outputs": [],
   "source": [
    "cols = [\"VALE3.SA_log_rets\", \"VALE3.SA_gk_vol\", \"USD_log_rets\", \"USD_gk_vol\"]\n",
    "data = df[cols]\n",
    "data_reshaped = from_df_to_reshaped(data)\n",
    "res = GaussianHMM(data_reshaped, n_state=5)"
   ]
  },
  {
   "cell_type": "code",
   "execution_count": 12,
   "metadata": {},
   "outputs": [],
   "source": [
    "def n_params(res: pm.hmm.dense_hmm.DenseHMM):\n",
    "    n_dist = res.n_distributions\n",
    "    params_from_dists = n_dist * 2  # mean and variance for Normal\n",
    "    transmat_elements = n_dist * (\n",
    "        n_dist - 1\n",
    "    )  # square matrix (minus last row bc must sum to one)\n",
    "    n_params = params_from_dists + transmat_elements\n",
    "    return n_params"
   ]
  },
  {
   "cell_type": "code",
   "execution_count": 13,
   "metadata": {},
   "outputs": [],
   "source": [
    "def get_aic(res: pm.hmm.dense_hmm.DenseHMM, data: np.ndarray):\n",
    "    \"\"\"\n",
    "    Log Likelihood of the model is the Logsumexp of the log likelihood\n",
    "    see https://stats.stackexchange.com/questions/60902/how-to-calculate-the-log-likelihood-in-hmm-from-the-output-of-the-forward-algori\n",
    "    \"\"\"\n",
    "    aic = 2 * n_params(res) - 2 * logsumexp(res.log_probability(data))\n",
    "    return aic"
   ]
  },
  {
   "cell_type": "code",
   "execution_count": 14,
   "metadata": {},
   "outputs": [],
   "source": [
    "def get_bic(res: pm.hmm.dense_hmm.DenseHMM, data: np.ndarray):\n",
    "    \"\"\"\n",
    "    bic = k * np.log(len(data)) - 2 * model.log_likelihood(data)\n",
    "    \"\"\"\n",
    "    bic = n_params(res) * np.log(len(data)) - 2 * logsumexp(res.log_probability(data))\n",
    "    return bic"
   ]
  },
  {
   "cell_type": "code",
   "execution_count": 15,
   "metadata": {},
   "outputs": [
    {
     "name": "stdout",
     "output_type": "stream",
     "text": [
      "tensor([[[0.0000e+00, 0.0000e+00, 1.0000e+00, 0.0000e+00, 0.0000e+00],\n",
      "         [0.0000e+00, 9.7149e-01, 0.0000e+00, 0.0000e+00, 2.8505e-02],\n",
      "         [0.0000e+00, 0.0000e+00, 8.0792e-05, 9.9992e-01, 0.0000e+00],\n",
      "         [9.9992e-01, 8.0114e-05, 0.0000e+00, 0.0000e+00, 8.2443e-07]],\n",
      "\n",
      "        [[0.0000e+00, 0.0000e+00, 1.0000e+00, 0.0000e+00, 0.0000e+00],\n",
      "         [0.0000e+00, 9.7159e-01, 0.0000e+00, 0.0000e+00, 2.8413e-02],\n",
      "         [0.0000e+00, 0.0000e+00, 1.7549e-03, 9.9824e-01, 0.0000e+00],\n",
      "         [9.9824e-01, 1.7477e-03, 0.0000e+00, 0.0000e+00, 9.8488e-06]],\n",
      "\n",
      "        [[0.0000e+00, 0.0000e+00, 1.0000e+00, 0.0000e+00, 0.0000e+00],\n",
      "         [0.0000e+00, 9.6925e-01, 0.0000e+00, 0.0000e+00, 3.0746e-02],\n",
      "         [0.0000e+00, 0.0000e+00, 8.1088e-05, 9.9992e-01, 0.0000e+00],\n",
      "         [9.9992e-01, 8.0626e-05, 0.0000e+00, 0.0000e+00, 6.2470e-07]],\n",
      "\n",
      "        ...,\n",
      "\n",
      "        [[0.0000e+00, 0.0000e+00, 1.0000e+00, 0.0000e+00, 0.0000e+00],\n",
      "         [0.0000e+00, 9.5664e-01, 0.0000e+00, 0.0000e+00, 4.3355e-02],\n",
      "         [0.0000e+00, 0.0000e+00, 6.9986e-05, 9.9993e-01, 0.0000e+00],\n",
      "         [9.9993e-01, 6.9431e-05, 0.0000e+00, 0.0000e+00, 6.9308e-07]],\n",
      "\n",
      "        [[0.0000e+00, 0.0000e+00, 1.0000e+00, 0.0000e+00, 0.0000e+00],\n",
      "         [0.0000e+00, 2.9923e-01, 0.0000e+00, 0.0000e+00, 7.0077e-01],\n",
      "         [0.0000e+00, 0.0000e+00, 2.4611e-04, 9.9975e-01, 0.0000e+00],\n",
      "         [9.9975e-01, 2.4400e-04, 0.0000e+00, 0.0000e+00, 2.2297e-06]],\n",
      "\n",
      "        [[0.0000e+00, 0.0000e+00, 1.0000e+00, 0.0000e+00, 0.0000e+00],\n",
      "         [0.0000e+00, 9.7484e-01, 0.0000e+00, 0.0000e+00, 2.5158e-02],\n",
      "         [0.0000e+00, 0.0000e+00, 7.2309e-05, 9.9993e-01, 0.0000e+00],\n",
      "         [9.9993e-01, 7.1731e-05, 0.0000e+00, 0.0000e+00, 7.1669e-07]]]) \n",
      "esto es un array\n",
      "en donde cada matriz (separada por espacios) coresponde a una observacion (un dia)\n",
      "cada fila de esa matriz (horizontalmente suma 1) la probabilidad\n",
      "cada columna un estado\n",
      "\n"
     ]
    }
   ],
   "source": [
    "prediction = res.predict_proba(from_df_to_reshaped(data))\n",
    "print(\n",
    "    prediction,\n",
    "    \"\"\"\n",
    "esto es un array\n",
    "en donde cada matriz (separada por espacios) coresponde a una observacion (un dia)\n",
    "cada fila de esa matriz (horizontalmente suma 1) la probabilidad\n",
    "cada columna un estado\n",
    "\"\"\",\n",
    ")"
   ]
  },
  {
   "cell_type": "code",
   "execution_count": 16,
   "metadata": {},
   "outputs": [
    {
     "name": "stdout",
     "output_type": "stream",
     "text": [
      "tensor([[3, 1, 0, 2, 1],\n",
      "        [3, 1, 0, 2, 1],\n",
      "        [3, 1, 0, 2, 1],\n",
      "        ...,\n",
      "        [3, 1, 0, 2, 1],\n",
      "        [3, 1, 0, 2, 1],\n",
      "        [3, 1, 0, 2, 1]])\n",
      "esto not really me hace falta\n"
     ]
    }
   ],
   "source": [
    "print(prediction.argmax(axis=1))\n",
    "print(\"\"\"esto not really me hace falta\"\"\")"
   ]
  },
  {
   "cell_type": "code",
   "execution_count": 17,
   "metadata": {},
   "outputs": [],
   "source": [
    "def select_best(data: pd.DataFrame, max_states=15):\n",
    "\n",
    "    aic = {\"criterion\": np.inf, \"best_model\": None, \"n_state\": None}\n",
    "    bic = {\"criterion\": np.inf, \"best_model\": None, \"n_state\": None}\n",
    "\n",
    "    data_reshaped = from_df_to_reshaped(data)\n",
    "\n",
    "    for num_states in range(2, max_states + 1):\n",
    "        res = GaussianHMM(data_reshaped, n_states=num_states)\n",
    "\n",
    "        aic_result = get_aic(res, data_reshaped)\n",
    "        bic_result = get_bic(res, data_reshaped)\n",
    "\n",
    "        if aic_result < aic[\"criterion\"]:\n",
    "            aic[\"criterion\"] = aic_result\n",
    "            aic[\"best_model\"] = res\n",
    "            aic[\"n_state\"] = num_states\n",
    "        if bic_result < bic[\"criterion\"]:\n",
    "            bic[\"criterion\"] = bic_result\n",
    "            aic[\"best_model\"] = res\n",
    "            aic[\"n_state\"] = num_states\n",
    "\n",
    "    return aic, bic"
   ]
  },
  {
   "cell_type": "code",
   "execution_count": 18,
   "metadata": {},
   "outputs": [],
   "source": [
    "aic, bic = select_best(data, 10)"
   ]
  },
  {
   "cell_type": "code",
   "execution_count": 19,
   "metadata": {},
   "outputs": [],
   "source": [
    "def find_best_all_assets(\n",
    "    df: pd.DataFrame,\n",
    "    max_states: int = 10,\n",
    "    contains_vol: bool = False,\n",
    "    contains_USD: bool = False,\n",
    "):\n",
    "    best = {stock: {\"aic\": None, \"bic\": None} for stock in params[\"assetlist\"]}\n",
    "\n",
    "    for stock in params[\"assetlist\"]:\n",
    "        print(stock)\n",
    "        cols = generate_columns(\n",
    "            stock=stock, contains_vol=contains_vol, contains_USD=contains_USD\n",
    "        )\n",
    "        aic, bic = select_best(df[cols], max_states=max_states)\n",
    "        best[stock][\"aic\"] = aic\n",
    "        best[stock][\"bic\"] = bic\n",
    "\n",
    "    return best"
   ]
  },
  {
   "cell_type": "code",
   "execution_count": 20,
   "metadata": {},
   "outputs": [],
   "source": [
    "df[[\"USD_^BVSP_log_rets\", \"USD_^BVSP_gk_vol\"]] = df[\n",
    "    [\"^BVSP_log_rets\", \"^BVSP_gk_vol\"]\n",
    "].copy()\n",
    "# transitorio pq issue #71"
   ]
  },
  {
   "cell_type": "code",
   "execution_count": 21,
   "metadata": {},
   "outputs": [
    {
     "name": "stdout",
     "output_type": "stream",
     "text": [
      "^BVSP\n",
      "USD_^BVSP\n",
      "VALE3.SA\n",
      "VALE\n",
      "PETR3.SA\n",
      "PBR\n",
      "EMBR3.SA\n",
      "ERJ\n",
      "ABEV3.SA\n",
      "ABEV\n"
     ]
    }
   ],
   "source": [
    "best_univ = find_best_all_assets(\n",
    "    df, max_states=10, contains_vol=True, contains_USD=False\n",
    ")"
   ]
  },
  {
   "cell_type": "code",
   "execution_count": 23,
   "metadata": {},
   "outputs": [
    {
     "name": "stdout",
     "output_type": "stream",
     "text": [
      "^BVSP\n",
      "USD_^BVSP\n",
      "VALE3.SA\n",
      "VALE\n",
      "PETR3.SA\n",
      "PBR\n",
      "EMBR3.SA\n",
      "ERJ\n",
      "ABEV3.SA\n",
      "ABEV\n"
     ]
    }
   ],
   "source": [
    "best_multiv = find_best_all_assets(\n",
    "    df, max_states=10, contains_vol=True, contains_USD=True\n",
    ")"
   ]
  },
  {
   "cell_type": "code",
   "execution_count": 24,
   "metadata": {},
   "outputs": [
    {
     "data": {
      "text/plain": [
       "{'^BVSP': {'aic': {'criterion': -32.514102935791016,\n",
       "   'best_model': DenseHMM(\n",
       "     (start): Silent()\n",
       "     (end): Silent()\n",
       "     (distributions): ModuleList(\n",
       "       (0-2): 3 x Normal()\n",
       "     )\n",
       "   ),\n",
       "   'n_state': 3},\n",
       "  'bic': {'criterion': 7.372713764324871,\n",
       "   'best_model': None,\n",
       "   'n_state': None}},\n",
       " 'USD_^BVSP': {'aic': {'criterion': -43.426002502441406,\n",
       "   'best_model': DenseHMM(\n",
       "     (start): Silent()\n",
       "     (end): Silent()\n",
       "     (distributions): ModuleList(\n",
       "       (0-1): 2 x Normal()\n",
       "     )\n",
       "   ),\n",
       "   'n_state': 2},\n",
       "  'bic': {'criterion': -8.297387401446613,\n",
       "   'best_model': None,\n",
       "   'n_state': None}},\n",
       " 'VALE3.SA': {'aic': {'criterion': -38.79418182373047,\n",
       "   'best_model': DenseHMM(\n",
       "     (start): Silent()\n",
       "     (end): Silent()\n",
       "     (distributions): ModuleList(\n",
       "       (0-1): 2 x Normal()\n",
       "     )\n",
       "   ),\n",
       "   'n_state': 2},\n",
       "  'bic': {'criterion': -3.665566722735676,\n",
       "   'best_model': None,\n",
       "   'n_state': None}},\n",
       " 'VALE': {'aic': {'criterion': -38.213104248046875,\n",
       "   'best_model': DenseHMM(\n",
       "     (start): Silent()\n",
       "     (end): Silent()\n",
       "     (distributions): ModuleList(\n",
       "       (0-1): 2 x Normal()\n",
       "     )\n",
       "   ),\n",
       "   'n_state': 2},\n",
       "  'bic': {'criterion': -3.084489147052082,\n",
       "   'best_model': None,\n",
       "   'n_state': None}},\n",
       " 'PETR3.SA': {'aic': {'criterion': -27.372764587402344,\n",
       "   'best_model': DenseHMM(\n",
       "     (start): Silent()\n",
       "     (end): Silent()\n",
       "     (distributions): ModuleList(\n",
       "       (0-2): 3 x Normal()\n",
       "     )\n",
       "   ),\n",
       "   'n_state': 3},\n",
       "  'bic': {'criterion': 10.386191089764324,\n",
       "   'best_model': None,\n",
       "   'n_state': None}},\n",
       " 'PBR': {'aic': {'criterion': -27.075641632080078,\n",
       "   'best_model': DenseHMM(\n",
       "     (start): Silent()\n",
       "     (end): Silent()\n",
       "     (distributions): ModuleList(\n",
       "       (0-2): 3 x Normal()\n",
       "     )\n",
       "   ),\n",
       "   'n_state': 3},\n",
       "  'bic': {'criterion': 10.643526752606121,\n",
       "   'best_model': None,\n",
       "   'n_state': None}},\n",
       " 'EMBR3.SA': {'aic': {'criterion': -37.999412536621094,\n",
       "   'best_model': DenseHMM(\n",
       "     (start): Silent()\n",
       "     (end): Silent()\n",
       "     (distributions): ModuleList(\n",
       "       (0-1): 2 x Normal()\n",
       "     )\n",
       "   ),\n",
       "   'n_state': 2},\n",
       "  'bic': {'criterion': -2.870797435626301,\n",
       "   'best_model': None,\n",
       "   'n_state': None}},\n",
       " 'ERJ': {'aic': {'criterion': -39.042396545410156,\n",
       "   'best_model': DenseHMM(\n",
       "     (start): Silent()\n",
       "     (end): Silent()\n",
       "     (distributions): ModuleList(\n",
       "       (0-1): 2 x Normal()\n",
       "     )\n",
       "   ),\n",
       "   'n_state': 2},\n",
       "  'bic': {'criterion': -3.9137814444153634,\n",
       "   'best_model': None,\n",
       "   'n_state': None}},\n",
       " 'ABEV3.SA': {'aic': {'criterion': -30.902854919433594,\n",
       "   'best_model': DenseHMM(\n",
       "     (start): Silent()\n",
       "     (end): Silent()\n",
       "     (distributions): ModuleList(\n",
       "       (0-2): 3 x Normal()\n",
       "     )\n",
       "   ),\n",
       "   'n_state': 3},\n",
       "  'bic': {'criterion': 7.393263538494793,\n",
       "   'best_model': None,\n",
       "   'n_state': None}},\n",
       " 'ABEV': {'aic': {'criterion': -29.94757843017578,\n",
       "   'best_model': DenseHMM(\n",
       "     (start): Silent()\n",
       "     (end): Silent()\n",
       "     (distributions): ModuleList(\n",
       "       (0-2): 3 x Normal()\n",
       "     )\n",
       "   ),\n",
       "   'n_state': 3},\n",
       "  'bic': {'criterion': 9.046881397381512,\n",
       "   'best_model': None,\n",
       "   'n_state': None}}}"
      ]
     },
     "execution_count": 24,
     "metadata": {},
     "output_type": "execute_result"
    }
   ],
   "source": [
    "best_multiv"
   ]
  },
  {
   "cell_type": "markdown",
   "metadata": {},
   "source": [
    "# Generating out of sample data"
   ]
  },
  {
   "cell_type": "code",
   "execution_count": 26,
   "metadata": {},
   "outputs": [],
   "source": [
    "name = f'finaldf_test_{params[\"tablename\"]}.pickle'\n",
    "filename = os.path.join(dataroute, name)\n",
    "with open(filename, \"rb\") as handle:\n",
    "    df_test = pickle.load(handle)"
   ]
  },
  {
   "cell_type": "code",
   "execution_count": 29,
   "metadata": {},
   "outputs": [],
   "source": [
    "def return_residuals(actual: pd.DataFrame, forecasts: pd.DataFrame):\n",
    "    residuals = actual - forecasts\n",
    "    return residuals"
   ]
  },
  {
   "cell_type": "code",
   "execution_count": 31,
   "metadata": {},
   "outputs": [
    {
     "data": {
      "text/plain": [
       "DenseHMM(\n",
       "  (start): Silent()\n",
       "  (end): Silent()\n",
       "  (distributions): ModuleList(\n",
       "    (0-4): 5 x Normal()\n",
       "  )\n",
       ")"
      ]
     },
     "execution_count": 31,
     "metadata": {},
     "output_type": "execute_result"
    }
   ],
   "source": [
    "res"
   ]
  },
  {
   "cell_type": "code",
   "execution_count": 72,
   "metadata": {},
   "outputs": [
    {
     "name": "stdout",
     "output_type": "stream",
     "text": [
      "tensor([0.2500, 0.2437, 0.2500, 0.2500, 0.0063])\n",
      "<class 'torch.Tensor'>\n"
     ]
    }
   ],
   "source": [
    "prob_matrix = res.predict_proba(data_reshaped)[-1]\n",
    "\n",
    "prob_states = prob_matrix.sum(axis=0) / prob_matrix.sum()\n",
    "\n",
    "print(prob_states)\n",
    "print(type(prob_states))"
   ]
  },
  {
   "cell_type": "code",
   "execution_count": 97,
   "metadata": {},
   "outputs": [
    {
     "data": {
      "text/plain": [
       "tensor(0.0002)"
      ]
     },
     "execution_count": 97,
     "metadata": {},
     "output_type": "execute_result"
    }
   ],
   "source": [
    "params = [dist.means for dist in res.distributions]\n",
    "\n",
    "param_tensor = torch.cat(params, dim=0)\n",
    "\n",
    "result = torch.dot(prob_states, param_tensor)\n",
    "\n",
    "result"
   ]
  },
  {
   "cell_type": "code",
   "execution_count": 96,
   "metadata": {},
   "outputs": [
    {
     "data": {
      "text/plain": [
       "1"
      ]
     },
     "execution_count": 96,
     "metadata": {},
     "output_type": "execute_result"
    }
   ],
   "source": [
    "params[0].dim()"
   ]
  },
  {
   "cell_type": "code",
   "execution_count": null,
   "metadata": {},
   "outputs": [],
   "source": [
    "def generate_samples_residuals(nstate, insample_data, oos_data):\n",
    "    # res.predict_proba(data_reshaped)[-1] es la matriz de cada estado\n",
    "    columns = oos_data.columns\n",
    "\n",
    "    split_date = oos_data.index[0]\n",
    "    dates_to_forecast = len(oos_data.index)\n",
    "\n",
    "    probabilities = pd.DataFrame(columns=range(nstate), index=oos_data.index)\n",
    "    forecasts = pd.DataFrame(columns=oos_data.columns, index=oos_data.index)\n",
    "\n",
    "    full_data = pd.concat([insample_data, oos_data])\n",
    "\n",
    "    # vamos a implementar recursive window forecasting\n",
    "    index = full_data.index\n",
    "    end_loc = np.where(index >= split_date)[0].min()\n",
    "    # esto es un int del iloc\n",
    "    # preciso usar ints de iloc porque el timedelta se me va a romper con el fin de semana\n",
    "    rolling_window = 252\n",
    "\n",
    "    model_list = []\n",
    "\n",
    "    for i in range(1, dates_to_forecast):\n",
    "        date_of_first_forecast = full_data.index[end_loc + i - 1]\n",
    "\n",
    "        fitstart = end_loc - rolling_window + i\n",
    "        fitend = end_loc + i\n",
    "\n",
    "        # fit model with last year\n",
    "        fit_data = full_data.iloc[fitstart:fitend][columns]\n",
    "        res = GaussianHMM(data_reshaped=None, n_state=n_state)\n",
    "        model_list.append(res)\n",
    "        \n",
    "        prob_matrix = res.predict_proba(data_reshaped)[-1]\n",
    "        \n",
    "        last_day_state_probs = prob_matrix.sum(axis=0) / prob_matrix.sum()\n",
    "        # hotfix véase https://github.com/alfsn/regime-switching-hmm/issues/72\n",
    "\n",
    "        probabilities.loc[date_of_first_forecast] = last_day_state_probs\n",
    "\n",
    "        "
   ]
  },
  {
   "cell_type": "code",
   "execution_count": 50,
   "metadata": {},
   "outputs": [
    {
     "name": "stdout",
     "output_type": "stream",
     "text": [
      "Normal()\n",
      "Normal()\n",
      "Normal()\n",
      "Normal()\n",
      "Normal()\n"
     ]
    }
   ],
   "source": [
    "for i in res.distributions:\n",
    "    print(i)"
   ]
  },
  {
   "cell_type": "code",
   "execution_count": 61,
   "metadata": {},
   "outputs": [
    {
     "data": {
      "text/plain": [
       "ModuleList(\n",
       "  (0-4): 5 x Normal()\n",
       ")"
      ]
     },
     "execution_count": 61,
     "metadata": {},
     "output_type": "execute_result"
    }
   ],
   "source": [
    "res.distributions"
   ]
  },
  {
   "cell_type": "code",
   "execution_count": 69,
   "metadata": {},
   "outputs": [
    {
     "data": {
      "text/plain": [
       "torch.nn.parameter.Parameter"
      ]
     },
     "execution_count": 69,
     "metadata": {},
     "output_type": "execute_result"
    }
   ],
   "source": [
    "type(i.means)"
   ]
  },
  {
   "cell_type": "code",
   "execution_count": 21,
   "metadata": {},
   "outputs": [],
   "source": [
    "def generate_HMM_samples_residuals(model, insample_data, oos_data):\n",
    "    \"\"\"_summary_\n",
    "\n",
    "    Args:\n",
    "        model (_type_): _description_\n",
    "        insample_data (_type_): _description_\n",
    "        oos_data (_type_): _description_\n",
    "    \"\"\"\n",
    "    # pseudocodigo\n",
    "    # agarra el mejor modelo (esto con una cantidad optima de params ya esta)\n",
    "    # fittear t-j con t-j-252d\n",
    "    # Darle un año de datos hasta t-j para que me prediga la secuencia (probabilidad) de estados.\n",
    "    # Le pido que me prediga las probabilidades de cada estado durante el periodo t-j, t-j-252:\n",
    "    # esto me da una matriz de (252 x n estados)\n",
    "    # esto entiendo es https://hmmlearn.readthedocs.io/en/latest/api.html#hmmlearn.hmm.GaussianHMM.predict_proba\n",
    "    # Tomo la ultima fila de la matriz\n",
    "    # Multiplico esa por el vector de medias estimadas: este punto es mi forecast.\n",
    "    # esto es model.means_ (!)\n",
    "    nstate = model.n_components\n",
    "    columns = oos_data.columns\n",
    "\n",
    "    split_date = oos_data.index[0]\n",
    "    dates_to_forecast = len(oos_data.index)\n",
    "\n",
    "    probabilities = pd.DataFrame(columns=range(nstate), index=oos_data.index)\n",
    "    forecasts = pd.DataFrame(columns=oos_data.columns, index=oos_data.index)\n",
    "\n",
    "    full_data = pd.concat([insample_data, oos_data])\n",
    "\n",
    "    # vamos a implementar recursive window forecasting\n",
    "    index = full_data.index\n",
    "    end_loc = np.where(index >= split_date)[0].min()\n",
    "    # esto es un int del iloc\n",
    "    # preciso usar ints de iloc porque el timedelta se me va a romper con el fin de semana\n",
    "    rolling_window = 252\n",
    "\n",
    "    nstate = model.n_components\n",
    "    model = hmm.GaussianHMM(n_components=nstate, **param_dict, verbose=False)\n",
    "\n",
    "    model_list = []\n",
    "    counter = 0\n",
    "\n",
    "    for i in range(1, dates_to_forecast):\n",
    "        date_of_first_forecast = full_data.index[end_loc + i - 1]\n",
    "\n",
    "        fitstart = end_loc - rolling_window + i\n",
    "        fitend = end_loc + i\n",
    "\n",
    "        # fit model with last year\n",
    "        fit_data = full_data.iloc[fitstart:fitend][columns]\n",
    "        res = model.fit(fit_data)\n",
    "        model_list.append(res)\n",
    "\n",
    "        # obtenemos las probabilidades por estado del ultimo dia\n",
    "        # son las probabilidades que maximizan la log/likelihood de toda la secuencia\n",
    "        index = len(model_list)\n",
    "        while index > 0:\n",
    "            try:\n",
    "                add_count = False\n",
    "                last_day_state_probs = res.predict_proba(fit_data)[-1]\n",
    "                probabilities.loc[date_of_first_forecast] = last_day_state_probs\n",
    "                index = 0\n",
    "\n",
    "            except ValueError:\n",
    "                # this happens when startprob_ must sum to 1 (got nan)\n",
    "                # si el modelo falla en el predict_proba, se utiliza el de t-1\n",
    "                add_count = True\n",
    "                index = index - 1\n",
    "                res = model_list[index]\n",
    "\n",
    "                if not \"last_day_state_probs\" in locals():\n",
    "                    # this checks for failure of estimation in the first day\n",
    "                    last_day_state_probs = np.full(nstate, (1 / nstate))\n",
    "                    # inputs a flat prior if it has no previous day to fall back on\n",
    "\n",
    "        if add_count:\n",
    "            counter = counter + 1\n",
    "        # model.means_ es es la media condicional a cada estado\n",
    "        # cada columna representa cada columna del dataset\n",
    "        # cada fila es un estado\n",
    "        # el producto punto entre este y las probabilidades del ultimo día me da la media esperada por cada columna\n",
    "        expected_means = np.dot(last_day_state_probs, model.means_)\n",
    "        forecasts.loc[date_of_first_forecast] = expected_means\n",
    "\n",
    "    pct_nan = forecasts.iloc[:, 0].isna().sum() / len(forecasts.index) * 100\n",
    "\n",
    "    if pct_nan > 5:\n",
    "        warnings.warn(f\"{oos_data.columns[0]} % na: {pct_nan}\")\n",
    "\n",
    "    forecasts.fillna(method=\"ffill\", inplace=True)\n",
    "\n",
    "    residuals = return_residuals(oos_data, forecasts)\n",
    "\n",
    "    print(\"failed models: \", counter)\n",
    "    return probabilities, forecasts, residuals, counter"
   ]
  },
  {
   "cell_type": "code",
   "execution_count": 22,
   "metadata": {},
   "outputs": [],
   "source": [
    "def generate_and_save_samples(\n",
    "    best_model_dict: dict,\n",
    "    modeltype: str,\n",
    "    criterion: str,\n",
    "    insample_data: pd.DataFrame,\n",
    "    oos_data: pd.DataFrame,\n",
    "    tickerlist: list,\n",
    "    contains_vol: bool,\n",
    "    contains_USD: bool,\n",
    "):\n",
    "    probabilities = {stock: None for stock in tickerlist}\n",
    "    forecasts = {stock: None for stock in tickerlist}\n",
    "    residuals = {stock: None for stock in tickerlist}\n",
    "    failed = {stock: None for stock in tickerlist}\n",
    "\n",
    "    print(\">\" * 10, modeltype, criterion)\n",
    "\n",
    "    for stock in tickerlist:\n",
    "        print(stock)\n",
    "        columns = generate_columns(\n",
    "            stock=stock, contains_vol=contains_vol, contains_USD=contains_USD\n",
    "        )\n",
    "\n",
    "        proba, fcast, resid, fails = generate_HMM_samples_residuals(\n",
    "            best_model_dict[stock],\n",
    "            insample_data=insample_data[columns],\n",
    "            oos_data=oos_data[columns],\n",
    "        )\n",
    "\n",
    "        probabilities[stock] = proba\n",
    "        forecasts[stock] = fcast\n",
    "        residuals[stock] = resid\n",
    "        failed[stock] = fails\n",
    "\n",
    "    save_as_pickle(\n",
    "        data=forecasts,\n",
    "        resultsroute=params[\"resultsroute\"],\n",
    "        model_type=f\"HMM_{modeltype}\",\n",
    "        tablename=params[\"tablename\"],\n",
    "        criterion=criterion,\n",
    "        type_save=\"forecasts\",\n",
    "    )\n",
    "\n",
    "    save_as_pickle(\n",
    "        data=residuals,\n",
    "        resultsroute=params[\"resultsroute\"],\n",
    "        model_type=f\"HMM_{modeltype}\",\n",
    "        tablename=params[\"tablename\"],\n",
    "        criterion=criterion,\n",
    "        type_save=\"residuals\",\n",
    "    )\n",
    "\n",
    "    save_as_pickle(\n",
    "        data=failed,\n",
    "        resultsroute=params[\"resultsroute\"],\n",
    "        model_type=f\"HMM_{modeltype}\",\n",
    "        tablename=params[\"tablename\"],\n",
    "        criterion=criterion,\n",
    "        type_save=\"model_fails\",\n",
    "    )"
   ]
  },
  {
   "cell_type": "code",
   "execution_count": 23,
   "metadata": {},
   "outputs": [],
   "source": [
    "models_dict = {\n",
    "    \"aic\": {\n",
    "        \"univ\": (aic_best_model_univ, False, False),\n",
    "        \"with_vol\": (aic_best_model_with_vol, True, False),\n",
    "        \"multiv\": (aic_best_model_multi, True, True),\n",
    "    },\n",
    "    \"bic\": {\n",
    "        \"univ\": (bic_best_model_univ, False, False),\n",
    "        \"with_vol\": (bic_best_model_with_vol, True, False),\n",
    "        \"multiv\": (bic_best_model_multi, True, True),\n",
    "    },\n",
    "}"
   ]
  },
  {
   "cell_type": "code",
   "execution_count": 24,
   "metadata": {},
   "outputs": [
    {
     "name": "stdout",
     "output_type": "stream",
     "text": [
      ">>>>>>>>>> univ aic\n",
      "^BVSP\n",
      "failed models:  0\n",
      "VALE3.SA\n",
      "failed models:  0\n",
      "VALE\n",
      "failed models:  0\n",
      "PETR3.SA\n",
      "failed models:  0\n",
      "PBR\n",
      "failed models:  0\n",
      "EMBR3.SA\n",
      "failed models:  0\n",
      "ERJ\n",
      "failed models:  0\n",
      "ABEV3.SA\n",
      "failed models:  0\n",
      "ABEV\n",
      "failed models:  0\n",
      ">>>>>>>>>> with_vol aic\n",
      "^BVSP\n",
      "failed models:  0\n",
      "VALE3.SA\n",
      "failed models:  0\n",
      "VALE\n",
      "failed models:  0\n",
      "PETR3.SA\n",
      "failed models:  0\n",
      "PBR\n",
      "failed models:  0\n",
      "EMBR3.SA\n",
      "failed models:  0\n",
      "ERJ\n",
      "failed models:  0\n",
      "ABEV3.SA\n",
      "failed models:  0\n",
      "ABEV\n",
      "failed models:  0\n",
      ">>>>>>>>>> multiv aic\n",
      "^BVSP\n",
      "failed models:  0\n",
      "VALE3.SA\n",
      "failed models:  3\n",
      "VALE\n",
      "failed models:  0\n",
      "PETR3.SA\n",
      "failed models:  0\n",
      "PBR\n",
      "failed models:  0\n",
      "EMBR3.SA\n",
      "failed models:  0\n",
      "ERJ\n",
      "failed models:  0\n",
      "ABEV3.SA\n",
      "failed models:  0\n",
      "ABEV\n",
      "failed models:  0\n",
      ">>>>>>>>>> univ bic\n",
      "^BVSP\n",
      "failed models:  0\n",
      "VALE3.SA\n",
      "failed models:  0\n",
      "VALE\n",
      "failed models:  0\n",
      "PETR3.SA\n",
      "failed models:  0\n",
      "PBR\n",
      "failed models:  0\n",
      "EMBR3.SA\n",
      "failed models:  0\n",
      "ERJ\n",
      "failed models:  0\n",
      "ABEV3.SA\n",
      "failed models:  0\n",
      "ABEV\n",
      "failed models:  0\n",
      ">>>>>>>>>> with_vol bic\n",
      "^BVSP\n",
      "failed models:  0\n",
      "VALE3.SA\n",
      "failed models:  0\n",
      "VALE\n",
      "failed models:  0\n",
      "PETR3.SA\n",
      "failed models:  0\n",
      "PBR\n",
      "failed models:  0\n",
      "EMBR3.SA\n",
      "failed models:  0\n",
      "ERJ\n",
      "failed models:  0\n",
      "ABEV3.SA\n",
      "failed models:  0\n",
      "ABEV\n",
      "failed models:  0\n",
      ">>>>>>>>>> multiv bic\n",
      "^BVSP\n",
      "failed models:  0\n",
      "VALE3.SA\n",
      "failed models:  3\n",
      "VALE\n",
      "failed models:  0\n",
      "PETR3.SA\n",
      "failed models:  0\n",
      "PBR\n",
      "failed models:  0\n",
      "EMBR3.SA\n",
      "failed models:  0\n",
      "ERJ\n",
      "failed models:  0\n",
      "ABEV3.SA\n",
      "failed models:  0\n",
      "ABEV\n",
      "failed models:  0\n"
     ]
    }
   ],
   "source": [
    "for criterion, type_dict in models_dict.items():\n",
    "    for modeltype, tupla in type_dict.items():\n",
    "        best_dict, contains_vol, contains_USD = tupla\n",
    "        try:\n",
    "            generate_and_save_samples(\n",
    "                best_model_dict=best_dict,\n",
    "                modeltype=modeltype,\n",
    "                criterion=criterion,\n",
    "                insample_data=df,\n",
    "                oos_data=df_test,\n",
    "                tickerlist=params[\"tickerlist\"],\n",
    "                contains_vol=contains_vol,\n",
    "                contains_USD=contains_USD,\n",
    "            )\n",
    "        except UnboundLocalError:\n",
    "            print(f\"MODEL FALILURE: {criterion}, {modeltype}\")"
   ]
  },
  {
   "cell_type": "code",
   "execution_count": 25,
   "metadata": {},
   "outputs": [],
   "source": [
    "file = f\"\"\"HMM_multiv_{params[\"tablename\"]}_aic_best_residuals.pickle\"\"\"\n",
    "with open(os.path.join(resultsroute, file), \"rb\") as f:\n",
    "    opened_pickle = pickle.load(f)"
   ]
  },
  {
   "cell_type": "code",
   "execution_count": 26,
   "metadata": {},
   "outputs": [
    {
     "data": {
      "text/html": [
       "<div>\n",
       "<style scoped>\n",
       "    .dataframe tbody tr th:only-of-type {\n",
       "        vertical-align: middle;\n",
       "    }\n",
       "\n",
       "    .dataframe tbody tr th {\n",
       "        vertical-align: top;\n",
       "    }\n",
       "\n",
       "    .dataframe thead th {\n",
       "        text-align: right;\n",
       "    }\n",
       "</style>\n",
       "<table border=\"1\" class=\"dataframe\">\n",
       "  <thead>\n",
       "    <tr style=\"text-align: right;\">\n",
       "      <th></th>\n",
       "      <th>^BVSP_log_rets</th>\n",
       "      <th>^BVSP_gk_vol</th>\n",
       "      <th>USD_log_rets</th>\n",
       "      <th>USD_gk_vol</th>\n",
       "    </tr>\n",
       "  </thead>\n",
       "  <tbody>\n",
       "    <tr>\n",
       "      <th>2023-12-01</th>\n",
       "      <td>0.005412</td>\n",
       "      <td>-0.000107</td>\n",
       "      <td>-0.007433</td>\n",
       "      <td>-0.000024</td>\n",
       "    </tr>\n",
       "    <tr>\n",
       "      <th>2023-12-04</th>\n",
       "      <td>-0.010738</td>\n",
       "      <td>-0.000073</td>\n",
       "      <td>0.012951</td>\n",
       "      <td>0.000010</td>\n",
       "    </tr>\n",
       "    <tr>\n",
       "      <th>2023-12-05</th>\n",
       "      <td>0.000191</td>\n",
       "      <td>-0.000159</td>\n",
       "      <td>-0.002534</td>\n",
       "      <td>-0.000028</td>\n",
       "    </tr>\n",
       "    <tr>\n",
       "      <th>2023-12-06</th>\n",
       "      <td>-0.010660</td>\n",
       "      <td>-0.000033</td>\n",
       "      <td>-0.004736</td>\n",
       "      <td>-0.000008</td>\n",
       "    </tr>\n",
       "    <tr>\n",
       "      <th>2023-12-07</th>\n",
       "      <td>0.002553</td>\n",
       "      <td>-0.000152</td>\n",
       "      <td>0.000697</td>\n",
       "      <td>0.000005</td>\n",
       "    </tr>\n",
       "  </tbody>\n",
       "</table>\n",
       "</div>"
      ],
      "text/plain": [
       "            ^BVSP_log_rets  ^BVSP_gk_vol  USD_log_rets  USD_gk_vol\n",
       "2023-12-01        0.005412     -0.000107     -0.007433   -0.000024\n",
       "2023-12-04       -0.010738     -0.000073      0.012951    0.000010\n",
       "2023-12-05        0.000191     -0.000159     -0.002534   -0.000028\n",
       "2023-12-06       -0.010660     -0.000033     -0.004736   -0.000008\n",
       "2023-12-07        0.002553     -0.000152      0.000697    0.000005"
      ]
     },
     "execution_count": 26,
     "metadata": {},
     "output_type": "execute_result"
    }
   ],
   "source": [
    "opened_pickle[params[\"index\"]].tail()"
   ]
  },
  {
   "cell_type": "code",
   "execution_count": 7,
   "metadata": {},
   "outputs": [
    {
     "name": "stdout",
     "output_type": "stream",
     "text": [
      "{'HMM_multiv_BR_^BVSP_aic_best_model_fails.pickle': '..\\\\results\\\\BR_^BVSP\\\\HMM_multiv_BR_^BVSP_aic_best_model_fails.pickle', 'HMM_multiv_BR_^BVSP_bic_best_model_fails.pickle': '..\\\\results\\\\BR_^BVSP\\\\HMM_multiv_BR_^BVSP_bic_best_model_fails.pickle', 'HMM_univ_BR_^BVSP_aic_best_model_fails.pickle': '..\\\\results\\\\BR_^BVSP\\\\HMM_univ_BR_^BVSP_aic_best_model_fails.pickle', 'HMM_univ_BR_^BVSP_bic_best_model_fails.pickle': '..\\\\results\\\\BR_^BVSP\\\\HMM_univ_BR_^BVSP_bic_best_model_fails.pickle', 'HMM_with_vol_BR_^BVSP_aic_best_model_fails.pickle': '..\\\\results\\\\BR_^BVSP\\\\HMM_with_vol_BR_^BVSP_aic_best_model_fails.pickle', 'HMM_with_vol_BR_^BVSP_bic_best_model_fails.pickle': '..\\\\results\\\\BR_^BVSP\\\\HMM_with_vol_BR_^BVSP_bic_best_model_fails.pickle'}\n"
     ]
    }
   ],
   "source": [
    "fails_dict = get_all_results_matching(resultsroute, [\"fail\"])"
   ]
  },
  {
   "cell_type": "code",
   "execution_count": 13,
   "metadata": {},
   "outputs": [],
   "source": [
    "fails_df = pd.DataFrame()\n",
    "for name, dir in fails_dict.items():\n",
    "    dict_with_dfs = pd.read_pickle(dir)\n",
    "    colname = clean_modelname(\n",
    "        name, substring_to_replace=\"model_fails\", tablename=params[\"tablename\"]\n",
    "    )\n",
    "    fails_df[colname] = dict_with_dfs\n",
    "    os.remove(dir)\n",
    "\n",
    "fails_df = fails_df / len(df_test.index)\n",
    "fails_df.to_csv(\n",
    "    path_or_buf=os.path.join(\n",
    "        params[\"resultsroute\"], f\"\"\"HMM_{params[\"tablename\"]}_fails.csv\"\"\"\n",
    "    )\n",
    ")"
   ]
  },
  {
   "cell_type": "markdown",
   "metadata": {},
   "source": [
    "# Graficando"
   ]
  },
  {
   "cell_type": "code",
   "execution_count": 27,
   "metadata": {},
   "outputs": [],
   "source": [
    "def plot_close_rets_vol(model, data, key, IC):\n",
    "    prediction = model.predict(data)\n",
    "    states = set(prediction)\n",
    "\n",
    "    fig = plt.figure(figsize=(20, 20))\n",
    "    plt.tight_layout()\n",
    "    plt.title(\n",
    "        f\"{key} Log returns and intraday Vol\\n{model.n_components} states / best by {IC}\"\n",
    "    )\n",
    "\n",
    "    for subplot, var in zip(range(1, 3), data.columns):\n",
    "        plt.subplot(2, 1, subplot)\n",
    "        for i in set(prediction):\n",
    "            state = prediction == i\n",
    "            x = data.index[state]\n",
    "            y = data[var].iloc[state]\n",
    "            plt.plot(x, y, \".\")\n",
    "        plt.legend(states, fontsize=16)\n",
    "\n",
    "        plt.grid(True)\n",
    "        plt.xlabel(\"datetime\", fontsize=16)\n",
    "        plt.ylabel(var, fontsize=16)\n",
    "\n",
    "    plt.savefig(os.path.join(resultsroute, \"graphs\", f\"HMM\", f\"{key}_model_{IC}.png\"))"
   ]
  },
  {
   "cell_type": "code",
   "execution_count": 28,
   "metadata": {
    "scrolled": true
   },
   "outputs": [],
   "source": [
    "# for dictionary, IC in zip([aic_best_model, bic_best_model], [\"AIC\", \"BIC\"]):\n",
    "#    for key, model in dictionary.items():\n",
    "#        columns = [f\"{stock}_log_rets\", f\"{stock}_gk_vol\"]\n",
    "#        insample_data = df[columns]\n",
    "#        oos_data = df_test[columns]\n",
    "#        train_end = insample_data.index.max()\n",
    "#        data = pd.concat([insample_data, oos_data])\n",
    "#\n",
    "#        plot_close_rets_vol(model, data, key, IC)"
   ]
  }
 ],
 "metadata": {
  "@webio": {
   "lastCommId": null,
   "lastKernelId": null
  },
  "kernelspec": {
   "display_name": "Python 3 (ipykernel)",
   "language": "python",
   "name": "python3"
  },
  "language_info": {
   "codemirror_mode": {
    "name": "ipython",
    "version": 3
   },
   "file_extension": ".py",
   "mimetype": "text/x-python",
   "name": "python",
   "nbconvert_exporter": "python",
   "pygments_lexer": "ipython3",
   "version": "3.11.5"
  }
 },
 "nbformat": 4,
 "nbformat_minor": 2
}
