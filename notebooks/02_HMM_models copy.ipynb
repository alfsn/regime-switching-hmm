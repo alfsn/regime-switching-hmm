{
 "cells": [
  {
   "cell_type": "markdown",
   "metadata": {},
   "source": [
    "## Startup"
   ]
  },
  {
   "cell_type": "code",
   "execution_count": 27,
   "metadata": {},
   "outputs": [],
   "source": [
    "import numpy as np\n",
    "import pandas as pd\n",
    "import matplotlib.pyplot as plt\n",
    "import pomegranate as pm\n",
    "\n",
    "import logging\n",
    "import os\n",
    "import pickle\n",
    "import warnings"
   ]
  },
  {
   "cell_type": "code",
   "execution_count": 42,
   "metadata": {},
   "outputs": [],
   "source": [
    "from pomegranate.distributions import Uniform, Normal\n",
    "from pomegranate.hmm import DenseHMM"
   ]
  },
  {
   "cell_type": "code",
   "execution_count": 32,
   "metadata": {},
   "outputs": [],
   "source": [
    "random_state = 42\n",
    "np.random.seed(random_state)\n",
    "# logging.captureWarnings(True)"
   ]
  },
  {
   "cell_type": "code",
   "execution_count": 33,
   "metadata": {},
   "outputs": [],
   "source": [
    "from scripts.params import get_params\n",
    "from scripts.aux_functions import generate_columns, save_as_pickle, get_all_results_matching, clean_modelname\n",
    "\n",
    "params = get_params()"
   ]
  },
  {
   "cell_type": "markdown",
   "metadata": {},
   "source": [
    "## Data Retrieval"
   ]
  },
  {
   "cell_type": "code",
   "execution_count": 34,
   "metadata": {},
   "outputs": [],
   "source": [
    "dataroute = params[\"dataroute\"]\n",
    "resultsroute = params[\"resultsroute\"]\n",
    "dumproute = params[\"dumproute\"]"
   ]
  },
  {
   "cell_type": "code",
   "execution_count": 35,
   "metadata": {},
   "outputs": [],
   "source": [
    "name = f'finaldf_train_{params[\"tablename\"]}.pickle'\n",
    "filename = os.path.join(dataroute, name)\n",
    "with open(filename, \"rb\") as handle:\n",
    "    df = pickle.load(handle)"
   ]
  },
  {
   "cell_type": "code",
   "execution_count": 36,
   "metadata": {},
   "outputs": [
    {
     "data": {
      "text/html": [
       "<div>\n",
       "<style scoped>\n",
       "    .dataframe tbody tr th:only-of-type {\n",
       "        vertical-align: middle;\n",
       "    }\n",
       "\n",
       "    .dataframe tbody tr th {\n",
       "        vertical-align: top;\n",
       "    }\n",
       "\n",
       "    .dataframe thead th {\n",
       "        text-align: right;\n",
       "    }\n",
       "</style>\n",
       "<table border=\"1\" class=\"dataframe\">\n",
       "  <thead>\n",
       "    <tr style=\"text-align: right;\">\n",
       "      <th></th>\n",
       "      <th>^BVSP_rets</th>\n",
       "      <th>^BVSP_log_rets</th>\n",
       "      <th>^BVSP_gk_vol</th>\n",
       "      <th>VALE3.SA_rets</th>\n",
       "      <th>VALE3.SA_log_rets</th>\n",
       "      <th>VALE3.SA_gk_vol</th>\n",
       "      <th>VALE_rets</th>\n",
       "      <th>VALE_log_rets</th>\n",
       "      <th>VALE_gk_vol</th>\n",
       "      <th>PETR3.SA_rets</th>\n",
       "      <th>...</th>\n",
       "      <th>ABEV3.SA_gk_vol</th>\n",
       "      <th>ABEV_rets</th>\n",
       "      <th>ABEV_log_rets</th>\n",
       "      <th>ABEV_gk_vol</th>\n",
       "      <th>USD_rets</th>\n",
       "      <th>USD_log_rets</th>\n",
       "      <th>USD_gk_vol</th>\n",
       "      <th>^BVSP_USD_rets</th>\n",
       "      <th>^BVSP_USD_log_rets</th>\n",
       "      <th>^BVSP_USD_gk_vol</th>\n",
       "    </tr>\n",
       "  </thead>\n",
       "  <tbody>\n",
       "    <tr>\n",
       "      <th>2013-01-03</th>\n",
       "      <td>0.012182</td>\n",
       "      <td>0.012109</td>\n",
       "      <td>0.000218</td>\n",
       "      <td>-0.017007</td>\n",
       "      <td>-0.017153</td>\n",
       "      <td>0.000190</td>\n",
       "      <td>-0.011168</td>\n",
       "      <td>-0.011231</td>\n",
       "      <td>0.000204</td>\n",
       "      <td>0.037298</td>\n",
       "      <td>...</td>\n",
       "      <td>0.000185</td>\n",
       "      <td>0.006920</td>\n",
       "      <td>0.006896</td>\n",
       "      <td>0.000123</td>\n",
       "      <td>0.005423</td>\n",
       "      <td>0.005409</td>\n",
       "      <td>0.000005</td>\n",
       "      <td>0.008609</td>\n",
       "      <td>0.008572</td>\n",
       "      <td>0.000218</td>\n",
       "    </tr>\n",
       "    <tr>\n",
       "      <th>2013-01-04</th>\n",
       "      <td>-0.012462</td>\n",
       "      <td>-0.012540</td>\n",
       "      <td>0.000163</td>\n",
       "      <td>-0.015455</td>\n",
       "      <td>-0.015576</td>\n",
       "      <td>0.000512</td>\n",
       "      <td>-0.008471</td>\n",
       "      <td>-0.008507</td>\n",
       "      <td>0.000265</td>\n",
       "      <td>0.003401</td>\n",
       "      <td>...</td>\n",
       "      <td>0.000270</td>\n",
       "      <td>0.000711</td>\n",
       "      <td>0.000711</td>\n",
       "      <td>0.000056</td>\n",
       "      <td>-0.009110</td>\n",
       "      <td>-0.009152</td>\n",
       "      <td>0.000127</td>\n",
       "      <td>-0.012968</td>\n",
       "      <td>-0.013053</td>\n",
       "      <td>0.000163</td>\n",
       "    </tr>\n",
       "    <tr>\n",
       "      <th>2013-01-07</th>\n",
       "      <td>-0.009437</td>\n",
       "      <td>-0.009481</td>\n",
       "      <td>0.000180</td>\n",
       "      <td>-0.019681</td>\n",
       "      <td>-0.019878</td>\n",
       "      <td>0.000541</td>\n",
       "      <td>-0.018510</td>\n",
       "      <td>-0.018683</td>\n",
       "      <td>0.000324</td>\n",
       "      <td>-0.013075</td>\n",
       "      <td>...</td>\n",
       "      <td>0.000146</td>\n",
       "      <td>-0.007814</td>\n",
       "      <td>-0.007845</td>\n",
       "      <td>0.000065</td>\n",
       "      <td>0.002544</td>\n",
       "      <td>0.002541</td>\n",
       "      <td>0.000056</td>\n",
       "      <td>-0.004489</td>\n",
       "      <td>-0.004499</td>\n",
       "      <td>0.000180</td>\n",
       "    </tr>\n",
       "    <tr>\n",
       "      <th>2013-01-08</th>\n",
       "      <td>-0.012998</td>\n",
       "      <td>-0.013083</td>\n",
       "      <td>0.000250</td>\n",
       "      <td>-0.007887</td>\n",
       "      <td>-0.007919</td>\n",
       "      <td>0.000184</td>\n",
       "      <td>-0.014990</td>\n",
       "      <td>-0.015104</td>\n",
       "      <td>0.000108</td>\n",
       "      <td>-0.028460</td>\n",
       "      <td>...</td>\n",
       "      <td>0.000141</td>\n",
       "      <td>0.005967</td>\n",
       "      <td>0.005949</td>\n",
       "      <td>0.000061</td>\n",
       "      <td>0.002794</td>\n",
       "      <td>0.002790</td>\n",
       "      <td>0.000030</td>\n",
       "      <td>-0.017548</td>\n",
       "      <td>-0.017704</td>\n",
       "      <td>0.000250</td>\n",
       "    </tr>\n",
       "    <tr>\n",
       "      <th>2013-01-09</th>\n",
       "      <td>0.007378</td>\n",
       "      <td>0.007351</td>\n",
       "      <td>0.000087</td>\n",
       "      <td>0.004577</td>\n",
       "      <td>0.004567</td>\n",
       "      <td>0.000137</td>\n",
       "      <td>0.001964</td>\n",
       "      <td>0.001962</td>\n",
       "      <td>0.000136</td>\n",
       "      <td>0.010101</td>\n",
       "      <td>...</td>\n",
       "      <td>0.000309</td>\n",
       "      <td>0.007117</td>\n",
       "      <td>0.007092</td>\n",
       "      <td>0.000037</td>\n",
       "      <td>0.003096</td>\n",
       "      <td>0.003092</td>\n",
       "      <td>0.000028</td>\n",
       "      <td>0.009302</td>\n",
       "      <td>0.009259</td>\n",
       "      <td>0.000087</td>\n",
       "    </tr>\n",
       "  </tbody>\n",
       "</table>\n",
       "<p>5 rows × 33 columns</p>\n",
       "</div>"
      ],
      "text/plain": [
       "            ^BVSP_rets  ^BVSP_log_rets  ^BVSP_gk_vol  VALE3.SA_rets  \\\n",
       "2013-01-03    0.012182        0.012109      0.000218      -0.017007   \n",
       "2013-01-04   -0.012462       -0.012540      0.000163      -0.015455   \n",
       "2013-01-07   -0.009437       -0.009481      0.000180      -0.019681   \n",
       "2013-01-08   -0.012998       -0.013083      0.000250      -0.007887   \n",
       "2013-01-09    0.007378        0.007351      0.000087       0.004577   \n",
       "\n",
       "            VALE3.SA_log_rets  VALE3.SA_gk_vol  VALE_rets  VALE_log_rets  \\\n",
       "2013-01-03          -0.017153         0.000190  -0.011168      -0.011231   \n",
       "2013-01-04          -0.015576         0.000512  -0.008471      -0.008507   \n",
       "2013-01-07          -0.019878         0.000541  -0.018510      -0.018683   \n",
       "2013-01-08          -0.007919         0.000184  -0.014990      -0.015104   \n",
       "2013-01-09           0.004567         0.000137   0.001964       0.001962   \n",
       "\n",
       "            VALE_gk_vol  PETR3.SA_rets  ...  ABEV3.SA_gk_vol  ABEV_rets  \\\n",
       "2013-01-03     0.000204       0.037298  ...         0.000185   0.006920   \n",
       "2013-01-04     0.000265       0.003401  ...         0.000270   0.000711   \n",
       "2013-01-07     0.000324      -0.013075  ...         0.000146  -0.007814   \n",
       "2013-01-08     0.000108      -0.028460  ...         0.000141   0.005967   \n",
       "2013-01-09     0.000136       0.010101  ...         0.000309   0.007117   \n",
       "\n",
       "            ABEV_log_rets  ABEV_gk_vol  USD_rets  USD_log_rets  USD_gk_vol  \\\n",
       "2013-01-03       0.006896     0.000123  0.005423      0.005409    0.000005   \n",
       "2013-01-04       0.000711     0.000056 -0.009110     -0.009152    0.000127   \n",
       "2013-01-07      -0.007845     0.000065  0.002544      0.002541    0.000056   \n",
       "2013-01-08       0.005949     0.000061  0.002794      0.002790    0.000030   \n",
       "2013-01-09       0.007092     0.000037  0.003096      0.003092    0.000028   \n",
       "\n",
       "            ^BVSP_USD_rets  ^BVSP_USD_log_rets  ^BVSP_USD_gk_vol  \n",
       "2013-01-03        0.008609            0.008572          0.000218  \n",
       "2013-01-04       -0.012968           -0.013053          0.000163  \n",
       "2013-01-07       -0.004489           -0.004499          0.000180  \n",
       "2013-01-08       -0.017548           -0.017704          0.000250  \n",
       "2013-01-09        0.009302            0.009259          0.000087  \n",
       "\n",
       "[5 rows x 33 columns]"
      ]
     },
     "execution_count": 36,
     "metadata": {},
     "output_type": "execute_result"
    }
   ],
   "source": [
    "df.head()"
   ]
  },
  {
   "cell_type": "markdown",
   "metadata": {},
   "source": [
    "## HMM Training"
   ]
  },
  {
   "cell_type": "code",
   "execution_count": 123,
   "metadata": {},
   "outputs": [],
   "source": [
    "range_states = range(1, 16)\n",
    "emptydf = pd.DataFrame(columns=[\"AIC\", \"BIC\"], index=range_states)\n",
    "emptydf.fillna(np.inf, inplace=True)\n",
    "results_dict_df = {stock: emptydf for stock in params[\"tickerlist\"]}"
   ]
  },
  {
   "cell_type": "code",
   "execution_count": 126,
   "metadata": {},
   "outputs": [
    {
     "data": {
      "text/plain": [
       "DenseHMM(\n",
       "  (start): Silent()\n",
       "  (end): Silent()\n",
       "  (distributions): ModuleList(\n",
       "    (0-1): 2 x Categorical()\n",
       "  )\n",
       ")"
      ]
     },
     "execution_count": 126,
     "metadata": {},
     "output_type": "execute_result"
    }
   ],
   "source": [
    "from pomegranate.distributions import Categorical\n",
    "\n",
    "d1 = Categorical([[0.25, 0.25, 0.25, 0.25]])\n",
    "d2 = Categorical([[0.10, 0.40, 0.40, 0.10]])\n",
    "model = DenseHMM()\n",
    "model.add_distributions([d1, d2])\n",
    "\n",
    "sequence = 'CGACTACTGACTACTCGCCGACGCGACTGCCGTCTATACTGCGCATACGGC'\n",
    "X = np.array([[[['A', 'C', 'G', 'T'].index(char)] for char in sequence]])\n",
    "X.shape\n",
    "\n",
    "model.fit(X)"
   ]
  },
  {
   "cell_type": "code",
   "execution_count": 127,
   "metadata": {},
   "outputs": [
    {
     "data": {
      "text/plain": [
       "array([[[1],\n",
       "        [2],\n",
       "        [0],\n",
       "        [1],\n",
       "        [3],\n",
       "        [0],\n",
       "        [1],\n",
       "        [3],\n",
       "        [2],\n",
       "        [0],\n",
       "        [1],\n",
       "        [3],\n",
       "        [0],\n",
       "        [1],\n",
       "        [3],\n",
       "        [1],\n",
       "        [2],\n",
       "        [1],\n",
       "        [1],\n",
       "        [2],\n",
       "        [0],\n",
       "        [1],\n",
       "        [2],\n",
       "        [1],\n",
       "        [2],\n",
       "        [0],\n",
       "        [1],\n",
       "        [3],\n",
       "        [2],\n",
       "        [1],\n",
       "        [1],\n",
       "        [2],\n",
       "        [3],\n",
       "        [1],\n",
       "        [3],\n",
       "        [0],\n",
       "        [3],\n",
       "        [0],\n",
       "        [1],\n",
       "        [3],\n",
       "        [2],\n",
       "        [1],\n",
       "        [2],\n",
       "        [1],\n",
       "        [0],\n",
       "        [3],\n",
       "        [0],\n",
       "        [1],\n",
       "        [2],\n",
       "        [2],\n",
       "        [1]]])"
      ]
     },
     "execution_count": 127,
     "metadata": {},
     "output_type": "execute_result"
    }
   ],
   "source": [
    "X"
   ]
  },
  {
   "cell_type": "code",
   "execution_count": 136,
   "metadata": {},
   "outputs": [
    {
     "data": {
      "text/plain": [
       "(1, 1, 2578, 1)"
      ]
     },
     "execution_count": 136,
     "metadata": {},
     "output_type": "execute_result"
    }
   ],
   "source": [
    "np.array([[df[cols].values]]).shape"
   ]
  },
  {
   "cell_type": "code",
   "execution_count": 133,
   "metadata": {},
   "outputs": [
    {
     "ename": "ValueError",
     "evalue": "Parameter X must have a minimum value above 0.0",
     "output_type": "error",
     "traceback": [
      "\u001b[1;31m---------------------------------------------------------------------------\u001b[0m",
      "\u001b[1;31mValueError\u001b[0m                                Traceback (most recent call last)",
      "Cell \u001b[1;32mIn[133], line 10\u001b[0m\n\u001b[0;32m      7\u001b[0m X \u001b[38;5;241m=\u001b[39m np\u001b[38;5;241m.\u001b[39marray([[df[cols]\u001b[38;5;241m.\u001b[39mvalues]])\n\u001b[0;32m      8\u001b[0m X\u001b[38;5;241m.\u001b[39mshape\n\u001b[1;32m---> 10\u001b[0m \u001b[43mmodel\u001b[49m\u001b[38;5;241;43m.\u001b[39;49m\u001b[43mfit\u001b[49m\u001b[43m(\u001b[49m\u001b[43mX\u001b[49m\u001b[43m)\u001b[49m\n",
      "File \u001b[1;32mc:\\Users\\alfredo.sampron\\AppData\\Local\\miniconda3\\envs\\hmm\\Lib\\site-packages\\pomegranate\\hmm\\_base.py:604\u001b[0m, in \u001b[0;36m_BaseHMM.fit\u001b[1;34m(self, X, sample_weight, priors)\u001b[0m\n\u001b[0;32m    601\u001b[0m \tw_ \u001b[38;5;241m=\u001b[39m \u001b[38;5;28;01mNone\u001b[39;00m \u001b[38;5;28;01mif\u001b[39;00m sample_weight \u001b[38;5;129;01mis\u001b[39;00m \u001b[38;5;28;01mNone\u001b[39;00m \u001b[38;5;28;01melse\u001b[39;00m sample_weight[j]\n\u001b[0;32m    602\u001b[0m \tp_ \u001b[38;5;241m=\u001b[39m \u001b[38;5;28;01mNone\u001b[39;00m \u001b[38;5;28;01mif\u001b[39;00m priors \u001b[38;5;129;01mis\u001b[39;00m \u001b[38;5;28;01mNone\u001b[39;00m \u001b[38;5;28;01melse\u001b[39;00m priors[j]\n\u001b[1;32m--> 604\u001b[0m \tlogp \u001b[38;5;241m+\u001b[39m\u001b[38;5;241m=\u001b[39m \u001b[38;5;28;43mself\u001b[39;49m\u001b[38;5;241;43m.\u001b[39;49m\u001b[43msummarize\u001b[49m\u001b[43m(\u001b[49m\u001b[43mX_\u001b[49m\u001b[43m,\u001b[49m\u001b[43m \u001b[49m\u001b[43msample_weight\u001b[49m\u001b[38;5;241;43m=\u001b[39;49m\u001b[43mw_\u001b[49m\u001b[43m,\u001b[49m\u001b[43m \u001b[49m\u001b[43mpriors\u001b[49m\u001b[38;5;241;43m=\u001b[39;49m\u001b[43mp_\u001b[49m\u001b[43m)\u001b[49m\u001b[38;5;241m.\u001b[39msum()\n\u001b[0;32m    606\u001b[0m \u001b[38;5;66;03m# Calculate and check improvement and optionally print it\u001b[39;00m\n\u001b[0;32m    607\u001b[0m \u001b[38;5;28;01mif\u001b[39;00m i \u001b[38;5;241m>\u001b[39m \u001b[38;5;241m0\u001b[39m:\n",
      "File \u001b[1;32mc:\\Users\\alfredo.sampron\\AppData\\Local\\miniconda3\\envs\\hmm\\Lib\\site-packages\\pomegranate\\hmm\\dense_hmm.py:543\u001b[0m, in \u001b[0;36mDenseHMM.summarize\u001b[1;34m(self, X, sample_weight, emissions, priors)\u001b[0m\n\u001b[0;32m    500\u001b[0m \u001b[38;5;28;01mdef\u001b[39;00m \u001b[38;5;21msummarize\u001b[39m(\u001b[38;5;28mself\u001b[39m, X, sample_weight\u001b[38;5;241m=\u001b[39m\u001b[38;5;28;01mNone\u001b[39;00m, emissions\u001b[38;5;241m=\u001b[39m\u001b[38;5;28;01mNone\u001b[39;00m, priors\u001b[38;5;241m=\u001b[39m\u001b[38;5;28;01mNone\u001b[39;00m):\n\u001b[0;32m    501\u001b[0m \u001b[38;5;250m\t\u001b[39m\u001b[38;5;124;03m\"\"\"Extract the sufficient statistics from a batch of data.\u001b[39;00m\n\u001b[0;32m    502\u001b[0m \n\u001b[0;32m    503\u001b[0m \u001b[38;5;124;03m\tThis method calculates the sufficient statistics from optionally\u001b[39;00m\n\u001b[1;32m   (...)\u001b[0m\n\u001b[0;32m    540\u001b[0m \u001b[38;5;124;03m\t\tby a component, not gives a target. Default is None.\u001b[39;00m\n\u001b[0;32m    541\u001b[0m \u001b[38;5;124;03m\t\"\"\"\u001b[39;00m\n\u001b[1;32m--> 543\u001b[0m \tX, emissions, sample_weight \u001b[38;5;241m=\u001b[39m \u001b[38;5;28;43msuper\u001b[39;49m\u001b[43m(\u001b[49m\u001b[43m)\u001b[49m\u001b[38;5;241;43m.\u001b[39;49m\u001b[43msummarize\u001b[49m\u001b[43m(\u001b[49m\u001b[43mX\u001b[49m\u001b[43m,\u001b[49m\u001b[43m \u001b[49m\n\u001b[0;32m    544\u001b[0m \u001b[43m\t\t\u001b[49m\u001b[43msample_weight\u001b[49m\u001b[38;5;241;43m=\u001b[39;49m\u001b[43msample_weight\u001b[49m\u001b[43m,\u001b[49m\u001b[43m \u001b[49m\u001b[43memissions\u001b[49m\u001b[38;5;241;43m=\u001b[39;49m\u001b[43memissions\u001b[49m\u001b[43m,\u001b[49m\u001b[43m \u001b[49m\u001b[43mpriors\u001b[49m\u001b[38;5;241;43m=\u001b[39;49m\u001b[43mpriors\u001b[49m\u001b[43m)\u001b[49m\n\u001b[0;32m    546\u001b[0m \tt, r, starts, ends, logps \u001b[38;5;241m=\u001b[39m \u001b[38;5;28mself\u001b[39m\u001b[38;5;241m.\u001b[39mforward_backward(emissions\u001b[38;5;241m=\u001b[39memissions)\n\u001b[0;32m    548\u001b[0m \t\u001b[38;5;28mself\u001b[39m\u001b[38;5;241m.\u001b[39m_xw_starts_sum \u001b[38;5;241m+\u001b[39m\u001b[38;5;241m=\u001b[39m torch\u001b[38;5;241m.\u001b[39msum(starts \u001b[38;5;241m*\u001b[39m sample_weight, dim\u001b[38;5;241m=\u001b[39m\u001b[38;5;241m0\u001b[39m)\n",
      "File \u001b[1;32mc:\\Users\\alfredo.sampron\\AppData\\Local\\miniconda3\\envs\\hmm\\Lib\\site-packages\\pomegranate\\hmm\\_base.py:681\u001b[0m, in \u001b[0;36m_BaseHMM.summarize\u001b[1;34m(self, X, sample_weight, emissions, priors)\u001b[0m\n\u001b[0;32m    642\u001b[0m \u001b[38;5;250m\u001b[39m\u001b[38;5;124;03m\"\"\"Extract the sufficient statistics from a batch of data.\u001b[39;00m\n\u001b[0;32m    643\u001b[0m \n\u001b[0;32m    644\u001b[0m \u001b[38;5;124;03mThis method calculates the sufficient statistics from optionally\u001b[39;00m\n\u001b[1;32m   (...)\u001b[0m\n\u001b[0;32m    676\u001b[0m \u001b[38;5;124;03m\tThe log probability of each example.\u001b[39;00m\n\u001b[0;32m    677\u001b[0m \u001b[38;5;124;03m\"\"\"\u001b[39;00m\n\u001b[0;32m    679\u001b[0m X \u001b[38;5;241m=\u001b[39m _check_parameter(_cast_as_tensor(X), \u001b[38;5;124m\"\u001b[39m\u001b[38;5;124mX\u001b[39m\u001b[38;5;124m\"\u001b[39m, ndim\u001b[38;5;241m=\u001b[39m\u001b[38;5;241m3\u001b[39m, \n\u001b[0;32m    680\u001b[0m \tshape\u001b[38;5;241m=\u001b[39m(\u001b[38;5;241m-\u001b[39m\u001b[38;5;241m1\u001b[39m, \u001b[38;5;241m-\u001b[39m\u001b[38;5;241m1\u001b[39m, \u001b[38;5;28mself\u001b[39m\u001b[38;5;241m.\u001b[39md), check_parameter\u001b[38;5;241m=\u001b[39m\u001b[38;5;28mself\u001b[39m\u001b[38;5;241m.\u001b[39mcheck_data)\n\u001b[1;32m--> 681\u001b[0m emissions \u001b[38;5;241m=\u001b[39m \u001b[43m_check_inputs\u001b[49m\u001b[43m(\u001b[49m\u001b[38;5;28;43mself\u001b[39;49m\u001b[43m,\u001b[49m\u001b[43m \u001b[49m\u001b[43mX\u001b[49m\u001b[43m,\u001b[49m\u001b[43m \u001b[49m\u001b[43memissions\u001b[49m\u001b[43m,\u001b[49m\u001b[43m \u001b[49m\u001b[43mpriors\u001b[49m\u001b[43m)\u001b[49m\n\u001b[0;32m    683\u001b[0m \u001b[38;5;28;01mif\u001b[39;00m sample_weight \u001b[38;5;129;01mis\u001b[39;00m \u001b[38;5;28;01mNone\u001b[39;00m:\n\u001b[0;32m    684\u001b[0m \tsample_weight \u001b[38;5;241m=\u001b[39m torch\u001b[38;5;241m.\u001b[39mones(\u001b[38;5;241m1\u001b[39m, device\u001b[38;5;241m=\u001b[39m\u001b[38;5;28mself\u001b[39m\u001b[38;5;241m.\u001b[39mdevice)\u001b[38;5;241m.\u001b[39mexpand(\n\u001b[0;32m    685\u001b[0m \t\temissions\u001b[38;5;241m.\u001b[39mshape[\u001b[38;5;241m0\u001b[39m], \u001b[38;5;241m1\u001b[39m)\n",
      "File \u001b[1;32mc:\\Users\\alfredo.sampron\\AppData\\Local\\miniconda3\\envs\\hmm\\Lib\\site-packages\\pomegranate\\hmm\\_base.py:28\u001b[0m, in \u001b[0;36m_check_inputs\u001b[1;34m(model, X, emissions, priors)\u001b[0m\n\u001b[0;32m     25\u001b[0m emissions \u001b[38;5;241m=\u001b[39m _check_parameter(_cast_as_tensor(emissions), \u001b[38;5;124m\"\u001b[39m\u001b[38;5;124memissions\u001b[39m\u001b[38;5;124m\"\u001b[39m, \n\u001b[0;32m     26\u001b[0m \tndim\u001b[38;5;241m=\u001b[39m\u001b[38;5;241m3\u001b[39m)\n\u001b[0;32m     27\u001b[0m \u001b[38;5;28;01mif\u001b[39;00m emissions \u001b[38;5;129;01mis\u001b[39;00m \u001b[38;5;28;01mNone\u001b[39;00m:\n\u001b[1;32m---> 28\u001b[0m \temissions \u001b[38;5;241m=\u001b[39m \u001b[43mmodel\u001b[49m\u001b[38;5;241;43m.\u001b[39;49m\u001b[43m_emission_matrix\u001b[49m\u001b[43m(\u001b[49m\u001b[43mX\u001b[49m\u001b[43m,\u001b[49m\u001b[43m \u001b[49m\u001b[43mpriors\u001b[49m\u001b[38;5;241;43m=\u001b[39;49m\u001b[43mpriors\u001b[49m\u001b[43m)\u001b[49m\n\u001b[0;32m     30\u001b[0m \u001b[38;5;28;01mreturn\u001b[39;00m emissions\n",
      "File \u001b[1;32mc:\\Users\\alfredo.sampron\\AppData\\Local\\miniconda3\\envs\\hmm\\Lib\\site-packages\\pomegranate\\hmm\\_base.py:287\u001b[0m, in \u001b[0;36m_BaseHMM._emission_matrix\u001b[1;34m(self, X, priors)\u001b[0m\n\u001b[0;32m    283\u001b[0m e \u001b[38;5;241m=\u001b[39m torch\u001b[38;5;241m.\u001b[39mempty((k, \u001b[38;5;28mself\u001b[39m\u001b[38;5;241m.\u001b[39mk, n), dtype\u001b[38;5;241m=\u001b[39m\u001b[38;5;28mself\u001b[39m\u001b[38;5;241m.\u001b[39mdtype, requires_grad\u001b[38;5;241m=\u001b[39m\u001b[38;5;28;01mFalse\u001b[39;00m, \n\u001b[0;32m    284\u001b[0m \tdevice\u001b[38;5;241m=\u001b[39m\u001b[38;5;28mself\u001b[39m\u001b[38;5;241m.\u001b[39mdevice)\n\u001b[0;32m    286\u001b[0m \u001b[38;5;28;01mfor\u001b[39;00m i, node \u001b[38;5;129;01min\u001b[39;00m \u001b[38;5;28menumerate\u001b[39m(\u001b[38;5;28mself\u001b[39m\u001b[38;5;241m.\u001b[39mdistributions):\n\u001b[1;32m--> 287\u001b[0m \tlogp \u001b[38;5;241m=\u001b[39m \u001b[43mnode\u001b[49m\u001b[38;5;241;43m.\u001b[39;49m\u001b[43mlog_probability\u001b[49m\u001b[43m(\u001b[49m\u001b[43mX\u001b[49m\u001b[43m)\u001b[49m\n\u001b[0;32m    288\u001b[0m \t\u001b[38;5;28;01mif\u001b[39;00m \u001b[38;5;28misinstance\u001b[39m(logp, torch\u001b[38;5;241m.\u001b[39mmasked\u001b[38;5;241m.\u001b[39mMaskedTensor):\n\u001b[0;32m    289\u001b[0m \t\tlogp \u001b[38;5;241m=\u001b[39m logp\u001b[38;5;241m.\u001b[39m_masked_data\n",
      "File \u001b[1;32mc:\\Users\\alfredo.sampron\\AppData\\Local\\miniconda3\\envs\\hmm\\Lib\\site-packages\\pomegranate\\distributions\\categorical.py:181\u001b[0m, in \u001b[0;36mCategorical.log_probability\u001b[1;34m(self, X)\u001b[0m\n\u001b[0;32m    155\u001b[0m \u001b[38;5;28;01mdef\u001b[39;00m \u001b[38;5;21mlog_probability\u001b[39m(\u001b[38;5;28mself\u001b[39m, X):\n\u001b[0;32m    156\u001b[0m \u001b[38;5;250m\t\u001b[39m\u001b[38;5;124;03m\"\"\"Calculate the log probability of each example.\u001b[39;00m\n\u001b[0;32m    157\u001b[0m \n\u001b[0;32m    158\u001b[0m \u001b[38;5;124;03m\tThis method calculates the log probability of each example given the\u001b[39;00m\n\u001b[1;32m   (...)\u001b[0m\n\u001b[0;32m    178\u001b[0m \u001b[38;5;124;03m\t\tThe log probability of each example.\u001b[39;00m\n\u001b[0;32m    179\u001b[0m \u001b[38;5;124;03m\t\"\"\"\u001b[39;00m\n\u001b[1;32m--> 181\u001b[0m \tX \u001b[38;5;241m=\u001b[39m \u001b[43m_check_parameter\u001b[49m\u001b[43m(\u001b[49m\u001b[43m_cast_as_tensor\u001b[49m\u001b[43m(\u001b[49m\u001b[43mX\u001b[49m\u001b[43m)\u001b[49m\u001b[43m,\u001b[49m\u001b[43m \u001b[49m\u001b[38;5;124;43m\"\u001b[39;49m\u001b[38;5;124;43mX\u001b[39;49m\u001b[38;5;124;43m\"\u001b[39;49m\u001b[43m,\u001b[49m\u001b[43m \u001b[49m\u001b[43mmin_value\u001b[49m\u001b[38;5;241;43m=\u001b[39;49m\u001b[38;5;241;43m0.0\u001b[39;49m\u001b[43m,\u001b[49m\n\u001b[0;32m    182\u001b[0m \u001b[43m\t\t\u001b[49m\u001b[43mmax_value\u001b[49m\u001b[38;5;241;43m=\u001b[39;49m\u001b[38;5;28;43mself\u001b[39;49m\u001b[38;5;241;43m.\u001b[39;49m\u001b[43mn_keys\u001b[49m\u001b[38;5;241;43m-\u001b[39;49m\u001b[38;5;241;43m1\u001b[39;49m\u001b[43m,\u001b[49m\u001b[43m \u001b[49m\u001b[43mndim\u001b[49m\u001b[38;5;241;43m=\u001b[39;49m\u001b[38;5;241;43m2\u001b[39;49m\u001b[43m,\u001b[49m\u001b[43m \u001b[49m\u001b[43mshape\u001b[49m\u001b[38;5;241;43m=\u001b[39;49m\u001b[43m(\u001b[49m\u001b[38;5;241;43m-\u001b[39;49m\u001b[38;5;241;43m1\u001b[39;49m\u001b[43m,\u001b[49m\u001b[43m \u001b[49m\u001b[38;5;28;43mself\u001b[39;49m\u001b[38;5;241;43m.\u001b[39;49m\u001b[43md\u001b[49m\u001b[43m)\u001b[49m\u001b[43m,\u001b[49m\n\u001b[0;32m    183\u001b[0m \u001b[43m\t\t\u001b[49m\u001b[43mcheck_parameter\u001b[49m\u001b[38;5;241;43m=\u001b[39;49m\u001b[38;5;28;43mself\u001b[39;49m\u001b[38;5;241;43m.\u001b[39;49m\u001b[43mcheck_data\u001b[49m\u001b[43m)\u001b[49m\n\u001b[0;32m    185\u001b[0m \tlogps \u001b[38;5;241m=\u001b[39m torch\u001b[38;5;241m.\u001b[39mzeros(X\u001b[38;5;241m.\u001b[39mshape[\u001b[38;5;241m0\u001b[39m], dtype\u001b[38;5;241m=\u001b[39m\u001b[38;5;28mself\u001b[39m\u001b[38;5;241m.\u001b[39mprobs\u001b[38;5;241m.\u001b[39mdtype)\n\u001b[0;32m    186\u001b[0m \t\u001b[38;5;28;01mfor\u001b[39;00m i \u001b[38;5;129;01min\u001b[39;00m \u001b[38;5;28mrange\u001b[39m(\u001b[38;5;28mself\u001b[39m\u001b[38;5;241m.\u001b[39md):\n",
      "File \u001b[1;32mc:\\Users\\alfredo.sampron\\AppData\\Local\\miniconda3\\envs\\hmm\\Lib\\site-packages\\pomegranate\\_utils.py:181\u001b[0m, in \u001b[0;36m_check_parameter\u001b[1;34m(parameter, name, min_value, max_value, value_sum, value_sum_dim, value_set, dtypes, ndim, shape, check_parameter, epsilon)\u001b[0m\n\u001b[0;32m    179\u001b[0m \u001b[38;5;28;01mif\u001b[39;00m \u001b[38;5;28misinstance\u001b[39m(parameter, vector):\n\u001b[0;32m    180\u001b[0m \t\u001b[38;5;28;01mif\u001b[39;00m (parameter \u001b[38;5;241m<\u001b[39m min_value)\u001b[38;5;241m.\u001b[39msum() \u001b[38;5;241m>\u001b[39m \u001b[38;5;241m0\u001b[39m:\n\u001b[1;32m--> 181\u001b[0m \t\t\u001b[38;5;28;01mraise\u001b[39;00m \u001b[38;5;167;01mValueError\u001b[39;00m(\u001b[38;5;124m\"\u001b[39m\u001b[38;5;124mParameter \u001b[39m\u001b[38;5;132;01m{}\u001b[39;00m\u001b[38;5;124m must have a minimum value above\u001b[39m\u001b[38;5;124m\"\u001b[39m\n\u001b[0;32m    182\u001b[0m \t\t\t\u001b[38;5;124m\"\u001b[39m\u001b[38;5;124m \u001b[39m\u001b[38;5;132;01m{}\u001b[39;00m\u001b[38;5;124m\"\u001b[39m\u001b[38;5;241m.\u001b[39mformat(name, min_value))\n\u001b[0;32m    183\u001b[0m \u001b[38;5;28;01melse\u001b[39;00m:\n\u001b[0;32m    184\u001b[0m \t\u001b[38;5;28;01mif\u001b[39;00m parameter \u001b[38;5;241m<\u001b[39m min_value:\n",
      "\u001b[1;31mValueError\u001b[0m: Parameter X must have a minimum value above 0.0"
     ]
    }
   ],
   "source": [
    "num_states=2\n",
    "\n",
    "n1 = Normal()\n",
    "model = DenseHMM()\n",
    "model.add_distributions([d1 for _ in range(num_states)])\n",
    "cols=[\"VALE3.SA_log_rets\"]\n",
    "X = np.array([[df[cols].values]])\n",
    "X.shape\n",
    "\n",
    "model.fit(X)"
   ]
  },
  {
   "cell_type": "code",
   "execution_count": 110,
   "metadata": {},
   "outputs": [],
   "source": [
    "num_states=2\n",
    "\n",
    "model = DenseHMM(distributions=[Normal(means=np.array([0.0 for state in range(num_states)]), \n",
    "                                       covs=np.full((num_states, num_states), (1/num_states)))])"
   ]
  },
  {
   "cell_type": "code",
   "execution_count": 120,
   "metadata": {},
   "outputs": [
    {
     "data": {
      "text/plain": [
       "(2578, 2)"
      ]
     },
     "execution_count": 120,
     "metadata": {},
     "output_type": "execute_result"
    }
   ],
   "source": [
    "df[[\"VALE3.SA_log_rets\",\"VALE3.SA_gk_vol\"]].values.shape"
   ]
  },
  {
   "cell_type": "code",
   "execution_count": 122,
   "metadata": {},
   "outputs": [
    {
     "ename": "ValueError",
     "evalue": "Parameter X must have shape (-1, -1, 2)",
     "output_type": "error",
     "traceback": [
      "\u001b[1;31m---------------------------------------------------------------------------\u001b[0m",
      "\u001b[1;31mValueError\u001b[0m                                Traceback (most recent call last)",
      "Cell \u001b[1;32mIn[122], line 4\u001b[0m\n\u001b[0;32m      1\u001b[0m sequence \u001b[38;5;241m=\u001b[39m \u001b[38;5;124m'\u001b[39m\u001b[38;5;124mCGACTACTGACTACTCGCCGACGCGACTGCCGTCTATACTGCGCATACGGC\u001b[39m\u001b[38;5;124m'\u001b[39m\n\u001b[0;32m      2\u001b[0m X \u001b[38;5;241m=\u001b[39m np\u001b[38;5;241m.\u001b[39marray([[[[\u001b[38;5;124m'\u001b[39m\u001b[38;5;124mA\u001b[39m\u001b[38;5;124m'\u001b[39m, \u001b[38;5;124m'\u001b[39m\u001b[38;5;124mC\u001b[39m\u001b[38;5;124m'\u001b[39m, \u001b[38;5;124m'\u001b[39m\u001b[38;5;124mG\u001b[39m\u001b[38;5;124m'\u001b[39m, \u001b[38;5;124m'\u001b[39m\u001b[38;5;124mT\u001b[39m\u001b[38;5;124m'\u001b[39m]\u001b[38;5;241m.\u001b[39mindex(char)] \u001b[38;5;28;01mfor\u001b[39;00m char \u001b[38;5;129;01min\u001b[39;00m sequence]])\n\u001b[1;32m----> 4\u001b[0m \u001b[43mmodel\u001b[49m\u001b[38;5;241;43m.\u001b[39;49m\u001b[43mfit\u001b[49m\u001b[43m(\u001b[49m\u001b[43mX\u001b[49m\u001b[43m)\u001b[49m\n",
      "File \u001b[1;32mc:\\Users\\alfredo.sampron\\AppData\\Local\\miniconda3\\envs\\hmm\\Lib\\site-packages\\pomegranate\\hmm\\_base.py:604\u001b[0m, in \u001b[0;36m_BaseHMM.fit\u001b[1;34m(self, X, sample_weight, priors)\u001b[0m\n\u001b[0;32m    601\u001b[0m \tw_ \u001b[38;5;241m=\u001b[39m \u001b[38;5;28;01mNone\u001b[39;00m \u001b[38;5;28;01mif\u001b[39;00m sample_weight \u001b[38;5;129;01mis\u001b[39;00m \u001b[38;5;28;01mNone\u001b[39;00m \u001b[38;5;28;01melse\u001b[39;00m sample_weight[j]\n\u001b[0;32m    602\u001b[0m \tp_ \u001b[38;5;241m=\u001b[39m \u001b[38;5;28;01mNone\u001b[39;00m \u001b[38;5;28;01mif\u001b[39;00m priors \u001b[38;5;129;01mis\u001b[39;00m \u001b[38;5;28;01mNone\u001b[39;00m \u001b[38;5;28;01melse\u001b[39;00m priors[j]\n\u001b[1;32m--> 604\u001b[0m \tlogp \u001b[38;5;241m+\u001b[39m\u001b[38;5;241m=\u001b[39m \u001b[38;5;28;43mself\u001b[39;49m\u001b[38;5;241;43m.\u001b[39;49m\u001b[43msummarize\u001b[49m\u001b[43m(\u001b[49m\u001b[43mX_\u001b[49m\u001b[43m,\u001b[49m\u001b[43m \u001b[49m\u001b[43msample_weight\u001b[49m\u001b[38;5;241;43m=\u001b[39;49m\u001b[43mw_\u001b[49m\u001b[43m,\u001b[49m\u001b[43m \u001b[49m\u001b[43mpriors\u001b[49m\u001b[38;5;241;43m=\u001b[39;49m\u001b[43mp_\u001b[49m\u001b[43m)\u001b[49m\u001b[38;5;241m.\u001b[39msum()\n\u001b[0;32m    606\u001b[0m \u001b[38;5;66;03m# Calculate and check improvement and optionally print it\u001b[39;00m\n\u001b[0;32m    607\u001b[0m \u001b[38;5;28;01mif\u001b[39;00m i \u001b[38;5;241m>\u001b[39m \u001b[38;5;241m0\u001b[39m:\n",
      "File \u001b[1;32mc:\\Users\\alfredo.sampron\\AppData\\Local\\miniconda3\\envs\\hmm\\Lib\\site-packages\\pomegranate\\hmm\\dense_hmm.py:543\u001b[0m, in \u001b[0;36mDenseHMM.summarize\u001b[1;34m(self, X, sample_weight, emissions, priors)\u001b[0m\n\u001b[0;32m    500\u001b[0m \u001b[38;5;28;01mdef\u001b[39;00m \u001b[38;5;21msummarize\u001b[39m(\u001b[38;5;28mself\u001b[39m, X, sample_weight\u001b[38;5;241m=\u001b[39m\u001b[38;5;28;01mNone\u001b[39;00m, emissions\u001b[38;5;241m=\u001b[39m\u001b[38;5;28;01mNone\u001b[39;00m, priors\u001b[38;5;241m=\u001b[39m\u001b[38;5;28;01mNone\u001b[39;00m):\n\u001b[0;32m    501\u001b[0m \u001b[38;5;250m\t\u001b[39m\u001b[38;5;124;03m\"\"\"Extract the sufficient statistics from a batch of data.\u001b[39;00m\n\u001b[0;32m    502\u001b[0m \n\u001b[0;32m    503\u001b[0m \u001b[38;5;124;03m\tThis method calculates the sufficient statistics from optionally\u001b[39;00m\n\u001b[1;32m   (...)\u001b[0m\n\u001b[0;32m    540\u001b[0m \u001b[38;5;124;03m\t\tby a component, not gives a target. Default is None.\u001b[39;00m\n\u001b[0;32m    541\u001b[0m \u001b[38;5;124;03m\t\"\"\"\u001b[39;00m\n\u001b[1;32m--> 543\u001b[0m \tX, emissions, sample_weight \u001b[38;5;241m=\u001b[39m \u001b[38;5;28;43msuper\u001b[39;49m\u001b[43m(\u001b[49m\u001b[43m)\u001b[49m\u001b[38;5;241;43m.\u001b[39;49m\u001b[43msummarize\u001b[49m\u001b[43m(\u001b[49m\u001b[43mX\u001b[49m\u001b[43m,\u001b[49m\u001b[43m \u001b[49m\n\u001b[0;32m    544\u001b[0m \u001b[43m\t\t\u001b[49m\u001b[43msample_weight\u001b[49m\u001b[38;5;241;43m=\u001b[39;49m\u001b[43msample_weight\u001b[49m\u001b[43m,\u001b[49m\u001b[43m \u001b[49m\u001b[43memissions\u001b[49m\u001b[38;5;241;43m=\u001b[39;49m\u001b[43memissions\u001b[49m\u001b[43m,\u001b[49m\u001b[43m \u001b[49m\u001b[43mpriors\u001b[49m\u001b[38;5;241;43m=\u001b[39;49m\u001b[43mpriors\u001b[49m\u001b[43m)\u001b[49m\n\u001b[0;32m    546\u001b[0m \tt, r, starts, ends, logps \u001b[38;5;241m=\u001b[39m \u001b[38;5;28mself\u001b[39m\u001b[38;5;241m.\u001b[39mforward_backward(emissions\u001b[38;5;241m=\u001b[39memissions)\n\u001b[0;32m    548\u001b[0m \t\u001b[38;5;28mself\u001b[39m\u001b[38;5;241m.\u001b[39m_xw_starts_sum \u001b[38;5;241m+\u001b[39m\u001b[38;5;241m=\u001b[39m torch\u001b[38;5;241m.\u001b[39msum(starts \u001b[38;5;241m*\u001b[39m sample_weight, dim\u001b[38;5;241m=\u001b[39m\u001b[38;5;241m0\u001b[39m)\n",
      "File \u001b[1;32mc:\\Users\\alfredo.sampron\\AppData\\Local\\miniconda3\\envs\\hmm\\Lib\\site-packages\\pomegranate\\hmm\\_base.py:679\u001b[0m, in \u001b[0;36m_BaseHMM.summarize\u001b[1;34m(self, X, sample_weight, emissions, priors)\u001b[0m\n\u001b[0;32m    640\u001b[0m \u001b[38;5;28;01mdef\u001b[39;00m \u001b[38;5;21msummarize\u001b[39m(\u001b[38;5;28mself\u001b[39m, X, sample_weight\u001b[38;5;241m=\u001b[39m\u001b[38;5;28;01mNone\u001b[39;00m, emissions\u001b[38;5;241m=\u001b[39m\u001b[38;5;28;01mNone\u001b[39;00m, \n\u001b[0;32m    641\u001b[0m \tpriors\u001b[38;5;241m=\u001b[39m\u001b[38;5;28;01mNone\u001b[39;00m):\n\u001b[0;32m    642\u001b[0m \u001b[38;5;250m\t\u001b[39m\u001b[38;5;124;03m\"\"\"Extract the sufficient statistics from a batch of data.\u001b[39;00m\n\u001b[0;32m    643\u001b[0m \n\u001b[0;32m    644\u001b[0m \u001b[38;5;124;03m\tThis method calculates the sufficient statistics from optionally\u001b[39;00m\n\u001b[1;32m   (...)\u001b[0m\n\u001b[0;32m    676\u001b[0m \u001b[38;5;124;03m\t\tThe log probability of each example.\u001b[39;00m\n\u001b[0;32m    677\u001b[0m \u001b[38;5;124;03m\t\"\"\"\u001b[39;00m\n\u001b[1;32m--> 679\u001b[0m \tX \u001b[38;5;241m=\u001b[39m \u001b[43m_check_parameter\u001b[49m\u001b[43m(\u001b[49m\u001b[43m_cast_as_tensor\u001b[49m\u001b[43m(\u001b[49m\u001b[43mX\u001b[49m\u001b[43m)\u001b[49m\u001b[43m,\u001b[49m\u001b[43m \u001b[49m\u001b[38;5;124;43m\"\u001b[39;49m\u001b[38;5;124;43mX\u001b[39;49m\u001b[38;5;124;43m\"\u001b[39;49m\u001b[43m,\u001b[49m\u001b[43m \u001b[49m\u001b[43mndim\u001b[49m\u001b[38;5;241;43m=\u001b[39;49m\u001b[38;5;241;43m3\u001b[39;49m\u001b[43m,\u001b[49m\u001b[43m \u001b[49m\n\u001b[0;32m    680\u001b[0m \u001b[43m\t\t\u001b[49m\u001b[43mshape\u001b[49m\u001b[38;5;241;43m=\u001b[39;49m\u001b[43m(\u001b[49m\u001b[38;5;241;43m-\u001b[39;49m\u001b[38;5;241;43m1\u001b[39;49m\u001b[43m,\u001b[49m\u001b[43m \u001b[49m\u001b[38;5;241;43m-\u001b[39;49m\u001b[38;5;241;43m1\u001b[39;49m\u001b[43m,\u001b[49m\u001b[43m \u001b[49m\u001b[38;5;28;43mself\u001b[39;49m\u001b[38;5;241;43m.\u001b[39;49m\u001b[43md\u001b[49m\u001b[43m)\u001b[49m\u001b[43m,\u001b[49m\u001b[43m \u001b[49m\u001b[43mcheck_parameter\u001b[49m\u001b[38;5;241;43m=\u001b[39;49m\u001b[38;5;28;43mself\u001b[39;49m\u001b[38;5;241;43m.\u001b[39;49m\u001b[43mcheck_data\u001b[49m\u001b[43m)\u001b[49m\n\u001b[0;32m    681\u001b[0m \temissions \u001b[38;5;241m=\u001b[39m _check_inputs(\u001b[38;5;28mself\u001b[39m, X, emissions, priors)\n\u001b[0;32m    683\u001b[0m \t\u001b[38;5;28;01mif\u001b[39;00m sample_weight \u001b[38;5;129;01mis\u001b[39;00m \u001b[38;5;28;01mNone\u001b[39;00m:\n",
      "File \u001b[1;32mc:\\Users\\alfredo.sampron\\AppData\\Local\\miniconda3\\envs\\hmm\\Lib\\site-packages\\pomegranate\\_utils.py:250\u001b[0m, in \u001b[0;36m_check_parameter\u001b[1;34m(parameter, name, min_value, max_value, value_sum, value_sum_dim, value_set, dtypes, ndim, shape, check_parameter, epsilon)\u001b[0m\n\u001b[0;32m    248\u001b[0m \t\t\u001b[38;5;28;01mfor\u001b[39;00m i \u001b[38;5;129;01min\u001b[39;00m \u001b[38;5;28mrange\u001b[39m(\u001b[38;5;28mlen\u001b[39m(shape)):\n\u001b[0;32m    249\u001b[0m \t\t\t\u001b[38;5;28;01mif\u001b[39;00m shape[i] \u001b[38;5;241m!=\u001b[39m \u001b[38;5;241m-\u001b[39m\u001b[38;5;241m1\u001b[39m \u001b[38;5;129;01mand\u001b[39;00m shape[i] \u001b[38;5;241m!=\u001b[39m parameter\u001b[38;5;241m.\u001b[39mshape[i]:\n\u001b[1;32m--> 250\u001b[0m \t\t\t\t\u001b[38;5;28;01mraise\u001b[39;00m \u001b[38;5;167;01mValueError\u001b[39;00m(\u001b[38;5;124m\"\u001b[39m\u001b[38;5;124mParameter \u001b[39m\u001b[38;5;132;01m{}\u001b[39;00m\u001b[38;5;124m must have shape \u001b[39m\u001b[38;5;132;01m{}\u001b[39;00m\u001b[38;5;124m\"\u001b[39m\u001b[38;5;241m.\u001b[39mformat(\n\u001b[0;32m    251\u001b[0m \t\t\t\t\tname, shape))\n\u001b[0;32m    253\u001b[0m \u001b[38;5;28;01mreturn\u001b[39;00m parameter\n",
      "\u001b[1;31mValueError\u001b[0m: Parameter X must have shape (-1, -1, 2)"
     ]
    }
   ],
   "source": [
    "sequence = 'CGACTACTGACTACTCGCCGACGCGACTGCCGTCTATACTGCGCATACGGC'\n",
    "X = np.array([[[['A', 'C', 'G', 'T'].index(char)] for char in sequence]])\n",
    "\n",
    "model.fit(X)"
   ]
  },
  {
   "cell_type": "code",
   "execution_count": null,
   "metadata": {},
   "outputs": [],
   "source": []
  },
  {
   "cell_type": "code",
   "execution_count": 45,
   "metadata": {},
   "outputs": [],
   "source": [
    "def select_optimal_states(data, max_states=10):\n",
    "  \"\"\"\n",
    "  Selects the optimal number of states for an HMM model using AIC.\n",
    "\n",
    "  Args:\n",
    "      data (list): List of observation sequences.\n",
    "      max_states (int, optional): Upper limit for the number of states to explore. Defaults to 10.\n",
    "\n",
    "  Returns:\n",
    "      tuple: (number_of_states, model) - The optimal number of states and the fitted model.\n",
    "  \"\"\"\n",
    "\n",
    "  best_aic = np.inf  # Initialize with positive infinity\n",
    "  best_bic = np.inf\n",
    "  best_model_aic = None\n",
    "  best_model_bic = None\n",
    "\n",
    "  for num_states in range(1, max_states + 1):\n",
    "    # Create initial distributions, transition matrix (random), and emission with Normal Distribution\n",
    "    initial_probs = Uniform(np.zeros(num_states), np.ones(num_states))\n",
    "    transition_matrix = np.random.rand(num_states, num_states)\n",
    "    transition_matrix = transition_matrix / transition_matrix.sum(axis=1, keepdims=True)\n",
    "    emission_probs = Normal()  # N(0,1)\n",
    "\n",
    "    # Create the HMM model\n",
    "    model = DenseHMM()\n",
    "\n",
    "    # Fit the model to data\n",
    "    model.fit(data)\n",
    "\n",
    "    # Calculate AIC (same as before)\n",
    "    aic = 2 * model.num_params() - 2 * model.log_likelihood(data)\n",
    "\n",
    "    # Calculate BIC (same logic as before, but emission_params now considers mean and standard deviation)\n",
    "    emission_params = 2 * len(data[0])  # Mean and standard deviation for each emission dimension\n",
    "\n",
    "    # Number of parameters for transition matrix (excluding last row)\n",
    "    transition_params = num_states * (num_states - 1)\n",
    "\n",
    "    # Total number of free parameters\n",
    "    k = model.num_states - 1 + emission_params + transition_params\n",
    "\n",
    "    # Print statements for debugging (can be removed)\n",
    "    print(\"num params\", model.num_params())\n",
    "    print(\"k\", k)\n",
    "\n",
    "    bic = k * np.log(len(data)) - 2 * model.log_likelihood(data)\n",
    "\n",
    "    # Update best model if lower IC is found\n",
    "    if aic < best_aic:\n",
    "      best_aic = aic\n",
    "      best_model_aic = model\n",
    "    if bic < best_bic:\n",
    "      best_bic = bic\n",
    "      best_model_bic = model\n",
    "\n",
    "  return best_aic, best_model_aic, best_bic, best_model_bic"
   ]
  },
  {
   "cell_type": "code",
   "execution_count": 46,
   "metadata": {},
   "outputs": [
    {
     "ename": "ValueError",
     "evalue": "Parameter X must have 2 dims",
     "output_type": "error",
     "traceback": [
      "\u001b[1;31m---------------------------------------------------------------------------\u001b[0m",
      "\u001b[1;31mValueError\u001b[0m                                Traceback (most recent call last)",
      "Cell \u001b[1;32mIn[46], line 3\u001b[0m\n\u001b[0;32m      1\u001b[0m \u001b[38;5;66;03m# Example usage\u001b[39;00m\n\u001b[0;32m      2\u001b[0m data \u001b[38;5;241m=\u001b[39m [[\u001b[38;5;241m0\u001b[39m, \u001b[38;5;241m1\u001b[39m, \u001b[38;5;241m0\u001b[39m, \u001b[38;5;241m1\u001b[39m], [\u001b[38;5;241m1\u001b[39m, \u001b[38;5;241m0\u001b[39m, \u001b[38;5;241m1\u001b[39m, \u001b[38;5;241m0\u001b[39m]]\n\u001b[1;32m----> 3\u001b[0m optimal_states, fitted_model \u001b[38;5;241m=\u001b[39m \u001b[43mselect_optimal_states\u001b[49m\u001b[43m(\u001b[49m\u001b[43mdata\u001b[49m\u001b[43m)\u001b[49m\n\u001b[0;32m      5\u001b[0m \u001b[38;5;28mprint\u001b[39m(\u001b[38;5;124mf\u001b[39m\u001b[38;5;124m\"\u001b[39m\u001b[38;5;124mOptimal number of states (AIC): \u001b[39m\u001b[38;5;132;01m{\u001b[39;00moptimal_states\u001b[38;5;132;01m}\u001b[39;00m\u001b[38;5;124m\"\u001b[39m)\n\u001b[0;32m      6\u001b[0m \u001b[38;5;28mprint\u001b[39m(\u001b[38;5;124m\"\u001b[39m\u001b[38;5;124mFitted model:\u001b[39m\u001b[38;5;124m\"\u001b[39m, fitted_model)\n",
      "Cell \u001b[1;32mIn[45], line 29\u001b[0m, in \u001b[0;36mselect_optimal_states\u001b[1;34m(data, max_states)\u001b[0m\n\u001b[0;32m     26\u001b[0m model \u001b[38;5;241m=\u001b[39m DenseHMM()\n\u001b[0;32m     28\u001b[0m \u001b[38;5;66;03m# Fit the model to data\u001b[39;00m\n\u001b[1;32m---> 29\u001b[0m \u001b[43mmodel\u001b[49m\u001b[38;5;241;43m.\u001b[39;49m\u001b[43mfit\u001b[49m\u001b[43m(\u001b[49m\u001b[43mdata\u001b[49m\u001b[43m)\u001b[49m\n\u001b[0;32m     31\u001b[0m \u001b[38;5;66;03m# Calculate AIC (same as before)\u001b[39;00m\n\u001b[0;32m     32\u001b[0m aic \u001b[38;5;241m=\u001b[39m \u001b[38;5;241m2\u001b[39m \u001b[38;5;241m*\u001b[39m model\u001b[38;5;241m.\u001b[39mnum_params() \u001b[38;5;241m-\u001b[39m \u001b[38;5;241m2\u001b[39m \u001b[38;5;241m*\u001b[39m model\u001b[38;5;241m.\u001b[39mlog_likelihood(data)\n",
      "File \u001b[1;32mc:\\Users\\alfredo.sampron\\AppData\\Local\\miniconda3\\envs\\hmm\\Lib\\site-packages\\pomegranate\\hmm\\_base.py:581\u001b[0m, in \u001b[0;36m_BaseHMM.fit\u001b[1;34m(self, X, sample_weight, priors)\u001b[0m\n\u001b[0;32m    519\u001b[0m \u001b[38;5;28;01mdef\u001b[39;00m \u001b[38;5;21mfit\u001b[39m(\u001b[38;5;28mself\u001b[39m, X, sample_weight\u001b[38;5;241m=\u001b[39m\u001b[38;5;28;01mNone\u001b[39;00m, priors\u001b[38;5;241m=\u001b[39m\u001b[38;5;28;01mNone\u001b[39;00m):\n\u001b[0;32m    520\u001b[0m \u001b[38;5;250m\t\u001b[39m\u001b[38;5;124;03m\"\"\"Fit the model to sequences with optional weights and priors.\u001b[39;00m\n\u001b[0;32m    521\u001b[0m \n\u001b[0;32m    522\u001b[0m \u001b[38;5;124;03m\tThis method implements the core of the learning process. For hidden\u001b[39;00m\n\u001b[1;32m   (...)\u001b[0m\n\u001b[0;32m    578\u001b[0m \u001b[38;5;124;03m\tself\u001b[39;00m\n\u001b[0;32m    579\u001b[0m \u001b[38;5;124;03m\t\"\"\"\u001b[39;00m\n\u001b[1;32m--> 581\u001b[0m \tX, sample_weight, priors \u001b[38;5;241m=\u001b[39m \u001b[43mpartition_sequences\u001b[49m\u001b[43m(\u001b[49m\u001b[43mX\u001b[49m\u001b[43m,\u001b[49m\u001b[43m \u001b[49m\n\u001b[0;32m    582\u001b[0m \u001b[43m\t\t\u001b[49m\u001b[43msample_weight\u001b[49m\u001b[38;5;241;43m=\u001b[39;49m\u001b[43msample_weight\u001b[49m\u001b[43m,\u001b[49m\u001b[43m \u001b[49m\u001b[43mpriors\u001b[49m\u001b[38;5;241;43m=\u001b[39;49m\u001b[43mpriors\u001b[49m\u001b[43m,\u001b[49m\u001b[43m \u001b[49m\u001b[43mn_dists\u001b[49m\u001b[38;5;241;43m=\u001b[39;49m\u001b[38;5;28;43mself\u001b[39;49m\u001b[38;5;241;43m.\u001b[39;49m\u001b[43mk\u001b[49m\u001b[43m)\u001b[49m\n\u001b[0;32m    584\u001b[0m \t\u001b[38;5;66;03m# Initialize by concatenating across sequences\u001b[39;00m\n\u001b[0;32m    585\u001b[0m \t\u001b[38;5;28;01mif\u001b[39;00m \u001b[38;5;129;01mnot\u001b[39;00m \u001b[38;5;28mself\u001b[39m\u001b[38;5;241m.\u001b[39m_initialized:\n",
      "File \u001b[1;32mc:\\Users\\alfredo.sampron\\AppData\\Local\\miniconda3\\envs\\hmm\\Lib\\site-packages\\pomegranate\\_utils.py:462\u001b[0m, in \u001b[0;36mpartition_sequences\u001b[1;34m(X, sample_weight, priors, n_dists)\u001b[0m\n\u001b[0;32m    459\u001b[0m priors_dict \u001b[38;5;241m=\u001b[39m collections\u001b[38;5;241m.\u001b[39mdefaultdict(\u001b[38;5;28mlist\u001b[39m)\n\u001b[0;32m    461\u001b[0m \u001b[38;5;28;01mfor\u001b[39;00m i, x \u001b[38;5;129;01min\u001b[39;00m \u001b[38;5;28menumerate\u001b[39m(X):\n\u001b[1;32m--> 462\u001b[0m \tx \u001b[38;5;241m=\u001b[39m \u001b[43m_check_parameter\u001b[49m\u001b[43m(\u001b[49m\u001b[43mx\u001b[49m\u001b[43m,\u001b[49m\u001b[43m \u001b[49m\u001b[38;5;124;43m\"\u001b[39;49m\u001b[38;5;124;43mX\u001b[39;49m\u001b[38;5;124;43m\"\u001b[39;49m\u001b[43m,\u001b[49m\u001b[43m \u001b[49m\u001b[43mndim\u001b[49m\u001b[38;5;241;43m=\u001b[39;49m\u001b[38;5;241;43m2\u001b[39;49m\u001b[43m)\u001b[49m\n\u001b[0;32m    463\u001b[0m \tn \u001b[38;5;241m=\u001b[39m \u001b[38;5;28mlen\u001b[39m(x)\n\u001b[0;32m    465\u001b[0m \tX_dict[n]\u001b[38;5;241m.\u001b[39mappend(x)\n",
      "File \u001b[1;32mc:\\Users\\alfredo.sampron\\AppData\\Local\\miniconda3\\envs\\hmm\\Lib\\site-packages\\pomegranate\\_utils.py:231\u001b[0m, in \u001b[0;36m_check_parameter\u001b[1;34m(parameter, name, min_value, max_value, value_sum, value_sum_dim, value_set, dtypes, ndim, shape, check_parameter, epsilon)\u001b[0m\n\u001b[0;32m    229\u001b[0m \u001b[38;5;28;01mif\u001b[39;00m \u001b[38;5;28misinstance\u001b[39m(ndim, \u001b[38;5;28mint\u001b[39m):\n\u001b[0;32m    230\u001b[0m \t\u001b[38;5;28;01mif\u001b[39;00m \u001b[38;5;28mlen\u001b[39m(parameter\u001b[38;5;241m.\u001b[39mshape) \u001b[38;5;241m!=\u001b[39m ndim:\n\u001b[1;32m--> 231\u001b[0m \t\t\u001b[38;5;28;01mraise\u001b[39;00m \u001b[38;5;167;01mValueError\u001b[39;00m(\u001b[38;5;124m\"\u001b[39m\u001b[38;5;124mParameter \u001b[39m\u001b[38;5;132;01m{}\u001b[39;00m\u001b[38;5;124m must have \u001b[39m\u001b[38;5;132;01m{}\u001b[39;00m\u001b[38;5;124m dims\u001b[39m\u001b[38;5;124m\"\u001b[39m\u001b[38;5;241m.\u001b[39mformat(\n\u001b[0;32m    232\u001b[0m \t\t\tname, ndim))\n\u001b[0;32m    233\u001b[0m \u001b[38;5;28;01melse\u001b[39;00m:\n\u001b[0;32m    234\u001b[0m \t\u001b[38;5;28;01mif\u001b[39;00m \u001b[38;5;28mlen\u001b[39m(parameter\u001b[38;5;241m.\u001b[39mshape) \u001b[38;5;129;01mnot\u001b[39;00m \u001b[38;5;129;01min\u001b[39;00m ndim:\n",
      "\u001b[1;31mValueError\u001b[0m: Parameter X must have 2 dims"
     ]
    }
   ],
   "source": [
    "# Example usage\n",
    "data = [[0, 1, 0, 1], [1, 0, 1, 0]]\n",
    "optimal_states, fitted_model = select_optimal_states(data)\n",
    "\n",
    "print(f\"Optimal number of states (AIC): {optimal_states}\")\n",
    "print(\"Fitted model:\", fitted_model)"
   ]
  },
  {
   "cell_type": "code",
   "execution_count": 26,
   "metadata": {},
   "outputs": [
    {
     "ename": "AttributeError",
     "evalue": "module 'pomegranate' has no attribute 'distributions'",
     "output_type": "error",
     "traceback": [
      "\u001b[1;31m---------------------------------------------------------------------------\u001b[0m",
      "\u001b[1;31mAttributeError\u001b[0m                            Traceback (most recent call last)",
      "Cell \u001b[1;32mIn[26], line 1\u001b[0m\n\u001b[1;32m----> 1\u001b[0m \u001b[43mpm\u001b[49m\u001b[38;5;241;43m.\u001b[39;49m\u001b[43mdistributions\u001b[49m\n",
      "\u001b[1;31mAttributeError\u001b[0m: module 'pomegranate' has no attribute 'distributions'"
     ]
    }
   ],
   "source": [
    "pm.distributions"
   ]
  },
  {
   "cell_type": "code",
   "execution_count": 10,
   "metadata": {},
   "outputs": [],
   "source": [
    "param_dict = {\n",
    "    \"covariance_type\": \"diag\",\n",
    "    \"n_iter\": 500,\n",
    "    \"random_state\": random_state,\n",
    "    # no voy a usar startprob_prior por devlog 20-06-23\n",
    "}"
   ]
  },
  {
   "cell_type": "code",
   "execution_count": 11,
   "metadata": {},
   "outputs": [],
   "source": [
    "def fit_hmm_model(\n",
    "    df: pd.DataFrame,\n",
    "    tickerlist: list,\n",
    "    range_states,\n",
    "    param_dict: dict,\n",
    "    contains_vol: bool,\n",
    "    contains_USD: bool,\n",
    "):\n",
    "\n",
    "    results_dict_df = {}\n",
    "\n",
    "    for stock in tickerlist:\n",
    "        results_dict_df[stock] = pd.DataFrame(\n",
    "            index=range_states, columns=[\"AIC\", \"BIC\"]\n",
    "        )\n",
    "        for nstate in range_states:\n",
    "            columns = generate_columns(stock, contains_vol, contains_USD)\n",
    "\n",
    "            insample_data = df[columns]\n",
    "\n",
    "            model = hmm.GaussianHMM(n_components=nstate, **param_dict, verbose=False)\n",
    "            results = model.fit(insample_data)\n",
    "\n",
    "            convergence = results.monitor_.converged\n",
    "            all_states_found = np.isclose(a=(model.transmat_.sum(axis=1)), b=1).all()\n",
    "            startprob_check = model.startprob_.sum() == 1\n",
    "            good_model = convergence and all_states_found and startprob_check\n",
    "\n",
    "            if good_model:\n",
    "                try:\n",
    "                    results_dict_df[stock].loc[nstate, \"AIC\"] = model.aic(insample_data)\n",
    "                    results_dict_df[stock].loc[nstate, \"BIC\"] = model.bic(insample_data)\n",
    "                except ValueError:\n",
    "                    pass\n",
    "\n",
    "            else:\n",
    "                print(\">\" * 10, f\"{stock} {nstate} did not converge\")\n",
    "                results_dict_df[stock].loc[nstate, \"AIC\"] = np.inf\n",
    "                results_dict_df[stock].loc[nstate, \"BIC\"] = np.inf\n",
    "\n",
    "    return results_dict_df"
   ]
  },
  {
   "cell_type": "code",
   "execution_count": 12,
   "metadata": {},
   "outputs": [
    {
     "name": "stdout",
     "output_type": "stream",
     "text": [
      ">>>>>>>>>> ^BVSP 12 did not converge\n",
      ">>>>>>>>>> ^BVSP 15 did not converge\n",
      ">>>>>>>>>> VALE3.SA 7 did not converge\n",
      ">>>>>>>>>> VALE3.SA 13 did not converge\n",
      ">>>>>>>>>> VALE3.SA 15 did not converge\n",
      ">>>>>>>>>> VALE 5 did not converge\n",
      ">>>>>>>>>> PETR3.SA 8 did not converge\n",
      ">>>>>>>>>> PETR3.SA 13 did not converge\n",
      ">>>>>>>>>> PBR 5 did not converge\n",
      ">>>>>>>>>> EMBR3.SA 11 did not converge\n",
      ">>>>>>>>>> ERJ 6 did not converge\n",
      ">>>>>>>>>> ABEV3.SA 5 did not converge\n",
      ">>>>>>>>>> ABEV3.SA 6 did not converge\n",
      ">>>>>>>>>> ABEV3.SA 8 did not converge\n",
      ">>>>>>>>>> ABEV3.SA 12 did not converge\n",
      ">>>>>>>>>> ABEV3.SA 14 did not converge\n",
      ">>>>>>>>>> ABEV3.SA 15 did not converge\n",
      ">>>>>>>>>> ABEV 5 did not converge\n",
      ">>>>>>>>>> ABEV 8 did not converge\n",
      ">>>>>>>>>> ABEV 10 did not converge\n",
      ">>>>>>>>>> ABEV 15 did not converge\n"
     ]
    }
   ],
   "source": [
    "results_dict_df_univ = fit_hmm_model(\n",
    "    df, tickerlist, range_states, param_dict, contains_vol=False, contains_USD=False\n",
    ")"
   ]
  },
  {
   "cell_type": "code",
   "execution_count": 13,
   "metadata": {},
   "outputs": [
    {
     "name": "stdout",
     "output_type": "stream",
     "text": [
      ">>>>>>>>>> ^BVSP 5 did not converge\n",
      ">>>>>>>>>> VALE3.SA 3 did not converge\n",
      ">>>>>>>>>> VALE3.SA 7 did not converge\n",
      ">>>>>>>>>> VALE 5 did not converge\n",
      ">>>>>>>>>> VALE 7 did not converge\n",
      ">>>>>>>>>> VALE 15 did not converge\n",
      ">>>>>>>>>> PBR 3 did not converge\n",
      ">>>>>>>>>> PBR 13 did not converge\n",
      ">>>>>>>>>> PBR 15 did not converge\n",
      ">>>>>>>>>> EMBR3.SA 8 did not converge\n",
      ">>>>>>>>>> ERJ 2 did not converge\n",
      ">>>>>>>>>> ERJ 6 did not converge\n",
      ">>>>>>>>>> ABEV3.SA 3 did not converge\n",
      ">>>>>>>>>> ABEV3.SA 14 did not converge\n",
      ">>>>>>>>>> ABEV 2 did not converge\n",
      ">>>>>>>>>> ABEV 5 did not converge\n",
      ">>>>>>>>>> ABEV 15 did not converge\n"
     ]
    }
   ],
   "source": [
    "results_dict_df_with_vol = fit_hmm_model(\n",
    "    df, tickerlist, range_states, param_dict, contains_vol=True, contains_USD=False\n",
    ")"
   ]
  },
  {
   "cell_type": "code",
   "execution_count": 14,
   "metadata": {},
   "outputs": [
    {
     "name": "stdout",
     "output_type": "stream",
     "text": [
      ">>>>>>>>>> ^BVSP 5 did not converge\n",
      ">>>>>>>>>> ^BVSP 14 did not converge\n",
      ">>>>>>>>>> VALE3.SA 2 did not converge\n",
      ">>>>>>>>>> VALE3.SA 5 did not converge\n",
      ">>>>>>>>>> VALE3.SA 6 did not converge\n",
      ">>>>>>>>>> VALE3.SA 7 did not converge\n",
      ">>>>>>>>>> VALE3.SA 13 did not converge\n",
      ">>>>>>>>>> VALE 12 did not converge\n",
      ">>>>>>>>>> VALE 14 did not converge\n",
      ">>>>>>>>>> VALE 15 did not converge\n",
      ">>>>>>>>>> PETR3.SA 5 did not converge\n",
      ">>>>>>>>>> PETR3.SA 6 did not converge\n",
      ">>>>>>>>>> PETR3.SA 14 did not converge\n",
      ">>>>>>>>>> PBR 5 did not converge\n",
      ">>>>>>>>>> PBR 14 did not converge\n",
      ">>>>>>>>>> PBR 15 did not converge\n",
      ">>>>>>>>>> EMBR3.SA 6 did not converge\n",
      ">>>>>>>>>> ERJ 3 did not converge\n",
      ">>>>>>>>>> ERJ 5 did not converge\n",
      ">>>>>>>>>> ABEV3.SA 5 did not converge\n",
      ">>>>>>>>>> ABEV3.SA 6 did not converge\n",
      ">>>>>>>>>> ABEV3.SA 7 did not converge\n",
      ">>>>>>>>>> ABEV3.SA 14 did not converge\n",
      ">>>>>>>>>> ABEV3.SA 15 did not converge\n",
      ">>>>>>>>>> ABEV 13 did not converge\n",
      ">>>>>>>>>> ABEV 14 did not converge\n"
     ]
    }
   ],
   "source": [
    "results_dict_df_multi = fit_hmm_model(\n",
    "    df, tickerlist, range_states, param_dict, contains_vol=True, contains_USD=True\n",
    ")"
   ]
  },
  {
   "cell_type": "code",
   "execution_count": 15,
   "metadata": {},
   "outputs": [],
   "source": [
    "def select_best_model(\n",
    "    df: pd.DataFrame,\n",
    "    results_dict: dict,\n",
    "    tickerlist: list,\n",
    "    param_dict: dict,\n",
    "    contains_vol: bool,\n",
    "    contains_USD: bool,\n",
    "):\n",
    "    \"\"\"\"\"\"\n",
    "    aic_best_model = {stock: None for stock in tickerlist}\n",
    "    bic_best_model = {stock: None for stock in tickerlist}\n",
    "\n",
    "    for stock in tickerlist:\n",
    "        columns = generate_columns(stock, contains_vol, contains_USD)\n",
    "        insample_data = df[columns]\n",
    "\n",
    "        best_aic_nstate = results_dict[stock][\"AIC\"].astype(float).idxmin()\n",
    "        best_bic_nstate = results_dict[stock][\"BIC\"].astype(float).idxmin()\n",
    "\n",
    "        print(\n",
    "            f\"For stock {stock}, best AIC: {best_aic_nstate} best BIC: {best_bic_nstate}\"\n",
    "        )\n",
    "\n",
    "        aic_best_model[stock] = hmm.GaussianHMM(\n",
    "            n_components=best_aic_nstate, **param_dict\n",
    "        ).fit(insample_data)\n",
    "\n",
    "        bic_best_model[stock] = hmm.GaussianHMM(\n",
    "            n_components=best_bic_nstate, **param_dict\n",
    "        ).fit(insample_data)\n",
    "\n",
    "    return aic_best_model, bic_best_model"
   ]
  },
  {
   "cell_type": "code",
   "execution_count": 16,
   "metadata": {},
   "outputs": [
    {
     "name": "stdout",
     "output_type": "stream",
     "text": [
      "For stock ^BVSP, best AIC: 6 best BIC: 2\n",
      "For stock VALE3.SA, best AIC: 5 best BIC: 2\n",
      "For stock VALE, best AIC: 4 best BIC: 2\n",
      "For stock PETR3.SA, best AIC: 4 best BIC: 4\n",
      "For stock PBR, best AIC: 4 best BIC: 3\n",
      "For stock EMBR3.SA, best AIC: 4 best BIC: 4\n",
      "For stock ERJ, best AIC: 4 best BIC: 4\n",
      "For stock ABEV3.SA, best AIC: 4 best BIC: 2\n",
      "For stock ABEV, best AIC: 4 best BIC: 2\n"
     ]
    }
   ],
   "source": [
    "aic_best_model_univ, bic_best_model_univ = select_best_model(\n",
    "    df=df,\n",
    "    results_dict=results_dict_df_univ,\n",
    "    tickerlist=tickerlist,\n",
    "    param_dict=param_dict,\n",
    "    contains_vol=False,\n",
    "    contains_USD=False,\n",
    ")"
   ]
  },
  {
   "cell_type": "code",
   "execution_count": 17,
   "metadata": {},
   "outputs": [
    {
     "name": "stdout",
     "output_type": "stream",
     "text": [
      "For stock ^BVSP, best AIC: 2 best BIC: 2\n",
      "For stock VALE3.SA, best AIC: 2 best BIC: 2\n",
      "For stock VALE, best AIC: 2 best BIC: 2\n",
      "For stock PETR3.SA, best AIC: 2 best BIC: 2\n",
      "For stock PBR, best AIC: 4 best BIC: 2\n",
      "For stock EMBR3.SA, best AIC: 3 best BIC: 2\n",
      "For stock ERJ, best AIC: 4 best BIC: 4\n",
      "For stock ABEV3.SA, best AIC: 2 best BIC: 2\n",
      "For stock ABEV, best AIC: 4 best BIC: 4\n"
     ]
    }
   ],
   "source": [
    "aic_best_model_with_vol, bic_best_model_with_vol = select_best_model(\n",
    "    df=df,\n",
    "    results_dict=results_dict_df_with_vol,\n",
    "    tickerlist=tickerlist,\n",
    "    param_dict=param_dict,\n",
    "    contains_vol=False,\n",
    "    contains_USD=False,\n",
    ")"
   ]
  },
  {
   "cell_type": "code",
   "execution_count": 18,
   "metadata": {},
   "outputs": [
    {
     "name": "stdout",
     "output_type": "stream",
     "text": [
      "For stock ^BVSP, best AIC: 2 best BIC: 2\n",
      "For stock VALE3.SA, best AIC: 3 best BIC: 3\n",
      "For stock VALE, best AIC: 2 best BIC: 2\n",
      "For stock PETR3.SA, best AIC: 2 best BIC: 2\n",
      "For stock PBR, best AIC: 2 best BIC: 2\n",
      "For stock EMBR3.SA, best AIC: 2 best BIC: 2\n",
      "For stock ERJ, best AIC: 2 best BIC: 2\n",
      "For stock ABEV3.SA, best AIC: 2 best BIC: 2\n",
      "For stock ABEV, best AIC: 2 best BIC: 2\n"
     ]
    }
   ],
   "source": [
    "aic_best_model_multi, bic_best_model_multi = select_best_model(\n",
    "    df=df,\n",
    "    results_dict=results_dict_df_multi,\n",
    "    tickerlist=tickerlist,\n",
    "    param_dict=param_dict,\n",
    "    contains_vol=False,\n",
    "    contains_USD=False,\n",
    ")"
   ]
  },
  {
   "cell_type": "markdown",
   "metadata": {},
   "source": [
    "# Generating out of sample data"
   ]
  },
  {
   "cell_type": "code",
   "execution_count": 19,
   "metadata": {},
   "outputs": [],
   "source": [
    "name = f'finaldf_test_{params[\"tablename\"]}.pickle'\n",
    "filename = os.path.join(dataroute, name)\n",
    "with open(filename, \"rb\") as handle:\n",
    "    df_test = pickle.load(handle)"
   ]
  },
  {
   "cell_type": "code",
   "execution_count": 20,
   "metadata": {},
   "outputs": [],
   "source": [
    "def return_residuals(actual: pd.DataFrame, forecasts: pd.DataFrame):\n",
    "    residuals = (actual - forecasts)\n",
    "    return residuals"
   ]
  },
  {
   "cell_type": "code",
   "execution_count": 21,
   "metadata": {},
   "outputs": [],
   "source": [
    "def generate_HMM_samples_residuals(model, insample_data, oos_data):\n",
    "    \"\"\"_summary_\n",
    "\n",
    "    Args:\n",
    "        model (_type_): _description_\n",
    "        insample_data (_type_): _description_\n",
    "        oos_data (_type_): _description_\n",
    "    \"\"\"\n",
    "    # pseudocodigo\n",
    "    # agarra el mejor modelo (esto con una cantidad optima de params ya esta)\n",
    "    # fittear t-j con t-j-252d\n",
    "    # Darle un año de datos hasta t-j para que me prediga la secuencia (probabilidad) de estados.\n",
    "    # Le pido que me prediga las probabilidades de cada estado durante el periodo t-j, t-j-252:\n",
    "    # esto me da una matriz de (252 x n estados)\n",
    "    # esto entiendo es https://hmmlearn.readthedocs.io/en/latest/api.html#hmmlearn.hmm.GaussianHMM.predict_proba\n",
    "    # Tomo la ultima fila de la matriz\n",
    "    # Multiplico esa por el vector de medias estimadas: este punto es mi forecast.\n",
    "    # esto es model.means_ (!)\n",
    "    nstate = model.n_components\n",
    "    columns = oos_data.columns\n",
    "\n",
    "    split_date = oos_data.index[0]\n",
    "    dates_to_forecast = len(oos_data.index)\n",
    "\n",
    "    probabilities = pd.DataFrame(columns=range(nstate), index=oos_data.index)\n",
    "    forecasts = pd.DataFrame(columns=oos_data.columns, index=oos_data.index)\n",
    "\n",
    "    full_data = pd.concat([insample_data, oos_data])\n",
    "    del insample_data\n",
    "\n",
    "    # vamos a implementar recursive window forecasting\n",
    "\n",
    "    index = full_data.index\n",
    "    end_loc = np.where(index >= split_date)[0].min()\n",
    "    # esto es un int del iloc\n",
    "    # preciso usar ints de iloc porque el timedelta se me va a romper con el fin de semana\n",
    "    rolling_window = 252\n",
    "\n",
    "    nstate = model.n_components\n",
    "    model = hmm.GaussianHMM(n_components=nstate, **param_dict, verbose=False)\n",
    "\n",
    "    model_list = []\n",
    "    counter = 0\n",
    "\n",
    "    for i in range(1, dates_to_forecast):\n",
    "        date_of_first_forecast = full_data.index[end_loc + i - 1]\n",
    "\n",
    "        fitstart = end_loc - rolling_window + i\n",
    "        fitend = end_loc + i\n",
    "\n",
    "        # fit model with last year\n",
    "        fit_data = full_data.iloc[fitstart:fitend][columns]\n",
    "        res = model.fit(fit_data)\n",
    "        model_list.append(res)\n",
    "\n",
    "        # obtenemos las probabilidades por estado del ultimo dia\n",
    "        # son las probabilidades que maximizan la log/likelihood de toda la secuencia\n",
    "        index = len(model_list)\n",
    "        while index > 0:\n",
    "            try:\n",
    "                add_count = False\n",
    "                last_day_state_probs = res.predict_proba(fit_data)[-1]\n",
    "                probabilities.loc[date_of_first_forecast] = last_day_state_probs\n",
    "                index = 0\n",
    "\n",
    "            except ValueError:\n",
    "                # this happens when startprob_ must sum to 1 (got nan)\n",
    "                # si el modelo falla en el predict_proba, se utiliza el de t-1\n",
    "                add_count = True\n",
    "                index = index - 1\n",
    "                res = model_list[index]\n",
    "\n",
    "                if not \"last_day_state_probs\" in locals():\n",
    "                    # this checks for failure of estimation in the first day\n",
    "                    last_day_state_probs = np.full(nstate, (1 / nstate))\n",
    "                    # inputs a flat prior if it has no previous day to fall back on\n",
    "\n",
    "        if add_count:\n",
    "            counter = counter + 1\n",
    "        # model.means_ es es la media condicional a cada estado\n",
    "        # cada columna representa cada columna del dataset\n",
    "        # cada fila es un estado\n",
    "        # el producto punto entre este y las probabilidades del ultimo día me da la media esperada por cada columna\n",
    "        expected_means = np.dot(last_day_state_probs, model.means_)\n",
    "        forecasts.loc[date_of_first_forecast] = expected_means\n",
    "\n",
    "    pct_nan = forecasts.iloc[:, 0].isna().sum() / len(forecasts.index) * 100\n",
    "\n",
    "    if pct_nan > 5:\n",
    "        warnings.warn(f\"{oos_data.columns[0]} % na: {pct_nan}\")\n",
    "\n",
    "    forecasts.fillna(method=\"ffill\", inplace=True)\n",
    "\n",
    "    residuals = return_residuals(oos_data, forecasts)\n",
    "\n",
    "    print(\"failed models: \", counter)\n",
    "    return probabilities, forecasts, residuals, counter"
   ]
  },
  {
   "cell_type": "code",
   "execution_count": 22,
   "metadata": {},
   "outputs": [],
   "source": [
    "def generate_and_save_samples(\n",
    "    best_model_dict: dict,\n",
    "    modeltype: str,\n",
    "    criterion: str,\n",
    "    insample_data: pd.DataFrame,\n",
    "    oos_data: pd.DataFrame,\n",
    "    tickerlist: list,\n",
    "    contains_vol: bool,\n",
    "    contains_USD: bool,\n",
    "):\n",
    "    probabilities = {stock: None for stock in tickerlist}\n",
    "    forecasts = {stock: None for stock in tickerlist}\n",
    "    residuals = {stock: None for stock in tickerlist}\n",
    "    failed = {stock: None for stock in tickerlist}\n",
    "\n",
    "    print(\">\" * 10, modeltype, criterion)\n",
    "\n",
    "    for stock in tickerlist:\n",
    "        print(stock)\n",
    "        columns = generate_columns(\n",
    "            stock=stock, contains_vol=contains_vol, contains_USD=contains_USD\n",
    "        )\n",
    "\n",
    "        proba, fcast, resid, fails = generate_HMM_samples_residuals(\n",
    "            best_model_dict[stock],\n",
    "            insample_data=insample_data[columns],\n",
    "            oos_data=oos_data[columns],\n",
    "        )\n",
    "\n",
    "        probabilities[stock] = proba\n",
    "        forecasts[stock] = fcast\n",
    "        residuals[stock] = resid\n",
    "        failed[stock] = fails\n",
    "\n",
    "    save_as_pickle(\n",
    "        data=forecasts,\n",
    "        resultsroute=params[\"resultsroute\"],\n",
    "        model_type=f\"HMM_{modeltype}\",\n",
    "        tablename=params[\"tablename\"],\n",
    "        criterion=criterion,\n",
    "        type_save=\"forecasts\",\n",
    "    )\n",
    "\n",
    "    save_as_pickle(\n",
    "        data=residuals,\n",
    "        resultsroute=params[\"resultsroute\"],\n",
    "        model_type=f\"HMM_{modeltype}\",\n",
    "        tablename=params[\"tablename\"],\n",
    "        criterion=criterion,\n",
    "        type_save=\"residuals\",\n",
    "    )\n",
    "\n",
    "    save_as_pickle(\n",
    "        data=failed,\n",
    "        resultsroute=params[\"resultsroute\"],\n",
    "        model_type=f\"HMM_{modeltype}\",\n",
    "        tablename=params[\"tablename\"],\n",
    "        criterion=criterion,\n",
    "        type_save=\"model_fails\",\n",
    "    )"
   ]
  },
  {
   "cell_type": "code",
   "execution_count": 23,
   "metadata": {},
   "outputs": [],
   "source": [
    "models_dict = {\n",
    "    \"aic\": {\n",
    "        \"univ\": (aic_best_model_univ, False, False),\n",
    "        \"with_vol\": (aic_best_model_with_vol, True, False),\n",
    "        \"multiv\": (aic_best_model_multi, True, True),\n",
    "    },\n",
    "    \"bic\": {\n",
    "        \"univ\": (bic_best_model_univ, False, False),\n",
    "        \"with_vol\": (bic_best_model_with_vol, True, False),\n",
    "        \"multiv\": (bic_best_model_multi, True, True),\n",
    "    },\n",
    "}"
   ]
  },
  {
   "cell_type": "code",
   "execution_count": 24,
   "metadata": {},
   "outputs": [
    {
     "name": "stdout",
     "output_type": "stream",
     "text": [
      ">>>>>>>>>> univ aic\n",
      "^BVSP\n",
      "failed models:  0\n",
      "VALE3.SA\n",
      "failed models:  0\n",
      "VALE\n",
      "failed models:  0\n",
      "PETR3.SA\n",
      "failed models:  0\n",
      "PBR\n",
      "failed models:  0\n",
      "EMBR3.SA\n",
      "failed models:  0\n",
      "ERJ\n",
      "failed models:  0\n",
      "ABEV3.SA\n",
      "failed models:  0\n",
      "ABEV\n",
      "failed models:  0\n",
      ">>>>>>>>>> with_vol aic\n",
      "^BVSP\n",
      "failed models:  0\n",
      "VALE3.SA\n",
      "failed models:  0\n",
      "VALE\n",
      "failed models:  0\n",
      "PETR3.SA\n",
      "failed models:  0\n",
      "PBR\n",
      "failed models:  0\n",
      "EMBR3.SA\n",
      "failed models:  0\n",
      "ERJ\n",
      "failed models:  0\n",
      "ABEV3.SA\n",
      "failed models:  0\n",
      "ABEV\n",
      "failed models:  0\n",
      ">>>>>>>>>> multiv aic\n",
      "^BVSP\n",
      "failed models:  0\n",
      "VALE3.SA\n",
      "failed models:  3\n",
      "VALE\n",
      "failed models:  0\n",
      "PETR3.SA\n",
      "failed models:  0\n",
      "PBR\n",
      "failed models:  0\n",
      "EMBR3.SA\n",
      "failed models:  0\n",
      "ERJ\n",
      "failed models:  0\n",
      "ABEV3.SA\n",
      "failed models:  0\n",
      "ABEV\n",
      "failed models:  0\n",
      ">>>>>>>>>> univ bic\n",
      "^BVSP\n",
      "failed models:  0\n",
      "VALE3.SA\n",
      "failed models:  0\n",
      "VALE\n",
      "failed models:  0\n",
      "PETR3.SA\n",
      "failed models:  0\n",
      "PBR\n",
      "failed models:  0\n",
      "EMBR3.SA\n",
      "failed models:  0\n",
      "ERJ\n",
      "failed models:  0\n",
      "ABEV3.SA\n",
      "failed models:  0\n",
      "ABEV\n",
      "failed models:  0\n",
      ">>>>>>>>>> with_vol bic\n",
      "^BVSP\n",
      "failed models:  0\n",
      "VALE3.SA\n",
      "failed models:  0\n",
      "VALE\n",
      "failed models:  0\n",
      "PETR3.SA\n",
      "failed models:  0\n",
      "PBR\n",
      "failed models:  0\n",
      "EMBR3.SA\n",
      "failed models:  0\n",
      "ERJ\n",
      "failed models:  0\n",
      "ABEV3.SA\n",
      "failed models:  0\n",
      "ABEV\n",
      "failed models:  0\n",
      ">>>>>>>>>> multiv bic\n",
      "^BVSP\n",
      "failed models:  0\n",
      "VALE3.SA\n",
      "failed models:  3\n",
      "VALE\n",
      "failed models:  0\n",
      "PETR3.SA\n",
      "failed models:  0\n",
      "PBR\n",
      "failed models:  0\n",
      "EMBR3.SA\n",
      "failed models:  0\n",
      "ERJ\n",
      "failed models:  0\n",
      "ABEV3.SA\n",
      "failed models:  0\n",
      "ABEV\n",
      "failed models:  0\n"
     ]
    }
   ],
   "source": [
    "for criterion, type_dict in models_dict.items():\n",
    "    for modeltype, tupla in type_dict.items():\n",
    "        best_dict, contains_vol, contains_USD = tupla\n",
    "        try:\n",
    "            generate_and_save_samples(\n",
    "                best_model_dict=best_dict,\n",
    "                modeltype=modeltype,\n",
    "                criterion=criterion,\n",
    "                insample_data=df,\n",
    "                oos_data=df_test,\n",
    "                tickerlist=params[\"tickerlist\"],\n",
    "                contains_vol=contains_vol,\n",
    "                contains_USD=contains_USD,\n",
    "            )\n",
    "        except UnboundLocalError:\n",
    "            print(f\"MODEL FALILURE: {criterion}, {modeltype}\")"
   ]
  },
  {
   "cell_type": "code",
   "execution_count": 25,
   "metadata": {},
   "outputs": [],
   "source": [
    "file=f\"\"\"HMM_multiv_{params[\"tablename\"]}_aic_best_residuals.pickle\"\"\"\n",
    "with open(os.path.join(resultsroute, file), \"rb\") as f:\n",
    "    opened_pickle=pickle.load(f)"
   ]
  },
  {
   "cell_type": "code",
   "execution_count": 26,
   "metadata": {},
   "outputs": [
    {
     "data": {
      "text/html": [
       "<div>\n",
       "<style scoped>\n",
       "    .dataframe tbody tr th:only-of-type {\n",
       "        vertical-align: middle;\n",
       "    }\n",
       "\n",
       "    .dataframe tbody tr th {\n",
       "        vertical-align: top;\n",
       "    }\n",
       "\n",
       "    .dataframe thead th {\n",
       "        text-align: right;\n",
       "    }\n",
       "</style>\n",
       "<table border=\"1\" class=\"dataframe\">\n",
       "  <thead>\n",
       "    <tr style=\"text-align: right;\">\n",
       "      <th></th>\n",
       "      <th>^BVSP_log_rets</th>\n",
       "      <th>^BVSP_gk_vol</th>\n",
       "      <th>USD_log_rets</th>\n",
       "      <th>USD_gk_vol</th>\n",
       "    </tr>\n",
       "  </thead>\n",
       "  <tbody>\n",
       "    <tr>\n",
       "      <th>2023-12-01</th>\n",
       "      <td>0.005412</td>\n",
       "      <td>-0.000107</td>\n",
       "      <td>-0.007433</td>\n",
       "      <td>-0.000024</td>\n",
       "    </tr>\n",
       "    <tr>\n",
       "      <th>2023-12-04</th>\n",
       "      <td>-0.010738</td>\n",
       "      <td>-0.000073</td>\n",
       "      <td>0.012951</td>\n",
       "      <td>0.000010</td>\n",
       "    </tr>\n",
       "    <tr>\n",
       "      <th>2023-12-05</th>\n",
       "      <td>0.000191</td>\n",
       "      <td>-0.000159</td>\n",
       "      <td>-0.002534</td>\n",
       "      <td>-0.000028</td>\n",
       "    </tr>\n",
       "    <tr>\n",
       "      <th>2023-12-06</th>\n",
       "      <td>-0.010660</td>\n",
       "      <td>-0.000033</td>\n",
       "      <td>-0.004736</td>\n",
       "      <td>-0.000008</td>\n",
       "    </tr>\n",
       "    <tr>\n",
       "      <th>2023-12-07</th>\n",
       "      <td>0.002553</td>\n",
       "      <td>-0.000152</td>\n",
       "      <td>0.000697</td>\n",
       "      <td>0.000005</td>\n",
       "    </tr>\n",
       "  </tbody>\n",
       "</table>\n",
       "</div>"
      ],
      "text/plain": [
       "            ^BVSP_log_rets  ^BVSP_gk_vol  USD_log_rets  USD_gk_vol\n",
       "2023-12-01        0.005412     -0.000107     -0.007433   -0.000024\n",
       "2023-12-04       -0.010738     -0.000073      0.012951    0.000010\n",
       "2023-12-05        0.000191     -0.000159     -0.002534   -0.000028\n",
       "2023-12-06       -0.010660     -0.000033     -0.004736   -0.000008\n",
       "2023-12-07        0.002553     -0.000152      0.000697    0.000005"
      ]
     },
     "execution_count": 26,
     "metadata": {},
     "output_type": "execute_result"
    }
   ],
   "source": [
    "opened_pickle[params[\"index\"]].tail()\n"
   ]
  },
  {
   "cell_type": "code",
   "execution_count": 7,
   "metadata": {},
   "outputs": [
    {
     "name": "stdout",
     "output_type": "stream",
     "text": [
      "{'HMM_multiv_BR_^BVSP_aic_best_model_fails.pickle': '..\\\\results\\\\BR_^BVSP\\\\HMM_multiv_BR_^BVSP_aic_best_model_fails.pickle', 'HMM_multiv_BR_^BVSP_bic_best_model_fails.pickle': '..\\\\results\\\\BR_^BVSP\\\\HMM_multiv_BR_^BVSP_bic_best_model_fails.pickle', 'HMM_univ_BR_^BVSP_aic_best_model_fails.pickle': '..\\\\results\\\\BR_^BVSP\\\\HMM_univ_BR_^BVSP_aic_best_model_fails.pickle', 'HMM_univ_BR_^BVSP_bic_best_model_fails.pickle': '..\\\\results\\\\BR_^BVSP\\\\HMM_univ_BR_^BVSP_bic_best_model_fails.pickle', 'HMM_with_vol_BR_^BVSP_aic_best_model_fails.pickle': '..\\\\results\\\\BR_^BVSP\\\\HMM_with_vol_BR_^BVSP_aic_best_model_fails.pickle', 'HMM_with_vol_BR_^BVSP_bic_best_model_fails.pickle': '..\\\\results\\\\BR_^BVSP\\\\HMM_with_vol_BR_^BVSP_bic_best_model_fails.pickle'}\n"
     ]
    }
   ],
   "source": [
    "fails_dict=get_all_results_matching(resultsroute, [\"fail\"])"
   ]
  },
  {
   "cell_type": "code",
   "execution_count": 13,
   "metadata": {},
   "outputs": [],
   "source": [
    "fails_df=pd.DataFrame()\n",
    "for name, dir in fails_dict.items():\n",
    "    dict_with_dfs = pd.read_pickle(dir)\n",
    "    colname = clean_modelname(name, substring_to_replace=\"model_fails\", tablename=params[\"tablename\"])\n",
    "    fails_df[colname]=dict_with_dfs\n",
    "    os.remove(dir)\n",
    "\n",
    "fails_df=fails_df/len(df_test.index)\n",
    "fails_df.to_csv(path_or_buf=os.path.join(params[\"resultsroute\"], f\"\"\"HMM_{params[\"tablename\"]}_fails.csv\"\"\"))"
   ]
  },
  {
   "cell_type": "markdown",
   "metadata": {},
   "source": [
    "# Graficando"
   ]
  },
  {
   "cell_type": "code",
   "execution_count": 27,
   "metadata": {},
   "outputs": [],
   "source": [
    "def plot_close_rets_vol(model, data, key, IC):\n",
    "    prediction = model.predict(data)\n",
    "    states = set(prediction)\n",
    "\n",
    "    fig = plt.figure(figsize=(20, 20))\n",
    "    plt.tight_layout()\n",
    "    plt.title(\n",
    "        f\"{key} Log returns and intraday Vol\\n{model.n_components} states / best by {IC}\"\n",
    "    )\n",
    "\n",
    "    for subplot, var in zip(range(1, 3), data.columns):\n",
    "        plt.subplot(2, 1, subplot)\n",
    "        for i in set(prediction):\n",
    "            state = prediction == i\n",
    "            x = data.index[state]\n",
    "            y = data[var].iloc[state]\n",
    "            plt.plot(x, y, \".\")\n",
    "        plt.legend(states, fontsize=16)\n",
    "\n",
    "        plt.grid(True)\n",
    "        plt.xlabel(\"datetime\", fontsize=16)\n",
    "        plt.ylabel(var, fontsize=16)\n",
    "\n",
    "    plt.savefig(os.path.join(resultsroute, \"graphs\", f\"HMM\", f\"{key}_model_{IC}.png\"))"
   ]
  },
  {
   "cell_type": "code",
   "execution_count": 28,
   "metadata": {
    "scrolled": true
   },
   "outputs": [],
   "source": [
    "# for dictionary, IC in zip([aic_best_model, bic_best_model], [\"AIC\", \"BIC\"]):\n",
    "#    for key, model in dictionary.items():\n",
    "#        columns = [f\"{stock}_log_rets\", f\"{stock}_gk_vol\"]\n",
    "#        insample_data = df[columns]\n",
    "#        oos_data = df_test[columns]\n",
    "#        train_end = insample_data.index.max()\n",
    "#        data = pd.concat([insample_data, oos_data])\n",
    "#\n",
    "#        plot_close_rets_vol(model, data, key, IC)"
   ]
  }
 ],
 "metadata": {
  "@webio": {
   "lastCommId": null,
   "lastKernelId": null
  },
  "kernelspec": {
   "display_name": "Python 3 (ipykernel)",
   "language": "python",
   "name": "python3"
  },
  "language_info": {
   "codemirror_mode": {
    "name": "ipython",
    "version": 3
   },
   "file_extension": ".py",
   "mimetype": "text/x-python",
   "name": "python",
   "nbconvert_exporter": "python",
   "pygments_lexer": "ipython3",
   "version": "3.11.5"
  }
 },
 "nbformat": 4,
 "nbformat_minor": 2
}
