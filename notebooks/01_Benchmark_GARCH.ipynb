{
 "cells": [
  {
   "cell_type": "markdown",
   "metadata": {},
   "source": [
    "## Startup"
   ]
  },
  {
   "cell_type": "code",
   "execution_count": 2,
   "metadata": {},
   "outputs": [],
   "source": [
    "import numpy as np\n",
    "import pandas as pd\n",
    "import matplotlib.pyplot as plt\n",
    "\n",
    "import arch\n",
    "\n",
    "import os\n",
    "import pickle"
   ]
  },
  {
   "cell_type": "code",
   "execution_count": 3,
   "metadata": {},
   "outputs": [],
   "source": [
    "np.random.seed(42)"
   ]
  },
  {
   "cell_type": "code",
   "execution_count": 7,
   "metadata": {},
   "outputs": [],
   "source": [
    "from scripts.params import get_params\n",
    "\n",
    "params = get_params()"
   ]
  },
  {
   "cell_type": "code",
   "execution_count": 4,
   "metadata": {},
   "outputs": [],
   "source": [
    "dataroute=os.path.join(\"..\",  \"data\")\n",
    "processedroute=os.path.join(\"...\", \"processed\")\n",
    "resultsroute=os.path.join(\"..\",  \"results\")"
   ]
  },
  {
   "cell_type": "markdown",
   "metadata": {},
   "source": [
    "## Data Retrieval"
   ]
  },
  {
   "cell_type": "code",
   "execution_count": 8,
   "metadata": {},
   "outputs": [],
   "source": [
    "name=f'processed_train_{params[\"tablename\"]}.pickle'\n",
    "filename=os.path.join(dataroute, name)\n",
    "\n",
    "with open(filename, 'rb') as handle:\n",
    "    data=pickle.load(handle)"
   ]
  },
  {
   "cell_type": "markdown",
   "metadata": {},
   "source": [
    "## GARCH Training"
   ]
  },
  {
   "cell_type": "code",
   "execution_count": 9,
   "metadata": {},
   "outputs": [],
   "source": [
    "# Define the range of p and q values\n",
    "p_values = [1, 2, 3]  # Example: p values\n",
    "q_values = [0, 1, 2, 3]  # Example: q values\n",
    "# all models with q=0 are exclusively ARCH (non-GARCH)"
   ]
  },
  {
   "cell_type": "code",
   "execution_count": 10,
   "metadata": {},
   "outputs": [],
   "source": [
    "models = {}\n",
    "predict = {}"
   ]
  },
  {
   "cell_type": "code",
   "execution_count": 11,
   "metadata": {},
   "outputs": [],
   "source": [
    "for key, ohlc_df in data.items():\n",
    "    if ohlc_df[\"log_rets\"].isna().any():\n",
    "        print(key)\n",
    "        #display(ohlc_df.loc[ohlc_df[\"log_rets\"].isna()])"
   ]
  },
  {
   "cell_type": "code",
   "execution_count": 12,
   "metadata": {},
   "outputs": [],
   "source": [
    "best_aic={}\n",
    "best_bic={}"
   ]
  },
  {
   "cell_type": "code",
   "execution_count": 13,
   "metadata": {},
   "outputs": [],
   "source": [
    "def check_best_aic(key, model, previous_best:float):\n",
    "    \"\"\"\n",
    "    AIC is better when lower.\n",
    "    \"\"\"\n",
    "    if model==None:\n",
    "        pass\n",
    "    else:\n",
    "        if model.aic<previous_best:\n",
    "            best_aic[key]=(model, model.aic)"
   ]
  },
  {
   "cell_type": "code",
   "execution_count": 14,
   "metadata": {},
   "outputs": [],
   "source": [
    "def check_best_bic(key, model, previous_best:float):\n",
    "    \"\"\"\n",
    "    BIC is better when lower.\n",
    "    \"\"\"\n",
    "    if model==None:\n",
    "        pass\n",
    "    else:\n",
    "        if model.aic<previous_best:\n",
    "            best_bic[key]=(model, model.bic)"
   ]
  },
  {
   "cell_type": "code",
   "execution_count": 15,
   "metadata": {},
   "outputs": [
    {
     "name": "stdout",
     "output_type": "stream",
     "text": [
      "\n",
      "ok: 291\n",
      "nonconverged: 21\n"
     ]
    }
   ],
   "source": [
    "# Estimate ARMA-ARCH and ARMA-GARCH models for different p and q values\n",
    "nonconverged_models=0\n",
    "ok_models=0\n",
    "\n",
    "for key, ohlc_df in data.items():\n",
    "    returns = ohlc_df['log_rets']\n",
    "    \n",
    "    models[key] = {}\n",
    "    predict[key] = {}\n",
    "\n",
    "    best_aic[key]=(None, np.inf)\n",
    "    best_bic[key]=(None, np.inf)\n",
    "\n",
    "    for p in p_values:\n",
    "        for q in q_values:\n",
    "            for dist in ['Normal', 'StudentsT']:\n",
    "                model = arch.arch_model(returns, \n",
    "                                        mean=\"AR\",\n",
    "                                        lags=1,\n",
    "                                        vol='Garch', \n",
    "                                        p=p, q=q, dist=dist, \n",
    "                                        rescale=False)\n",
    "                results = model.fit(options={\"maxiter\":2000}, \n",
    "                                        disp=\"off\", \n",
    "                                        show_warning=False)\n",
    "\n",
    "                if results.convergence_flag!=0:\n",
    "                    # 0 is converged successfully\n",
    "                    # see https://docs.scipy.org/doc/scipy/reference/generated/scipy.optimize.fmin_slsqp.html\n",
    "                    results=None                \n",
    "                    nonconverged_models+=1\n",
    "                else:\n",
    "                    ok_models+=1\n",
    "                \n",
    "                check_best_aic(key=key, model=results, previous_best=best_aic[key][1])\n",
    "                check_best_bic(key=key, model=results, previous_best=best_bic[key][1])\n",
    "\n",
    "                models[key][(p, q, dist)] = results\n",
    "\n",
    "print()\n",
    "print(f\"ok: {ok_models}\")\n",
    "print(f\"nonconverged: {nonconverged_models}\")"
   ]
  },
  {
   "cell_type": "markdown",
   "metadata": {},
   "source": [
    "# Residuals"
   ]
  },
  {
   "cell_type": "code",
   "execution_count": 17,
   "metadata": {},
   "outputs": [],
   "source": [
    "aic_residuals={}\n",
    "bic_residuals={}\n",
    "\n",
    "for key in best_aic.keys():\n",
    "    aic_residuals[key]=best_aic[key][0].resid\n",
    "    bic_residuals[key]=best_bic[key][0].resid"
   ]
  },
  {
   "cell_type": "markdown",
   "metadata": {},
   "source": [
    "# Saving best models and residuals"
   ]
  },
  {
   "cell_type": "code",
   "execution_count": 18,
   "metadata": {},
   "outputs": [],
   "source": [
    "with open(os.path.join(resultsroute, f\"\"\"GARCH_{params[\"tablename\"]}_aic_bestmodels.pickle\"\"\"), \"wb\") as output_file:\n",
    "    pickle.dump(best_aic, output_file)\n",
    "\n",
    "with open(os.path.join(resultsroute, f\"\"\"GARCH_{params[\"tablename\"]}_bic_bestmodels.pickle\"\"\"), \"wb\") as output_file:\n",
    "    pickle.dump(best_bic, output_file)"
   ]
  },
  {
   "cell_type": "markdown",
   "metadata": {},
   "source": [
    "Los modelos sirven los residuos NO!\n",
    "https://github.com/alfsn/regime-switching-hmm/issues/27"
   ]
  },
  {
   "cell_type": "code",
   "execution_count": 19,
   "metadata": {},
   "outputs": [],
   "source": [
    "with open(os.path.join(resultsroute, f\"\"\"GARCH_{params[\"tablename\"]}_aic_residuals.pickle\"\"\"), \"wb\") as output_file:\n",
    "    pickle.dump(aic_residuals, output_file)\n",
    "\n",
    "with open(os.path.join(resultsroute, f\"\"\"GARCH_{params[\"tablename\"]}_bic_residuals.pickle\"\"\"), \"wb\") as output_file:\n",
    "    pickle.dump(bic_residuals, output_file)"
   ]
  },
  {
   "cell_type": "markdown",
   "metadata": {},
   "source": [
    "# Model prediction\n",
    "# NB this is currently unused and will only be used in the OOS part \n",
    "\n",
    "Function documentation: https://arch.readthedocs.io/en/latest/univariate/generated/generated/arch.univariate.base.ARCHModelResult.forecast.html#arch.univariate.base.ARCHModelResult.forecast"
   ]
  },
  {
   "cell_type": "code",
   "execution_count": 20,
   "metadata": {},
   "outputs": [],
   "source": [
    "for key, ohlc_df in data.items():\n",
    "    for p in p_values:\n",
    "        for q in q_values:\n",
    "            for dist in ['Normal', 'StudentsT']:\n",
    "                # Predictions on the training data\n",
    "                pred = results.forecast()\n",
    "                predict[key][(p, q, dist)] = predict"
   ]
  },
  {
   "cell_type": "markdown",
   "metadata": {},
   "source": [
    "# Plotting\n",
    "## TODO: Esto aun está feo: tengo que armar que esto devuelva el plotteo de returns y los predicts uno encima del otro"
   ]
  },
  {
   "cell_type": "code",
   "execution_count": 24,
   "metadata": {},
   "outputs": [],
   "source": [
    "def plot_close_rets(data, model, key, name):\n",
    "    fig=plt.figure(figsize = (20, 20))\n",
    "    plt.tight_layout()\n",
    "    plt.title(f\"{key} Log returns\")\n",
    "    \n",
    "    plt.subplot(1, 1, 1)\n",
    "\n",
    "    x = data[key][\"log_rets\"]\n",
    "    y = data[key].index\n",
    "    \n",
    "    plt.plot(x, y, '.', c=\"red\")\n",
    "    #plt.plot(x, model.predict(x), '.', c=\"blue\")        \n",
    "        \n",
    "    plt.grid(True)\n",
    "    plt.xlabel(\"datetime\", fontsize=16)\n",
    "    plt.ylabel(\"log rets\", fontsize=16)\n",
    "            \n",
    "    plt.savefig(os.path.join(resultsroute, \"graphs\", \n",
    "                             f\"GARCH\", \n",
    "                             f\"{key}_model_{name}.png\"))"
   ]
  },
  {
   "cell_type": "code",
   "execution_count": 26,
   "metadata": {},
   "outputs": [
    {
     "name": "stdout",
     "output_type": "stream",
     "text": [
      "^MERV\n"
     ]
    },
    {
     "ename": "NameError",
     "evalue": "name 'comp' is not defined",
     "output_type": "error",
     "traceback": [
      "\u001b[1;31m---------------------------------------------------------------------------\u001b[0m",
      "\u001b[1;31mNameError\u001b[0m                                 Traceback (most recent call last)",
      "\u001b[1;32mc:\\Users\\alfredo.sampron\\Documents\\GitHub\\regime-switching-hmm\\notebooks\\01_Benchmark_GARCH.ipynb Cell 26\u001b[0m line \u001b[0;36m3\n\u001b[0;32m      <a href='vscode-notebook-cell:/c%3A/Users/alfredo.sampron/Documents/GitHub/regime-switching-hmm/notebooks/01_Benchmark_GARCH.ipynb#Y105sZmlsZQ%3D%3D?line=0'>1</a>\u001b[0m \u001b[39mfor\u001b[39;00m key \u001b[39min\u001b[39;00m data\u001b[39m.\u001b[39mkeys():\n\u001b[0;32m      <a href='vscode-notebook-cell:/c%3A/Users/alfredo.sampron/Documents/GitHub/regime-switching-hmm/notebooks/01_Benchmark_GARCH.ipynb#Y105sZmlsZQ%3D%3D?line=1'>2</a>\u001b[0m     \u001b[39mprint\u001b[39m(key)\n\u001b[1;32m----> <a href='vscode-notebook-cell:/c%3A/Users/alfredo.sampron/Documents/GitHub/regime-switching-hmm/notebooks/01_Benchmark_GARCH.ipynb#Y105sZmlsZQ%3D%3D?line=2'>3</a>\u001b[0m     plot_close_rets(data, key, comp)\n\u001b[0;32m      <a href='vscode-notebook-cell:/c%3A/Users/alfredo.sampron/Documents/GitHub/regime-switching-hmm/notebooks/01_Benchmark_GARCH.ipynb#Y105sZmlsZQ%3D%3D?line=3'>4</a>\u001b[0m plt\u001b[39m.\u001b[39mshow()\n",
      "\u001b[1;31mNameError\u001b[0m: name 'comp' is not defined"
     ]
    }
   ],
   "source": [
    "for key in data.keys():\n",
    "    print(key)\n",
    "    plot_close_rets(data, key)\n",
    "plt.show()"
   ]
  },
  {
   "cell_type": "code",
   "execution_count": null,
   "metadata": {},
   "outputs": [],
   "source": []
  }
 ],
 "metadata": {
  "@webio": {
   "lastCommId": null,
   "lastKernelId": null
  },
  "kernelspec": {
   "display_name": "Python 3 (ipykernel)",
   "language": "python",
   "name": "python3"
  },
  "language_info": {
   "codemirror_mode": {
    "name": "ipython",
    "version": 3
   },
   "file_extension": ".py",
   "mimetype": "text/x-python",
   "name": "python",
   "nbconvert_exporter": "python",
   "pygments_lexer": "ipython3",
   "version": "3.11.5"
  }
 },
 "nbformat": 4,
 "nbformat_minor": 2
}
