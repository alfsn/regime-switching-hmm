{
 "cells": [
  {
   "cell_type": "markdown",
   "metadata": {},
   "source": [
    "## Startup"
   ]
  },
  {
   "cell_type": "code",
   "execution_count": 2,
   "metadata": {},
   "outputs": [],
   "source": [
    "import numpy as np\n",
    "import pandas as pd\n",
    "import matplotlib.pyplot as plt\n",
    "\n",
    "from statsmodels.tsa.api import VAR\n",
    "from statsmodels.tools.eval_measures import aic, bic\n",
    "\n",
    "import os\n",
    "import pickle"
   ]
  },
  {
   "cell_type": "code",
   "execution_count": 3,
   "metadata": {},
   "outputs": [],
   "source": [
    "import warnings\n",
    "warnings.filterwarnings(\"ignore\")"
   ]
  },
  {
   "cell_type": "code",
   "execution_count": 4,
   "metadata": {},
   "outputs": [],
   "source": [
    "np.random.seed(42)"
   ]
  },
  {
   "cell_type": "code",
   "execution_count": 5,
   "metadata": {},
   "outputs": [],
   "source": [
    "dataroute=os.path.join(\"..\",  \"data\")\n",
    "dumproute=os.path.join(\"..\",  \"dump\")\n",
    "resultsroute=os.path.join(\"..\",  \"results\")"
   ]
  },
  {
   "cell_type": "code",
   "execution_count": 6,
   "metadata": {},
   "outputs": [],
   "source": [
    "from scripts.params import get_params\n",
    "\n",
    "params = get_params()"
   ]
  },
  {
   "cell_type": "markdown",
   "metadata": {},
   "source": [
    "## Data Retrieval"
   ]
  },
  {
   "cell_type": "code",
   "execution_count": 7,
   "metadata": {},
   "outputs": [],
   "source": [
    "name=f\"\"\"processed_train_{params[\"tablename\"]}.pickle\"\"\"\n",
    "filename=os.path.join(dataroute, name)\n",
    "with open(filename, 'rb') as handle:\n",
    "    data=pickle.load(handle)\n",
    "    \n",
    "name=f\"\"\"finaldf_train_{params[\"tablename\"]}.pickle\"\"\"\n",
    "filename=os.path.join(dataroute, name)\n",
    "with open(filename, 'rb') as handle:\n",
    "    df=pickle.load(handle)"
   ]
  },
  {
   "cell_type": "code",
   "execution_count": 8,
   "metadata": {},
   "outputs": [],
   "source": [
    "tickerlist=params[\"tickerlist\"]"
   ]
  },
  {
   "cell_type": "code",
   "execution_count": 9,
   "metadata": {},
   "outputs": [
    {
     "data": {
      "text/html": [
       "<div>\n",
       "<style scoped>\n",
       "    .dataframe tbody tr th:only-of-type {\n",
       "        vertical-align: middle;\n",
       "    }\n",
       "\n",
       "    .dataframe tbody tr th {\n",
       "        vertical-align: top;\n",
       "    }\n",
       "\n",
       "    .dataframe thead th {\n",
       "        text-align: right;\n",
       "    }\n",
       "</style>\n",
       "<table border=\"1\" class=\"dataframe\">\n",
       "  <thead>\n",
       "    <tr style=\"text-align: right;\">\n",
       "      <th></th>\n",
       "      <th>^MERV_rets</th>\n",
       "      <th>^MERV_log_rets</th>\n",
       "      <th>^MERV_gk_vol</th>\n",
       "      <th>GGAL.BA_rets</th>\n",
       "      <th>GGAL.BA_log_rets</th>\n",
       "      <th>GGAL.BA_gk_vol</th>\n",
       "      <th>GGAL_rets</th>\n",
       "      <th>GGAL_log_rets</th>\n",
       "      <th>GGAL_gk_vol</th>\n",
       "      <th>YPFD.BA_rets</th>\n",
       "      <th>...</th>\n",
       "      <th>BBAR.BA_gk_vol</th>\n",
       "      <th>BBAR_rets</th>\n",
       "      <th>BBAR_log_rets</th>\n",
       "      <th>BBAR_gk_vol</th>\n",
       "      <th>USD_rets</th>\n",
       "      <th>USD_log_rets</th>\n",
       "      <th>USD_gk_vol</th>\n",
       "      <th>USD_^MERV_rets</th>\n",
       "      <th>USD_^MERV_log_rets</th>\n",
       "      <th>USD_^MERV_gk_vol</th>\n",
       "    </tr>\n",
       "  </thead>\n",
       "  <tbody>\n",
       "    <tr>\n",
       "      <th>2013-01-03</th>\n",
       "      <td>0.007552</td>\n",
       "      <td>0.007524</td>\n",
       "      <td>0.000129</td>\n",
       "      <td>0.010616</td>\n",
       "      <td>0.010560</td>\n",
       "      <td>0.000677</td>\n",
       "      <td>-0.012748</td>\n",
       "      <td>-0.012830</td>\n",
       "      <td>0.001228</td>\n",
       "      <td>-0.006862</td>\n",
       "      <td>...</td>\n",
       "      <td>0.000169</td>\n",
       "      <td>-0.005725</td>\n",
       "      <td>-0.005742</td>\n",
       "      <td>0.000960</td>\n",
       "      <td>0.008830</td>\n",
       "      <td>0.008792</td>\n",
       "      <td>0.000014</td>\n",
       "      <td>0.001247</td>\n",
       "      <td>0.001246</td>\n",
       "      <td>0.000129</td>\n",
       "    </tr>\n",
       "    <tr>\n",
       "      <th>2013-01-04</th>\n",
       "      <td>0.007092</td>\n",
       "      <td>0.007067</td>\n",
       "      <td>0.000158</td>\n",
       "      <td>-0.006303</td>\n",
       "      <td>-0.006323</td>\n",
       "      <td>0.000208</td>\n",
       "      <td>-0.010043</td>\n",
       "      <td>-0.010094</td>\n",
       "      <td>0.000554</td>\n",
       "      <td>0.004936</td>\n",
       "      <td>...</td>\n",
       "      <td>0.000406</td>\n",
       "      <td>-0.019194</td>\n",
       "      <td>-0.019381</td>\n",
       "      <td>0.000635</td>\n",
       "      <td>0.018043</td>\n",
       "      <td>0.017883</td>\n",
       "      <td>0.000133</td>\n",
       "      <td>-0.005727</td>\n",
       "      <td>-0.005744</td>\n",
       "      <td>0.000158</td>\n",
       "    </tr>\n",
       "    <tr>\n",
       "      <th>2013-01-07</th>\n",
       "      <td>-0.001035</td>\n",
       "      <td>-0.001035</td>\n",
       "      <td>0.000022</td>\n",
       "      <td>0.002114</td>\n",
       "      <td>0.002112</td>\n",
       "      <td>0.000063</td>\n",
       "      <td>-0.014493</td>\n",
       "      <td>-0.014599</td>\n",
       "      <td>0.000517</td>\n",
       "      <td>0.010805</td>\n",
       "      <td>...</td>\n",
       "      <td>0.000492</td>\n",
       "      <td>0.015656</td>\n",
       "      <td>0.015534</td>\n",
       "      <td>0.000511</td>\n",
       "      <td>-0.002489</td>\n",
       "      <td>-0.002492</td>\n",
       "      <td>0.000048</td>\n",
       "      <td>-0.009769</td>\n",
       "      <td>-0.009817</td>\n",
       "      <td>0.000022</td>\n",
       "    </tr>\n",
       "  </tbody>\n",
       "</table>\n",
       "<p>3 rows × 39 columns</p>\n",
       "</div>"
      ],
      "text/plain": [
       "            ^MERV_rets  ^MERV_log_rets  ^MERV_gk_vol  GGAL.BA_rets  \\\n",
       "2013-01-03    0.007552        0.007524      0.000129      0.010616   \n",
       "2013-01-04    0.007092        0.007067      0.000158     -0.006303   \n",
       "2013-01-07   -0.001035       -0.001035      0.000022      0.002114   \n",
       "\n",
       "            GGAL.BA_log_rets  GGAL.BA_gk_vol  GGAL_rets  GGAL_log_rets  \\\n",
       "2013-01-03          0.010560        0.000677  -0.012748      -0.012830   \n",
       "2013-01-04         -0.006323        0.000208  -0.010043      -0.010094   \n",
       "2013-01-07          0.002112        0.000063  -0.014493      -0.014599   \n",
       "\n",
       "            GGAL_gk_vol  YPFD.BA_rets  ...  BBAR.BA_gk_vol  BBAR_rets  \\\n",
       "2013-01-03     0.001228     -0.006862  ...        0.000169  -0.005725   \n",
       "2013-01-04     0.000554      0.004936  ...        0.000406  -0.019194   \n",
       "2013-01-07     0.000517      0.010805  ...        0.000492   0.015656   \n",
       "\n",
       "            BBAR_log_rets  BBAR_gk_vol  USD_rets  USD_log_rets  USD_gk_vol  \\\n",
       "2013-01-03      -0.005742     0.000960  0.008830      0.008792    0.000014   \n",
       "2013-01-04      -0.019381     0.000635  0.018043      0.017883    0.000133   \n",
       "2013-01-07       0.015534     0.000511 -0.002489     -0.002492    0.000048   \n",
       "\n",
       "            USD_^MERV_rets  USD_^MERV_log_rets  USD_^MERV_gk_vol  \n",
       "2013-01-03        0.001247            0.001246          0.000129  \n",
       "2013-01-04       -0.005727           -0.005744          0.000158  \n",
       "2013-01-07       -0.009769           -0.009817          0.000022  \n",
       "\n",
       "[3 rows x 39 columns]"
      ]
     },
     "execution_count": 9,
     "metadata": {},
     "output_type": "execute_result"
    }
   ],
   "source": [
    "df.head(3)"
   ]
  },
  {
   "cell_type": "markdown",
   "metadata": {},
   "source": [
    "# VAR Training"
   ]
  },
  {
   "cell_type": "code",
   "execution_count": 10,
   "metadata": {},
   "outputs": [],
   "source": [
    "emptydf=pd.DataFrame(columns=[\"AIC\", \"BIC\"], index=range(1,11))\n",
    "results_dict_df={stock:emptydf for stock in tickerlist}"
   ]
  },
  {
   "cell_type": "code",
   "execution_count": 11,
   "metadata": {},
   "outputs": [],
   "source": [
    "aic_best_model={stock:None for stock in tickerlist}\n",
    "bic_best_model={stock:None for stock in tickerlist}\n",
    "\n",
    "aic_best_residuals={stock:None for stock in tickerlist}\n",
    "bic_best_residuals={stock:None for stock in tickerlist}"
   ]
  },
  {
   "cell_type": "code",
   "execution_count": 12,
   "metadata": {},
   "outputs": [],
   "source": [
    "for stock in tickerlist:\n",
    "    columns = [f'{stock}_log_rets', f'{stock}_gk_vol']\n",
    "    stock_data = df[columns]\n",
    "    \n",
    "    for lag in range(1, 11):\n",
    "        model = VAR(stock_data)\n",
    "        results = model.fit(lag)\n",
    "\n",
    "        results_dict_df[stock].loc[lag, \"AIC\"]=results.aic\n",
    "        results_dict_df[stock].loc[lag, \"BIC\"]=results.bic\n",
    "\n",
    "    best_aic_lag=results_dict_df[stock][\"AIC\"].astype(float).idxmin()\n",
    "    best_bic_lag=results_dict_df[stock][\"BIC\"].astype(float).idxmin()\n",
    "\n",
    "    aic_best_model[stock]=VAR(stock_data).fit(best_aic_lag)\n",
    "    bic_best_model[stock]=VAR(stock_data).fit(best_bic_lag)\n",
    "\n",
    "    aic_best_residuals[stock]=aic_best_model[stock].resid\n",
    "    bic_best_residuals[stock]=bic_best_model[stock].resid"
   ]
  },
  {
   "cell_type": "code",
   "execution_count": 13,
   "metadata": {},
   "outputs": [
    {
     "data": {
      "text/plain": [
       "{'^MERV': <statsmodels.tsa.vector_ar.var_model.VARResultsWrapper at 0x1a75cdf2b90>,\n",
       " 'GGAL.BA': <statsmodels.tsa.vector_ar.var_model.VARResultsWrapper at 0x1a75cdcac90>,\n",
       " 'GGAL': <statsmodels.tsa.vector_ar.var_model.VARResultsWrapper at 0x1a75cde3610>,\n",
       " 'YPFD.BA': <statsmodels.tsa.vector_ar.var_model.VARResultsWrapper at 0x1a75cdfaa90>,\n",
       " 'YPF': <statsmodels.tsa.vector_ar.var_model.VARResultsWrapper at 0x1a75cde86d0>,\n",
       " 'EDN.BA': <statsmodels.tsa.vector_ar.var_model.VARResultsWrapper at 0x1a75cdeb910>,\n",
       " 'EDN': <statsmodels.tsa.vector_ar.var_model.VARResultsWrapper at 0x1a75ce48b10>,\n",
       " 'BMA.BA': <statsmodels.tsa.vector_ar.var_model.VARResultsWrapper at 0x1a75ce4b3d0>,\n",
       " 'BMA': <statsmodels.tsa.vector_ar.var_model.VARResultsWrapper at 0x1a75ce64390>,\n",
       " 'BBAR.BA': <statsmodels.tsa.vector_ar.var_model.VARResultsWrapper at 0x1a75ce66fd0>,\n",
       " 'BBAR': <statsmodels.tsa.vector_ar.var_model.VARResultsWrapper at 0x1a75ce6ae50>}"
      ]
     },
     "execution_count": 13,
     "metadata": {},
     "output_type": "execute_result"
    }
   ],
   "source": [
    "bic_best_model"
   ]
  },
  {
   "cell_type": "markdown",
   "metadata": {},
   "source": [
    "bic_best_model"
   ]
  },
  {
   "cell_type": "code",
   "execution_count": null,
   "metadata": {},
   "outputs": [],
   "source": [
    "# TODO: comparar mismas cantidades de información\n",
    "# https://github.com/alfsn/regime-switching-hmm/issues/38"
   ]
  },
  {
   "cell_type": "code",
   "execution_count": null,
   "metadata": {},
   "outputs": [],
   "source": [
    "def generate_VAR_samples_residuals(model, insample_data, oos_data):\n",
    "        # pseudocodigo\n",
    "    # agarra el mejor modelo (esto con una cantidad optima de params ya esta)\n",
    "    # k = cantidad de params\n",
    "    # fittear t-j con t-j-252d\n",
    "    split_date = oos_data.index[0]\n",
    "    dates_to_forecast = len(oos_data.index)\n",
    "\n",
    "    oos_data = pd.concat([insample_data, oos_data])\n",
    "    del insample_data\n",
    "\n",
    "    index = oos_data.index\n",
    "    end_loc = np.where(index >= split_date)[0].min()\n",
    "\n",
    "    rolling_window = 252\n",
    "\n",
    "    forecasts = {}\n",
    "\n",
    "    for i in range(1, dates_to_forecast):\n",
    "        date_of_first_forecast = oos_data.index[end_loc + i]\n",
    "\n",
    "        stock_data= # TODO:definir esto\n",
    "\n",
    "        model = VAR(stock_data)\n",
    "\n",
    "        results = model.fit(lag) # TODO:extraer lag de acá\n",
    "\n",
    "\n",
    "\n",
    "\n",
    "\n",
    "çççççççççççççççççççççç\n",
    "\n",
    "    for i in range(1, dates_to_forecast):\n",
    "        date_of_first_forecast = oos_data.index[end_loc + i]\n",
    "\n",
    "        res = model.fit(\n",
    "            first_obs=end_loc - rolling_window + i, last_obs=end_loc + i, disp=\"off\"\n",
    "        )\n",
    "\n",
    "        forecast = res.forecast(\n",
    "            horizon=1, start=date_of_first_forecast, method=\"simulation\"\n",
    "        ).mean.iloc[0]\n",
    "\n",
    "        forecasts[forecast.name]=forecast\n",
    "        \n",
    "    forecasts=pd.DataFrame(forecasts).T\n",
    "    forecasts.columns=oos_data.columns\n",
    "\n",
    "    residuals=(oos_data-forecasts).dropna()\n",
    "    \n",
    "    return forecasts, residuals\n",
    "\n"
   ]
  },
  {
   "cell_type": "code",
   "execution_count": 12,
   "metadata": {},
   "outputs": [],
   "source": [
    "with open(os.path.join(resultsroute, f\"\"\"VAR_univ_{params[\"tablename\"]}_aic_bestmodels.pickle\"\"\"), \"wb\") as output_file:\n",
    "    pickle.dump(aic_best_model, output_file)\n",
    "\n",
    "with open(os.path.join(resultsroute, f\"\"\"VAR_univ_{params[\"tablename\"]}_bic_bestmodels.pickle\"\"\"), \"wb\") as output_file:\n",
    "    pickle.dump(bic_best_model, output_file)"
   ]
  },
  {
   "cell_type": "markdown",
   "metadata": {},
   "source": [
    "# Residuals"
   ]
  },
  {
   "cell_type": "code",
   "execution_count": 13,
   "metadata": {},
   "outputs": [],
   "source": [
    "name = f'finaldf_test_{params[\"tablename\"]}.pickle'\n",
    "filename = os.path.join(dataroute, name)\n",
    "with open(filename, \"rb\") as handle:\n",
    "    df_test = pickle.load(handle)"
   ]
  },
  {
   "cell_type": "markdown",
   "metadata": {},
   "source": [
    "Los modelos sirven los residuos NO!\n",
    "https://github.com/alfsn/regime-switching-hmm/issues/27"
   ]
  },
  {
   "cell_type": "code",
   "execution_count": 13,
   "metadata": {},
   "outputs": [],
   "source": [
    "with open(os.path.join(resultsroute, f\"\"\"VAR_univ_{params[\"tablename\"]}_aic_residuals.pickle\"\"\"), \"wb\") as output_file:\n",
    "    pickle.dump(aic_best_residuals, output_file)\n",
    "\n",
    "with open(os.path.join(resultsroute, f\"\"\"VAR_univ_{params[\"tablename\"]}_bic_residuals.pickle\"\"\"), \"wb\") as output_file:\n",
    "    pickle.dump(bic_best_residuals, output_file)"
   ]
  },
  {
   "cell_type": "markdown",
   "metadata": {},
   "source": [
    "# with USD"
   ]
  },
  {
   "cell_type": "code",
   "execution_count": 14,
   "metadata": {},
   "outputs": [],
   "source": [
    "emptydf=pd.DataFrame(columns=[\"AIC\", \"BIC\"], index=range(1,11))\n",
    "results_dict_df={stock:emptydf for stock in tickerlist}"
   ]
  },
  {
   "cell_type": "code",
   "execution_count": 15,
   "metadata": {},
   "outputs": [],
   "source": [
    "aic_best_model={stock:None for stock in tickerlist}\n",
    "bic_best_model={stock:None for stock in tickerlist}\n",
    "\n",
    "aic_best_residuals={stock:None for stock in tickerlist}\n",
    "bic_best_residuals={stock:None for stock in tickerlist}"
   ]
  },
  {
   "cell_type": "code",
   "execution_count": 16,
   "metadata": {},
   "outputs": [],
   "source": [
    "for stock in tickerlist:\n",
    "    columns = ['USD_log_rets', 'USD_gk_vol', f'{stock}_log_rets', f'{stock}_gk_vol']\n",
    "    stock_data = df[columns]\n",
    "    \n",
    "    for lag in range(1, 11):\n",
    "        model = VAR(stock_data)\n",
    "        results = model.fit(lag)\n",
    "\n",
    "        results_dict_df[stock].loc[lag, \"AIC\"]=results.aic\n",
    "        results_dict_df[stock].loc[lag, \"BIC\"]=results.bic\n",
    "\n",
    "    best_aic_lag=results_dict_df[stock][\"AIC\"].astype(float).idxmin()\n",
    "    best_bic_lag=results_dict_df[stock][\"BIC\"].astype(float).idxmin()\n",
    "\n",
    "    aic_best_model[stock]=VAR(stock_data).fit(best_aic_lag)\n",
    "    bic_best_model[stock]=VAR(stock_data).fit(best_bic_lag)\n",
    "\n",
    "    aic_best_residuals[stock]=aic_best_model[stock].resid\n",
    "    bic_best_residuals[stock]=bic_best_model[stock].resid"
   ]
  },
  {
   "cell_type": "code",
   "execution_count": 17,
   "metadata": {},
   "outputs": [],
   "source": [
    "with open(os.path.join(resultsroute, f\"\"\"VAR_multiv_{params[\"tablename\"]}_aic_bestmodels.pickle\"\"\"), \"wb\") as output_file:\n",
    "    pickle.dump(aic_best_model, output_file)\n",
    "\n",
    "with open(os.path.join(resultsroute, f\"\"\"VAR_multiv_{params[\"tablename\"]}_bic_bestmodels.pickle\"\"\"), \"wb\") as output_file:\n",
    "    pickle.dump(bic_best_model, output_file)"
   ]
  },
  {
   "cell_type": "markdown",
   "metadata": {},
   "source": [
    "Los modelos sirven los residuos NO!\n",
    "https://github.com/alfsn/regime-switching-hmm/issues/27"
   ]
  },
  {
   "cell_type": "code",
   "execution_count": 18,
   "metadata": {},
   "outputs": [],
   "source": [
    "with open(os.path.join(resultsroute, f\"\"\"VAR_multiv_{params[\"tablename\"]}_aic_residuals.pickle\"\"\"), \"wb\") as output_file:\n",
    "    pickle.dump(aic_best_residuals, output_file)\n",
    "\n",
    "with open(os.path.join(resultsroute, f\"\"\"VAR_multiv_{params[\"tablename\"]}_bic_residuals.pickle\"\"\"), \"wb\") as output_file:\n",
    "    pickle.dump(bic_best_residuals, output_file)"
   ]
  }
 ],
 "metadata": {
  "@webio": {
   "lastCommId": null,
   "lastKernelId": null
  },
  "kernelspec": {
   "display_name": "Python 3 (ipykernel)",
   "language": "python",
   "name": "python3"
  },
  "language_info": {
   "codemirror_mode": {
    "name": "ipython",
    "version": 3
   },
   "file_extension": ".py",
   "mimetype": "text/x-python",
   "name": "python",
   "nbconvert_exporter": "python",
   "pygments_lexer": "ipython3",
   "version": "3.11.3"
  }
 },
 "nbformat": 4,
 "nbformat_minor": 2
}
