{
 "cells": [
  {
   "cell_type": "markdown",
   "metadata": {},
   "source": [
    "## Startup"
   ]
  },
  {
   "cell_type": "code",
   "execution_count": 1,
   "metadata": {},
   "outputs": [],
   "source": [
    "import numpy as np\n",
    "import pandas as pd\n",
    "import matplotlib.pyplot as plt\n",
    "\n",
    "from statsmodels.tsa.api import VAR\n",
    "from statsmodels.tools.eval_measures import aic, bic\n",
    "\n",
    "import os\n",
    "import pickle"
   ]
  },
  {
   "cell_type": "code",
   "execution_count": 2,
   "metadata": {},
   "outputs": [],
   "source": [
    "import warnings\n",
    "warnings.filterwarnings(\"ignore\")"
   ]
  },
  {
   "cell_type": "code",
   "execution_count": 3,
   "metadata": {},
   "outputs": [],
   "source": [
    "np.random.seed(42)"
   ]
  },
  {
   "cell_type": "code",
   "execution_count": 4,
   "metadata": {},
   "outputs": [],
   "source": [
    "dataroute=os.path.join(\"..\",  \"data\")\n",
    "dumproute=os.path.join(\"..\",  \"dump\")\n",
    "resultsroute=os.path.join(\"..\",  \"results\")"
   ]
  },
  {
   "cell_type": "markdown",
   "metadata": {},
   "source": [
    "## Data Retrieval"
   ]
  },
  {
   "cell_type": "code",
   "execution_count": 5,
   "metadata": {},
   "outputs": [],
   "source": [
    "start='2013-01-01'\n",
    "end=\"2023-06-01\"\n",
    "\n",
    "name=f'processed_dataset_{start}_{end}.pickle'\n",
    "filename=os.path.join(dataroute, name)\n",
    "with open(filename, 'rb') as handle:\n",
    "    data=pickle.load(handle)\n",
    "    \n",
    "name=f'finaldf_dataset_{start}_{end}.pickle'\n",
    "filename=os.path.join(dataroute, name)\n",
    "with open(filename, 'rb') as handle:\n",
    "    df=pickle.load(handle)"
   ]
  },
  {
   "cell_type": "code",
   "execution_count": 6,
   "metadata": {},
   "outputs": [
    {
     "data": {
      "text/plain": [
       "['^MERV',\n",
       " 'GGAL',\n",
       " 'GGAL.BA',\n",
       " 'YPF',\n",
       " 'YPFD.BA',\n",
       " 'EDN',\n",
       " 'EDN.BA',\n",
       " 'BMA',\n",
       " 'BMA.BA']"
      ]
     },
     "execution_count": 6,
     "metadata": {},
     "output_type": "execute_result"
    }
   ],
   "source": [
    "with open(os.path.join(dumproute, \"tickerlist.pickle\"), 'rb') as f:\n",
    "    tickerlist=pickle.load(f)\n",
    "tickerlist"
   ]
  },
  {
   "cell_type": "code",
   "execution_count": 7,
   "metadata": {},
   "outputs": [
    {
     "data": {
      "text/html": [
       "<div>\n",
       "<style scoped>\n",
       "    .dataframe tbody tr th:only-of-type {\n",
       "        vertical-align: middle;\n",
       "    }\n",
       "\n",
       "    .dataframe tbody tr th {\n",
       "        vertical-align: top;\n",
       "    }\n",
       "\n",
       "    .dataframe thead th {\n",
       "        text-align: right;\n",
       "    }\n",
       "</style>\n",
       "<table border=\"1\" class=\"dataframe\">\n",
       "  <thead>\n",
       "    <tr style=\"text-align: right;\">\n",
       "      <th></th>\n",
       "      <th>^MERV_rets</th>\n",
       "      <th>^MERV_log_rets</th>\n",
       "      <th>^MERV_gk_vol</th>\n",
       "      <th>GGAL_rets</th>\n",
       "      <th>GGAL_log_rets</th>\n",
       "      <th>GGAL_gk_vol</th>\n",
       "      <th>GGAL.BA_rets</th>\n",
       "      <th>GGAL.BA_log_rets</th>\n",
       "      <th>GGAL.BA_gk_vol</th>\n",
       "      <th>YPF_rets</th>\n",
       "      <th>...</th>\n",
       "      <th>BMA_gk_vol</th>\n",
       "      <th>BMA.BA_rets</th>\n",
       "      <th>BMA.BA_log_rets</th>\n",
       "      <th>BMA.BA_gk_vol</th>\n",
       "      <th>USD_rets</th>\n",
       "      <th>USD_log_rets</th>\n",
       "      <th>USD_gk_vol</th>\n",
       "      <th>USD_^MERV_rets</th>\n",
       "      <th>USD_^MERV_log_rets</th>\n",
       "      <th>USD_^MERV_gk_vol</th>\n",
       "    </tr>\n",
       "    <tr>\n",
       "      <th>Date</th>\n",
       "      <th></th>\n",
       "      <th></th>\n",
       "      <th></th>\n",
       "      <th></th>\n",
       "      <th></th>\n",
       "      <th></th>\n",
       "      <th></th>\n",
       "      <th></th>\n",
       "      <th></th>\n",
       "      <th></th>\n",
       "      <th></th>\n",
       "      <th></th>\n",
       "      <th></th>\n",
       "      <th></th>\n",
       "      <th></th>\n",
       "      <th></th>\n",
       "      <th></th>\n",
       "      <th></th>\n",
       "      <th></th>\n",
       "      <th></th>\n",
       "      <th></th>\n",
       "    </tr>\n",
       "  </thead>\n",
       "  <tbody>\n",
       "    <tr>\n",
       "      <th>2013-01-03</th>\n",
       "      <td>0.007552</td>\n",
       "      <td>0.007524</td>\n",
       "      <td>0.000129</td>\n",
       "      <td>-0.012748</td>\n",
       "      <td>-0.012830</td>\n",
       "      <td>0.001228</td>\n",
       "      <td>0.010616</td>\n",
       "      <td>0.010560</td>\n",
       "      <td>0.000677</td>\n",
       "      <td>-0.004016</td>\n",
       "      <td>...</td>\n",
       "      <td>0.000557</td>\n",
       "      <td>-0.007812</td>\n",
       "      <td>-0.007843</td>\n",
       "      <td>0.000857</td>\n",
       "      <td>0.011942</td>\n",
       "      <td>0.011871</td>\n",
       "      <td>0.000020</td>\n",
       "      <td>-0.002186</td>\n",
       "      <td>-0.002188</td>\n",
       "      <td>0.000129</td>\n",
       "    </tr>\n",
       "    <tr>\n",
       "      <th>2013-01-04</th>\n",
       "      <td>0.007092</td>\n",
       "      <td>0.007067</td>\n",
       "      <td>0.000158</td>\n",
       "      <td>-0.010043</td>\n",
       "      <td>-0.010094</td>\n",
       "      <td>0.000554</td>\n",
       "      <td>-0.006303</td>\n",
       "      <td>-0.006323</td>\n",
       "      <td>0.000208</td>\n",
       "      <td>-0.000672</td>\n",
       "      <td>...</td>\n",
       "      <td>0.000695</td>\n",
       "      <td>-0.027559</td>\n",
       "      <td>-0.027946</td>\n",
       "      <td>0.000692</td>\n",
       "      <td>0.021496</td>\n",
       "      <td>0.021269</td>\n",
       "      <td>0.000228</td>\n",
       "      <td>-0.008133</td>\n",
       "      <td>-0.008167</td>\n",
       "      <td>0.000158</td>\n",
       "    </tr>\n",
       "    <tr>\n",
       "      <th>2013-01-07</th>\n",
       "      <td>-0.001035</td>\n",
       "      <td>-0.001035</td>\n",
       "      <td>0.000022</td>\n",
       "      <td>-0.014493</td>\n",
       "      <td>-0.014599</td>\n",
       "      <td>0.000517</td>\n",
       "      <td>0.002114</td>\n",
       "      <td>0.002112</td>\n",
       "      <td>0.000063</td>\n",
       "      <td>0.005380</td>\n",
       "      <td>...</td>\n",
       "      <td>0.000862</td>\n",
       "      <td>0.012146</td>\n",
       "      <td>0.012073</td>\n",
       "      <td>0.000494</td>\n",
       "      <td>-0.004061</td>\n",
       "      <td>-0.004069</td>\n",
       "      <td>0.000017</td>\n",
       "      <td>-0.007749</td>\n",
       "      <td>-0.007779</td>\n",
       "      <td>0.000022</td>\n",
       "    </tr>\n",
       "  </tbody>\n",
       "</table>\n",
       "<p>3 rows × 33 columns</p>\n",
       "</div>"
      ],
      "text/plain": [
       "            ^MERV_rets  ^MERV_log_rets  ^MERV_gk_vol  GGAL_rets  \\\n",
       "Date                                                              \n",
       "2013-01-03    0.007552        0.007524      0.000129  -0.012748   \n",
       "2013-01-04    0.007092        0.007067      0.000158  -0.010043   \n",
       "2013-01-07   -0.001035       -0.001035      0.000022  -0.014493   \n",
       "\n",
       "            GGAL_log_rets  GGAL_gk_vol  GGAL.BA_rets  GGAL.BA_log_rets  \\\n",
       "Date                                                                     \n",
       "2013-01-03      -0.012830     0.001228      0.010616          0.010560   \n",
       "2013-01-04      -0.010094     0.000554     -0.006303         -0.006323   \n",
       "2013-01-07      -0.014599     0.000517      0.002114          0.002112   \n",
       "\n",
       "            GGAL.BA_gk_vol  YPF_rets  ...  BMA_gk_vol  BMA.BA_rets  \\\n",
       "Date                                  ...                            \n",
       "2013-01-03        0.000677 -0.004016  ...    0.000557    -0.007812   \n",
       "2013-01-04        0.000208 -0.000672  ...    0.000695    -0.027559   \n",
       "2013-01-07        0.000063  0.005380  ...    0.000862     0.012146   \n",
       "\n",
       "            BMA.BA_log_rets  BMA.BA_gk_vol  USD_rets  USD_log_rets  \\\n",
       "Date                                                                 \n",
       "2013-01-03        -0.007843       0.000857  0.011942      0.011871   \n",
       "2013-01-04        -0.027946       0.000692  0.021496      0.021269   \n",
       "2013-01-07         0.012073       0.000494 -0.004061     -0.004069   \n",
       "\n",
       "            USD_gk_vol  USD_^MERV_rets  USD_^MERV_log_rets  USD_^MERV_gk_vol  \n",
       "Date                                                                          \n",
       "2013-01-03    0.000020       -0.002186           -0.002188          0.000129  \n",
       "2013-01-04    0.000228       -0.008133           -0.008167          0.000158  \n",
       "2013-01-07    0.000017       -0.007749           -0.007779          0.000022  \n",
       "\n",
       "[3 rows x 33 columns]"
      ]
     },
     "execution_count": 7,
     "metadata": {},
     "output_type": "execute_result"
    }
   ],
   "source": [
    "df.head(3)"
   ]
  },
  {
   "cell_type": "markdown",
   "metadata": {},
   "source": [
    "# VAR Training"
   ]
  },
  {
   "cell_type": "code",
   "execution_count": 8,
   "metadata": {},
   "outputs": [],
   "source": [
    "log_rets_list=[column for column in df.columns if column.endswith(\"log_rets\")]\n",
    "vol_list=[column for column in df.columns if column.endswith(\"vol\")]\n",
    "simple_rets_list=[column for column in df.columns if (column.endswith(\"log_rets\")) and (column not in log_rets_list)]"
   ]
  },
  {
   "cell_type": "code",
   "execution_count": 9,
   "metadata": {},
   "outputs": [],
   "source": [
    "emptydf=pd.DataFrame(columns=[\"AIC\", \"BIC\"], index=range(1,11))\n",
    "results_dict_df={stock:emptydf for stock in tickerlist}"
   ]
  },
  {
   "cell_type": "code",
   "execution_count": 10,
   "metadata": {},
   "outputs": [],
   "source": [
    "aic_best_model={stock:None for stock in tickerlist}\n",
    "bic_best_model={stock:None for stock in tickerlist}\n",
    "\n",
    "aic_best_residuals={stock:None for stock in tickerlist}\n",
    "bic_best_residuals={stock:None for stock in tickerlist}"
   ]
  },
  {
   "cell_type": "code",
   "execution_count": 11,
   "metadata": {},
   "outputs": [],
   "source": [
    "for stock in tickerlist:\n",
    "    columns = [f'{stock}_log_rets', f'{stock}_gk_vol']\n",
    "    stock_data = df[columns]\n",
    "    \n",
    "    for lag in range(1, 11):\n",
    "        model = VAR(stock_data)\n",
    "        results = model.fit(lag)\n",
    "\n",
    "        results_dict_df[stock].loc[lag, \"AIC\"]=results.aic\n",
    "        results_dict_df[stock].loc[lag, \"BIC\"]=results.bic\n",
    "\n",
    "    best_aic_lag=results_dict_df[stock][\"AIC\"].astype(float).idxmin()\n",
    "    best_bic_lag=results_dict_df[stock][\"BIC\"].astype(float).idxmin()\n",
    "\n",
    "    aic_best_model[stock]=VAR(stock_data).fit(best_aic_lag)\n",
    "    bic_best_model[stock]=VAR(stock_data).fit(best_bic_lag)\n",
    "\n",
    "    aic_best_residuals[stock]=aic_best_model[stock].resid\n",
    "    bic_best_residuals[stock]=bic_best_model[stock].resid"
   ]
  },
  {
   "cell_type": "code",
   "execution_count": 15,
   "metadata": {},
   "outputs": [],
   "source": [
    "with open(os.path.join(resultsroute, \"VAR_univ_aic_bestmodels.pickle\"), \"wb\") as output_file:\n",
    "    pickle.dump(aic_best_model, output_file)\n",
    "\n",
    "with open(os.path.join(resultsroute, \"VAR_univ_bic_bestmodels.pickle\"), \"wb\") as output_file:\n",
    "    pickle.dump(bic_best_model, output_file)"
   ]
  },
  {
   "cell_type": "markdown",
   "metadata": {},
   "source": [
    "Los modelos sirven los residuos NO!\n",
    "https://github.com/alfsn/regime-switching-hmm/issues/27"
   ]
  },
  {
   "cell_type": "code",
   "execution_count": 16,
   "metadata": {},
   "outputs": [],
   "source": [
    "with open(os.path.join(resultsroute, \"VAR_univ_aic_residuals.pickle\"), \"wb\") as output_file:\n",
    "    pickle.dump(aic_best_residuals, output_file)\n",
    "\n",
    "with open(os.path.join(resultsroute, \"VAR_univ_bic_residuals.pickle\"), \"wb\") as output_file:\n",
    "    pickle.dump(bic_best_residuals, output_file)"
   ]
  },
  {
   "cell_type": "markdown",
   "metadata": {},
   "source": [
    "# with USD"
   ]
  },
  {
   "cell_type": "code",
   "execution_count": 29,
   "metadata": {},
   "outputs": [],
   "source": [
    "emptydf=pd.DataFrame(columns=[\"AIC\", \"BIC\"], index=range(1,11))\n",
    "results_dict_df={stock:emptydf for stock in tickerlist}"
   ]
  },
  {
   "cell_type": "code",
   "execution_count": 30,
   "metadata": {},
   "outputs": [],
   "source": [
    "aic_best_model={stock:None for stock in tickerlist}\n",
    "bic_best_model={stock:None for stock in tickerlist}\n",
    "\n",
    "aic_best_residuals={stock:None for stock in tickerlist}\n",
    "bic_best_residuals={stock:None for stock in tickerlist}"
   ]
  },
  {
   "cell_type": "code",
   "execution_count": 31,
   "metadata": {},
   "outputs": [],
   "source": [
    "for stock in tickerlist:\n",
    "    columns = ['USD_log_rets', 'USD_gk_vol', f'{stock}_log_rets', f'{stock}_gk_vol']\n",
    "    stock_data = df[columns]\n",
    "    \n",
    "    for lag in range(1, 11):\n",
    "        model = VAR(stock_data)\n",
    "        results = model.fit(lag)\n",
    "\n",
    "        results_dict_df[stock].loc[lag, \"AIC\"]=results.aic\n",
    "        results_dict_df[stock].loc[lag, \"BIC\"]=results.bic\n",
    "\n",
    "    best_aic_lag=results_dict_df[stock][\"AIC\"].astype(float).idxmin()\n",
    "    best_bic_lag=results_dict_df[stock][\"BIC\"].astype(float).idxmin()\n",
    "\n",
    "    aic_best_model[stock]=VAR(stock_data).fit(best_aic_lag)\n",
    "    bic_best_model[stock]=VAR(stock_data).fit(best_bic_lag)\n",
    "\n",
    "    aic_best_residuals[stock]=aic_best_model[stock].resid\n",
    "    bic_best_residuals[stock]=bic_best_model[stock].resid"
   ]
  },
  {
   "cell_type": "code",
   "execution_count": 32,
   "metadata": {},
   "outputs": [],
   "source": [
    "with open(os.path.join(resultsroute, \"VAR_multiv_aic_bestmodels.pickle\"), \"wb\") as output_file:\n",
    "    pickle.dump(aic_best_model, output_file)\n",
    "\n",
    "with open(os.path.join(resultsroute, \"VAR_multiv_bic_bestmodels.pickle\"), \"wb\") as output_file:\n",
    "    pickle.dump(bic_best_model, output_file)"
   ]
  },
  {
   "cell_type": "markdown",
   "metadata": {},
   "source": [
    "Los modelos sirven los residuos NO!\n",
    "https://github.com/alfsn/regime-switching-hmm/issues/27"
   ]
  },
  {
   "cell_type": "code",
   "execution_count": 33,
   "metadata": {},
   "outputs": [],
   "source": [
    "with open(os.path.join(resultsroute, \"VAR_multiv_aic_residuals.pickle\"), \"wb\") as output_file:\n",
    "    pickle.dump(aic_best_residuals, output_file)\n",
    "\n",
    "with open(os.path.join(resultsroute, \"VAR_multiv_bic_residuals.pickle\"), \"wb\") as output_file:\n",
    "    pickle.dump(bic_best_residuals, output_file)"
   ]
  }
 ],
 "metadata": {
  "@webio": {
   "lastCommId": null,
   "lastKernelId": null
  },
  "kernelspec": {
   "display_name": "Python 3 (ipykernel)",
   "language": "python",
   "name": "python3"
  },
  "language_info": {
   "codemirror_mode": {
    "name": "ipython",
    "version": 3
   },
   "file_extension": ".py",
   "mimetype": "text/x-python",
   "name": "python",
   "nbconvert_exporter": "python",
   "pygments_lexer": "ipython3",
   "version": "3.11.3"
  }
 },
 "nbformat": 4,
 "nbformat_minor": 2
}
