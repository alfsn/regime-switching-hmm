{
 "cells": [
  {
   "cell_type": "markdown",
   "metadata": {},
   "source": [
    "## Startup"
   ]
  },
  {
   "cell_type": "code",
   "execution_count": 1,
   "metadata": {},
   "outputs": [],
   "source": [
    "import numpy as np\n",
    "import pandas as pd\n",
    "import matplotlib.pyplot as plt\n",
    "\n",
    "from statsmodels.tsa.api import VAR\n",
    "from statsmodels.tools.eval_measures import aic, bic\n",
    "\n",
    "import copy\n",
    "import os\n",
    "import pickle"
   ]
  },
  {
   "cell_type": "code",
   "execution_count": 2,
   "metadata": {},
   "outputs": [],
   "source": [
    "import warnings\n",
    "\n",
    "warnings.filterwarnings(\"ignore\")"
   ]
  },
  {
   "cell_type": "code",
   "execution_count": 3,
   "metadata": {},
   "outputs": [],
   "source": [
    "np.random.seed(42)"
   ]
  },
  {
   "cell_type": "code",
   "execution_count": 4,
   "metadata": {},
   "outputs": [],
   "source": [
    "from scripts.params import get_params\n",
    "from scripts.aux_functions import generate_columns, save_as_pickle\n",
    "\n",
    "params = get_params()"
   ]
  },
  {
   "cell_type": "code",
   "execution_count": 5,
   "metadata": {},
   "outputs": [],
   "source": [
    "dataroute = params[\"dataroute\"]\n",
    "resultsroute = params[\"resultsroute\"]\n",
    "dumproute = params[\"dumproute\"]"
   ]
  },
  {
   "cell_type": "markdown",
   "metadata": {},
   "source": [
    "## Data Retrieval"
   ]
  },
  {
   "cell_type": "code",
   "execution_count": 6,
   "metadata": {},
   "outputs": [],
   "source": [
    "name = f\"\"\"finaldf_train_{params[\"tablename\"]}.pickle\"\"\"\n",
    "filename = os.path.join(dataroute, name)\n",
    "with open(filename, \"rb\") as handle:\n",
    "    df = pickle.load(handle)\n",
    "\n",
    "name = f'finaldf_test_{params[\"tablename\"]}.pickle'\n",
    "filename = os.path.join(dataroute, name)\n",
    "with open(filename, \"rb\") as handle:\n",
    "    df_test = pickle.load(handle)"
   ]
  },
  {
   "cell_type": "code",
   "execution_count": 7,
   "metadata": {},
   "outputs": [],
   "source": [
    "def generate_VAR_samples_residuals(\n",
    "    stock: str,\n",
    "    lags: int,\n",
    "    insample_data: pd.DataFrame,\n",
    "    oos_data: pd.DataFrame,\n",
    "    contains_vol: bool,\n",
    "    contains_USD: bool,\n",
    "):\n",
    "    columns = generate_columns(\n",
    "        stock=stock, contains_vol=contains_vol, contains_USD=contains_USD\n",
    "    )\n",
    "\n",
    "    combined_data = pd.concat([insample_data[columns], oos_data[columns]])\n",
    "\n",
    "    split_date = oos_data.index[0]\n",
    "    dates_to_forecast = len(oos_data)\n",
    "\n",
    "    fcast_holder = []\n",
    "    resid_holder = []\n",
    "\n",
    "    for i in range(0, dates_to_forecast):\n",
    "        end_loc = combined_data.index.get_loc(split_date) + i\n",
    "        fitstart = end_loc - 252\n",
    "        fitend = end_loc\n",
    "\n",
    "        stock_data = combined_data.iloc[fitstart:fitend]\n",
    "\n",
    "        model = VAR(stock_data)\n",
    "        results = model.fit(lags)\n",
    "\n",
    "        fcast = results.forecast(y=stock_data.values, steps=1)\n",
    "        resid = results.resid.iloc[-1:]\n",
    "        \n",
    "        fcast_holder.append(fcast)\n",
    "        resid_holder.append(resid)\n",
    "\n",
    "    forecasts = pd.DataFrame(np.concatenate(fcast_holder), columns=columns, index=oos_data.index)\n",
    "    residuals = pd.DataFrame(np.concatenate(resid_holder), columns=columns, index=oos_data.index)\n",
    "\n",
    "    return forecasts, residuals\n"
   ]
  },
  {
   "cell_type": "code",
   "execution_count": 8,
   "metadata": {},
   "outputs": [],
   "source": [
    "def estimate_best_residuals(\n",
    "    stock: str,\n",
    "    criterion: str,\n",
    "    insample_data: pd.DataFrame,\n",
    "    oos_data: pd.DataFrame,\n",
    "    contains_vol: bool,\n",
    "    contains_USD: bool,\n",
    "):\n",
    "    columns = generate_columns(\n",
    "        stock=stock, contains_vol=contains_vol, contains_USD=contains_USD\n",
    "    )\n",
    "\n",
    "    selected_orders = VAR(insample_data[columns]).select_order(maxlags=15, trend=\"c\")\n",
    "    best_lag = selected_orders.selected_orders[criterion]\n",
    "\n",
    "    forecasts, residuals = generate_VAR_samples_residuals(\n",
    "        stock=stock,\n",
    "        lags=best_lag,\n",
    "        insample_data=insample_data,\n",
    "        oos_data=oos_data,\n",
    "        contains_vol=contains_vol,\n",
    "        contains_USD=contains_USD,\n",
    "    )\n",
    "\n",
    "    assert type(residuals) == pd.DataFrame\n",
    "\n",
    "    return best_lag, forecasts, residuals"
   ]
  },
  {
   "cell_type": "code",
   "execution_count": 9,
   "metadata": {},
   "outputs": [],
   "source": [
    "best_lags = {\n",
    "    \"aic\": {\"contains_USD=True\": {}, \"contains_USD=False\": {}},\n",
    "    \"bic\": {\"contains_USD=True\": {}, \"contains_USD=False\": {}},\n",
    "}\n",
    "best_forecasts = copy.deepcopy(best_lags)\n",
    "best_residuals = copy.deepcopy(best_lags)\n",
    "\n",
    "for criterion in [\"aic\", \"bic\"]:\n",
    "    for contains_USD in [True, False]:\n",
    "        usdstring = f\"contains_USD={contains_USD}\"\n",
    "\n",
    "        for stock in params[\"assetlist\"]:\n",
    "            best_lag, forecasts, residuals = estimate_best_residuals(\n",
    "                stock=stock,\n",
    "                criterion=criterion,\n",
    "                insample_data=df,\n",
    "                oos_data=df_test,\n",
    "                contains_vol=True,\n",
    "                contains_USD=contains_USD,\n",
    "            )\n",
    "\n",
    "            pct_nan = forecasts.iloc[:, 0].isna().sum() / len(forecasts.index) * 100\n",
    "\n",
    "            if pct_nan > 5:\n",
    "                warnings.warn(f\"{stock} % na: {pct_nan}\")\n",
    "\n",
    "            forecasts.fillna(method=\"ffill\", inplace=True)\n",
    "            residuals.fillna(method=\"ffill\", inplace=True)\n",
    "\n",
    "            best_lags[criterion][usdstring][stock] = best_lag\n",
    "            best_forecasts[criterion][usdstring][stock] = forecasts\n",
    "            best_residuals[criterion][usdstring][stock] = residuals\n",
    "\n",
    "        if contains_USD:\n",
    "            string = \"multiv\"\n",
    "        else:\n",
    "            string = \"with_vol\"\n",
    "\n",
    "        save_as_pickle(\n",
    "            data=best_lags[criterion][usdstring],\n",
    "            resultsroute=params[\"resultsroute\"],\n",
    "            model_type=f\"VAR_{string}\",\n",
    "            tablename=params[\"tablename\"],\n",
    "            criterion=criterion,\n",
    "            type_save=\"lags\",\n",
    "        )\n",
    "        \n",
    "        save_as_pickle(\n",
    "            data=best_forecasts[criterion][usdstring],\n",
    "            resultsroute=params[\"resultsroute\"],\n",
    "            model_type=f\"VAR_{string}\",\n",
    "            tablename=params[\"tablename\"],\n",
    "            criterion=criterion,\n",
    "            type_save=\"forecasts\",\n",
    "        )\n",
    "\n",
    "        save_as_pickle(\n",
    "            data=best_residuals[criterion][usdstring],\n",
    "            resultsroute=params[\"resultsroute\"],\n",
    "            model_type=f\"VAR_{string}\",\n",
    "            tablename=params[\"tablename\"],\n",
    "            criterion=criterion,\n",
    "            type_save=\"residuals\",\n",
    "        )"
   ]
  },
  {
   "cell_type": "code",
   "execution_count": 10,
   "metadata": {},
   "outputs": [],
   "source": [
    "for crit, d in best_residuals.items():\n",
    "    for cols, values in d.items():\n",
    "        for stock, dataframe in values.items():\n",
    "            isna= dataframe.iloc[:,0].isna().sum()/len(dataframe.index)\n",
    "            if isna>0:\n",
    "                print(crit, stock, cols, isna)"
   ]
  }
 ],
 "metadata": {
  "@webio": {
   "lastCommId": null,
   "lastKernelId": null
  },
  "kernelspec": {
   "display_name": "Python 3 (ipykernel)",
   "language": "python",
   "name": "python3"
  },
  "language_info": {
   "codemirror_mode": {
    "name": "ipython",
    "version": 3
   },
   "file_extension": ".py",
   "mimetype": "text/x-python",
   "name": "python",
   "nbconvert_exporter": "python",
   "pygments_lexer": "ipython3",
   "version": "3.11.5"
  }
 },
 "nbformat": 4,
 "nbformat_minor": 2
}
