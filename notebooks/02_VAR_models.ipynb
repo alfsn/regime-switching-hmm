{
 "cells": [
  {
   "cell_type": "markdown",
   "metadata": {},
   "source": [
    "## Startup"
   ]
  },
  {
   "cell_type": "code",
   "execution_count": 74,
   "metadata": {},
   "outputs": [],
   "source": [
    "import numpy as np\n",
    "import pandas as pd\n",
    "import matplotlib.pyplot as plt\n",
    "\n",
    "from statsmodels.tsa.api import VAR\n",
    "from statsmodels.tools.eval_measures import aic, bic\n",
    "\n",
    "import copy\n",
    "import os\n",
    "import pickle"
   ]
  },
  {
   "cell_type": "code",
   "execution_count": 55,
   "metadata": {},
   "outputs": [],
   "source": [
    "import warnings\n",
    "\n",
    "warnings.filterwarnings(\"ignore\")"
   ]
  },
  {
   "cell_type": "code",
   "execution_count": 56,
   "metadata": {},
   "outputs": [],
   "source": [
    "np.random.seed(42)"
   ]
  },
  {
   "cell_type": "code",
   "execution_count": 57,
   "metadata": {},
   "outputs": [],
   "source": [
    "dataroute = os.path.join(\"..\", \"data\")\n",
    "dumproute = os.path.join(\"..\", \"dump\")\n",
    "resultsroute = os.path.join(\"..\", \"results\")"
   ]
  },
  {
   "cell_type": "code",
   "execution_count": 58,
   "metadata": {},
   "outputs": [],
   "source": [
    "from scripts.params import get_params\n",
    "\n",
    "params = get_params()"
   ]
  },
  {
   "cell_type": "markdown",
   "metadata": {},
   "source": [
    "## Data Retrieval"
   ]
  },
  {
   "cell_type": "code",
   "execution_count": 59,
   "metadata": {},
   "outputs": [],
   "source": [
    "name = f\"\"\"finaldf_train_{params[\"tablename\"]}.pickle\"\"\"\n",
    "filename = os.path.join(dataroute, name)\n",
    "with open(filename, \"rb\") as handle:\n",
    "    df = pickle.load(handle)\n",
    "    \n",
    "name = f'finaldf_test_{params[\"tablename\"]}.pickle'\n",
    "filename = os.path.join(dataroute, name)\n",
    "with open(filename, \"rb\") as handle:\n",
    "    df_test = pickle.load(handle)"
   ]
  },
  {
   "cell_type": "code",
   "execution_count": 60,
   "metadata": {},
   "outputs": [],
   "source": [
    "tickerlist = params[\"tickerlist\"]"
   ]
  },
  {
   "cell_type": "code",
   "execution_count": 61,
   "metadata": {},
   "outputs": [
    {
     "data": {
      "text/html": [
       "<div>\n",
       "<style scoped>\n",
       "    .dataframe tbody tr th:only-of-type {\n",
       "        vertical-align: middle;\n",
       "    }\n",
       "\n",
       "    .dataframe tbody tr th {\n",
       "        vertical-align: top;\n",
       "    }\n",
       "\n",
       "    .dataframe thead th {\n",
       "        text-align: right;\n",
       "    }\n",
       "</style>\n",
       "<table border=\"1\" class=\"dataframe\">\n",
       "  <thead>\n",
       "    <tr style=\"text-align: right;\">\n",
       "      <th></th>\n",
       "      <th>^MERV_rets</th>\n",
       "      <th>^MERV_log_rets</th>\n",
       "      <th>^MERV_gk_vol</th>\n",
       "      <th>GGAL.BA_rets</th>\n",
       "      <th>GGAL.BA_log_rets</th>\n",
       "      <th>GGAL.BA_gk_vol</th>\n",
       "      <th>GGAL_rets</th>\n",
       "      <th>GGAL_log_rets</th>\n",
       "      <th>GGAL_gk_vol</th>\n",
       "      <th>YPFD.BA_rets</th>\n",
       "      <th>...</th>\n",
       "      <th>BBAR.BA_gk_vol</th>\n",
       "      <th>BBAR_rets</th>\n",
       "      <th>BBAR_log_rets</th>\n",
       "      <th>BBAR_gk_vol</th>\n",
       "      <th>USD_rets</th>\n",
       "      <th>USD_log_rets</th>\n",
       "      <th>USD_gk_vol</th>\n",
       "      <th>USD_^MERV_rets</th>\n",
       "      <th>USD_^MERV_log_rets</th>\n",
       "      <th>USD_^MERV_gk_vol</th>\n",
       "    </tr>\n",
       "  </thead>\n",
       "  <tbody>\n",
       "    <tr>\n",
       "      <th>2013-01-03</th>\n",
       "      <td>0.007552</td>\n",
       "      <td>0.007524</td>\n",
       "      <td>0.000129</td>\n",
       "      <td>0.010616</td>\n",
       "      <td>0.01056</td>\n",
       "      <td>0.000677</td>\n",
       "      <td>-0.012748</td>\n",
       "      <td>-0.01283</td>\n",
       "      <td>0.001228</td>\n",
       "      <td>-0.006863</td>\n",
       "      <td>...</td>\n",
       "      <td>0.000169</td>\n",
       "      <td>-0.005725</td>\n",
       "      <td>-0.005742</td>\n",
       "      <td>0.00096</td>\n",
       "      <td>0.00883</td>\n",
       "      <td>0.008791</td>\n",
       "      <td>0.000014</td>\n",
       "      <td>0.001247</td>\n",
       "      <td>0.001246</td>\n",
       "      <td>0.000129</td>\n",
       "    </tr>\n",
       "  </tbody>\n",
       "</table>\n",
       "<p>1 rows × 39 columns</p>\n",
       "</div>"
      ],
      "text/plain": [
       "            ^MERV_rets  ^MERV_log_rets  ^MERV_gk_vol  GGAL.BA_rets  \\\n",
       "2013-01-03    0.007552        0.007524      0.000129      0.010616   \n",
       "\n",
       "            GGAL.BA_log_rets  GGAL.BA_gk_vol  GGAL_rets  GGAL_log_rets  \\\n",
       "2013-01-03           0.01056        0.000677  -0.012748       -0.01283   \n",
       "\n",
       "            GGAL_gk_vol  YPFD.BA_rets  ...  BBAR.BA_gk_vol  BBAR_rets  \\\n",
       "2013-01-03     0.001228     -0.006863  ...        0.000169  -0.005725   \n",
       "\n",
       "            BBAR_log_rets  BBAR_gk_vol  USD_rets  USD_log_rets  USD_gk_vol  \\\n",
       "2013-01-03      -0.005742      0.00096   0.00883      0.008791    0.000014   \n",
       "\n",
       "            USD_^MERV_rets  USD_^MERV_log_rets  USD_^MERV_gk_vol  \n",
       "2013-01-03        0.001247            0.001246          0.000129  \n",
       "\n",
       "[1 rows x 39 columns]"
      ]
     },
     "execution_count": 61,
     "metadata": {},
     "output_type": "execute_result"
    }
   ],
   "source": [
    "df.head(1)"
   ]
  },
  {
   "cell_type": "code",
   "execution_count": 62,
   "metadata": {},
   "outputs": [
    {
     "data": {
      "text/html": [
       "<div>\n",
       "<style scoped>\n",
       "    .dataframe tbody tr th:only-of-type {\n",
       "        vertical-align: middle;\n",
       "    }\n",
       "\n",
       "    .dataframe tbody tr th {\n",
       "        vertical-align: top;\n",
       "    }\n",
       "\n",
       "    .dataframe thead th {\n",
       "        text-align: right;\n",
       "    }\n",
       "</style>\n",
       "<table border=\"1\" class=\"dataframe\">\n",
       "  <thead>\n",
       "    <tr style=\"text-align: right;\">\n",
       "      <th></th>\n",
       "      <th>^MERV_rets</th>\n",
       "      <th>^MERV_log_rets</th>\n",
       "      <th>^MERV_gk_vol</th>\n",
       "      <th>GGAL.BA_rets</th>\n",
       "      <th>GGAL.BA_log_rets</th>\n",
       "      <th>GGAL.BA_gk_vol</th>\n",
       "      <th>GGAL_rets</th>\n",
       "      <th>GGAL_log_rets</th>\n",
       "      <th>GGAL_gk_vol</th>\n",
       "      <th>YPFD.BA_rets</th>\n",
       "      <th>...</th>\n",
       "      <th>BBAR.BA_gk_vol</th>\n",
       "      <th>BBAR_rets</th>\n",
       "      <th>BBAR_log_rets</th>\n",
       "      <th>BBAR_gk_vol</th>\n",
       "      <th>USD_rets</th>\n",
       "      <th>USD_log_rets</th>\n",
       "      <th>USD_gk_vol</th>\n",
       "      <th>USD_^MERV_rets</th>\n",
       "      <th>USD_^MERV_log_rets</th>\n",
       "      <th>USD_^MERV_gk_vol</th>\n",
       "    </tr>\n",
       "  </thead>\n",
       "  <tbody>\n",
       "    <tr>\n",
       "      <th>2023-06-02</th>\n",
       "      <td>-0.001236</td>\n",
       "      <td>-0.001237</td>\n",
       "      <td>0.000117</td>\n",
       "      <td>-0.021765</td>\n",
       "      <td>-0.022005</td>\n",
       "      <td>0.001171</td>\n",
       "      <td>-0.022333</td>\n",
       "      <td>-0.022586</td>\n",
       "      <td>0.00161</td>\n",
       "      <td>0.014547</td>\n",
       "      <td>...</td>\n",
       "      <td>0.0</td>\n",
       "      <td>-0.006608</td>\n",
       "      <td>-0.00663</td>\n",
       "      <td>0.000876</td>\n",
       "      <td>-0.005835</td>\n",
       "      <td>-0.005852</td>\n",
       "      <td>0.000052</td>\n",
       "      <td>-0.001004</td>\n",
       "      <td>-0.001004</td>\n",
       "      <td>0.000117</td>\n",
       "    </tr>\n",
       "  </tbody>\n",
       "</table>\n",
       "<p>1 rows × 39 columns</p>\n",
       "</div>"
      ],
      "text/plain": [
       "            ^MERV_rets  ^MERV_log_rets  ^MERV_gk_vol  GGAL.BA_rets  \\\n",
       "2023-06-02   -0.001236       -0.001237      0.000117     -0.021765   \n",
       "\n",
       "            GGAL.BA_log_rets  GGAL.BA_gk_vol  GGAL_rets  GGAL_log_rets  \\\n",
       "2023-06-02         -0.022005        0.001171  -0.022333      -0.022586   \n",
       "\n",
       "            GGAL_gk_vol  YPFD.BA_rets  ...  BBAR.BA_gk_vol  BBAR_rets  \\\n",
       "2023-06-02      0.00161      0.014547  ...             0.0  -0.006608   \n",
       "\n",
       "            BBAR_log_rets  BBAR_gk_vol  USD_rets  USD_log_rets  USD_gk_vol  \\\n",
       "2023-06-02       -0.00663     0.000876 -0.005835     -0.005852    0.000052   \n",
       "\n",
       "            USD_^MERV_rets  USD_^MERV_log_rets  USD_^MERV_gk_vol  \n",
       "2023-06-02       -0.001004           -0.001004          0.000117  \n",
       "\n",
       "[1 rows x 39 columns]"
      ]
     },
     "execution_count": 62,
     "metadata": {},
     "output_type": "execute_result"
    }
   ],
   "source": [
    "df_test.head(1)"
   ]
  },
  {
   "cell_type": "code",
   "execution_count": 63,
   "metadata": {},
   "outputs": [],
   "source": [
    "def generate_columns(stock: str, contains_vol: bool, contains_USD: bool):\n",
    "    \"\"\"Devuelve una lista con los nombres de columnas para distintas especificaciones\"\"\"\n",
    "    columns = []\n",
    "    columns.append(f\"{stock}_log_rets\")\n",
    "\n",
    "    if contains_vol:\n",
    "        columns.append(f\"{stock}_gk_vol\")\n",
    "\n",
    "    if contains_USD:\n",
    "        columns.append(f\"USD_log_rets\")\n",
    "        columns.append(f\"USD_gk_vol\")\n",
    "\n",
    "    return columns"
   ]
  },
  {
   "cell_type": "code",
   "execution_count": 64,
   "metadata": {},
   "outputs": [
    {
     "data": {
      "text/plain": [
       "{'aic': 6, 'bic': 2, 'hqic': 4, 'fpe': 6}"
      ]
     },
     "execution_count": 64,
     "metadata": {},
     "output_type": "execute_result"
    }
   ],
   "source": [
    "selected_orders = VAR(df[[\"BBAR_log_rets\", \"BBAR_gk_vol\"]]).select_order(\n",
    "    maxlags=None, trend=\"c\"\n",
    ")\n",
    "selected_orders.selected_orders"
   ]
  },
  {
   "cell_type": "code",
   "execution_count": 65,
   "metadata": {},
   "outputs": [],
   "source": [
    "def generate_VAR_samples_residuals(\n",
    "    stock: str,\n",
    "    lags: int,\n",
    "    insample_data: pd.DataFrame,\n",
    "    oos_data: pd.DataFrame,\n",
    "    contains_vol: bool,\n",
    "    contains_USD: bool,\n",
    "):\n",
    "    # pseudocodigo\n",
    "    # agarra el mejor modelo (esto con una cantidad optima de params ya esta)\n",
    "    # k = cantidad de params\n",
    "    # fittear t-j con t-j-252d\n",
    "    columns = generate_columns(\n",
    "        stock=stock, contains_vol=contains_vol, contains_USD=contains_USD\n",
    "    )\n",
    "\n",
    "    split_date = oos_data.index[0]\n",
    "    dates_to_forecast = len(oos_data.index)\n",
    "\n",
    "    oos_data = pd.concat([insample_data[columns], oos_data[columns]])\n",
    "    del insample_data\n",
    "\n",
    "    index = oos_data.index\n",
    "    end_loc = np.where(index >= split_date)[0].min()\n",
    "\n",
    "    rolling_window = 252\n",
    "\n",
    "    residuals = pd.DataFrame()\n",
    "\n",
    "    for i in range(1, dates_to_forecast):\n",
    "        fitstart = end_loc - rolling_window + i\n",
    "        fitend = end_loc + i\n",
    "\n",
    "        stock_data = oos_data.iloc[fitstart:fitend]\n",
    "\n",
    "        model = VAR(stock_data)\n",
    "        results = model.fit(lags)\n",
    "        \n",
    "        resid = results.resid.iloc[-1:]\n",
    "        residuals = pd.concat([residuals, resid], axis=0)\n",
    "        \n",
    "    return residuals"
   ]
  },
  {
   "cell_type": "code",
   "execution_count": 66,
   "metadata": {},
   "outputs": [],
   "source": [
    "def estimate_best_residuals(\n",
    "    stock: str,\n",
    "    criterion: str,\n",
    "    insample_data: pd.DataFrame,\n",
    "    oos_data: pd.DataFrame,\n",
    "    contains_vol: bool,\n",
    "    contains_USD: bool,\n",
    "):\n",
    "    columns = generate_columns(\n",
    "        stock=stock, contains_vol=contains_vol, contains_USD=contains_USD\n",
    "    )\n",
    "\n",
    "    selected_orders = VAR(insample_data[columns]).select_order(maxlags=15, trend=\"c\")\n",
    "    best_lag = selected_orders.selected_orders[criterion]\n",
    "\n",
    "    residuals = generate_VAR_samples_residuals(\n",
    "        stock=stock,\n",
    "        lags=best_lag,\n",
    "        insample_data=insample_data,\n",
    "        oos_data=oos_data,\n",
    "        contains_vol=contains_vol,\n",
    "        contains_USD=contains_USD,\n",
    "    )\n",
    "    \n",
    "    return best_lag, residuals"
   ]
  },
  {
   "cell_type": "code",
   "execution_count": 67,
   "metadata": {},
   "outputs": [],
   "source": [
    "def save_as_pickle(data, contains_USD: bool, criterion: str, type_save: str):\n",
    "    if contains_USD:\n",
    "        string=\"multiv\"\n",
    "    else:\n",
    "        string=\"with_vol\"\n",
    "    \n",
    "    with open(\n",
    "        os.path.join(\n",
    "            resultsroute,\n",
    "            f\"\"\"VAR_{string}_{params[\"tablename\"]}_{criterion}_best_{type_save}.pickle\"\"\",\n",
    "        ),\n",
    "        \"wb\",\n",
    "    ) as output_file:\n",
    "        pickle.dump(data, output_file)"
   ]
  },
  {
   "cell_type": "code",
   "execution_count": 72,
   "metadata": {},
   "outputs": [],
   "source": [
    "best_lags = {\n",
    "    \"aic\": {\"contains_USD=True\": {}, \"contains_USD=False\": {}},\n",
    "    \"bic\": {\"contains_USD=True\": {}, \"contains_USD=False\": {}},\n",
    "}\n",
    "\n",
    "best_residuals = copy.deepcopy(best_lags)\n",
    "\n",
    "for criterion in [\"aic\", \"bic\"]:\n",
    "    for contains_USD in [True, False]:\n",
    "        for stock in tickerlist:\n",
    "            usdstring = f\"contains_USD={contains_USD}\"\n",
    "            best_lag, residuals = estimate_best_residuals(\n",
    "                stock=stock,\n",
    "                criterion=criterion,\n",
    "                insample_data=df,\n",
    "                oos_data=df_test,\n",
    "                contains_vol=True,\n",
    "                contains_USD=contains_USD,\n",
    "            )\n",
    "            \n",
    "            pct_nan=residuals.iloc[:, 0].isna().sum()/len(residuals.index)*100\n",
    "            \n",
    "            if pct_nan>5:\n",
    "                warnings.warn(f\"{stock} % na: {pct_nan}\")\n",
    "            \n",
    "            residuals=residuals.fillna(method=\"ffill\")\n",
    "\n",
    "            best_lags[criterion][usdstring][stock] = best_lag\n",
    "            best_residuals[criterion][usdstring][stock] = residuals\n",
    "\n",
    "        save_as_pickle(\n",
    "            data=best_lags[criterion][usdstring],\n",
    "            contains_USD=contains_USD,\n",
    "            criterion=criterion,\n",
    "            type_save=\"lags\",\n",
    "        )\n",
    "        save_as_pickle(\n",
    "            data=best_residuals[criterion][usdstring],\n",
    "            contains_USD=contains_USD,\n",
    "            criterion=criterion,\n",
    "            type_save=\"residuals\",\n",
    "        )"
   ]
  }
 ],
 "metadata": {
  "@webio": {
   "lastCommId": null,
   "lastKernelId": null
  },
  "kernelspec": {
   "display_name": "Python 3 (ipykernel)",
   "language": "python",
   "name": "python3"
  },
  "language_info": {
   "codemirror_mode": {
    "name": "ipython",
    "version": 3
   },
   "file_extension": ".py",
   "mimetype": "text/x-python",
   "name": "python",
   "nbconvert_exporter": "python",
   "pygments_lexer": "ipython3",
   "version": "3.11.5"
  }
 },
 "nbformat": 4,
 "nbformat_minor": 2
}
