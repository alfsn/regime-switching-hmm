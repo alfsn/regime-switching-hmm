{
 "cells": [
  {
   "cell_type": "markdown",
   "metadata": {},
   "source": [
    "## Startup"
   ]
  },
  {
   "cell_type": "code",
   "execution_count": 2,
   "metadata": {},
   "outputs": [],
   "source": [
    "import numpy as np\n",
    "import pandas as pd\n",
    "import pandas_datareader as web\n",
    "import matplotlib.pyplot as plt\n",
    "\n",
    "import os\n",
    "import pickle"
   ]
  },
  {
   "cell_type": "code",
   "execution_count": 3,
   "metadata": {},
   "outputs": [],
   "source": [
    "import yfinance as yf\n",
    "yf.pdr_override()"
   ]
  },
  {
   "cell_type": "code",
   "execution_count": 4,
   "metadata": {},
   "outputs": [],
   "source": [
    "np.random.seed(42)"
   ]
  },
  {
   "cell_type": "code",
   "execution_count": 5,
   "metadata": {},
   "outputs": [],
   "source": [
    "dataroute=os.path.join(\"..\",  \"data\")\n",
    "resultsroute=os.path.join(\"..\",  \"results\")"
   ]
  },
  {
   "cell_type": "markdown",
   "metadata": {},
   "source": [
    "## Data Retrieval"
   ]
  },
  {
   "cell_type": "code",
   "execution_count": 5,
   "metadata": {},
   "outputs": [],
   "source": [
    "tickerlist=[\"^MERV\", \n",
    "            \"GGAL\", \"GGAL.BA\", \n",
    "            \"YPF\", \"YPFD.BA\",\n",
    "            \"EDN\", \"EDN.BA\",\n",
    "            \"BMA\", \"BMA.BA\"] \n",
    "# sumar tamb BBAR/BBAR? TEO/TECO2?"
   ]
  },
  {
   "cell_type": "code",
   "execution_count": 6,
   "metadata": {},
   "outputs": [],
   "source": [
    "factordict={\"GGAL\": 10, \"YPF\":1, \"EDN\":20, \"BMA\":10, \"BBAR\":3, \"TEO\":5}"
   ]
  },
  {
   "cell_type": "code",
   "execution_count": 7,
   "metadata": {},
   "outputs": [],
   "source": [
    "stocks=tickerlist.copy()\n",
    "stocks.remove(\"^MERV\")\n",
    "stocklist=[]\n",
    "\n",
    "for i in range(0, len(stocks), 2):\n",
    "    stocklist.append((stocks[i], stocks[i+1]))\n",
    "del stocks\n",
    "stocklist"
   ]
  },
  {
   "cell_type": "code",
   "execution_count": 8,
   "metadata": {},
   "outputs": [],
   "source": [
    "ohlclist=[\"Open\", \"High\", \"Low\", \"Close\"]"
   ]
  },
  {
   "cell_type": "code",
   "execution_count": 9,
   "metadata": {},
   "outputs": [],
   "source": [
    "objectlist=[]\n",
    "\n",
    "for ticker in tickerlist:\n",
    "    objectlist.append(yf.Ticker(ticker))    "
   ]
  },
  {
   "cell_type": "code",
   "execution_count": 10,
   "metadata": {},
   "outputs": [],
   "source": [
    "# get historical market data\n",
    "data={}\n",
    "start='2013-01-01'\n",
    "end=\"2023-06-01\""
   ]
  },
  {
   "cell_type": "code",
   "execution_count": 11,
   "metadata": {},
   "outputs": [],
   "source": [
    "name=f'dataset_{start}_{end}.pickle'\n",
    "filename=os.path.join(dataroute, name)"
   ]
  },
  {
   "cell_type": "code",
   "execution_count": 12,
   "metadata": {},
   "outputs": [],
   "source": [
    "if not os.path.exists(filename):\n",
    "    for ticker in objectlist:\n",
    "        # descargo data en un diccionario[ticker]\n",
    "        data[ticker.ticker] = ticker.history(start=start, end=end)\n",
    "        # guardo en un pickle\n",
    "    with open(filename, 'wb') as handle:\n",
    "        pickle.dump(data, handle, protocol=pickle.HIGHEST_PROTOCOL)\n",
    "            \n",
    "else:\n",
    "    with open(filename, 'rb') as handle:\n",
    "        data=pickle.load(handle)"
   ]
  },
  {
   "cell_type": "markdown",
   "metadata": {},
   "source": [
    "## Data quality deletion"
   ]
  },
  {
   "cell_type": "code",
   "execution_count": 13,
   "metadata": {},
   "outputs": [],
   "source": [
    "data_quality_dates=[\"2022-07-14\"]"
   ]
  },
  {
   "cell_type": "code",
   "execution_count": 14,
   "metadata": {},
   "outputs": [],
   "source": [
    "for ticker in tickerlist:\n",
    "    data[ticker]=data[ticker].loc[~data[ticker].index.isin(pd.to_datetime(data_quality_dates))]"
   ]
  },
  {
   "cell_type": "markdown",
   "metadata": {},
   "source": [
    "## Implicit USD calculation"
   ]
  },
  {
   "cell_type": "code",
   "execution_count": 15,
   "metadata": {},
   "outputs": [],
   "source": [
    "def _reindex_refill_dfs(df1, df2):\n",
    "    \"\"\"\n",
    "    The function returns two dataframes with an index as the union of the two.\n",
    "    The dataframes are then forward filled.\n",
    "    \"\"\"\n",
    "    index3=df1.index.union(df2.index)\n",
    "    # reindex both con index3\n",
    "    df3=df1.reindex(index3)\n",
    "    df4=df2.reindex(index3)\n",
    "    # fillna con previous value\n",
    "    df3.fillna(method=\"ffill\")\n",
    "    df4.fillna(method=\"ffill\")\n",
    "    return df3, df4"
   ]
  },
  {
   "cell_type": "code",
   "execution_count": 16,
   "metadata": {},
   "outputs": [],
   "source": [
    "def calculate_usd(usd_df, ars_df, conversion_factor):\n",
    "    \"\"\"\n",
    "    The function returns a dataframe with an index the size of the union between the two.\n",
    "    Missing values in dates (stemming from, for example, holidays in one country) are\n",
    "    forward filled to create the last  \n",
    "    \"\"\"\n",
    "    usd_df_r, ars_df_r = _reindex_refill_dfs(usd_df, ars_df)\n",
    "    implicit_usd = ars_df_r.divide(usd_df_r)*conversion_factor\n",
    "    return implicit_usd"
   ]
  },
  {
   "cell_type": "code",
   "execution_count": 17,
   "metadata": {},
   "outputs": [],
   "source": [
    "usdlist=[]\n",
    "for stocktuplo in stocklist:\n",
    "    us, ba = stocktuplo\n",
    "    usdlist.append(f\"USD_{us}\")\n",
    "    data[f\"USD_{us}\"]=calculate_usd(data[us][ohlclist], data[ba][ohlclist], factordict[us])\n",
    "    data[f\"USD_{us}\"][\"Average\"]=data[f\"USD_{us}\"].mean(axis=1)"
   ]
  },
  {
   "cell_type": "code",
   "execution_count": 18,
   "metadata": {},
   "outputs": [],
   "source": [
    "data[\"USD\"]=pd.DataFrame(columns=ohlclist)\n",
    "\n",
    "for i in ohlclist:\n",
    "    df=pd.concat([data[col][i] for col in usdlist], axis=1)\n",
    "    data[\"USD\"][i]=df.mean(axis=1)\n",
    "    \n",
    "data[\"USD\"][\"Average\"]=data[\"USD\"].mean(axis=1)"
   ]
  },
  {
   "cell_type": "code",
   "execution_count": 19,
   "metadata": {},
   "outputs": [],
   "source": [
    "for key in data.keys():\n",
    "    data[key].fillna(method=\"ffill\", inplace=True)\n",
    "    # revisar esto"
   ]
  },
  {
   "cell_type": "code",
   "execution_count": 20,
   "metadata": {},
   "outputs": [],
   "source": [
    "data[\"USD\"][[*ohlclist, \"Average\"]].plot(figsize=(10,10), logy=True, grid=True)"
   ]
  },
  {
   "cell_type": "markdown",
   "metadata": {},
   "source": [
    "## USD Denominated Index"
   ]
  },
  {
   "cell_type": "code",
   "execution_count": 21,
   "metadata": {},
   "outputs": [],
   "source": [
    "data[\"USD_^MERV\"]=pd.DataFrame(columns=ohlclist)\n",
    "\n",
    "for col in ohlclist:\n",
    "    data[\"USD_^MERV\"][col] = data[\"^MERV\"][col]/data[\"USD\"][\"Average\"]"
   ]
  },
  {
   "cell_type": "code",
   "execution_count": 22,
   "metadata": {},
   "outputs": [],
   "source": [
    "data[\"USD_^MERV\"].fillna(method=\"ffill\", inplace=True)"
   ]
  },
  {
   "cell_type": "markdown",
   "metadata": {},
   "source": [
    "## Intraday Volatility"
   ]
  },
  {
   "cell_type": "markdown",
   "metadata": {},
   "source": [
    "Vamos a usar para medir intraday volatility el estimador de Garman and Klass (1980):\n",
    "\n",
    "$$V_{ohlc}=0.5*[log(H)-log(L)]^2+(2*log(2)-1)*[log(C)-log(O)]^2$$ \n",
    "Donde H es el precio mas alto del día, L el bajo, C el cierre y O su apertura\n",
    "\n",
    "Garman, M. B. and M. J. Klass (1980). On the estimation of security price volatilities from historical data. Journal of Business 53, 67–78."
   ]
  },
  {
   "cell_type": "code",
   "execution_count": 23,
   "metadata": {},
   "outputs": [],
   "source": [
    "def gk_vol(o, h, l, c):\n",
    "    \"Returns Garman Klass (1980) intraday volatility estimator\"\n",
    "    return 0.5*(np.log(h)-np.log(l))**2+(2*np.log(2)-1)*(np.log(c)-np.log(o))**2"
   ]
  },
  {
   "cell_type": "markdown",
   "metadata": {},
   "source": [
    "## Returns Calculation"
   ]
  },
  {
   "cell_type": "code",
   "execution_count": 24,
   "metadata": {},
   "outputs": [],
   "source": [
    "for ticker in data.keys():\n",
    "    view=data[ticker]\n",
    "    view[\"rets\"] = view[\"Close\"]/view[\"Close\"].shift()-1\n",
    "    view[\"log_rets\"] = np.log(view[\"Close\"]/view[\"Close\"].shift())\n",
    "    view[\"norm_range\"] = (view[\"High\"]-view[\"Low\"])/view[\"Open\"]\n",
    "    # chequear si esto tiene asidero\n",
    "    # alternativa (view[\"High\"]-view[\"Low\"])/view[\"Close\"]\n",
    "    view[\"gk_vol\"] = gk_vol(o=view[\"Open\"], h=view[\"High\"], l=view[\"Low\"], c=view[\"Close\"])\n",
    "    # delete first observation to eliminate nans\n",
    "    data[ticker]=data[ticker][1:].copy()"
   ]
  },
  {
   "cell_type": "markdown",
   "metadata": {},
   "source": [
    "## Save dataset"
   ]
  },
  {
   "cell_type": "code",
   "execution_count": 25,
   "metadata": {},
   "outputs": [],
   "source": [
    "processedname=\"processed_\"+name\n",
    "with open(os.path.join(dataroute, processedname), 'wb') as handle:\n",
    "    pickle.dump(data, handle, protocol=pickle.HIGHEST_PROTOCOL)"
   ]
  },
  {
   "cell_type": "markdown",
   "metadata": {},
   "source": [
    "## Process into single dataframe, matching dates and forward filling\n",
    "Véase https://github.com/alfsn/regime-switching-hmm/issues/9"
   ]
  },
  {
   "cell_type": "code",
   "execution_count": 10,
   "metadata": {},
   "outputs": [],
   "source": [
    "df=pd.DataFrame()\n",
    "\n",
    "for key, value in data.items():\n",
    "    for column in [\"rets\", \"log_rets\", \"gk_vol\"]:\n",
    "        df[key+\"_\"+column]=value[column]"
   ]
  },
  {
   "cell_type": "code",
   "execution_count": 18,
   "metadata": {},
   "outputs": [
    {
     "data": {
      "text/html": [
       "<div>\n",
       "<style scoped>\n",
       "    .dataframe tbody tr th:only-of-type {\n",
       "        vertical-align: middle;\n",
       "    }\n",
       "\n",
       "    .dataframe tbody tr th {\n",
       "        vertical-align: top;\n",
       "    }\n",
       "\n",
       "    .dataframe thead th {\n",
       "        text-align: right;\n",
       "    }\n",
       "</style>\n",
       "<table border=\"1\" class=\"dataframe\">\n",
       "  <thead>\n",
       "    <tr style=\"text-align: right;\">\n",
       "      <th></th>\n",
       "      <th>GGAL_rets</th>\n",
       "      <th>GGAL_log_rets</th>\n",
       "      <th>GGAL_gk_vol</th>\n",
       "      <th>GGAL.BA_rets</th>\n",
       "      <th>GGAL.BA_log_rets</th>\n",
       "      <th>GGAL.BA_gk_vol</th>\n",
       "      <th>YPF_rets</th>\n",
       "      <th>YPF_log_rets</th>\n",
       "      <th>YPF_gk_vol</th>\n",
       "      <th>YPFD.BA_rets</th>\n",
       "      <th>...</th>\n",
       "      <th>EDN.BA_gk_vol</th>\n",
       "      <th>BMA_rets</th>\n",
       "      <th>BMA_log_rets</th>\n",
       "      <th>BMA_gk_vol</th>\n",
       "      <th>BMA.BA_rets</th>\n",
       "      <th>BMA.BA_log_rets</th>\n",
       "      <th>BMA.BA_gk_vol</th>\n",
       "      <th>USD_EDN_rets</th>\n",
       "      <th>USD_EDN_log_rets</th>\n",
       "      <th>USD_EDN_gk_vol</th>\n",
       "    </tr>\n",
       "    <tr>\n",
       "      <th>Date</th>\n",
       "      <th></th>\n",
       "      <th></th>\n",
       "      <th></th>\n",
       "      <th></th>\n",
       "      <th></th>\n",
       "      <th></th>\n",
       "      <th></th>\n",
       "      <th></th>\n",
       "      <th></th>\n",
       "      <th></th>\n",
       "      <th></th>\n",
       "      <th></th>\n",
       "      <th></th>\n",
       "      <th></th>\n",
       "      <th></th>\n",
       "      <th></th>\n",
       "      <th></th>\n",
       "      <th></th>\n",
       "      <th></th>\n",
       "      <th></th>\n",
       "      <th></th>\n",
       "    </tr>\n",
       "  </thead>\n",
       "  <tbody>\n",
       "    <tr>\n",
       "      <th>2013-01-10</th>\n",
       "      <td>0.011817</td>\n",
       "      <td>0.011748</td>\n",
       "      <td>0.000385</td>\n",
       "      <td>NaN</td>\n",
       "      <td>NaN</td>\n",
       "      <td>NaN</td>\n",
       "      <td>-0.005822</td>\n",
       "      <td>-0.005839</td>\n",
       "      <td>0.000326</td>\n",
       "      <td>NaN</td>\n",
       "      <td>...</td>\n",
       "      <td>NaN</td>\n",
       "      <td>-0.007131</td>\n",
       "      <td>-0.007156</td>\n",
       "      <td>0.000449</td>\n",
       "      <td>NaN</td>\n",
       "      <td>NaN</td>\n",
       "      <td>NaN</td>\n",
       "      <td>0.000000</td>\n",
       "      <td>0.000000</td>\n",
       "      <td>0.001563</td>\n",
       "    </tr>\n",
       "    <tr>\n",
       "      <th>2013-01-21</th>\n",
       "      <td>NaN</td>\n",
       "      <td>NaN</td>\n",
       "      <td>NaN</td>\n",
       "      <td>0.014583</td>\n",
       "      <td>0.014478</td>\n",
       "      <td>0.000131</td>\n",
       "      <td>NaN</td>\n",
       "      <td>NaN</td>\n",
       "      <td>NaN</td>\n",
       "      <td>0.044843</td>\n",
       "      <td>...</td>\n",
       "      <td>0.000634</td>\n",
       "      <td>NaN</td>\n",
       "      <td>NaN</td>\n",
       "      <td>NaN</td>\n",
       "      <td>0.015385</td>\n",
       "      <td>0.015267</td>\n",
       "      <td>0.000122</td>\n",
       "      <td>0.000000</td>\n",
       "      <td>0.000000</td>\n",
       "      <td>0.001101</td>\n",
       "    </tr>\n",
       "    <tr>\n",
       "      <th>2013-02-18</th>\n",
       "      <td>NaN</td>\n",
       "      <td>NaN</td>\n",
       "      <td>NaN</td>\n",
       "      <td>0.000000</td>\n",
       "      <td>0.000000</td>\n",
       "      <td>0.000000</td>\n",
       "      <td>NaN</td>\n",
       "      <td>NaN</td>\n",
       "      <td>NaN</td>\n",
       "      <td>0.000000</td>\n",
       "      <td>...</td>\n",
       "      <td>0.000000</td>\n",
       "      <td>NaN</td>\n",
       "      <td>NaN</td>\n",
       "      <td>NaN</td>\n",
       "      <td>0.000000</td>\n",
       "      <td>0.000000</td>\n",
       "      <td>0.000000</td>\n",
       "      <td>0.000000</td>\n",
       "      <td>0.000000</td>\n",
       "      <td>0.002106</td>\n",
       "    </tr>\n",
       "    <tr>\n",
       "      <th>2013-04-10</th>\n",
       "      <td>-0.001686</td>\n",
       "      <td>-0.001688</td>\n",
       "      <td>0.000545</td>\n",
       "      <td>0.000000</td>\n",
       "      <td>0.000000</td>\n",
       "      <td>0.000000</td>\n",
       "      <td>-0.040645</td>\n",
       "      <td>-0.041494</td>\n",
       "      <td>0.003459</td>\n",
       "      <td>0.000000</td>\n",
       "      <td>...</td>\n",
       "      <td>0.000000</td>\n",
       "      <td>-0.001296</td>\n",
       "      <td>-0.001297</td>\n",
       "      <td>0.000357</td>\n",
       "      <td>NaN</td>\n",
       "      <td>NaN</td>\n",
       "      <td>NaN</td>\n",
       "      <td>-0.013453</td>\n",
       "      <td>-0.013544</td>\n",
       "      <td>0.000000</td>\n",
       "    </tr>\n",
       "    <tr>\n",
       "      <th>2013-04-19</th>\n",
       "      <td>0.011342</td>\n",
       "      <td>0.011279</td>\n",
       "      <td>0.006057</td>\n",
       "      <td>0.000000</td>\n",
       "      <td>0.000000</td>\n",
       "      <td>0.000000</td>\n",
       "      <td>0.003159</td>\n",
       "      <td>0.003154</td>\n",
       "      <td>0.000309</td>\n",
       "      <td>0.000000</td>\n",
       "      <td>...</td>\n",
       "      <td>0.000000</td>\n",
       "      <td>0.017065</td>\n",
       "      <td>0.016921</td>\n",
       "      <td>0.000759</td>\n",
       "      <td>NaN</td>\n",
       "      <td>NaN</td>\n",
       "      <td>NaN</td>\n",
       "      <td>0.000000</td>\n",
       "      <td>0.000000</td>\n",
       "      <td>0.000000</td>\n",
       "    </tr>\n",
       "    <tr>\n",
       "      <th>...</th>\n",
       "      <td>...</td>\n",
       "      <td>...</td>\n",
       "      <td>...</td>\n",
       "      <td>...</td>\n",
       "      <td>...</td>\n",
       "      <td>...</td>\n",
       "      <td>...</td>\n",
       "      <td>...</td>\n",
       "      <td>...</td>\n",
       "      <td>...</td>\n",
       "      <td>...</td>\n",
       "      <td>...</td>\n",
       "      <td>...</td>\n",
       "      <td>...</td>\n",
       "      <td>...</td>\n",
       "      <td>...</td>\n",
       "      <td>...</td>\n",
       "      <td>...</td>\n",
       "      <td>...</td>\n",
       "      <td>...</td>\n",
       "      <td>...</td>\n",
       "    </tr>\n",
       "    <tr>\n",
       "      <th>2022-11-24</th>\n",
       "      <td>NaN</td>\n",
       "      <td>NaN</td>\n",
       "      <td>NaN</td>\n",
       "      <td>0.010238</td>\n",
       "      <td>0.010185</td>\n",
       "      <td>0.000133</td>\n",
       "      <td>NaN</td>\n",
       "      <td>NaN</td>\n",
       "      <td>NaN</td>\n",
       "      <td>0.026714</td>\n",
       "      <td>...</td>\n",
       "      <td>0.000630</td>\n",
       "      <td>NaN</td>\n",
       "      <td>NaN</td>\n",
       "      <td>NaN</td>\n",
       "      <td>0.028935</td>\n",
       "      <td>0.028524</td>\n",
       "      <td>0.000454</td>\n",
       "      <td>0.000000</td>\n",
       "      <td>0.000000</td>\n",
       "      <td>0.000285</td>\n",
       "    </tr>\n",
       "    <tr>\n",
       "      <th>2022-12-26</th>\n",
       "      <td>NaN</td>\n",
       "      <td>NaN</td>\n",
       "      <td>NaN</td>\n",
       "      <td>0.011345</td>\n",
       "      <td>0.011281</td>\n",
       "      <td>0.001117</td>\n",
       "      <td>NaN</td>\n",
       "      <td>NaN</td>\n",
       "      <td>NaN</td>\n",
       "      <td>0.015120</td>\n",
       "      <td>...</td>\n",
       "      <td>0.000763</td>\n",
       "      <td>NaN</td>\n",
       "      <td>NaN</td>\n",
       "      <td>NaN</td>\n",
       "      <td>0.013233</td>\n",
       "      <td>0.013146</td>\n",
       "      <td>0.002052</td>\n",
       "      <td>0.000000</td>\n",
       "      <td>0.000000</td>\n",
       "      <td>0.000004</td>\n",
       "    </tr>\n",
       "    <tr>\n",
       "      <th>2023-01-02</th>\n",
       "      <td>NaN</td>\n",
       "      <td>NaN</td>\n",
       "      <td>NaN</td>\n",
       "      <td>0.015663</td>\n",
       "      <td>0.015541</td>\n",
       "      <td>0.000362</td>\n",
       "      <td>NaN</td>\n",
       "      <td>NaN</td>\n",
       "      <td>NaN</td>\n",
       "      <td>0.039941</td>\n",
       "      <td>...</td>\n",
       "      <td>0.004389</td>\n",
       "      <td>NaN</td>\n",
       "      <td>NaN</td>\n",
       "      <td>NaN</td>\n",
       "      <td>0.030126</td>\n",
       "      <td>0.029681</td>\n",
       "      <td>0.001014</td>\n",
       "      <td>0.000000</td>\n",
       "      <td>0.000000</td>\n",
       "      <td>0.000042</td>\n",
       "    </tr>\n",
       "    <tr>\n",
       "      <th>2023-01-16</th>\n",
       "      <td>NaN</td>\n",
       "      <td>NaN</td>\n",
       "      <td>NaN</td>\n",
       "      <td>0.018600</td>\n",
       "      <td>0.018429</td>\n",
       "      <td>0.000974</td>\n",
       "      <td>NaN</td>\n",
       "      <td>NaN</td>\n",
       "      <td>NaN</td>\n",
       "      <td>0.040827</td>\n",
       "      <td>...</td>\n",
       "      <td>0.001625</td>\n",
       "      <td>NaN</td>\n",
       "      <td>NaN</td>\n",
       "      <td>NaN</td>\n",
       "      <td>0.036447</td>\n",
       "      <td>0.035799</td>\n",
       "      <td>0.003793</td>\n",
       "      <td>0.000000</td>\n",
       "      <td>0.000000</td>\n",
       "      <td>0.000011</td>\n",
       "    </tr>\n",
       "    <tr>\n",
       "      <th>2023-05-29</th>\n",
       "      <td>NaN</td>\n",
       "      <td>NaN</td>\n",
       "      <td>NaN</td>\n",
       "      <td>0.023162</td>\n",
       "      <td>0.022897</td>\n",
       "      <td>0.000620</td>\n",
       "      <td>NaN</td>\n",
       "      <td>NaN</td>\n",
       "      <td>NaN</td>\n",
       "      <td>0.010033</td>\n",
       "      <td>...</td>\n",
       "      <td>0.001280</td>\n",
       "      <td>NaN</td>\n",
       "      <td>NaN</td>\n",
       "      <td>NaN</td>\n",
       "      <td>-0.005648</td>\n",
       "      <td>-0.005664</td>\n",
       "      <td>0.000584</td>\n",
       "      <td>0.000000</td>\n",
       "      <td>0.000000</td>\n",
       "      <td>0.001799</td>\n",
       "    </tr>\n",
       "  </tbody>\n",
       "</table>\n",
       "<p>90 rows × 27 columns</p>\n",
       "</div>"
      ],
      "text/plain": [
       "            GGAL_rets  GGAL_log_rets  GGAL_gk_vol  GGAL.BA_rets  \\\n",
       "Date                                                              \n",
       "2013-01-10   0.011817       0.011748     0.000385           NaN   \n",
       "2013-01-21        NaN            NaN          NaN      0.014583   \n",
       "2013-02-18        NaN            NaN          NaN      0.000000   \n",
       "2013-04-10  -0.001686      -0.001688     0.000545      0.000000   \n",
       "2013-04-19   0.011342       0.011279     0.006057      0.000000   \n",
       "...               ...            ...          ...           ...   \n",
       "2022-11-24        NaN            NaN          NaN      0.010238   \n",
       "2022-12-26        NaN            NaN          NaN      0.011345   \n",
       "2023-01-02        NaN            NaN          NaN      0.015663   \n",
       "2023-01-16        NaN            NaN          NaN      0.018600   \n",
       "2023-05-29        NaN            NaN          NaN      0.023162   \n",
       "\n",
       "            GGAL.BA_log_rets  GGAL.BA_gk_vol  YPF_rets  YPF_log_rets  \\\n",
       "Date                                                                   \n",
       "2013-01-10               NaN             NaN -0.005822     -0.005839   \n",
       "2013-01-21          0.014478        0.000131       NaN           NaN   \n",
       "2013-02-18          0.000000        0.000000       NaN           NaN   \n",
       "2013-04-10          0.000000        0.000000 -0.040645     -0.041494   \n",
       "2013-04-19          0.000000        0.000000  0.003159      0.003154   \n",
       "...                      ...             ...       ...           ...   \n",
       "2022-11-24          0.010185        0.000133       NaN           NaN   \n",
       "2022-12-26          0.011281        0.001117       NaN           NaN   \n",
       "2023-01-02          0.015541        0.000362       NaN           NaN   \n",
       "2023-01-16          0.018429        0.000974       NaN           NaN   \n",
       "2023-05-29          0.022897        0.000620       NaN           NaN   \n",
       "\n",
       "            YPF_gk_vol  YPFD.BA_rets  ...  EDN.BA_gk_vol  BMA_rets  \\\n",
       "Date                                  ...                            \n",
       "2013-01-10    0.000326           NaN  ...            NaN -0.007131   \n",
       "2013-01-21         NaN      0.044843  ...       0.000634       NaN   \n",
       "2013-02-18         NaN      0.000000  ...       0.000000       NaN   \n",
       "2013-04-10    0.003459      0.000000  ...       0.000000 -0.001296   \n",
       "2013-04-19    0.000309      0.000000  ...       0.000000  0.017065   \n",
       "...                ...           ...  ...            ...       ...   \n",
       "2022-11-24         NaN      0.026714  ...       0.000630       NaN   \n",
       "2022-12-26         NaN      0.015120  ...       0.000763       NaN   \n",
       "2023-01-02         NaN      0.039941  ...       0.004389       NaN   \n",
       "2023-01-16         NaN      0.040827  ...       0.001625       NaN   \n",
       "2023-05-29         NaN      0.010033  ...       0.001280       NaN   \n",
       "\n",
       "            BMA_log_rets  BMA_gk_vol  BMA.BA_rets  BMA.BA_log_rets  \\\n",
       "Date                                                                 \n",
       "2013-01-10     -0.007156    0.000449          NaN              NaN   \n",
       "2013-01-21           NaN         NaN     0.015385         0.015267   \n",
       "2013-02-18           NaN         NaN     0.000000         0.000000   \n",
       "2013-04-10     -0.001297    0.000357          NaN              NaN   \n",
       "2013-04-19      0.016921    0.000759          NaN              NaN   \n",
       "...                  ...         ...          ...              ...   \n",
       "2022-11-24           NaN         NaN     0.028935         0.028524   \n",
       "2022-12-26           NaN         NaN     0.013233         0.013146   \n",
       "2023-01-02           NaN         NaN     0.030126         0.029681   \n",
       "2023-01-16           NaN         NaN     0.036447         0.035799   \n",
       "2023-05-29           NaN         NaN    -0.005648        -0.005664   \n",
       "\n",
       "            BMA.BA_gk_vol  USD_EDN_rets  USD_EDN_log_rets  USD_EDN_gk_vol  \n",
       "Date                                                                       \n",
       "2013-01-10            NaN      0.000000          0.000000        0.001563  \n",
       "2013-01-21       0.000122      0.000000          0.000000        0.001101  \n",
       "2013-02-18       0.000000      0.000000          0.000000        0.002106  \n",
       "2013-04-10            NaN     -0.013453         -0.013544        0.000000  \n",
       "2013-04-19            NaN      0.000000          0.000000        0.000000  \n",
       "...                   ...           ...               ...             ...  \n",
       "2022-11-24       0.000454      0.000000          0.000000        0.000285  \n",
       "2022-12-26       0.002052      0.000000          0.000000        0.000004  \n",
       "2023-01-02       0.001014      0.000000          0.000000        0.000042  \n",
       "2023-01-16       0.003793      0.000000          0.000000        0.000011  \n",
       "2023-05-29       0.000584      0.000000          0.000000        0.001799  \n",
       "\n",
       "[90 rows x 27 columns]"
      ]
     },
     "execution_count": 18,
     "metadata": {},
     "output_type": "execute_result"
    }
   ],
   "source": [
    "df.loc[df.isna().any(axis=1), df.isna().any(axis=0)]"
   ]
  },
  {
   "cell_type": "code",
   "execution_count": 19,
   "metadata": {},
   "outputs": [],
   "source": [
    "df.fillna(0, inplace=True)"
   ]
  },
  {
   "cell_type": "code",
   "execution_count": 20,
   "metadata": {},
   "outputs": [],
   "source": [
    "finaldfname=\"finaldf_\"+name\n",
    "with open(os.path.join(dataroute, finaldfname), 'wb') as handle:\n",
    "    pickle.dump(df, handle, protocol=pickle.HIGHEST_PROTOCOL)"
   ]
  },
  {
   "cell_type": "code",
   "execution_count": null,
   "metadata": {},
   "outputs": [],
   "source": []
  }
 ],
 "metadata": {
  "@webio": {
   "lastCommId": null,
   "lastKernelId": null
  },
  "kernelspec": {
   "display_name": "Python 3 (ipykernel)",
   "language": "python",
   "name": "python3"
  },
  "language_info": {
   "codemirror_mode": {
    "name": "ipython",
    "version": 3
   },
   "file_extension": ".py",
   "mimetype": "text/x-python",
   "name": "python",
   "nbconvert_exporter": "python",
   "pygments_lexer": "ipython3",
   "version": "3.11.3"
  }
 },
 "nbformat": 4,
 "nbformat_minor": 2
}
