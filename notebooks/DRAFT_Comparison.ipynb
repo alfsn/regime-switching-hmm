{
 "cells": [
  {
   "cell_type": "markdown",
   "id": "53f032f0",
   "metadata": {},
   "source": [
    "# Comparison\n",
    "In this notebook, we will compare the performance of one day forecasts for each model for each stock."
   ]
  },
  {
   "cell_type": "markdown",
   "id": "949f625e",
   "metadata": {},
   "source": [
    "With i stocks and k models, we begin with a ixk matrix where the ith/kth element of the array is the kth model, ith stock optimal parameters as estimated by previous notebooks."
   ]
  },
  {
   "cell_type": "code",
   "execution_count": null,
   "id": "1eba1443",
   "metadata": {},
   "outputs": [],
   "source": []
  }
 ],
 "metadata": {
  "@webio": {
   "lastCommId": null,
   "lastKernelId": null
  },
  "kernelspec": {
   "display_name": "Python 3 (ipykernel)",
   "language": "python",
   "name": "python3"
  },
  "language_info": {
   "codemirror_mode": {
    "name": "ipython",
    "version": 3
   },
   "file_extension": ".py",
   "mimetype": "text/x-python",
   "name": "python",
   "nbconvert_exporter": "python",
   "pygments_lexer": "ipython3",
   "version": "3.11.3"
  }
 },
 "nbformat": 4,
 "nbformat_minor": 5
}
