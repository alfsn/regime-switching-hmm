{
 "cells": [
  {
   "cell_type": "markdown",
   "metadata": {},
   "source": [
    "## Startup"
   ]
  },
  {
   "cell_type": "code",
   "execution_count": 15,
   "metadata": {},
   "outputs": [],
   "source": [
    "import numpy as np\n",
    "import pandas as pd\n",
    "import matplotlib.pyplot as plt\n",
    "from hmmlearn import hmm\n",
    "\n",
    "import os\n",
    "import pickle"
   ]
  },
  {
   "cell_type": "code",
   "execution_count": 29,
   "metadata": {},
   "outputs": [],
   "source": [
    "hmm.logging.disable(level=80)"
   ]
  },
  {
   "cell_type": "code",
   "execution_count": 27,
   "metadata": {},
   "outputs": [
    {
     "name": "stdout",
     "output_type": "stream",
     "text": [
      "['BASIC_FORMAT', 'BufferingFormatter', 'CRITICAL', 'DEBUG', 'ERROR', 'FATAL', 'FileHandler', 'Filter', 'Filterer', 'Formatter', 'GenericAlias', 'Handler', 'INFO', 'LogRecord', 'Logger', 'LoggerAdapter', 'Manager', 'NOTSET', 'NullHandler', 'PercentStyle', 'PlaceHolder', 'RootLogger', 'StrFormatStyle', 'StreamHandler', 'StringTemplateStyle', 'Template', 'WARN', 'WARNING', '_STYLES', '_StderrHandler', '__all__', '__author__', '__builtins__', '__cached__', '__date__', '__doc__', '__file__', '__loader__', '__name__', '__package__', '__path__', '__spec__', '__status__', '__version__', '_acquireLock', '_addHandlerRef', '_checkLevel', '_defaultFormatter', '_defaultLastResort', '_handlerList', '_handlers', '_is_internal_frame', '_levelToName', '_lock', '_logRecordFactory', '_loggerClass', '_nameToLevel', '_register_at_fork_reinit_lock', '_releaseLock', '_removeHandlerRef', '_showwarning', '_srcfile', '_startTime', '_str_formatter', '_warnings_showwarning', 'addLevelName', 'atexit', 'basicConfig', 'captureWarnings', 'collections', 'config', 'critical', 'currentframe', 'debug', 'disable', 'error', 'exception', 'fatal', 'getLevelName', 'getLevelNamesMapping', 'getLogRecordFactory', 'getLogger', 'getLoggerClass', 'handlers', 'info', 'io', 'lastResort', 'log', 'logMultiprocessing', 'logProcesses', 'logThreads', 'makeLogRecord', 'os', 'raiseExceptions', 're', 'root', 'setLogRecordFactory', 'setLoggerClass', 'shutdown', 'sys', 'threading', 'time', 'traceback', 'warn', 'warning', 'warnings', 'weakref']\n"
     ]
    }
   ],
   "source": [
    "print(dir(hmm.logging))"
   ]
  },
  {
   "cell_type": "code",
   "execution_count": 2,
   "metadata": {},
   "outputs": [],
   "source": [
    "random_state=42\n",
    "np.random.seed(random_state)"
   ]
  },
  {
   "cell_type": "code",
   "execution_count": 3,
   "metadata": {},
   "outputs": [],
   "source": [
    "from scripts.params import get_params\n",
    "\n",
    "params = get_params()"
   ]
  },
  {
   "cell_type": "markdown",
   "metadata": {},
   "source": [
    "## Data Retrieval"
   ]
  },
  {
   "cell_type": "code",
   "execution_count": 4,
   "metadata": {},
   "outputs": [],
   "source": [
    "dataroute=os.path.join(\"..\",  \"data\")\n",
    "dumproute=os.path.join(\"..\",  \"dump\")\n",
    "resultsroute=os.path.join(\"..\",  \"results\")"
   ]
  },
  {
   "cell_type": "code",
   "execution_count": 5,
   "metadata": {},
   "outputs": [],
   "source": [
    "name=f'finaldf_train_{params[\"tablename\"]}.pickle'\n",
    "filename=os.path.join(dataroute, name)\n",
    "with open(filename, 'rb') as handle:\n",
    "    df=pickle.load(handle)\n"
   ]
  },
  {
   "cell_type": "code",
   "execution_count": 6,
   "metadata": {},
   "outputs": [
    {
     "data": {
      "text/html": [
       "<div>\n",
       "<style scoped>\n",
       "    .dataframe tbody tr th:only-of-type {\n",
       "        vertical-align: middle;\n",
       "    }\n",
       "\n",
       "    .dataframe tbody tr th {\n",
       "        vertical-align: top;\n",
       "    }\n",
       "\n",
       "    .dataframe thead th {\n",
       "        text-align: right;\n",
       "    }\n",
       "</style>\n",
       "<table border=\"1\" class=\"dataframe\">\n",
       "  <thead>\n",
       "    <tr style=\"text-align: right;\">\n",
       "      <th></th>\n",
       "      <th>^MERV_rets</th>\n",
       "      <th>^MERV_log_rets</th>\n",
       "      <th>^MERV_gk_vol</th>\n",
       "      <th>GGAL.BA_rets</th>\n",
       "      <th>GGAL.BA_log_rets</th>\n",
       "      <th>GGAL.BA_gk_vol</th>\n",
       "      <th>GGAL_rets</th>\n",
       "      <th>GGAL_log_rets</th>\n",
       "      <th>GGAL_gk_vol</th>\n",
       "      <th>YPFD.BA_rets</th>\n",
       "      <th>...</th>\n",
       "      <th>BBAR.BA_gk_vol</th>\n",
       "      <th>BBAR_rets</th>\n",
       "      <th>BBAR_log_rets</th>\n",
       "      <th>BBAR_gk_vol</th>\n",
       "      <th>USD_rets</th>\n",
       "      <th>USD_log_rets</th>\n",
       "      <th>USD_gk_vol</th>\n",
       "      <th>USD_^MERV_rets</th>\n",
       "      <th>USD_^MERV_log_rets</th>\n",
       "      <th>USD_^MERV_gk_vol</th>\n",
       "    </tr>\n",
       "  </thead>\n",
       "  <tbody>\n",
       "    <tr>\n",
       "      <th>2013-01-03</th>\n",
       "      <td>0.007552</td>\n",
       "      <td>0.007524</td>\n",
       "      <td>0.000129</td>\n",
       "      <td>0.010616</td>\n",
       "      <td>0.010560</td>\n",
       "      <td>0.000677</td>\n",
       "      <td>-0.012748</td>\n",
       "      <td>-0.012830</td>\n",
       "      <td>0.001228</td>\n",
       "      <td>-0.006862</td>\n",
       "      <td>...</td>\n",
       "      <td>0.000169</td>\n",
       "      <td>-0.005725</td>\n",
       "      <td>-0.005742</td>\n",
       "      <td>0.000960</td>\n",
       "      <td>0.008830</td>\n",
       "      <td>0.008792</td>\n",
       "      <td>0.000014</td>\n",
       "      <td>0.001247</td>\n",
       "      <td>0.001246</td>\n",
       "      <td>0.000129</td>\n",
       "    </tr>\n",
       "    <tr>\n",
       "      <th>2013-01-04</th>\n",
       "      <td>0.007092</td>\n",
       "      <td>0.007067</td>\n",
       "      <td>0.000158</td>\n",
       "      <td>-0.006303</td>\n",
       "      <td>-0.006323</td>\n",
       "      <td>0.000208</td>\n",
       "      <td>-0.010043</td>\n",
       "      <td>-0.010094</td>\n",
       "      <td>0.000554</td>\n",
       "      <td>0.004936</td>\n",
       "      <td>...</td>\n",
       "      <td>0.000406</td>\n",
       "      <td>-0.019194</td>\n",
       "      <td>-0.019381</td>\n",
       "      <td>0.000635</td>\n",
       "      <td>0.018043</td>\n",
       "      <td>0.017883</td>\n",
       "      <td>0.000133</td>\n",
       "      <td>-0.005727</td>\n",
       "      <td>-0.005744</td>\n",
       "      <td>0.000158</td>\n",
       "    </tr>\n",
       "    <tr>\n",
       "      <th>2013-01-07</th>\n",
       "      <td>-0.001035</td>\n",
       "      <td>-0.001035</td>\n",
       "      <td>0.000022</td>\n",
       "      <td>0.002114</td>\n",
       "      <td>0.002112</td>\n",
       "      <td>0.000063</td>\n",
       "      <td>-0.014493</td>\n",
       "      <td>-0.014599</td>\n",
       "      <td>0.000517</td>\n",
       "      <td>0.010805</td>\n",
       "      <td>...</td>\n",
       "      <td>0.000492</td>\n",
       "      <td>0.015656</td>\n",
       "      <td>0.015534</td>\n",
       "      <td>0.000511</td>\n",
       "      <td>-0.002489</td>\n",
       "      <td>-0.002492</td>\n",
       "      <td>0.000048</td>\n",
       "      <td>-0.009769</td>\n",
       "      <td>-0.009817</td>\n",
       "      <td>0.000022</td>\n",
       "    </tr>\n",
       "    <tr>\n",
       "      <th>2013-01-08</th>\n",
       "      <td>0.008285</td>\n",
       "      <td>0.008251</td>\n",
       "      <td>0.000082</td>\n",
       "      <td>-0.008439</td>\n",
       "      <td>-0.008475</td>\n",
       "      <td>0.000153</td>\n",
       "      <td>-0.016176</td>\n",
       "      <td>-0.016309</td>\n",
       "      <td>0.001085</td>\n",
       "      <td>0.049563</td>\n",
       "      <td>...</td>\n",
       "      <td>0.000438</td>\n",
       "      <td>-0.015414</td>\n",
       "      <td>-0.015534</td>\n",
       "      <td>0.000642</td>\n",
       "      <td>0.015356</td>\n",
       "      <td>0.015239</td>\n",
       "      <td>0.000064</td>\n",
       "      <td>-0.001117</td>\n",
       "      <td>-0.001118</td>\n",
       "      <td>0.000082</td>\n",
       "    </tr>\n",
       "    <tr>\n",
       "      <th>2013-01-09</th>\n",
       "      <td>0.017826</td>\n",
       "      <td>0.017669</td>\n",
       "      <td>0.000273</td>\n",
       "      <td>0.000000</td>\n",
       "      <td>0.000000</td>\n",
       "      <td>0.000000</td>\n",
       "      <td>0.011958</td>\n",
       "      <td>0.011887</td>\n",
       "      <td>0.005238</td>\n",
       "      <td>0.000000</td>\n",
       "      <td>...</td>\n",
       "      <td>0.000000</td>\n",
       "      <td>-0.003914</td>\n",
       "      <td>-0.003921</td>\n",
       "      <td>0.000147</td>\n",
       "      <td>-0.008671</td>\n",
       "      <td>-0.008709</td>\n",
       "      <td>0.001065</td>\n",
       "      <td>0.017245</td>\n",
       "      <td>0.017098</td>\n",
       "      <td>0.000273</td>\n",
       "    </tr>\n",
       "  </tbody>\n",
       "</table>\n",
       "<p>5 rows × 39 columns</p>\n",
       "</div>"
      ],
      "text/plain": [
       "            ^MERV_rets  ^MERV_log_rets  ^MERV_gk_vol  GGAL.BA_rets  \\\n",
       "2013-01-03    0.007552        0.007524      0.000129      0.010616   \n",
       "2013-01-04    0.007092        0.007067      0.000158     -0.006303   \n",
       "2013-01-07   -0.001035       -0.001035      0.000022      0.002114   \n",
       "2013-01-08    0.008285        0.008251      0.000082     -0.008439   \n",
       "2013-01-09    0.017826        0.017669      0.000273      0.000000   \n",
       "\n",
       "            GGAL.BA_log_rets  GGAL.BA_gk_vol  GGAL_rets  GGAL_log_rets  \\\n",
       "2013-01-03          0.010560        0.000677  -0.012748      -0.012830   \n",
       "2013-01-04         -0.006323        0.000208  -0.010043      -0.010094   \n",
       "2013-01-07          0.002112        0.000063  -0.014493      -0.014599   \n",
       "2013-01-08         -0.008475        0.000153  -0.016176      -0.016309   \n",
       "2013-01-09          0.000000        0.000000   0.011958       0.011887   \n",
       "\n",
       "            GGAL_gk_vol  YPFD.BA_rets  ...  BBAR.BA_gk_vol  BBAR_rets  \\\n",
       "2013-01-03     0.001228     -0.006862  ...        0.000169  -0.005725   \n",
       "2013-01-04     0.000554      0.004936  ...        0.000406  -0.019194   \n",
       "2013-01-07     0.000517      0.010805  ...        0.000492   0.015656   \n",
       "2013-01-08     0.001085      0.049563  ...        0.000438  -0.015414   \n",
       "2013-01-09     0.005238      0.000000  ...        0.000000  -0.003914   \n",
       "\n",
       "            BBAR_log_rets  BBAR_gk_vol  USD_rets  USD_log_rets  USD_gk_vol  \\\n",
       "2013-01-03      -0.005742     0.000960  0.008830      0.008792    0.000014   \n",
       "2013-01-04      -0.019381     0.000635  0.018043      0.017883    0.000133   \n",
       "2013-01-07       0.015534     0.000511 -0.002489     -0.002492    0.000048   \n",
       "2013-01-08      -0.015534     0.000642  0.015356      0.015239    0.000064   \n",
       "2013-01-09      -0.003921     0.000147 -0.008671     -0.008709    0.001065   \n",
       "\n",
       "            USD_^MERV_rets  USD_^MERV_log_rets  USD_^MERV_gk_vol  \n",
       "2013-01-03        0.001247            0.001246          0.000129  \n",
       "2013-01-04       -0.005727           -0.005744          0.000158  \n",
       "2013-01-07       -0.009769           -0.009817          0.000022  \n",
       "2013-01-08       -0.001117           -0.001118          0.000082  \n",
       "2013-01-09        0.017245            0.017098          0.000273  \n",
       "\n",
       "[5 rows x 39 columns]"
      ]
     },
     "execution_count": 6,
     "metadata": {},
     "output_type": "execute_result"
    }
   ],
   "source": [
    "df.head()"
   ]
  },
  {
   "cell_type": "code",
   "execution_count": 7,
   "metadata": {},
   "outputs": [],
   "source": [
    "tickerlist=params[\"tickerlist\"]"
   ]
  },
  {
   "cell_type": "markdown",
   "metadata": {},
   "source": [
    "## HMM Training"
   ]
  },
  {
   "cell_type": "code",
   "execution_count": 8,
   "metadata": {},
   "outputs": [],
   "source": [
    "range_states=range(1,16)\n",
    "emptydf=pd.DataFrame(columns=[\"AIC\", \"BIC\"], index=range_states)\n",
    "emptydf.fillna(np.inf, inplace=True)\n",
    "results_dict_df={stock:emptydf for stock in tickerlist}"
   ]
  },
  {
   "cell_type": "code",
   "execution_count": 9,
   "metadata": {},
   "outputs": [],
   "source": [
    "aic_best_model={stock:None for stock in tickerlist}\n",
    "bic_best_model={stock:None for stock in tickerlist}"
   ]
  },
  {
   "cell_type": "code",
   "execution_count": 30,
   "metadata": {},
   "outputs": [
    {
     "name": "stdout",
     "output_type": "stream",
     "text": [
      ">>>>>>>>>> GGAL.BA 4 did not converge\n",
      ">>>>>>>>>> GGAL.BA 5 did not converge\n"
     ]
    },
    {
     "name": "stderr",
     "output_type": "stream",
     "text": [
      "c:\\Users\\Alfred\\.julia\\conda\\3\\envs\\hmm\\Lib\\site-packages\\hmmlearn\\hmm.py:340: RuntimeWarning: invalid value encountered in divide\n",
      "  self.means_ = ((means_weight * means_prior + stats['obs'])\n"
     ]
    },
    {
     "name": "stdout",
     "output_type": "stream",
     "text": [
      ">>>>>>>>>> GGAL 8 did not converge\n"
     ]
    },
    {
     "name": "stderr",
     "output_type": "stream",
     "text": [
      "c:\\Users\\Alfred\\.julia\\conda\\3\\envs\\hmm\\Lib\\site-packages\\hmmlearn\\hmm.py:340: RuntimeWarning: invalid value encountered in divide\n",
      "  self.means_ = ((means_weight * means_prior + stats['obs'])\n"
     ]
    },
    {
     "name": "stdout",
     "output_type": "stream",
     "text": [
      ">>>>>>>>>> YPFD.BA 5 did not converge\n",
      ">>>>>>>>>> YPFD.BA 8 did not converge\n",
      ">>>>>>>>>> YPFD.BA 14 did not converge\n",
      ">>>>>>>>>> YPFD.BA 15 did not converge\n",
      ">>>>>>>>>> YPF 3 did not converge\n",
      ">>>>>>>>>> YPF 5 did not converge\n",
      ">>>>>>>>>> YPF 11 did not converge\n",
      ">>>>>>>>>> EDN.BA 7 did not converge\n"
     ]
    },
    {
     "name": "stderr",
     "output_type": "stream",
     "text": [
      "c:\\Users\\Alfred\\.julia\\conda\\3\\envs\\hmm\\Lib\\site-packages\\hmmlearn\\hmm.py:340: RuntimeWarning: invalid value encountered in divide\n",
      "  self.means_ = ((means_weight * means_prior + stats['obs'])\n"
     ]
    },
    {
     "name": "stdout",
     "output_type": "stream",
     "text": [
      ">>>>>>>>>> EDN.BA 13 did not converge\n",
      ">>>>>>>>>> EDN 9 did not converge\n"
     ]
    },
    {
     "name": "stderr",
     "output_type": "stream",
     "text": [
      "c:\\Users\\Alfred\\.julia\\conda\\3\\envs\\hmm\\Lib\\site-packages\\hmmlearn\\hmm.py:340: RuntimeWarning: invalid value encountered in divide\n",
      "  self.means_ = ((means_weight * means_prior + stats['obs'])\n"
     ]
    },
    {
     "name": "stdout",
     "output_type": "stream",
     "text": [
      ">>>>>>>>>> EDN 10 did not converge\n",
      ">>>>>>>>>> EDN 12 did not converge\n"
     ]
    },
    {
     "name": "stderr",
     "output_type": "stream",
     "text": [
      "c:\\Users\\Alfred\\.julia\\conda\\3\\envs\\hmm\\Lib\\site-packages\\hmmlearn\\hmm.py:340: RuntimeWarning: invalid value encountered in divide\n",
      "  self.means_ = ((means_weight * means_prior + stats['obs'])\n"
     ]
    },
    {
     "name": "stdout",
     "output_type": "stream",
     "text": [
      ">>>>>>>>>> EDN 13 did not converge\n",
      ">>>>>>>>>> EDN 14 did not converge\n",
      ">>>>>>>>>> BMA.BA 3 did not converge\n",
      ">>>>>>>>>> BMA.BA 5 did not converge\n",
      ">>>>>>>>>> BMA.BA 6 did not converge\n",
      ">>>>>>>>>> BMA.BA 7 did not converge\n",
      ">>>>>>>>>> BMA.BA 15 did not converge\n",
      ">>>>>>>>>> BMA 3 did not converge\n",
      ">>>>>>>>>> BMA 4 did not converge\n",
      ">>>>>>>>>> BMA 9 did not converge\n",
      ">>>>>>>>>> BMA 14 did not converge\n"
     ]
    },
    {
     "name": "stderr",
     "output_type": "stream",
     "text": [
      "c:\\Users\\Alfred\\.julia\\conda\\3\\envs\\hmm\\Lib\\site-packages\\hmmlearn\\hmm.py:340: RuntimeWarning: invalid value encountered in divide\n",
      "  self.means_ = ((means_weight * means_prior + stats['obs'])\n"
     ]
    },
    {
     "name": "stdout",
     "output_type": "stream",
     "text": [
      ">>>>>>>>>> BBAR.BA 5 did not converge\n",
      ">>>>>>>>>> BBAR.BA 7 did not converge\n"
     ]
    },
    {
     "name": "stderr",
     "output_type": "stream",
     "text": [
      "c:\\Users\\Alfred\\.julia\\conda\\3\\envs\\hmm\\Lib\\site-packages\\hmmlearn\\hmm.py:340: RuntimeWarning: invalid value encountered in divide\n",
      "  self.means_ = ((means_weight * means_prior + stats['obs'])\n"
     ]
    },
    {
     "name": "stdout",
     "output_type": "stream",
     "text": [
      ">>>>>>>>>> BBAR.BA 12 did not converge\n",
      ">>>>>>>>>> BBAR.BA 13 did not converge\n",
      ">>>>>>>>>> BBAR.BA 14 did not converge\n",
      ">>>>>>>>>> BBAR 6 did not converge\n",
      ">>>>>>>>>> BBAR 7 did not converge\n"
     ]
    },
    {
     "name": "stderr",
     "output_type": "stream",
     "text": [
      "c:\\Users\\Alfred\\.julia\\conda\\3\\envs\\hmm\\Lib\\site-packages\\hmmlearn\\hmm.py:340: RuntimeWarning: invalid value encountered in divide\n",
      "  self.means_ = ((means_weight * means_prior + stats['obs'])\n"
     ]
    },
    {
     "name": "stdout",
     "output_type": "stream",
     "text": [
      ">>>>>>>>>> BBAR 10 did not converge\n"
     ]
    }
   ],
   "source": [
    "for stock in tickerlist:\n",
    "    columns = [f'{stock}_log_rets', f'{stock}_gk_vol']\n",
    "    insample_data = df[columns]\n",
    "\n",
    "    param_dict={\n",
    "        \"covariance_type\" : \"diag\", \n",
    "        \"n_iter\" : 500,\n",
    "        \"random_state\" : random_state\n",
    "        #no voy a usar startprob_prior por devlog 20-06-23\n",
    "        }\n",
    "\n",
    "    for nstate in range_states:\n",
    "        model = hmm.GaussianHMM(n_components= nstate, **param_dict, verbose=False)\n",
    "        results = model.fit(insample_data)\n",
    "\n",
    "        convergence=results.monitor_.converged\n",
    "        # esta es la condición de si el modelo convergió\n",
    "\n",
    "        all_states_found=np.isclose(a=(model.transmat_.sum(axis=1)), b=1).all()\n",
    "        # esta es la condición de que todos los estados (nstates) hayan sido observados\n",
    "        # si no, alguna fila en la matriz de transición del modelo son 0.\n",
    "        # el errormsg es \"Some rows of transmat_ have zero sum because no transition from the state was ever observed\".\n",
    "\n",
    "        startprob_check = (model.startprob_.sum()==1)\n",
    "        # esta es la condición de que los estados al inicializar estén definidos\n",
    "        \n",
    "        good_model = convergence and all_states_found and startprob_check\n",
    "\n",
    "        if good_model:\n",
    "            try:\n",
    "                results_dict_df[stock].loc[nstate, \"AIC\"]=model.aic(insample_data)\n",
    "                results_dict_df[stock].loc[nstate, \"BIC\"]=model.bic(insample_data)\n",
    "            except ValueError:\n",
    "                pass\n",
    "        else: \n",
    "            print(\">\"*10,f\"{stock} {nstate} did not converge\")\n",
    "            results_dict_df[stock].loc[nstate, \"BIC\"]=np.inf\n",
    "            results_dict_df[stock].loc[nstate, \"BIC\"]=np.inf"
   ]
  },
  {
   "cell_type": "code",
   "execution_count": 31,
   "metadata": {},
   "outputs": [
    {
     "name": "stdout",
     "output_type": "stream",
     "text": [
      "For stock ^MERV, best AIC: 6 best BIC: 3\n",
      "For stock GGAL.BA, best AIC: 6 best BIC: 3\n",
      "For stock GGAL, best AIC: 6 best BIC: 3\n",
      "For stock YPFD.BA, best AIC: 6 best BIC: 3\n",
      "For stock YPF, best AIC: 6 best BIC: 3\n",
      "For stock EDN.BA, best AIC: 6 best BIC: 3\n",
      "For stock EDN, best AIC: 6 best BIC: 3\n",
      "For stock BMA.BA, best AIC: 6 best BIC: 3\n",
      "For stock BMA, best AIC: 6 best BIC: 3\n",
      "For stock BBAR.BA, best AIC: 6 best BIC: 3\n",
      "For stock BBAR, best AIC: 6 best BIC: 3\n"
     ]
    }
   ],
   "source": [
    "for stock in tickerlist:\n",
    "    columns = [f'{stock}_log_rets', f'{stock}_gk_vol']\n",
    "    insample_data = df[columns]\n",
    "    \n",
    "    best_aic_nstate=results_dict_df[stock][\"AIC\"].astype(float).idxmin()\n",
    "    best_bic_nstate=results_dict_df[stock][\"BIC\"].astype(float).idxmin()\n",
    "    print(f\"For stock {stock}, best AIC: {best_aic_nstate} best BIC: {best_bic_nstate}\")\n",
    "\n",
    "    aic_best_model[stock]=hmm.GaussianHMM(n_components = best_aic_nstate, **param_dict).fit(insample_data)\n",
    "    bic_best_model[stock]=hmm.GaussianHMM(n_components = best_bic_nstate, **param_dict).fit(insample_data)"
   ]
  },
  {
   "cell_type": "markdown",
   "metadata": {},
   "source": [
    "# Generating out of sample data"
   ]
  },
  {
   "cell_type": "code",
   "execution_count": 32,
   "metadata": {},
   "outputs": [],
   "source": [
    "name=f'finaldf_test_{params[\"tablename\"]}.pickle'\n",
    "filename=os.path.join(dataroute, name)\n",
    "with open(filename, 'rb') as handle:\n",
    "    df_test=pickle.load(handle)"
   ]
  },
  {
   "cell_type": "markdown",
   "metadata": {},
   "source": [
    "LA SIGUIENTE FUNCION FUNCIONA  \n",
    "EL PROBLEMA ES QUE CON ALGUNOS EXTERNOS FALLA  \n",
    "\n",
    "https://github.com/alfsn/regime-switching-hmm/issues/42"
   ]
  },
  {
   "cell_type": "code",
   "execution_count": 36,
   "metadata": {},
   "outputs": [],
   "source": [
    "def generate_HMM_samples_residuals(model, insample_data, oos_data):\n",
    "    \"\"\"_summary_\n",
    "\n",
    "    Args:\n",
    "        model (_type_): _description_\n",
    "        insample_data (_type_): _description_\n",
    "        oos_data (_type_): _description_\n",
    "    \"\"\"\n",
    "    # pseudocodigo\n",
    "    # agarra el mejor modelo (esto con una cantidad optima de params ya esta)\n",
    "    # fittear t-j con t-j-252d\n",
    "    # Darle un año de datos hasta t-j para que me prediga la secuencia (probabilidad) de estados.\n",
    "        # Le pido que me prediga las probabilidades de cada estado durante el periodo t-j, t-j-252: \n",
    "        # esto me da una matriz de (252 x n estados)\n",
    "        # esto entiendo es https://hmmlearn.readthedocs.io/en/latest/api.html#hmmlearn.hmm.GaussianHMM.predict_proba\n",
    "    # Tomo la ultima fila de la matriz\n",
    "    # Multiplico esa por el vector de medias estimadas: este punto es mi forecast. \n",
    "        # esto es model.means_ (!)    \n",
    "    nstate=model.n_components\n",
    "    columns=oos_data.columns\n",
    "\n",
    "    split_date = oos_data.index[0]\n",
    "    dates_to_forecast = len(oos_data.index)\n",
    "\n",
    "    probabilities=pd.DataFrame(columns=range(nstate), index=oos_data.index)\n",
    "    forecasts=pd.DataFrame(columns=oos_data.columns, index=oos_data.index)\n",
    "\n",
    "    oos_data = pd.concat([insample_data, oos_data])\n",
    "    del insample_data\n",
    "\n",
    "    # vamos a implementar recursive window forecasting\n",
    "    \n",
    "    index = oos_data.index\n",
    "    end_loc = np.where(index >= split_date)[0].min()\n",
    "    # esto es un int del iloc\n",
    "    # preciso usar ints de iloc porque el timedelta se me va a romper con el fin de semana\n",
    "    rolling_window = 252\n",
    "\n",
    "    nstate=model.n_components\n",
    "    model = hmm.GaussianHMM(n_components = nstate, **param_dict, verbose=False)\n",
    "\n",
    "    model_list=[]\n",
    "    counter=0\n",
    "\n",
    "    for i in range(1, dates_to_forecast):\n",
    "        print(i)\n",
    "        date_of_first_forecast = oos_data.index[end_loc + i -1]\n",
    "        \n",
    "        fitstart = end_loc - rolling_window + i\n",
    "        fitend = end_loc + i\n",
    "\n",
    "        # fit model with last year\n",
    "        fit_data=oos_data.iloc[fitstart:fitend][columns]\n",
    "        res=model.fit(fit_data)\n",
    "        model_list.append(res)\n",
    "        # TODO: que pasa si fittea mal?\n",
    "        \n",
    "        # obtenemos las probabilidades por estado del ultimo dia\n",
    "        # son las probabilidades que maximizan la log/likelihood de toda la secuencia\n",
    "        index=len(model_list)\n",
    "        while index>0:\n",
    "            try:\n",
    "                add_count=False\n",
    "                last_day_state_probs = res.predict_proba(fit_data)[-1]\n",
    "                probabilities.loc[date_of_first_forecast] = last_day_state_probs\n",
    "                index=0\n",
    "\n",
    "            except ValueError:\n",
    "                # this happens when startprob_ must sum to 1 (got nan)\n",
    "                add_count=True\n",
    "                index=index-1\n",
    "                res=model_list[index]\n",
    "                \n",
    "        if add_count:\n",
    "            counter=counter+1\n",
    "        # model.means_ es es la media condicional a cada estado\n",
    "            # cada columna representa cada columna del dataset\n",
    "            # cada fila es un estado\n",
    "        # el producto punto entre este y las probabilidades del ultimo día me da la media esperada por cada columna\n",
    "        expected_means = np.dot(last_day_state_probs, model.means_)\n",
    "        forecasts.loc[date_of_first_forecast]=expected_means\n",
    "\n",
    "        # si el modelo falla en el predict_proba, se utiliza el de t-1\n",
    "        \n",
    "    print(\"failed models: \", counter)\n",
    "    return probabilities, forecasts"
   ]
  },
  {
   "cell_type": "code",
   "execution_count": 40,
   "metadata": {},
   "outputs": [
    {
     "data": {
      "text/html": [
       "<style>#sk-container-id-1 {color: black;background-color: white;}#sk-container-id-1 pre{padding: 0;}#sk-container-id-1 div.sk-toggleable {background-color: white;}#sk-container-id-1 label.sk-toggleable__label {cursor: pointer;display: block;width: 100%;margin-bottom: 0;padding: 0.3em;box-sizing: border-box;text-align: center;}#sk-container-id-1 label.sk-toggleable__label-arrow:before {content: \"▸\";float: left;margin-right: 0.25em;color: #696969;}#sk-container-id-1 label.sk-toggleable__label-arrow:hover:before {color: black;}#sk-container-id-1 div.sk-estimator:hover label.sk-toggleable__label-arrow:before {color: black;}#sk-container-id-1 div.sk-toggleable__content {max-height: 0;max-width: 0;overflow: hidden;text-align: left;background-color: #f0f8ff;}#sk-container-id-1 div.sk-toggleable__content pre {margin: 0.2em;color: black;border-radius: 0.25em;background-color: #f0f8ff;}#sk-container-id-1 input.sk-toggleable__control:checked~div.sk-toggleable__content {max-height: 200px;max-width: 100%;overflow: auto;}#sk-container-id-1 input.sk-toggleable__control:checked~label.sk-toggleable__label-arrow:before {content: \"▾\";}#sk-container-id-1 div.sk-estimator input.sk-toggleable__control:checked~label.sk-toggleable__label {background-color: #d4ebff;}#sk-container-id-1 div.sk-label input.sk-toggleable__control:checked~label.sk-toggleable__label {background-color: #d4ebff;}#sk-container-id-1 input.sk-hidden--visually {border: 0;clip: rect(1px 1px 1px 1px);clip: rect(1px, 1px, 1px, 1px);height: 1px;margin: -1px;overflow: hidden;padding: 0;position: absolute;width: 1px;}#sk-container-id-1 div.sk-estimator {font-family: monospace;background-color: #f0f8ff;border: 1px dotted black;border-radius: 0.25em;box-sizing: border-box;margin-bottom: 0.5em;}#sk-container-id-1 div.sk-estimator:hover {background-color: #d4ebff;}#sk-container-id-1 div.sk-parallel-item::after {content: \"\";width: 100%;border-bottom: 1px solid gray;flex-grow: 1;}#sk-container-id-1 div.sk-label:hover label.sk-toggleable__label {background-color: #d4ebff;}#sk-container-id-1 div.sk-serial::before {content: \"\";position: absolute;border-left: 1px solid gray;box-sizing: border-box;top: 0;bottom: 0;left: 50%;z-index: 0;}#sk-container-id-1 div.sk-serial {display: flex;flex-direction: column;align-items: center;background-color: white;padding-right: 0.2em;padding-left: 0.2em;position: relative;}#sk-container-id-1 div.sk-item {position: relative;z-index: 1;}#sk-container-id-1 div.sk-parallel {display: flex;align-items: stretch;justify-content: center;background-color: white;position: relative;}#sk-container-id-1 div.sk-item::before, #sk-container-id-1 div.sk-parallel-item::before {content: \"\";position: absolute;border-left: 1px solid gray;box-sizing: border-box;top: 0;bottom: 0;left: 50%;z-index: -1;}#sk-container-id-1 div.sk-parallel-item {display: flex;flex-direction: column;z-index: 1;position: relative;background-color: white;}#sk-container-id-1 div.sk-parallel-item:first-child::after {align-self: flex-end;width: 50%;}#sk-container-id-1 div.sk-parallel-item:last-child::after {align-self: flex-start;width: 50%;}#sk-container-id-1 div.sk-parallel-item:only-child::after {width: 0;}#sk-container-id-1 div.sk-dashed-wrapped {border: 1px dashed gray;margin: 0 0.4em 0.5em 0.4em;box-sizing: border-box;padding-bottom: 0.4em;background-color: white;}#sk-container-id-1 div.sk-label label {font-family: monospace;font-weight: bold;display: inline-block;line-height: 1.2em;}#sk-container-id-1 div.sk-label-container {text-align: center;}#sk-container-id-1 div.sk-container {/* jupyter's `normalize.less` sets `[hidden] { display: none; }` but bootstrap.min.css set `[hidden] { display: none !important; }` so we also need the `!important` here to be able to override the default hidden behavior on the sphinx rendered scikit-learn.org. See: https://github.com/scikit-learn/scikit-learn/issues/21755 */display: inline-block !important;position: relative;}#sk-container-id-1 div.sk-text-repr-fallback {display: none;}</style><div id=\"sk-container-id-1\" class=\"sk-top-container\"><div class=\"sk-text-repr-fallback\"><pre>GaussianHMM(n_components=15, n_iter=500, random_state=42)</pre><b>In a Jupyter environment, please rerun this cell to show the HTML representation or trust the notebook. <br />On GitHub, the HTML representation is unable to render, please try loading this page with nbviewer.org.</b></div><div class=\"sk-container\" hidden><div class=\"sk-item\"><div class=\"sk-estimator sk-toggleable\"><input class=\"sk-toggleable__control sk-hidden--visually\" id=\"sk-estimator-id-1\" type=\"checkbox\" checked><label for=\"sk-estimator-id-1\" class=\"sk-toggleable__label sk-toggleable__label-arrow\">GaussianHMM</label><div class=\"sk-toggleable__content\"><pre>GaussianHMM(n_components=15, n_iter=500, random_state=42)</pre></div></div></div></div></div>"
      ],
      "text/plain": [
       "GaussianHMM(n_components=15, n_iter=500, random_state=42)"
      ]
     },
     "execution_count": 40,
     "metadata": {},
     "output_type": "execute_result"
    }
   ],
   "source": []
  },
  {
   "cell_type": "code",
   "execution_count": 37,
   "metadata": {},
   "outputs": [
    {
     "name": "stdout",
     "output_type": "stream",
     "text": [
      "1\n",
      "2\n",
      "3\n",
      "4\n",
      "5\n",
      "6\n",
      "7\n",
      "8\n",
      "9\n",
      "10\n",
      "11\n",
      "12\n",
      "13\n",
      "14\n",
      "15\n",
      "16\n",
      "17\n",
      "18\n",
      "19\n",
      "20\n",
      "21\n",
      "22\n",
      "23\n",
      "24\n",
      "25\n",
      "26\n",
      "27\n",
      "28\n",
      "29\n",
      "30\n",
      "31\n",
      "32\n",
      "33\n",
      "34\n",
      "35\n",
      "36\n",
      "37\n",
      "38\n",
      "39\n",
      "40\n",
      "41\n",
      "42\n",
      "43\n",
      "44\n",
      "45\n",
      "46\n",
      "47\n",
      "48\n",
      "49\n",
      "50\n",
      "51\n",
      "52\n",
      "53\n",
      "54\n",
      "55\n",
      "56\n",
      "57\n",
      "58\n",
      "59\n",
      "60\n",
      "61\n",
      "62\n",
      "63\n",
      "64\n",
      "65\n",
      "66\n",
      "67\n",
      "68\n",
      "69\n",
      "70\n",
      "71\n",
      "72\n"
     ]
    },
    {
     "name": "stderr",
     "output_type": "stream",
     "text": [
      "c:\\Users\\Alfred\\.julia\\conda\\3\\envs\\hmm\\Lib\\site-packages\\hmmlearn\\hmm.py:340: RuntimeWarning: invalid value encountered in divide\n",
      "  self.means_ = ((means_weight * means_prior + stats['obs'])\n"
     ]
    },
    {
     "name": "stdout",
     "output_type": "stream",
     "text": [
      "73\n"
     ]
    },
    {
     "name": "stderr",
     "output_type": "stream",
     "text": [
      "c:\\Users\\Alfred\\.julia\\conda\\3\\envs\\hmm\\Lib\\site-packages\\hmmlearn\\hmm.py:340: RuntimeWarning: invalid value encountered in divide\n",
      "  self.means_ = ((means_weight * means_prior + stats['obs'])\n"
     ]
    },
    {
     "name": "stdout",
     "output_type": "stream",
     "text": [
      "74\n"
     ]
    },
    {
     "name": "stderr",
     "output_type": "stream",
     "text": [
      "c:\\Users\\Alfred\\.julia\\conda\\3\\envs\\hmm\\Lib\\site-packages\\hmmlearn\\hmm.py:340: RuntimeWarning: invalid value encountered in divide\n",
      "  self.means_ = ((means_weight * means_prior + stats['obs'])\n"
     ]
    },
    {
     "name": "stdout",
     "output_type": "stream",
     "text": [
      "75\n",
      "76\n",
      "77\n",
      "78\n",
      "79\n",
      "80\n",
      "81\n",
      "82\n",
      "83\n",
      "84\n",
      "85\n",
      "86\n",
      "87\n",
      "88\n",
      "89\n",
      "90\n",
      "91\n",
      "92\n",
      "93\n",
      "94\n",
      "95\n",
      "96\n",
      "97\n",
      "98\n",
      "99\n",
      "100\n",
      "101\n",
      "102\n",
      "103\n",
      "104\n",
      "105\n",
      "106\n",
      "107\n",
      "108\n",
      "109\n",
      "110\n",
      "111\n",
      "112\n",
      "113\n",
      "114\n",
      "115\n",
      "116\n",
      "117\n",
      "118\n",
      "119\n",
      "120\n",
      "121\n",
      "122\n",
      "failed models:  3\n"
     ]
    }
   ],
   "source": [
    "stock=\"YPFD.BA\"\n",
    "columns=[f\"{stock}_log_rets\", \n",
    "         f\"{stock}_gk_vol\"]\n",
    "\n",
    "probabilities, forecasts= generate_HMM_samples_residuals(model,\n",
    "                                                           insample_data=df[columns], \n",
    "                                                           oos_data=df_test[columns])"
   ]
  },
  {
   "cell_type": "code",
   "execution_count": 38,
   "metadata": {},
   "outputs": [
    {
     "data": {
      "text/html": [
       "<div>\n",
       "<style scoped>\n",
       "    .dataframe tbody tr th:only-of-type {\n",
       "        vertical-align: middle;\n",
       "    }\n",
       "\n",
       "    .dataframe tbody tr th {\n",
       "        vertical-align: top;\n",
       "    }\n",
       "\n",
       "    .dataframe thead th {\n",
       "        text-align: right;\n",
       "    }\n",
       "</style>\n",
       "<table border=\"1\" class=\"dataframe\">\n",
       "  <thead>\n",
       "    <tr style=\"text-align: right;\">\n",
       "      <th></th>\n",
       "      <th>0</th>\n",
       "      <th>1</th>\n",
       "      <th>2</th>\n",
       "      <th>3</th>\n",
       "      <th>4</th>\n",
       "      <th>5</th>\n",
       "      <th>6</th>\n",
       "      <th>7</th>\n",
       "      <th>8</th>\n",
       "      <th>9</th>\n",
       "      <th>10</th>\n",
       "      <th>11</th>\n",
       "      <th>12</th>\n",
       "      <th>13</th>\n",
       "      <th>14</th>\n",
       "    </tr>\n",
       "  </thead>\n",
       "  <tbody>\n",
       "    <tr>\n",
       "      <th>2023-06-02</th>\n",
       "      <td>0.0</td>\n",
       "      <td>0.0</td>\n",
       "      <td>0.0</td>\n",
       "      <td>0.333596</td>\n",
       "      <td>0.0</td>\n",
       "      <td>0.0</td>\n",
       "      <td>0.0</td>\n",
       "      <td>0.0</td>\n",
       "      <td>0.0</td>\n",
       "      <td>0.070566</td>\n",
       "      <td>0.303652</td>\n",
       "      <td>0.0</td>\n",
       "      <td>0.0</td>\n",
       "      <td>0.292186</td>\n",
       "      <td>0.0</td>\n",
       "    </tr>\n",
       "    <tr>\n",
       "      <th>2023-06-05</th>\n",
       "      <td>0.0</td>\n",
       "      <td>0.0</td>\n",
       "      <td>0.0</td>\n",
       "      <td>0.0</td>\n",
       "      <td>0.0</td>\n",
       "      <td>0.0</td>\n",
       "      <td>0.0</td>\n",
       "      <td>1.0</td>\n",
       "      <td>0.0</td>\n",
       "      <td>0.0</td>\n",
       "      <td>0.0</td>\n",
       "      <td>0.0</td>\n",
       "      <td>0.0</td>\n",
       "      <td>0.0</td>\n",
       "      <td>0.0</td>\n",
       "    </tr>\n",
       "    <tr>\n",
       "      <th>2023-06-06</th>\n",
       "      <td>0.0</td>\n",
       "      <td>0.0</td>\n",
       "      <td>0.0</td>\n",
       "      <td>0.0</td>\n",
       "      <td>0.0</td>\n",
       "      <td>0.0</td>\n",
       "      <td>0.0</td>\n",
       "      <td>1.0</td>\n",
       "      <td>0.0</td>\n",
       "      <td>0.0</td>\n",
       "      <td>0.0</td>\n",
       "      <td>0.0</td>\n",
       "      <td>0.0</td>\n",
       "      <td>0.0</td>\n",
       "      <td>0.0</td>\n",
       "    </tr>\n",
       "    <tr>\n",
       "      <th>2023-06-07</th>\n",
       "      <td>0.0</td>\n",
       "      <td>0.0</td>\n",
       "      <td>0.523549</td>\n",
       "      <td>0.0</td>\n",
       "      <td>0.0</td>\n",
       "      <td>0.0</td>\n",
       "      <td>0.0</td>\n",
       "      <td>0.0</td>\n",
       "      <td>0.0</td>\n",
       "      <td>0.0</td>\n",
       "      <td>0.0</td>\n",
       "      <td>0.476451</td>\n",
       "      <td>0.0</td>\n",
       "      <td>0.0</td>\n",
       "      <td>0.0</td>\n",
       "    </tr>\n",
       "    <tr>\n",
       "      <th>2023-06-08</th>\n",
       "      <td>0.0</td>\n",
       "      <td>0.0</td>\n",
       "      <td>0.0</td>\n",
       "      <td>0.0</td>\n",
       "      <td>0.0</td>\n",
       "      <td>0.0</td>\n",
       "      <td>0.0</td>\n",
       "      <td>1.0</td>\n",
       "      <td>0.0</td>\n",
       "      <td>0.0</td>\n",
       "      <td>0.0</td>\n",
       "      <td>0.0</td>\n",
       "      <td>0.0</td>\n",
       "      <td>0.0</td>\n",
       "      <td>0.0</td>\n",
       "    </tr>\n",
       "    <tr>\n",
       "      <th>...</th>\n",
       "      <td>...</td>\n",
       "      <td>...</td>\n",
       "      <td>...</td>\n",
       "      <td>...</td>\n",
       "      <td>...</td>\n",
       "      <td>...</td>\n",
       "      <td>...</td>\n",
       "      <td>...</td>\n",
       "      <td>...</td>\n",
       "      <td>...</td>\n",
       "      <td>...</td>\n",
       "      <td>...</td>\n",
       "      <td>...</td>\n",
       "      <td>...</td>\n",
       "      <td>...</td>\n",
       "    </tr>\n",
       "    <tr>\n",
       "      <th>2023-11-24</th>\n",
       "      <td>0.0</td>\n",
       "      <td>0.98376</td>\n",
       "      <td>0.0</td>\n",
       "      <td>0.0</td>\n",
       "      <td>0.0</td>\n",
       "      <td>0.0</td>\n",
       "      <td>0.0</td>\n",
       "      <td>0.000044</td>\n",
       "      <td>0.0</td>\n",
       "      <td>0.0</td>\n",
       "      <td>0.0</td>\n",
       "      <td>0.015655</td>\n",
       "      <td>0.0</td>\n",
       "      <td>0.0</td>\n",
       "      <td>0.000542</td>\n",
       "    </tr>\n",
       "    <tr>\n",
       "      <th>2023-11-27</th>\n",
       "      <td>0.000003</td>\n",
       "      <td>0.0</td>\n",
       "      <td>0.000288</td>\n",
       "      <td>0.0</td>\n",
       "      <td>0.0</td>\n",
       "      <td>0.0</td>\n",
       "      <td>0.0</td>\n",
       "      <td>0.999709</td>\n",
       "      <td>0.0</td>\n",
       "      <td>0.0</td>\n",
       "      <td>0.0</td>\n",
       "      <td>0.0</td>\n",
       "      <td>0.0</td>\n",
       "      <td>0.0</td>\n",
       "      <td>0.0</td>\n",
       "    </tr>\n",
       "    <tr>\n",
       "      <th>2023-11-28</th>\n",
       "      <td>0.0</td>\n",
       "      <td>0.988009</td>\n",
       "      <td>0.000001</td>\n",
       "      <td>0.0</td>\n",
       "      <td>0.0</td>\n",
       "      <td>0.0</td>\n",
       "      <td>0.0</td>\n",
       "      <td>0.0</td>\n",
       "      <td>0.0</td>\n",
       "      <td>0.009505</td>\n",
       "      <td>0.001093</td>\n",
       "      <td>0.000003</td>\n",
       "      <td>0.0</td>\n",
       "      <td>0.001388</td>\n",
       "      <td>0.0</td>\n",
       "    </tr>\n",
       "    <tr>\n",
       "      <th>2023-11-29</th>\n",
       "      <td>0.000041</td>\n",
       "      <td>0.0</td>\n",
       "      <td>0.000021</td>\n",
       "      <td>0.0</td>\n",
       "      <td>0.0</td>\n",
       "      <td>0.0</td>\n",
       "      <td>0.0</td>\n",
       "      <td>0.999929</td>\n",
       "      <td>0.0</td>\n",
       "      <td>0.0</td>\n",
       "      <td>0.000002</td>\n",
       "      <td>0.0</td>\n",
       "      <td>0.0</td>\n",
       "      <td>0.0</td>\n",
       "      <td>0.000006</td>\n",
       "    </tr>\n",
       "    <tr>\n",
       "      <th>2023-11-30</th>\n",
       "      <td>NaN</td>\n",
       "      <td>NaN</td>\n",
       "      <td>NaN</td>\n",
       "      <td>NaN</td>\n",
       "      <td>NaN</td>\n",
       "      <td>NaN</td>\n",
       "      <td>NaN</td>\n",
       "      <td>NaN</td>\n",
       "      <td>NaN</td>\n",
       "      <td>NaN</td>\n",
       "      <td>NaN</td>\n",
       "      <td>NaN</td>\n",
       "      <td>NaN</td>\n",
       "      <td>NaN</td>\n",
       "      <td>NaN</td>\n",
       "    </tr>\n",
       "  </tbody>\n",
       "</table>\n",
       "<p>123 rows × 15 columns</p>\n",
       "</div>"
      ],
      "text/plain": [
       "                  0         1         2         3    4    5    6         7   \\\n",
       "2023-06-02       0.0       0.0       0.0  0.333596  0.0  0.0  0.0       0.0   \n",
       "2023-06-05       0.0       0.0       0.0       0.0  0.0  0.0  0.0       1.0   \n",
       "2023-06-06       0.0       0.0       0.0       0.0  0.0  0.0  0.0       1.0   \n",
       "2023-06-07       0.0       0.0  0.523549       0.0  0.0  0.0  0.0       0.0   \n",
       "2023-06-08       0.0       0.0       0.0       0.0  0.0  0.0  0.0       1.0   \n",
       "...              ...       ...       ...       ...  ...  ...  ...       ...   \n",
       "2023-11-24       0.0   0.98376       0.0       0.0  0.0  0.0  0.0  0.000044   \n",
       "2023-11-27  0.000003       0.0  0.000288       0.0  0.0  0.0  0.0  0.999709   \n",
       "2023-11-28       0.0  0.988009  0.000001       0.0  0.0  0.0  0.0       0.0   \n",
       "2023-11-29  0.000041       0.0  0.000021       0.0  0.0  0.0  0.0  0.999929   \n",
       "2023-11-30       NaN       NaN       NaN       NaN  NaN  NaN  NaN       NaN   \n",
       "\n",
       "             8         9         10        11   12        13        14  \n",
       "2023-06-02  0.0  0.070566  0.303652       0.0  0.0  0.292186       0.0  \n",
       "2023-06-05  0.0       0.0       0.0       0.0  0.0       0.0       0.0  \n",
       "2023-06-06  0.0       0.0       0.0       0.0  0.0       0.0       0.0  \n",
       "2023-06-07  0.0       0.0       0.0  0.476451  0.0       0.0       0.0  \n",
       "2023-06-08  0.0       0.0       0.0       0.0  0.0       0.0       0.0  \n",
       "...         ...       ...       ...       ...  ...       ...       ...  \n",
       "2023-11-24  0.0       0.0       0.0  0.015655  0.0       0.0  0.000542  \n",
       "2023-11-27  0.0       0.0       0.0       0.0  0.0       0.0       0.0  \n",
       "2023-11-28  0.0  0.009505  0.001093  0.000003  0.0  0.001388       0.0  \n",
       "2023-11-29  0.0       0.0  0.000002       0.0  0.0       0.0  0.000006  \n",
       "2023-11-30  NaN       NaN       NaN       NaN  NaN       NaN       NaN  \n",
       "\n",
       "[123 rows x 15 columns]"
      ]
     },
     "execution_count": 38,
     "metadata": {},
     "output_type": "execute_result"
    }
   ],
   "source": [
    "probabilities"
   ]
  },
  {
   "cell_type": "code",
   "execution_count": 39,
   "metadata": {},
   "outputs": [
    {
     "data": {
      "text/html": [
       "<div>\n",
       "<style scoped>\n",
       "    .dataframe tbody tr th:only-of-type {\n",
       "        vertical-align: middle;\n",
       "    }\n",
       "\n",
       "    .dataframe tbody tr th {\n",
       "        vertical-align: top;\n",
       "    }\n",
       "\n",
       "    .dataframe thead th {\n",
       "        text-align: right;\n",
       "    }\n",
       "</style>\n",
       "<table border=\"1\" class=\"dataframe\">\n",
       "  <thead>\n",
       "    <tr style=\"text-align: right;\">\n",
       "      <th></th>\n",
       "      <th>YPFD.BA_log_rets</th>\n",
       "      <th>YPFD.BA_gk_vol</th>\n",
       "    </tr>\n",
       "  </thead>\n",
       "  <tbody>\n",
       "    <tr>\n",
       "      <th>2023-06-02</th>\n",
       "      <td>0.008274</td>\n",
       "      <td>0.001732</td>\n",
       "    </tr>\n",
       "    <tr>\n",
       "      <th>2023-06-05</th>\n",
       "      <td>0.006866</td>\n",
       "      <td>0.00176</td>\n",
       "    </tr>\n",
       "    <tr>\n",
       "      <th>2023-06-06</th>\n",
       "      <td>0.007185</td>\n",
       "      <td>0.001763</td>\n",
       "    </tr>\n",
       "    <tr>\n",
       "      <th>2023-06-07</th>\n",
       "      <td>0.00718</td>\n",
       "      <td>0.001758</td>\n",
       "    </tr>\n",
       "    <tr>\n",
       "      <th>2023-06-08</th>\n",
       "      <td>0.007156</td>\n",
       "      <td>0.001752</td>\n",
       "    </tr>\n",
       "    <tr>\n",
       "      <th>...</th>\n",
       "      <td>...</td>\n",
       "      <td>...</td>\n",
       "    </tr>\n",
       "    <tr>\n",
       "      <th>2023-11-24</th>\n",
       "      <td>0.006455</td>\n",
       "      <td>0.002055</td>\n",
       "    </tr>\n",
       "    <tr>\n",
       "      <th>2023-11-27</th>\n",
       "      <td>0.00571</td>\n",
       "      <td>0.002111</td>\n",
       "    </tr>\n",
       "    <tr>\n",
       "      <th>2023-11-28</th>\n",
       "      <td>0.004085</td>\n",
       "      <td>0.002192</td>\n",
       "    </tr>\n",
       "    <tr>\n",
       "      <th>2023-11-29</th>\n",
       "      <td>0.004857</td>\n",
       "      <td>0.002108</td>\n",
       "    </tr>\n",
       "    <tr>\n",
       "      <th>2023-11-30</th>\n",
       "      <td>NaN</td>\n",
       "      <td>NaN</td>\n",
       "    </tr>\n",
       "  </tbody>\n",
       "</table>\n",
       "<p>123 rows × 2 columns</p>\n",
       "</div>"
      ],
      "text/plain": [
       "           YPFD.BA_log_rets YPFD.BA_gk_vol\n",
       "2023-06-02         0.008274       0.001732\n",
       "2023-06-05         0.006866        0.00176\n",
       "2023-06-06         0.007185       0.001763\n",
       "2023-06-07          0.00718       0.001758\n",
       "2023-06-08         0.007156       0.001752\n",
       "...                     ...            ...\n",
       "2023-11-24         0.006455       0.002055\n",
       "2023-11-27          0.00571       0.002111\n",
       "2023-11-28         0.004085       0.002192\n",
       "2023-11-29         0.004857       0.002108\n",
       "2023-11-30              NaN            NaN\n",
       "\n",
       "[123 rows x 2 columns]"
      ]
     },
     "execution_count": 39,
     "metadata": {},
     "output_type": "execute_result"
    }
   ],
   "source": [
    "forecasts"
   ]
  },
  {
   "cell_type": "code",
   "execution_count": null,
   "metadata": {},
   "outputs": [],
   "source": [
    "aic_best_residuals={stock:None for stock in tickerlist}\n",
    "bic_best_residuals={stock:None for stock in tickerlist}"
   ]
  },
  {
   "cell_type": "code",
   "execution_count": null,
   "metadata": {},
   "outputs": [],
   "source": [
    "for stock in tickerlist:\n",
    "    columns = [f'{stock}_log_rets', f'{stock}_gk_vol']\n",
    "    insample_data = df[columns]\n",
    "    oos_data=df_test[columns]\n",
    "\n",
    "    samples, aic_best_residuals[stock] = generate_HMM_samples_residuals(\n",
    "        aic_best_model[stock], \n",
    "        insample_data=insample_data, \n",
    "        oos_data=oos_data)\n",
    "\n",
    "    samples, bic_best_residuals[stock] = generate_HMM_samples_residuals(\n",
    "        bic_best_model[stock], \n",
    "        insample_data=insample_data, \n",
    "        oos_data=oos_data)"
   ]
  },
  {
   "cell_type": "markdown",
   "metadata": {},
   "source": [
    "# Guardado de datos"
   ]
  },
  {
   "cell_type": "code",
   "execution_count": null,
   "metadata": {},
   "outputs": [],
   "source": [
    "with open(os.path.join(resultsroute, f\"\"\"HMM_univ_{params[\"tablename\"]}_aic_bestmodels.pickle\"\"\"), \"wb\") as output_file:\n",
    "    pickle.dump(aic_best_model, output_file)\n",
    "\n",
    "with open(os.path.join(resultsroute, f\"\"\"HMM_univ_{params[\"tablename\"]}_bic_bestmodels.pickle\"\"\"), \"wb\") as output_file:\n",
    "    pickle.dump(bic_best_model, output_file)"
   ]
  },
  {
   "cell_type": "code",
   "execution_count": null,
   "metadata": {},
   "outputs": [],
   "source": [
    "with open(os.path.join(resultsroute, f\"\"\"HMM_univ_{params[\"tablename\"]}_aic_residuals.pickle\"\"\"), \"wb\") as output_file:\n",
    "    pickle.dump(aic_best_residuals, output_file)\n",
    "\n",
    "with open(os.path.join(resultsroute, f\"\"\"HMM_univ_{params[\"tablename\"]}_bic_residuals.pickle\"\"\"), \"wb\") as output_file:\n",
    "    pickle.dump(bic_best_residuals, output_file)"
   ]
  },
  {
   "cell_type": "markdown",
   "metadata": {},
   "source": [
    "# Graficando"
   ]
  },
  {
   "cell_type": "code",
   "execution_count": null,
   "metadata": {},
   "outputs": [],
   "source": [
    "def plot_close_rets_vol(model, data, key, IC):\n",
    "    prediction= model.predict(data)\n",
    "    states=set(prediction)\n",
    "\n",
    "    fig=plt.figure(figsize = (20, 20))\n",
    "    plt.tight_layout()\n",
    "    plt.title(f\"{key} Log returns and intraday Vol\\n{model.n_components} states / best by {IC}\")\n",
    "\n",
    "    for subplot, var in zip(range(1,3), data.columns):    \n",
    "        plt.subplot(2,1,subplot)\n",
    "        for i in set(prediction):\n",
    "            state = (prediction == i)\n",
    "            x = data.index[state]\n",
    "            y = data[var].iloc[state]\n",
    "            plt.plot(x, y, '.')\n",
    "        plt.legend(states, fontsize=16)\n",
    "        \n",
    "        plt.grid(True)\n",
    "        plt.xlabel(\"datetime\", fontsize=16)\n",
    "        plt.ylabel(var, fontsize=16)\n",
    "            \n",
    "    plt.savefig(os.path.join(resultsroute, \"graphs\", \n",
    "                             f\"HMM\", \n",
    "                             f\"{key}_model_{IC}.png\"))"
   ]
  },
  {
   "cell_type": "code",
   "execution_count": null,
   "metadata": {
    "scrolled": true
   },
   "outputs": [],
   "source": [
    "for dictionary, IC in zip([aic_best_model, bic_best_model], [\"AIC\", \"BIC\"]):\n",
    "    for key, model in dictionary.items():\n",
    "        columns = [f'{stock}_log_rets', f'{stock}_gk_vol']\n",
    "        insample_data = df[columns]\n",
    "        oos_data=df_test[columns]\n",
    "        train_end=insample_data.index.max()\n",
    "        data=pd.concat([insample_data, oos_data])\n",
    "\n",
    "        plot_close_rets_vol(model, data, key, IC)"
   ]
  },
  {
   "cell_type": "markdown",
   "metadata": {},
   "source": [
    "## HMM Selection"
   ]
  },
  {
   "cell_type": "markdown",
   "metadata": {},
   "source": [
    "Selecting the Number of States in Hidden Markov Models: Pragmatic Solutions Illustrated Using Animal Movement\n",
    "https://sci-hub.st/10.1007/s13253-017-0283-8"
   ]
  }
 ],
 "metadata": {
  "@webio": {
   "lastCommId": null,
   "lastKernelId": null
  },
  "kernelspec": {
   "display_name": "Python 3 (ipykernel)",
   "language": "python",
   "name": "python3"
  },
  "language_info": {
   "codemirror_mode": {
    "name": "ipython",
    "version": 3
   },
   "file_extension": ".py",
   "mimetype": "text/x-python",
   "name": "python",
   "nbconvert_exporter": "python",
   "pygments_lexer": "ipython3",
   "version": "3.11.3"
  }
 },
 "nbformat": 4,
 "nbformat_minor": 2
}
