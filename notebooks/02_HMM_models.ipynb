{
 "cells": [
  {
   "cell_type": "markdown",
   "metadata": {},
   "source": [
    "## Startup"
   ]
  },
  {
   "cell_type": "code",
   "execution_count": 44,
   "metadata": {},
   "outputs": [],
   "source": [
    "import numpy as np\n",
    "import pandas as pd\n",
    "import matplotlib.pyplot as plt\n",
    "from hmmlearn import hmm\n",
    "\n",
    "import os\n",
    "import pickle"
   ]
  },
  {
   "cell_type": "code",
   "execution_count": 45,
   "metadata": {},
   "outputs": [],
   "source": [
    "random_state=42\n",
    "np.random.seed(random_state)"
   ]
  },
  {
   "cell_type": "code",
   "execution_count": 46,
   "metadata": {},
   "outputs": [],
   "source": [
    "from scripts.params import get_params\n",
    "\n",
    "params = get_params()"
   ]
  },
  {
   "cell_type": "markdown",
   "metadata": {},
   "source": [
    "## Data Retrieval"
   ]
  },
  {
   "cell_type": "code",
   "execution_count": 47,
   "metadata": {},
   "outputs": [],
   "source": [
    "dataroute=os.path.join(\"..\",  \"data\")\n",
    "dumproute=os.path.join(\"..\",  \"dump\")\n",
    "resultsroute=os.path.join(\"..\",  \"results\")"
   ]
  },
  {
   "cell_type": "code",
   "execution_count": 48,
   "metadata": {},
   "outputs": [],
   "source": [
    "name=f'finaldf_train_{params[\"tablename\"]}.pickle'\n",
    "filename=os.path.join(dataroute, name)\n",
    "with open(filename, 'rb') as handle:\n",
    "    df=pickle.load(handle)\n"
   ]
  },
  {
   "cell_type": "code",
   "execution_count": 49,
   "metadata": {},
   "outputs": [
    {
     "data": {
      "text/html": [
       "<div>\n",
       "<style scoped>\n",
       "    .dataframe tbody tr th:only-of-type {\n",
       "        vertical-align: middle;\n",
       "    }\n",
       "\n",
       "    .dataframe tbody tr th {\n",
       "        vertical-align: top;\n",
       "    }\n",
       "\n",
       "    .dataframe thead th {\n",
       "        text-align: right;\n",
       "    }\n",
       "</style>\n",
       "<table border=\"1\" class=\"dataframe\">\n",
       "  <thead>\n",
       "    <tr style=\"text-align: right;\">\n",
       "      <th></th>\n",
       "      <th>^MERV_rets</th>\n",
       "      <th>^MERV_log_rets</th>\n",
       "      <th>^MERV_gk_vol</th>\n",
       "      <th>GGAL.BA_rets</th>\n",
       "      <th>GGAL.BA_log_rets</th>\n",
       "      <th>GGAL.BA_gk_vol</th>\n",
       "      <th>GGAL_rets</th>\n",
       "      <th>GGAL_log_rets</th>\n",
       "      <th>GGAL_gk_vol</th>\n",
       "      <th>YPFD.BA_rets</th>\n",
       "      <th>...</th>\n",
       "      <th>BBAR.BA_gk_vol</th>\n",
       "      <th>BBAR_rets</th>\n",
       "      <th>BBAR_log_rets</th>\n",
       "      <th>BBAR_gk_vol</th>\n",
       "      <th>USD_rets</th>\n",
       "      <th>USD_log_rets</th>\n",
       "      <th>USD_gk_vol</th>\n",
       "      <th>USD_^MERV_rets</th>\n",
       "      <th>USD_^MERV_log_rets</th>\n",
       "      <th>USD_^MERV_gk_vol</th>\n",
       "    </tr>\n",
       "  </thead>\n",
       "  <tbody>\n",
       "    <tr>\n",
       "      <th>2013-01-03</th>\n",
       "      <td>0.007552</td>\n",
       "      <td>0.007524</td>\n",
       "      <td>0.000129</td>\n",
       "      <td>0.010616</td>\n",
       "      <td>0.010560</td>\n",
       "      <td>0.000677</td>\n",
       "      <td>-0.012748</td>\n",
       "      <td>-0.012830</td>\n",
       "      <td>0.001228</td>\n",
       "      <td>-0.006862</td>\n",
       "      <td>...</td>\n",
       "      <td>0.000169</td>\n",
       "      <td>-0.005725</td>\n",
       "      <td>-0.005742</td>\n",
       "      <td>0.000960</td>\n",
       "      <td>0.008830</td>\n",
       "      <td>0.008792</td>\n",
       "      <td>0.000014</td>\n",
       "      <td>0.001247</td>\n",
       "      <td>0.001246</td>\n",
       "      <td>0.000129</td>\n",
       "    </tr>\n",
       "    <tr>\n",
       "      <th>2013-01-04</th>\n",
       "      <td>0.007092</td>\n",
       "      <td>0.007067</td>\n",
       "      <td>0.000158</td>\n",
       "      <td>-0.006303</td>\n",
       "      <td>-0.006323</td>\n",
       "      <td>0.000208</td>\n",
       "      <td>-0.010043</td>\n",
       "      <td>-0.010094</td>\n",
       "      <td>0.000554</td>\n",
       "      <td>0.004936</td>\n",
       "      <td>...</td>\n",
       "      <td>0.000406</td>\n",
       "      <td>-0.019194</td>\n",
       "      <td>-0.019381</td>\n",
       "      <td>0.000635</td>\n",
       "      <td>0.018043</td>\n",
       "      <td>0.017883</td>\n",
       "      <td>0.000133</td>\n",
       "      <td>-0.005727</td>\n",
       "      <td>-0.005744</td>\n",
       "      <td>0.000158</td>\n",
       "    </tr>\n",
       "    <tr>\n",
       "      <th>2013-01-07</th>\n",
       "      <td>-0.001035</td>\n",
       "      <td>-0.001035</td>\n",
       "      <td>0.000022</td>\n",
       "      <td>0.002114</td>\n",
       "      <td>0.002112</td>\n",
       "      <td>0.000063</td>\n",
       "      <td>-0.014493</td>\n",
       "      <td>-0.014599</td>\n",
       "      <td>0.000517</td>\n",
       "      <td>0.010805</td>\n",
       "      <td>...</td>\n",
       "      <td>0.000492</td>\n",
       "      <td>0.015656</td>\n",
       "      <td>0.015534</td>\n",
       "      <td>0.000511</td>\n",
       "      <td>-0.002489</td>\n",
       "      <td>-0.002492</td>\n",
       "      <td>0.000048</td>\n",
       "      <td>-0.009769</td>\n",
       "      <td>-0.009817</td>\n",
       "      <td>0.000022</td>\n",
       "    </tr>\n",
       "    <tr>\n",
       "      <th>2013-01-08</th>\n",
       "      <td>0.008285</td>\n",
       "      <td>0.008251</td>\n",
       "      <td>0.000082</td>\n",
       "      <td>-0.008439</td>\n",
       "      <td>-0.008475</td>\n",
       "      <td>0.000153</td>\n",
       "      <td>-0.016176</td>\n",
       "      <td>-0.016309</td>\n",
       "      <td>0.001085</td>\n",
       "      <td>0.049563</td>\n",
       "      <td>...</td>\n",
       "      <td>0.000438</td>\n",
       "      <td>-0.015414</td>\n",
       "      <td>-0.015534</td>\n",
       "      <td>0.000642</td>\n",
       "      <td>0.015356</td>\n",
       "      <td>0.015239</td>\n",
       "      <td>0.000064</td>\n",
       "      <td>-0.001117</td>\n",
       "      <td>-0.001118</td>\n",
       "      <td>0.000082</td>\n",
       "    </tr>\n",
       "    <tr>\n",
       "      <th>2013-01-09</th>\n",
       "      <td>0.017826</td>\n",
       "      <td>0.017669</td>\n",
       "      <td>0.000273</td>\n",
       "      <td>0.000000</td>\n",
       "      <td>0.000000</td>\n",
       "      <td>0.000000</td>\n",
       "      <td>0.011958</td>\n",
       "      <td>0.011887</td>\n",
       "      <td>0.005238</td>\n",
       "      <td>0.000000</td>\n",
       "      <td>...</td>\n",
       "      <td>0.000000</td>\n",
       "      <td>-0.003914</td>\n",
       "      <td>-0.003921</td>\n",
       "      <td>0.000147</td>\n",
       "      <td>-0.008671</td>\n",
       "      <td>-0.008709</td>\n",
       "      <td>0.001065</td>\n",
       "      <td>0.017245</td>\n",
       "      <td>0.017098</td>\n",
       "      <td>0.000273</td>\n",
       "    </tr>\n",
       "  </tbody>\n",
       "</table>\n",
       "<p>5 rows × 39 columns</p>\n",
       "</div>"
      ],
      "text/plain": [
       "            ^MERV_rets  ^MERV_log_rets  ^MERV_gk_vol  GGAL.BA_rets  \\\n",
       "2013-01-03    0.007552        0.007524      0.000129      0.010616   \n",
       "2013-01-04    0.007092        0.007067      0.000158     -0.006303   \n",
       "2013-01-07   -0.001035       -0.001035      0.000022      0.002114   \n",
       "2013-01-08    0.008285        0.008251      0.000082     -0.008439   \n",
       "2013-01-09    0.017826        0.017669      0.000273      0.000000   \n",
       "\n",
       "            GGAL.BA_log_rets  GGAL.BA_gk_vol  GGAL_rets  GGAL_log_rets  \\\n",
       "2013-01-03          0.010560        0.000677  -0.012748      -0.012830   \n",
       "2013-01-04         -0.006323        0.000208  -0.010043      -0.010094   \n",
       "2013-01-07          0.002112        0.000063  -0.014493      -0.014599   \n",
       "2013-01-08         -0.008475        0.000153  -0.016176      -0.016309   \n",
       "2013-01-09          0.000000        0.000000   0.011958       0.011887   \n",
       "\n",
       "            GGAL_gk_vol  YPFD.BA_rets  ...  BBAR.BA_gk_vol  BBAR_rets  \\\n",
       "2013-01-03     0.001228     -0.006862  ...        0.000169  -0.005725   \n",
       "2013-01-04     0.000554      0.004936  ...        0.000406  -0.019194   \n",
       "2013-01-07     0.000517      0.010805  ...        0.000492   0.015656   \n",
       "2013-01-08     0.001085      0.049563  ...        0.000438  -0.015414   \n",
       "2013-01-09     0.005238      0.000000  ...        0.000000  -0.003914   \n",
       "\n",
       "            BBAR_log_rets  BBAR_gk_vol  USD_rets  USD_log_rets  USD_gk_vol  \\\n",
       "2013-01-03      -0.005742     0.000960  0.008830      0.008792    0.000014   \n",
       "2013-01-04      -0.019381     0.000635  0.018043      0.017883    0.000133   \n",
       "2013-01-07       0.015534     0.000511 -0.002489     -0.002492    0.000048   \n",
       "2013-01-08      -0.015534     0.000642  0.015356      0.015239    0.000064   \n",
       "2013-01-09      -0.003921     0.000147 -0.008671     -0.008709    0.001065   \n",
       "\n",
       "            USD_^MERV_rets  USD_^MERV_log_rets  USD_^MERV_gk_vol  \n",
       "2013-01-03        0.001247            0.001246          0.000129  \n",
       "2013-01-04       -0.005727           -0.005744          0.000158  \n",
       "2013-01-07       -0.009769           -0.009817          0.000022  \n",
       "2013-01-08       -0.001117           -0.001118          0.000082  \n",
       "2013-01-09        0.017245            0.017098          0.000273  \n",
       "\n",
       "[5 rows x 39 columns]"
      ]
     },
     "execution_count": 49,
     "metadata": {},
     "output_type": "execute_result"
    }
   ],
   "source": [
    "df.head()"
   ]
  },
  {
   "cell_type": "code",
   "execution_count": 50,
   "metadata": {},
   "outputs": [],
   "source": [
    "tickerlist=params[\"tickerlist\"]"
   ]
  },
  {
   "cell_type": "markdown",
   "metadata": {},
   "source": [
    "## HMM Training"
   ]
  },
  {
   "cell_type": "code",
   "execution_count": 51,
   "metadata": {},
   "outputs": [],
   "source": [
    "range_states=range(1,16)\n",
    "emptydf=pd.DataFrame(columns=[\"AIC\", \"BIC\"], index=range_states)\n",
    "emptydf.fillna(np.inf, inplace=True)\n",
    "results_dict_df={stock:emptydf for stock in tickerlist}"
   ]
  },
  {
   "cell_type": "code",
   "execution_count": 52,
   "metadata": {},
   "outputs": [],
   "source": [
    "aic_best_model={stock:None for stock in tickerlist}\n",
    "bic_best_model={stock:None for stock in tickerlist}"
   ]
  },
  {
   "cell_type": "code",
   "execution_count": 53,
   "metadata": {},
   "outputs": [
    {
     "name": "stderr",
     "output_type": "stream",
     "text": [
      "Model is not converging.  Current: 18854.96287782649 is not greater than 18856.523959937764. Delta is -1.5610821112750273\n"
     ]
    },
    {
     "name": "stdout",
     "output_type": "stream",
     "text": [
      "^MERV 1\n",
      "^MERV 2\n",
      "^MERV 3\n"
     ]
    },
    {
     "name": "stderr",
     "output_type": "stream",
     "text": [
      "Model is not converging.  Current: 18922.516761095125 is not greater than 18922.640342060477. Delta is -0.1235809653517208\n",
      "Model is not converging.  Current: 18926.94497080564 is not greater than 18929.056224078548. Delta is -2.111253272905742\n"
     ]
    },
    {
     "name": "stdout",
     "output_type": "stream",
     "text": [
      "^MERV 4\n",
      "^MERV 5\n",
      "^MERV 6\n",
      "^MERV 7\n"
     ]
    },
    {
     "name": "stderr",
     "output_type": "stream",
     "text": [
      "Model is not converging.  Current: 17743.986469759584 is not greater than 17744.318424185913. Delta is -0.3319544263285934\n"
     ]
    },
    {
     "name": "stdout",
     "output_type": "stream",
     "text": [
      "^MERV 8\n",
      "^MERV 9\n"
     ]
    },
    {
     "name": "stderr",
     "output_type": "stream",
     "text": [
      "Model is not converging.  Current: 18901.14175305869 is not greater than 18901.218720125846. Delta is -0.0769670671543281\n"
     ]
    },
    {
     "name": "stdout",
     "output_type": "stream",
     "text": [
      "^MERV 10\n",
      "^MERV 11\n",
      "^MERV 12\n"
     ]
    },
    {
     "name": "stderr",
     "output_type": "stream",
     "text": [
      "Model is not converging.  Current: 18894.30534189285 is not greater than 18898.387648824784. Delta is -4.082306931933999\n"
     ]
    },
    {
     "name": "stdout",
     "output_type": "stream",
     "text": [
      "^MERV 13\n"
     ]
    },
    {
     "name": "stderr",
     "output_type": "stream",
     "text": [
      "Model is not converging.  Current: 18175.347751458576 is not greater than 18175.393135498. Delta is -0.045384039425698575\n"
     ]
    },
    {
     "name": "stdout",
     "output_type": "stream",
     "text": [
      "^MERV 14\n",
      "^MERV 15\n"
     ]
    },
    {
     "name": "stderr",
     "output_type": "stream",
     "text": [
      "Model is not converging.  Current: 18874.643494133776 is not greater than 18875.217711266127. Delta is -0.5742171323508956\n"
     ]
    },
    {
     "name": "stdout",
     "output_type": "stream",
     "text": [
      "GGAL.BA 1\n",
      "GGAL.BA 2\n",
      "GGAL.BA 3\n"
     ]
    },
    {
     "name": "stderr",
     "output_type": "stream",
     "text": [
      "Model is not converging.  Current: 17772.508495229125 is not greater than 17774.739898868018. Delta is -2.231403638892516\n"
     ]
    },
    {
     "name": "stdout",
     "output_type": "stream",
     "text": [
      "GGAL.BA 4\n",
      ">>>>>>>>>> GGAL.BA 4 did not converge\n",
      "GGAL.BA 5\n"
     ]
    },
    {
     "name": "stderr",
     "output_type": "stream",
     "text": [
      "Model is not converging.  Current: 17172.447671294663 is not greater than 17172.459599326055. Delta is -0.011928031392017147\n"
     ]
    },
    {
     "name": "stdout",
     "output_type": "stream",
     "text": [
      ">>>>>>>>>> GGAL.BA 5 did not converge\n",
      "GGAL.BA 6\n"
     ]
    },
    {
     "name": "stderr",
     "output_type": "stream",
     "text": [
      "Model is not converging.  Current: 17745.623381609512 is not greater than 17748.327545529115. Delta is -2.704163919603161\n"
     ]
    },
    {
     "name": "stdout",
     "output_type": "stream",
     "text": [
      "GGAL.BA 7\n"
     ]
    },
    {
     "name": "stderr",
     "output_type": "stream",
     "text": [
      "Model is not converging.  Current: 16770.464039001996 is not greater than 16770.89286297307. Delta is -0.4288239710731432\n"
     ]
    },
    {
     "name": "stdout",
     "output_type": "stream",
     "text": [
      "GGAL.BA 8\n"
     ]
    },
    {
     "name": "stderr",
     "output_type": "stream",
     "text": [
      "Model is not converging.  Current: 17730.057777085287 is not greater than 17733.110235595243. Delta is -3.0524585099556134\n"
     ]
    },
    {
     "name": "stdout",
     "output_type": "stream",
     "text": [
      "GGAL.BA 9\n",
      "GGAL.BA 10\n"
     ]
    },
    {
     "name": "stderr",
     "output_type": "stream",
     "text": [
      "Model is not converging.  Current: 17727.871897288493 is not greater than 17727.90753497917. Delta is -0.03563769067841349\n"
     ]
    },
    {
     "name": "stdout",
     "output_type": "stream",
     "text": [
      "GGAL.BA 11\n",
      "GGAL.BA 12\n"
     ]
    },
    {
     "name": "stderr",
     "output_type": "stream",
     "text": [
      "Model is not converging.  Current: 17719.10729938319 is not greater than 17721.086789298868. Delta is -1.9794899156768224\n"
     ]
    },
    {
     "name": "stdout",
     "output_type": "stream",
     "text": [
      "GGAL.BA 13\n",
      "GGAL.BA 14\n"
     ]
    },
    {
     "name": "stderr",
     "output_type": "stream",
     "text": [
      "Model is not converging.  Current: 17715.00048441379 is not greater than 17722.6226053033. Delta is -7.6221208895076416\n"
     ]
    },
    {
     "name": "stdout",
     "output_type": "stream",
     "text": [
      "GGAL.BA 15\n"
     ]
    },
    {
     "name": "stderr",
     "output_type": "stream",
     "text": [
      "Model is not converging.  Current: 17743.2126473846 is not greater than 17748.248667839187. Delta is -5.036020454586833\n",
      "Model is not converging.  Current: 17376.14890197371 is not greater than 17376.156667453055. Delta is -0.007765479345835047\n"
     ]
    },
    {
     "name": "stdout",
     "output_type": "stream",
     "text": [
      ">>>>>>>>>> GGAL.BA 15 did not converge\n",
      "GGAL 1\n",
      "GGAL 2\n",
      "GGAL 3\n"
     ]
    },
    {
     "name": "stderr",
     "output_type": "stream",
     "text": [
      "Model is not converging.  Current: 17421.648537743917 is not greater than 17422.059638359035. Delta is -0.41110061511790263\n"
     ]
    },
    {
     "name": "stdout",
     "output_type": "stream",
     "text": [
      "GGAL 4\n",
      "GGAL 5\n"
     ]
    },
    {
     "name": "stderr",
     "output_type": "stream",
     "text": [
      "Model is not converging.  Current: 16872.266520872403 is not greater than 16872.632488444295. Delta is -0.36596757189181517\n",
      "Model is not converging.  Current: 16853.893297614984 is not greater than 16857.796606510943. Delta is -3.9033088959586166\n"
     ]
    },
    {
     "name": "stdout",
     "output_type": "stream",
     "text": [
      "GGAL 6\n",
      ">>>>>>>>>> GGAL 6 did not converge\n",
      "GGAL 7\n"
     ]
    },
    {
     "name": "stderr",
     "output_type": "stream",
     "text": [
      "Model is not converging.  Current: 17405.414747463186 is not greater than 17413.864602481484. Delta is -8.449855018297967\n"
     ]
    },
    {
     "name": "stdout",
     "output_type": "stream",
     "text": [
      "GGAL 8\n"
     ]
    },
    {
     "name": "stderr",
     "output_type": "stream",
     "text": [
      "c:\\Users\\Alfred\\.julia\\conda\\3\\envs\\hmm\\Lib\\site-packages\\hmmlearn\\hmm.py:340: RuntimeWarning: invalid value encountered in divide\n",
      "  self.means_ = ((means_weight * means_prior + stats['obs'])\n",
      "Some rows of transmat_ have zero sum because no transition from the state was ever observed.\n",
      "Some rows of transmat_ have zero sum because no transition from the state was ever observed.\n",
      "Some rows of transmat_ have zero sum because no transition from the state was ever observed.\n",
      "Some rows of transmat_ have zero sum because no transition from the state was ever observed.\n",
      "Some rows of transmat_ have zero sum because no transition from the state was ever observed.\n",
      "Some rows of transmat_ have zero sum because no transition from the state was ever observed.\n",
      "Some rows of transmat_ have zero sum because no transition from the state was ever observed.\n",
      "Some rows of transmat_ have zero sum because no transition from the state was ever observed.\n",
      "Some rows of transmat_ have zero sum because no transition from the state was ever observed.\n",
      "Some rows of transmat_ have zero sum because no transition from the state was ever observed.\n",
      "Some rows of transmat_ have zero sum because no transition from the state was ever observed.\n",
      "Some rows of transmat_ have zero sum because no transition from the state was ever observed.\n",
      "Some rows of transmat_ have zero sum because no transition from the state was ever observed.\n",
      "Some rows of transmat_ have zero sum because no transition from the state was ever observed.\n",
      "Some rows of transmat_ have zero sum because no transition from the state was ever observed.\n",
      "Some rows of transmat_ have zero sum because no transition from the state was ever observed.\n",
      "Some rows of transmat_ have zero sum because no transition from the state was ever observed.\n",
      "Some rows of transmat_ have zero sum because no transition from the state was ever observed.\n",
      "Some rows of transmat_ have zero sum because no transition from the state was ever observed.\n",
      "Some rows of transmat_ have zero sum because no transition from the state was ever observed.\n",
      "Some rows of transmat_ have zero sum because no transition from the state was ever observed.\n",
      "Some rows of transmat_ have zero sum because no transition from the state was ever observed.\n",
      "Some rows of transmat_ have zero sum because no transition from the state was ever observed.\n",
      "Some rows of transmat_ have zero sum because no transition from the state was ever observed.\n",
      "Some rows of transmat_ have zero sum because no transition from the state was ever observed.\n",
      "Some rows of transmat_ have zero sum because no transition from the state was ever observed.\n",
      "Some rows of transmat_ have zero sum because no transition from the state was ever observed.\n",
      "Some rows of transmat_ have zero sum because no transition from the state was ever observed.\n",
      "Some rows of transmat_ have zero sum because no transition from the state was ever observed.\n",
      "Some rows of transmat_ have zero sum because no transition from the state was ever observed.\n",
      "Some rows of transmat_ have zero sum because no transition from the state was ever observed.\n",
      "Some rows of transmat_ have zero sum because no transition from the state was ever observed.\n",
      "Some rows of transmat_ have zero sum because no transition from the state was ever observed.\n",
      "Some rows of transmat_ have zero sum because no transition from the state was ever observed.\n",
      "Some rows of transmat_ have zero sum because no transition from the state was ever observed.\n",
      "Some rows of transmat_ have zero sum because no transition from the state was ever observed.\n",
      "Some rows of transmat_ have zero sum because no transition from the state was ever observed.\n",
      "Some rows of transmat_ have zero sum because no transition from the state was ever observed.\n",
      "Some rows of transmat_ have zero sum because no transition from the state was ever observed.\n",
      "Some rows of transmat_ have zero sum because no transition from the state was ever observed.\n",
      "Some rows of transmat_ have zero sum because no transition from the state was ever observed.\n",
      "Some rows of transmat_ have zero sum because no transition from the state was ever observed.\n",
      "Some rows of transmat_ have zero sum because no transition from the state was ever observed.\n",
      "Some rows of transmat_ have zero sum because no transition from the state was ever observed.\n",
      "Some rows of transmat_ have zero sum because no transition from the state was ever observed.\n",
      "Some rows of transmat_ have zero sum because no transition from the state was ever observed.\n",
      "Some rows of transmat_ have zero sum because no transition from the state was ever observed.\n",
      "Some rows of transmat_ have zero sum because no transition from the state was ever observed.\n",
      "Some rows of transmat_ have zero sum because no transition from the state was ever observed.\n",
      "Some rows of transmat_ have zero sum because no transition from the state was ever observed.\n",
      "Some rows of transmat_ have zero sum because no transition from the state was ever observed.\n",
      "Some rows of transmat_ have zero sum because no transition from the state was ever observed.\n",
      "Some rows of transmat_ have zero sum because no transition from the state was ever observed.\n",
      "Some rows of transmat_ have zero sum because no transition from the state was ever observed.\n",
      "Some rows of transmat_ have zero sum because no transition from the state was ever observed.\n",
      "Some rows of transmat_ have zero sum because no transition from the state was ever observed.\n",
      "Some rows of transmat_ have zero sum because no transition from the state was ever observed.\n",
      "Some rows of transmat_ have zero sum because no transition from the state was ever observed.\n",
      "Some rows of transmat_ have zero sum because no transition from the state was ever observed.\n",
      "Some rows of transmat_ have zero sum because no transition from the state was ever observed.\n",
      "Some rows of transmat_ have zero sum because no transition from the state was ever observed.\n",
      "Some rows of transmat_ have zero sum because no transition from the state was ever observed.\n",
      "Some rows of transmat_ have zero sum because no transition from the state was ever observed.\n",
      "Some rows of transmat_ have zero sum because no transition from the state was ever observed.\n",
      "Some rows of transmat_ have zero sum because no transition from the state was ever observed.\n",
      "Some rows of transmat_ have zero sum because no transition from the state was ever observed.\n",
      "Some rows of transmat_ have zero sum because no transition from the state was ever observed.\n",
      "Some rows of transmat_ have zero sum because no transition from the state was ever observed.\n",
      "Some rows of transmat_ have zero sum because no transition from the state was ever observed.\n",
      "Some rows of transmat_ have zero sum because no transition from the state was ever observed.\n",
      "Some rows of transmat_ have zero sum because no transition from the state was ever observed.\n",
      "Some rows of transmat_ have zero sum because no transition from the state was ever observed.\n",
      "Some rows of transmat_ have zero sum because no transition from the state was ever observed.\n",
      "Some rows of transmat_ have zero sum because no transition from the state was ever observed.\n",
      "Some rows of transmat_ have zero sum because no transition from the state was ever observed.\n",
      "Some rows of transmat_ have zero sum because no transition from the state was ever observed.\n",
      "Some rows of transmat_ have zero sum because no transition from the state was ever observed.\n",
      "Some rows of transmat_ have zero sum because no transition from the state was ever observed.\n",
      "Some rows of transmat_ have zero sum because no transition from the state was ever observed.\n",
      "Some rows of transmat_ have zero sum because no transition from the state was ever observed.\n",
      "Some rows of transmat_ have zero sum because no transition from the state was ever observed.\n",
      "Some rows of transmat_ have zero sum because no transition from the state was ever observed.\n",
      "Some rows of transmat_ have zero sum because no transition from the state was ever observed.\n",
      "Some rows of transmat_ have zero sum because no transition from the state was ever observed.\n",
      "Some rows of transmat_ have zero sum because no transition from the state was ever observed.\n",
      "Some rows of transmat_ have zero sum because no transition from the state was ever observed.\n",
      "Some rows of transmat_ have zero sum because no transition from the state was ever observed.\n",
      "Some rows of transmat_ have zero sum because no transition from the state was ever observed.\n",
      "Some rows of transmat_ have zero sum because no transition from the state was ever observed.\n",
      "Some rows of transmat_ have zero sum because no transition from the state was ever observed.\n",
      "Some rows of transmat_ have zero sum because no transition from the state was ever observed.\n",
      "Some rows of transmat_ have zero sum because no transition from the state was ever observed.\n",
      "Some rows of transmat_ have zero sum because no transition from the state was ever observed.\n",
      "Some rows of transmat_ have zero sum because no transition from the state was ever observed.\n",
      "Some rows of transmat_ have zero sum because no transition from the state was ever observed.\n",
      "Some rows of transmat_ have zero sum because no transition from the state was ever observed.\n",
      "Some rows of transmat_ have zero sum because no transition from the state was ever observed.\n",
      "Some rows of transmat_ have zero sum because no transition from the state was ever observed.\n",
      "Some rows of transmat_ have zero sum because no transition from the state was ever observed.\n",
      "Some rows of transmat_ have zero sum because no transition from the state was ever observed.\n",
      "Some rows of transmat_ have zero sum because no transition from the state was ever observed.\n",
      "Some rows of transmat_ have zero sum because no transition from the state was ever observed.\n",
      "Some rows of transmat_ have zero sum because no transition from the state was ever observed.\n",
      "Some rows of transmat_ have zero sum because no transition from the state was ever observed.\n",
      "Some rows of transmat_ have zero sum because no transition from the state was ever observed.\n",
      "Some rows of transmat_ have zero sum because no transition from the state was ever observed.\n",
      "Some rows of transmat_ have zero sum because no transition from the state was ever observed.\n",
      "Some rows of transmat_ have zero sum because no transition from the state was ever observed.\n",
      "Some rows of transmat_ have zero sum because no transition from the state was ever observed.\n",
      "Some rows of transmat_ have zero sum because no transition from the state was ever observed.\n",
      "Some rows of transmat_ have zero sum because no transition from the state was ever observed.\n",
      "Some rows of transmat_ have zero sum because no transition from the state was ever observed.\n",
      "Some rows of transmat_ have zero sum because no transition from the state was ever observed.\n",
      "Some rows of transmat_ have zero sum because no transition from the state was ever observed.\n",
      "Some rows of transmat_ have zero sum because no transition from the state was ever observed.\n",
      "Some rows of transmat_ have zero sum because no transition from the state was ever observed.\n",
      "Some rows of transmat_ have zero sum because no transition from the state was ever observed.\n",
      "Some rows of transmat_ have zero sum because no transition from the state was ever observed.\n",
      "Some rows of transmat_ have zero sum because no transition from the state was ever observed.\n",
      "Some rows of transmat_ have zero sum because no transition from the state was ever observed.\n",
      "Some rows of transmat_ have zero sum because no transition from the state was ever observed.\n",
      "Some rows of transmat_ have zero sum because no transition from the state was ever observed.\n",
      "Some rows of transmat_ have zero sum because no transition from the state was ever observed.\n",
      "Some rows of transmat_ have zero sum because no transition from the state was ever observed.\n",
      "Some rows of transmat_ have zero sum because no transition from the state was ever observed.\n",
      "Some rows of transmat_ have zero sum because no transition from the state was ever observed.\n",
      "Some rows of transmat_ have zero sum because no transition from the state was ever observed.\n",
      "Some rows of transmat_ have zero sum because no transition from the state was ever observed.\n",
      "Some rows of transmat_ have zero sum because no transition from the state was ever observed.\n",
      "Some rows of transmat_ have zero sum because no transition from the state was ever observed.\n",
      "Some rows of transmat_ have zero sum because no transition from the state was ever observed.\n",
      "Some rows of transmat_ have zero sum because no transition from the state was ever observed.\n",
      "Some rows of transmat_ have zero sum because no transition from the state was ever observed.\n",
      "Some rows of transmat_ have zero sum because no transition from the state was ever observed.\n",
      "Some rows of transmat_ have zero sum because no transition from the state was ever observed.\n",
      "Some rows of transmat_ have zero sum because no transition from the state was ever observed.\n",
      "Some rows of transmat_ have zero sum because no transition from the state was ever observed.\n",
      "Some rows of transmat_ have zero sum because no transition from the state was ever observed.\n",
      "Some rows of transmat_ have zero sum because no transition from the state was ever observed.\n",
      "Some rows of transmat_ have zero sum because no transition from the state was ever observed.\n",
      "Some rows of transmat_ have zero sum because no transition from the state was ever observed.\n",
      "Some rows of transmat_ have zero sum because no transition from the state was ever observed.\n",
      "Some rows of transmat_ have zero sum because no transition from the state was ever observed.\n",
      "Some rows of transmat_ have zero sum because no transition from the state was ever observed.\n",
      "Some rows of transmat_ have zero sum because no transition from the state was ever observed.\n",
      "Some rows of transmat_ have zero sum because no transition from the state was ever observed.\n",
      "Some rows of transmat_ have zero sum because no transition from the state was ever observed.\n",
      "Some rows of transmat_ have zero sum because no transition from the state was ever observed.\n",
      "Some rows of transmat_ have zero sum because no transition from the state was ever observed.\n",
      "Some rows of transmat_ have zero sum because no transition from the state was ever observed.\n",
      "Some rows of transmat_ have zero sum because no transition from the state was ever observed.\n",
      "Some rows of transmat_ have zero sum because no transition from the state was ever observed.\n",
      "Some rows of transmat_ have zero sum because no transition from the state was ever observed.\n",
      "Some rows of transmat_ have zero sum because no transition from the state was ever observed.\n",
      "Some rows of transmat_ have zero sum because no transition from the state was ever observed.\n",
      "Some rows of transmat_ have zero sum because no transition from the state was ever observed.\n",
      "Some rows of transmat_ have zero sum because no transition from the state was ever observed.\n",
      "Some rows of transmat_ have zero sum because no transition from the state was ever observed.\n",
      "Some rows of transmat_ have zero sum because no transition from the state was ever observed.\n",
      "Some rows of transmat_ have zero sum because no transition from the state was ever observed.\n",
      "Some rows of transmat_ have zero sum because no transition from the state was ever observed.\n",
      "Some rows of transmat_ have zero sum because no transition from the state was ever observed.\n",
      "Some rows of transmat_ have zero sum because no transition from the state was ever observed.\n",
      "Some rows of transmat_ have zero sum because no transition from the state was ever observed.\n",
      "Some rows of transmat_ have zero sum because no transition from the state was ever observed.\n",
      "Some rows of transmat_ have zero sum because no transition from the state was ever observed.\n",
      "Some rows of transmat_ have zero sum because no transition from the state was ever observed.\n",
      "Some rows of transmat_ have zero sum because no transition from the state was ever observed.\n",
      "Some rows of transmat_ have zero sum because no transition from the state was ever observed.\n",
      "Some rows of transmat_ have zero sum because no transition from the state was ever observed.\n",
      "Some rows of transmat_ have zero sum because no transition from the state was ever observed.\n",
      "Some rows of transmat_ have zero sum because no transition from the state was ever observed.\n",
      "Some rows of transmat_ have zero sum because no transition from the state was ever observed.\n",
      "Some rows of transmat_ have zero sum because no transition from the state was ever observed.\n",
      "Some rows of transmat_ have zero sum because no transition from the state was ever observed.\n",
      "Some rows of transmat_ have zero sum because no transition from the state was ever observed.\n",
      "Some rows of transmat_ have zero sum because no transition from the state was ever observed.\n",
      "Some rows of transmat_ have zero sum because no transition from the state was ever observed.\n",
      "Some rows of transmat_ have zero sum because no transition from the state was ever observed.\n",
      "Some rows of transmat_ have zero sum because no transition from the state was ever observed.\n",
      "Some rows of transmat_ have zero sum because no transition from the state was ever observed.\n",
      "Some rows of transmat_ have zero sum because no transition from the state was ever observed.\n",
      "Some rows of transmat_ have zero sum because no transition from the state was ever observed.\n",
      "Some rows of transmat_ have zero sum because no transition from the state was ever observed.\n",
      "Some rows of transmat_ have zero sum because no transition from the state was ever observed.\n",
      "Some rows of transmat_ have zero sum because no transition from the state was ever observed.\n",
      "Some rows of transmat_ have zero sum because no transition from the state was ever observed.\n",
      "Some rows of transmat_ have zero sum because no transition from the state was ever observed.\n",
      "Some rows of transmat_ have zero sum because no transition from the state was ever observed.\n",
      "Some rows of transmat_ have zero sum because no transition from the state was ever observed.\n",
      "Some rows of transmat_ have zero sum because no transition from the state was ever observed.\n",
      "Some rows of transmat_ have zero sum because no transition from the state was ever observed.\n",
      "Some rows of transmat_ have zero sum because no transition from the state was ever observed.\n",
      "Some rows of transmat_ have zero sum because no transition from the state was ever observed.\n",
      "Some rows of transmat_ have zero sum because no transition from the state was ever observed.\n",
      "Some rows of transmat_ have zero sum because no transition from the state was ever observed.\n",
      "Some rows of transmat_ have zero sum because no transition from the state was ever observed.\n",
      "Some rows of transmat_ have zero sum because no transition from the state was ever observed.\n",
      "Some rows of transmat_ have zero sum because no transition from the state was ever observed.\n",
      "Some rows of transmat_ have zero sum because no transition from the state was ever observed.\n",
      "Some rows of transmat_ have zero sum because no transition from the state was ever observed.\n",
      "Some rows of transmat_ have zero sum because no transition from the state was ever observed.\n",
      "Some rows of transmat_ have zero sum because no transition from the state was ever observed.\n",
      "Some rows of transmat_ have zero sum because no transition from the state was ever observed.\n",
      "Some rows of transmat_ have zero sum because no transition from the state was ever observed.\n",
      "Some rows of transmat_ have zero sum because no transition from the state was ever observed.\n",
      "Some rows of transmat_ have zero sum because no transition from the state was ever observed.\n",
      "Some rows of transmat_ have zero sum because no transition from the state was ever observed.\n",
      "Some rows of transmat_ have zero sum because no transition from the state was ever observed.\n",
      "Some rows of transmat_ have zero sum because no transition from the state was ever observed.\n",
      "Some rows of transmat_ have zero sum because no transition from the state was ever observed.\n",
      "Some rows of transmat_ have zero sum because no transition from the state was ever observed.\n",
      "Some rows of transmat_ have zero sum because no transition from the state was ever observed.\n",
      "Some rows of transmat_ have zero sum because no transition from the state was ever observed.\n",
      "Some rows of transmat_ have zero sum because no transition from the state was ever observed.\n",
      "Some rows of transmat_ have zero sum because no transition from the state was ever observed.\n",
      "Some rows of transmat_ have zero sum because no transition from the state was ever observed.\n",
      "Some rows of transmat_ have zero sum because no transition from the state was ever observed.\n",
      "Some rows of transmat_ have zero sum because no transition from the state was ever observed.\n",
      "Some rows of transmat_ have zero sum because no transition from the state was ever observed.\n",
      "Some rows of transmat_ have zero sum because no transition from the state was ever observed.\n",
      "Some rows of transmat_ have zero sum because no transition from the state was ever observed.\n",
      "Some rows of transmat_ have zero sum because no transition from the state was ever observed.\n",
      "Some rows of transmat_ have zero sum because no transition from the state was ever observed.\n",
      "Some rows of transmat_ have zero sum because no transition from the state was ever observed.\n",
      "Some rows of transmat_ have zero sum because no transition from the state was ever observed.\n",
      "Some rows of transmat_ have zero sum because no transition from the state was ever observed.\n",
      "Some rows of transmat_ have zero sum because no transition from the state was ever observed.\n",
      "Some rows of transmat_ have zero sum because no transition from the state was ever observed.\n",
      "Some rows of transmat_ have zero sum because no transition from the state was ever observed.\n",
      "Some rows of transmat_ have zero sum because no transition from the state was ever observed.\n",
      "Some rows of transmat_ have zero sum because no transition from the state was ever observed.\n",
      "Some rows of transmat_ have zero sum because no transition from the state was ever observed.\n",
      "Some rows of transmat_ have zero sum because no transition from the state was ever observed.\n",
      "Some rows of transmat_ have zero sum because no transition from the state was ever observed.\n",
      "Some rows of transmat_ have zero sum because no transition from the state was ever observed.\n",
      "Some rows of transmat_ have zero sum because no transition from the state was ever observed.\n",
      "Some rows of transmat_ have zero sum because no transition from the state was ever observed.\n",
      "Some rows of transmat_ have zero sum because no transition from the state was ever observed.\n",
      "Some rows of transmat_ have zero sum because no transition from the state was ever observed.\n",
      "Some rows of transmat_ have zero sum because no transition from the state was ever observed.\n",
      "Some rows of transmat_ have zero sum because no transition from the state was ever observed.\n",
      "Some rows of transmat_ have zero sum because no transition from the state was ever observed.\n",
      "Some rows of transmat_ have zero sum because no transition from the state was ever observed.\n",
      "Some rows of transmat_ have zero sum because no transition from the state was ever observed.\n",
      "Some rows of transmat_ have zero sum because no transition from the state was ever observed.\n",
      "Some rows of transmat_ have zero sum because no transition from the state was ever observed.\n",
      "Some rows of transmat_ have zero sum because no transition from the state was ever observed.\n",
      "Some rows of transmat_ have zero sum because no transition from the state was ever observed.\n",
      "Some rows of transmat_ have zero sum because no transition from the state was ever observed.\n",
      "Some rows of transmat_ have zero sum because no transition from the state was ever observed.\n",
      "Some rows of transmat_ have zero sum because no transition from the state was ever observed.\n",
      "Some rows of transmat_ have zero sum because no transition from the state was ever observed.\n",
      "Some rows of transmat_ have zero sum because no transition from the state was ever observed.\n",
      "Some rows of transmat_ have zero sum because no transition from the state was ever observed.\n",
      "Some rows of transmat_ have zero sum because no transition from the state was ever observed.\n",
      "Some rows of transmat_ have zero sum because no transition from the state was ever observed.\n",
      "Some rows of transmat_ have zero sum because no transition from the state was ever observed.\n",
      "Some rows of transmat_ have zero sum because no transition from the state was ever observed.\n",
      "Some rows of transmat_ have zero sum because no transition from the state was ever observed.\n",
      "Some rows of transmat_ have zero sum because no transition from the state was ever observed.\n",
      "Some rows of transmat_ have zero sum because no transition from the state was ever observed.\n",
      "Some rows of transmat_ have zero sum because no transition from the state was ever observed.\n",
      "Some rows of transmat_ have zero sum because no transition from the state was ever observed.\n",
      "Some rows of transmat_ have zero sum because no transition from the state was ever observed.\n",
      "Some rows of transmat_ have zero sum because no transition from the state was ever observed.\n",
      "Some rows of transmat_ have zero sum because no transition from the state was ever observed.\n",
      "Some rows of transmat_ have zero sum because no transition from the state was ever observed.\n",
      "Some rows of transmat_ have zero sum because no transition from the state was ever observed.\n",
      "Some rows of transmat_ have zero sum because no transition from the state was ever observed.\n",
      "Some rows of transmat_ have zero sum because no transition from the state was ever observed.\n",
      "Some rows of transmat_ have zero sum because no transition from the state was ever observed.\n",
      "Some rows of transmat_ have zero sum because no transition from the state was ever observed.\n",
      "Some rows of transmat_ have zero sum because no transition from the state was ever observed.\n",
      "Some rows of transmat_ have zero sum because no transition from the state was ever observed.\n",
      "Some rows of transmat_ have zero sum because no transition from the state was ever observed.\n",
      "Some rows of transmat_ have zero sum because no transition from the state was ever observed.\n",
      "Some rows of transmat_ have zero sum because no transition from the state was ever observed.\n",
      "Some rows of transmat_ have zero sum because no transition from the state was ever observed.\n",
      "Some rows of transmat_ have zero sum because no transition from the state was ever observed.\n",
      "Some rows of transmat_ have zero sum because no transition from the state was ever observed.\n",
      "Some rows of transmat_ have zero sum because no transition from the state was ever observed.\n",
      "Some rows of transmat_ have zero sum because no transition from the state was ever observed.\n",
      "Some rows of transmat_ have zero sum because no transition from the state was ever observed.\n",
      "Some rows of transmat_ have zero sum because no transition from the state was ever observed.\n",
      "Some rows of transmat_ have zero sum because no transition from the state was ever observed.\n",
      "Some rows of transmat_ have zero sum because no transition from the state was ever observed.\n",
      "Some rows of transmat_ have zero sum because no transition from the state was ever observed.\n",
      "Some rows of transmat_ have zero sum because no transition from the state was ever observed.\n",
      "Some rows of transmat_ have zero sum because no transition from the state was ever observed.\n",
      "Some rows of transmat_ have zero sum because no transition from the state was ever observed.\n",
      "Some rows of transmat_ have zero sum because no transition from the state was ever observed.\n",
      "Some rows of transmat_ have zero sum because no transition from the state was ever observed.\n",
      "Some rows of transmat_ have zero sum because no transition from the state was ever observed.\n",
      "Some rows of transmat_ have zero sum because no transition from the state was ever observed.\n",
      "Some rows of transmat_ have zero sum because no transition from the state was ever observed.\n",
      "Some rows of transmat_ have zero sum because no transition from the state was ever observed.\n",
      "Some rows of transmat_ have zero sum because no transition from the state was ever observed.\n",
      "Some rows of transmat_ have zero sum because no transition from the state was ever observed.\n",
      "Some rows of transmat_ have zero sum because no transition from the state was ever observed.\n",
      "Some rows of transmat_ have zero sum because no transition from the state was ever observed.\n",
      "Some rows of transmat_ have zero sum because no transition from the state was ever observed.\n",
      "Some rows of transmat_ have zero sum because no transition from the state was ever observed.\n",
      "Some rows of transmat_ have zero sum because no transition from the state was ever observed.\n",
      "Some rows of transmat_ have zero sum because no transition from the state was ever observed.\n",
      "Some rows of transmat_ have zero sum because no transition from the state was ever observed.\n",
      "Some rows of transmat_ have zero sum because no transition from the state was ever observed.\n",
      "Some rows of transmat_ have zero sum because no transition from the state was ever observed.\n",
      "Some rows of transmat_ have zero sum because no transition from the state was ever observed.\n",
      "Some rows of transmat_ have zero sum because no transition from the state was ever observed.\n",
      "Some rows of transmat_ have zero sum because no transition from the state was ever observed.\n",
      "Some rows of transmat_ have zero sum because no transition from the state was ever observed.\n",
      "Some rows of transmat_ have zero sum because no transition from the state was ever observed.\n",
      "Some rows of transmat_ have zero sum because no transition from the state was ever observed.\n",
      "Some rows of transmat_ have zero sum because no transition from the state was ever observed.\n",
      "Some rows of transmat_ have zero sum because no transition from the state was ever observed.\n",
      "Some rows of transmat_ have zero sum because no transition from the state was ever observed.\n",
      "Some rows of transmat_ have zero sum because no transition from the state was ever observed.\n",
      "Some rows of transmat_ have zero sum because no transition from the state was ever observed.\n",
      "Some rows of transmat_ have zero sum because no transition from the state was ever observed.\n",
      "Some rows of transmat_ have zero sum because no transition from the state was ever observed.\n",
      "Some rows of transmat_ have zero sum because no transition from the state was ever observed.\n",
      "Some rows of transmat_ have zero sum because no transition from the state was ever observed.\n",
      "Some rows of transmat_ have zero sum because no transition from the state was ever observed.\n",
      "Some rows of transmat_ have zero sum because no transition from the state was ever observed.\n",
      "Some rows of transmat_ have zero sum because no transition from the state was ever observed.\n",
      "Some rows of transmat_ have zero sum because no transition from the state was ever observed.\n",
      "Some rows of transmat_ have zero sum because no transition from the state was ever observed.\n",
      "Some rows of transmat_ have zero sum because no transition from the state was ever observed.\n",
      "Some rows of transmat_ have zero sum because no transition from the state was ever observed.\n",
      "Some rows of transmat_ have zero sum because no transition from the state was ever observed.\n",
      "Some rows of transmat_ have zero sum because no transition from the state was ever observed.\n",
      "Some rows of transmat_ have zero sum because no transition from the state was ever observed.\n",
      "Some rows of transmat_ have zero sum because no transition from the state was ever observed.\n",
      "Some rows of transmat_ have zero sum because no transition from the state was ever observed.\n",
      "Some rows of transmat_ have zero sum because no transition from the state was ever observed.\n",
      "Some rows of transmat_ have zero sum because no transition from the state was ever observed.\n",
      "Some rows of transmat_ have zero sum because no transition from the state was ever observed.\n",
      "Some rows of transmat_ have zero sum because no transition from the state was ever observed.\n",
      "Some rows of transmat_ have zero sum because no transition from the state was ever observed.\n",
      "Some rows of transmat_ have zero sum because no transition from the state was ever observed.\n",
      "Some rows of transmat_ have zero sum because no transition from the state was ever observed.\n",
      "Some rows of transmat_ have zero sum because no transition from the state was ever observed.\n",
      "Some rows of transmat_ have zero sum because no transition from the state was ever observed.\n",
      "Some rows of transmat_ have zero sum because no transition from the state was ever observed.\n",
      "Some rows of transmat_ have zero sum because no transition from the state was ever observed.\n",
      "Some rows of transmat_ have zero sum because no transition from the state was ever observed.\n",
      "Some rows of transmat_ have zero sum because no transition from the state was ever observed.\n",
      "Some rows of transmat_ have zero sum because no transition from the state was ever observed.\n",
      "Some rows of transmat_ have zero sum because no transition from the state was ever observed.\n",
      "Some rows of transmat_ have zero sum because no transition from the state was ever observed.\n",
      "Some rows of transmat_ have zero sum because no transition from the state was ever observed.\n",
      "Some rows of transmat_ have zero sum because no transition from the state was ever observed.\n",
      "Some rows of transmat_ have zero sum because no transition from the state was ever observed.\n",
      "Some rows of transmat_ have zero sum because no transition from the state was ever observed.\n",
      "Some rows of transmat_ have zero sum because no transition from the state was ever observed.\n",
      "Some rows of transmat_ have zero sum because no transition from the state was ever observed.\n",
      "Some rows of transmat_ have zero sum because no transition from the state was ever observed.\n",
      "Some rows of transmat_ have zero sum because no transition from the state was ever observed.\n",
      "Some rows of transmat_ have zero sum because no transition from the state was ever observed.\n",
      "Some rows of transmat_ have zero sum because no transition from the state was ever observed.\n",
      "Some rows of transmat_ have zero sum because no transition from the state was ever observed.\n",
      "Some rows of transmat_ have zero sum because no transition from the state was ever observed.\n",
      "Some rows of transmat_ have zero sum because no transition from the state was ever observed.\n",
      "Some rows of transmat_ have zero sum because no transition from the state was ever observed.\n",
      "Some rows of transmat_ have zero sum because no transition from the state was ever observed.\n",
      "Some rows of transmat_ have zero sum because no transition from the state was ever observed.\n",
      "Some rows of transmat_ have zero sum because no transition from the state was ever observed.\n",
      "Some rows of transmat_ have zero sum because no transition from the state was ever observed.\n",
      "Some rows of transmat_ have zero sum because no transition from the state was ever observed.\n",
      "Some rows of transmat_ have zero sum because no transition from the state was ever observed.\n",
      "Some rows of transmat_ have zero sum because no transition from the state was ever observed.\n",
      "Some rows of transmat_ have zero sum because no transition from the state was ever observed.\n",
      "Some rows of transmat_ have zero sum because no transition from the state was ever observed.\n",
      "Some rows of transmat_ have zero sum because no transition from the state was ever observed.\n",
      "Some rows of transmat_ have zero sum because no transition from the state was ever observed.\n",
      "Some rows of transmat_ have zero sum because no transition from the state was ever observed.\n",
      "Some rows of transmat_ have zero sum because no transition from the state was ever observed.\n",
      "Some rows of transmat_ have zero sum because no transition from the state was ever observed.\n",
      "Some rows of transmat_ have zero sum because no transition from the state was ever observed.\n",
      "Some rows of transmat_ have zero sum because no transition from the state was ever observed.\n",
      "Some rows of transmat_ have zero sum because no transition from the state was ever observed.\n",
      "Some rows of transmat_ have zero sum because no transition from the state was ever observed.\n",
      "Some rows of transmat_ have zero sum because no transition from the state was ever observed.\n",
      "Some rows of transmat_ have zero sum because no transition from the state was ever observed.\n",
      "Some rows of transmat_ have zero sum because no transition from the state was ever observed.\n",
      "Some rows of transmat_ have zero sum because no transition from the state was ever observed.\n",
      "Some rows of transmat_ have zero sum because no transition from the state was ever observed.\n",
      "Some rows of transmat_ have zero sum because no transition from the state was ever observed.\n",
      "Some rows of transmat_ have zero sum because no transition from the state was ever observed.\n",
      "Some rows of transmat_ have zero sum because no transition from the state was ever observed.\n",
      "Some rows of transmat_ have zero sum because no transition from the state was ever observed.\n",
      "Some rows of transmat_ have zero sum because no transition from the state was ever observed.\n",
      "Some rows of transmat_ have zero sum because no transition from the state was ever observed.\n",
      "Some rows of transmat_ have zero sum because no transition from the state was ever observed.\n",
      "Some rows of transmat_ have zero sum because no transition from the state was ever observed.\n",
      "Some rows of transmat_ have zero sum because no transition from the state was ever observed.\n",
      "Some rows of transmat_ have zero sum because no transition from the state was ever observed.\n",
      "Some rows of transmat_ have zero sum because no transition from the state was ever observed.\n",
      "Some rows of transmat_ have zero sum because no transition from the state was ever observed.\n",
      "Some rows of transmat_ have zero sum because no transition from the state was ever observed.\n",
      "Some rows of transmat_ have zero sum because no transition from the state was ever observed.\n",
      "Some rows of transmat_ have zero sum because no transition from the state was ever observed.\n",
      "Some rows of transmat_ have zero sum because no transition from the state was ever observed.\n",
      "Some rows of transmat_ have zero sum because no transition from the state was ever observed.\n",
      "Some rows of transmat_ have zero sum because no transition from the state was ever observed.\n",
      "Some rows of transmat_ have zero sum because no transition from the state was ever observed.\n",
      "Some rows of transmat_ have zero sum because no transition from the state was ever observed.\n",
      "Some rows of transmat_ have zero sum because no transition from the state was ever observed.\n",
      "Some rows of transmat_ have zero sum because no transition from the state was ever observed.\n",
      "Some rows of transmat_ have zero sum because no transition from the state was ever observed.\n",
      "Some rows of transmat_ have zero sum because no transition from the state was ever observed.\n",
      "Some rows of transmat_ have zero sum because no transition from the state was ever observed.\n",
      "Some rows of transmat_ have zero sum because no transition from the state was ever observed.\n",
      "Some rows of transmat_ have zero sum because no transition from the state was ever observed.\n",
      "Some rows of transmat_ have zero sum because no transition from the state was ever observed.\n",
      "Some rows of transmat_ have zero sum because no transition from the state was ever observed.\n",
      "Some rows of transmat_ have zero sum because no transition from the state was ever observed.\n",
      "Some rows of transmat_ have zero sum because no transition from the state was ever observed.\n",
      "Some rows of transmat_ have zero sum because no transition from the state was ever observed.\n",
      "Some rows of transmat_ have zero sum because no transition from the state was ever observed.\n",
      "Some rows of transmat_ have zero sum because no transition from the state was ever observed.\n",
      "Some rows of transmat_ have zero sum because no transition from the state was ever observed.\n",
      "Some rows of transmat_ have zero sum because no transition from the state was ever observed.\n",
      "Some rows of transmat_ have zero sum because no transition from the state was ever observed.\n",
      "Some rows of transmat_ have zero sum because no transition from the state was ever observed.\n",
      "Some rows of transmat_ have zero sum because no transition from the state was ever observed.\n",
      "Some rows of transmat_ have zero sum because no transition from the state was ever observed.\n",
      "Some rows of transmat_ have zero sum because no transition from the state was ever observed.\n",
      "Some rows of transmat_ have zero sum because no transition from the state was ever observed.\n",
      "Some rows of transmat_ have zero sum because no transition from the state was ever observed.\n",
      "Some rows of transmat_ have zero sum because no transition from the state was ever observed.\n",
      "Some rows of transmat_ have zero sum because no transition from the state was ever observed.\n",
      "Some rows of transmat_ have zero sum because no transition from the state was ever observed.\n",
      "Some rows of transmat_ have zero sum because no transition from the state was ever observed.\n",
      "Model is not converging.  Current: 17351.681462611134 is not greater than 17358.676291310087. Delta is -6.994828698952915\n"
     ]
    },
    {
     "name": "stdout",
     "output_type": "stream",
     "text": [
      ">>>>>>>>>> GGAL 8 did not converge\n",
      "GGAL 9\n",
      "GGAL 10\n"
     ]
    },
    {
     "name": "stderr",
     "output_type": "stream",
     "text": [
      "Model is not converging.  Current: 17388.544828150683 is not greater than 17388.564328106422. Delta is -0.019499955738865538\n"
     ]
    },
    {
     "name": "stdout",
     "output_type": "stream",
     "text": [
      "GGAL 11\n"
     ]
    },
    {
     "name": "stderr",
     "output_type": "stream",
     "text": [
      "Model is not converging.  Current: 17367.72792632112 is not greater than 17367.950352545504. Delta is -0.22242622438352555\n"
     ]
    },
    {
     "name": "stdout",
     "output_type": "stream",
     "text": [
      "GGAL 12\n"
     ]
    },
    {
     "name": "stderr",
     "output_type": "stream",
     "text": [
      "Model is not converging.  Current: 17391.57804246445 is not greater than 17396.937080558986. Delta is -5.359038094535208\n"
     ]
    },
    {
     "name": "stdout",
     "output_type": "stream",
     "text": [
      "GGAL 13\n"
     ]
    },
    {
     "name": "stderr",
     "output_type": "stream",
     "text": [
      "Model is not converging.  Current: 16837.31692201468 is not greater than 16837.956881080612. Delta is -0.6399590659311798\n"
     ]
    },
    {
     "name": "stdout",
     "output_type": "stream",
     "text": [
      "GGAL 14\n"
     ]
    },
    {
     "name": "stderr",
     "output_type": "stream",
     "text": [
      "Model is not converging.  Current: 17420.90501007856 is not greater than 17421.091638665333. Delta is -0.18662858677271288\n"
     ]
    },
    {
     "name": "stdout",
     "output_type": "stream",
     "text": [
      "GGAL 15\n"
     ]
    },
    {
     "name": "stderr",
     "output_type": "stream",
     "text": [
      "Model is not converging.  Current: 17326.582288136113 is not greater than 17344.597220789186. Delta is -18.01493265307363\n",
      "Model is not converging.  Current: 17800.626999331365 is not greater than 17802.65917155106. Delta is -2.032172219693166\n",
      "Model is not converging.  Current: 17222.53180016463 is not greater than 17223.314913798473. Delta is -0.7831136338427314\n"
     ]
    },
    {
     "name": "stdout",
     "output_type": "stream",
     "text": [
      "YPFD.BA 1\n",
      "YPFD.BA 2\n",
      "YPFD.BA 3\n",
      "YPFD.BA 4\n"
     ]
    },
    {
     "name": "stderr",
     "output_type": "stream",
     "text": [
      "Model is not converging.  Current: 17834.528138037287 is not greater than 17834.557422812744. Delta is -0.02928477545719943\n"
     ]
    },
    {
     "name": "stdout",
     "output_type": "stream",
     "text": [
      "YPFD.BA 5\n"
     ]
    },
    {
     "name": "stderr",
     "output_type": "stream",
     "text": [
      "c:\\Users\\Alfred\\.julia\\conda\\3\\envs\\hmm\\Lib\\site-packages\\hmmlearn\\hmm.py:340: RuntimeWarning: invalid value encountered in divide\n",
      "  self.means_ = ((means_weight * means_prior + stats['obs'])\n",
      "Some rows of transmat_ have zero sum because no transition from the state was ever observed.\n",
      "Some rows of transmat_ have zero sum because no transition from the state was ever observed.\n",
      "Some rows of transmat_ have zero sum because no transition from the state was ever observed.\n",
      "Some rows of transmat_ have zero sum because no transition from the state was ever observed.\n",
      "Some rows of transmat_ have zero sum because no transition from the state was ever observed.\n",
      "Some rows of transmat_ have zero sum because no transition from the state was ever observed.\n",
      "Some rows of transmat_ have zero sum because no transition from the state was ever observed.\n",
      "Some rows of transmat_ have zero sum because no transition from the state was ever observed.\n",
      "Some rows of transmat_ have zero sum because no transition from the state was ever observed.\n",
      "Some rows of transmat_ have zero sum because no transition from the state was ever observed.\n",
      "Some rows of transmat_ have zero sum because no transition from the state was ever observed.\n",
      "Some rows of transmat_ have zero sum because no transition from the state was ever observed.\n",
      "Some rows of transmat_ have zero sum because no transition from the state was ever observed.\n",
      "Some rows of transmat_ have zero sum because no transition from the state was ever observed.\n",
      "Some rows of transmat_ have zero sum because no transition from the state was ever observed.\n",
      "Some rows of transmat_ have zero sum because no transition from the state was ever observed.\n",
      "Some rows of transmat_ have zero sum because no transition from the state was ever observed.\n",
      "Some rows of transmat_ have zero sum because no transition from the state was ever observed.\n",
      "Some rows of transmat_ have zero sum because no transition from the state was ever observed.\n",
      "Some rows of transmat_ have zero sum because no transition from the state was ever observed.\n",
      "Some rows of transmat_ have zero sum because no transition from the state was ever observed.\n",
      "Some rows of transmat_ have zero sum because no transition from the state was ever observed.\n",
      "Some rows of transmat_ have zero sum because no transition from the state was ever observed.\n",
      "Some rows of transmat_ have zero sum because no transition from the state was ever observed.\n",
      "Some rows of transmat_ have zero sum because no transition from the state was ever observed.\n",
      "Some rows of transmat_ have zero sum because no transition from the state was ever observed.\n",
      "Some rows of transmat_ have zero sum because no transition from the state was ever observed.\n",
      "Some rows of transmat_ have zero sum because no transition from the state was ever observed.\n",
      "Some rows of transmat_ have zero sum because no transition from the state was ever observed.\n",
      "Some rows of transmat_ have zero sum because no transition from the state was ever observed.\n",
      "Some rows of transmat_ have zero sum because no transition from the state was ever observed.\n",
      "Some rows of transmat_ have zero sum because no transition from the state was ever observed.\n",
      "Some rows of transmat_ have zero sum because no transition from the state was ever observed.\n",
      "Some rows of transmat_ have zero sum because no transition from the state was ever observed.\n",
      "Some rows of transmat_ have zero sum because no transition from the state was ever observed.\n",
      "Some rows of transmat_ have zero sum because no transition from the state was ever observed.\n",
      "Some rows of transmat_ have zero sum because no transition from the state was ever observed.\n",
      "Some rows of transmat_ have zero sum because no transition from the state was ever observed.\n",
      "Some rows of transmat_ have zero sum because no transition from the state was ever observed.\n",
      "Some rows of transmat_ have zero sum because no transition from the state was ever observed.\n",
      "Some rows of transmat_ have zero sum because no transition from the state was ever observed.\n",
      "Some rows of transmat_ have zero sum because no transition from the state was ever observed.\n",
      "Some rows of transmat_ have zero sum because no transition from the state was ever observed.\n",
      "Some rows of transmat_ have zero sum because no transition from the state was ever observed.\n",
      "Some rows of transmat_ have zero sum because no transition from the state was ever observed.\n",
      "Some rows of transmat_ have zero sum because no transition from the state was ever observed.\n",
      "Some rows of transmat_ have zero sum because no transition from the state was ever observed.\n",
      "Some rows of transmat_ have zero sum because no transition from the state was ever observed.\n",
      "Some rows of transmat_ have zero sum because no transition from the state was ever observed.\n",
      "Some rows of transmat_ have zero sum because no transition from the state was ever observed.\n",
      "Some rows of transmat_ have zero sum because no transition from the state was ever observed.\n",
      "Some rows of transmat_ have zero sum because no transition from the state was ever observed.\n",
      "Some rows of transmat_ have zero sum because no transition from the state was ever observed.\n",
      "Some rows of transmat_ have zero sum because no transition from the state was ever observed.\n",
      "Some rows of transmat_ have zero sum because no transition from the state was ever observed.\n",
      "Some rows of transmat_ have zero sum because no transition from the state was ever observed.\n",
      "Some rows of transmat_ have zero sum because no transition from the state was ever observed.\n",
      "Some rows of transmat_ have zero sum because no transition from the state was ever observed.\n",
      "Some rows of transmat_ have zero sum because no transition from the state was ever observed.\n",
      "Some rows of transmat_ have zero sum because no transition from the state was ever observed.\n",
      "Some rows of transmat_ have zero sum because no transition from the state was ever observed.\n",
      "Some rows of transmat_ have zero sum because no transition from the state was ever observed.\n",
      "Some rows of transmat_ have zero sum because no transition from the state was ever observed.\n",
      "Some rows of transmat_ have zero sum because no transition from the state was ever observed.\n",
      "Some rows of transmat_ have zero sum because no transition from the state was ever observed.\n",
      "Some rows of transmat_ have zero sum because no transition from the state was ever observed.\n",
      "Some rows of transmat_ have zero sum because no transition from the state was ever observed.\n",
      "Some rows of transmat_ have zero sum because no transition from the state was ever observed.\n",
      "Some rows of transmat_ have zero sum because no transition from the state was ever observed.\n",
      "Some rows of transmat_ have zero sum because no transition from the state was ever observed.\n",
      "Some rows of transmat_ have zero sum because no transition from the state was ever observed.\n",
      "Some rows of transmat_ have zero sum because no transition from the state was ever observed.\n",
      "Some rows of transmat_ have zero sum because no transition from the state was ever observed.\n",
      "Some rows of transmat_ have zero sum because no transition from the state was ever observed.\n",
      "Some rows of transmat_ have zero sum because no transition from the state was ever observed.\n",
      "Some rows of transmat_ have zero sum because no transition from the state was ever observed.\n",
      "Some rows of transmat_ have zero sum because no transition from the state was ever observed.\n",
      "Some rows of transmat_ have zero sum because no transition from the state was ever observed.\n",
      "Some rows of transmat_ have zero sum because no transition from the state was ever observed.\n",
      "Some rows of transmat_ have zero sum because no transition from the state was ever observed.\n",
      "Some rows of transmat_ have zero sum because no transition from the state was ever observed.\n",
      "Some rows of transmat_ have zero sum because no transition from the state was ever observed.\n",
      "Some rows of transmat_ have zero sum because no transition from the state was ever observed.\n",
      "Some rows of transmat_ have zero sum because no transition from the state was ever observed.\n",
      "Some rows of transmat_ have zero sum because no transition from the state was ever observed.\n",
      "Some rows of transmat_ have zero sum because no transition from the state was ever observed.\n",
      "Some rows of transmat_ have zero sum because no transition from the state was ever observed.\n",
      "Some rows of transmat_ have zero sum because no transition from the state was ever observed.\n",
      "Some rows of transmat_ have zero sum because no transition from the state was ever observed.\n",
      "Some rows of transmat_ have zero sum because no transition from the state was ever observed.\n",
      "Some rows of transmat_ have zero sum because no transition from the state was ever observed.\n",
      "Some rows of transmat_ have zero sum because no transition from the state was ever observed.\n",
      "Some rows of transmat_ have zero sum because no transition from the state was ever observed.\n",
      "Some rows of transmat_ have zero sum because no transition from the state was ever observed.\n",
      "Some rows of transmat_ have zero sum because no transition from the state was ever observed.\n",
      "Some rows of transmat_ have zero sum because no transition from the state was ever observed.\n",
      "Some rows of transmat_ have zero sum because no transition from the state was ever observed.\n",
      "Some rows of transmat_ have zero sum because no transition from the state was ever observed.\n",
      "Some rows of transmat_ have zero sum because no transition from the state was ever observed.\n",
      "Some rows of transmat_ have zero sum because no transition from the state was ever observed.\n",
      "Some rows of transmat_ have zero sum because no transition from the state was ever observed.\n",
      "Some rows of transmat_ have zero sum because no transition from the state was ever observed.\n",
      "Some rows of transmat_ have zero sum because no transition from the state was ever observed.\n",
      "Some rows of transmat_ have zero sum because no transition from the state was ever observed.\n",
      "Some rows of transmat_ have zero sum because no transition from the state was ever observed.\n",
      "Some rows of transmat_ have zero sum because no transition from the state was ever observed.\n",
      "Some rows of transmat_ have zero sum because no transition from the state was ever observed.\n",
      "Some rows of transmat_ have zero sum because no transition from the state was ever observed.\n",
      "Some rows of transmat_ have zero sum because no transition from the state was ever observed.\n",
      "Some rows of transmat_ have zero sum because no transition from the state was ever observed.\n",
      "Some rows of transmat_ have zero sum because no transition from the state was ever observed.\n",
      "Some rows of transmat_ have zero sum because no transition from the state was ever observed.\n",
      "Some rows of transmat_ have zero sum because no transition from the state was ever observed.\n",
      "Some rows of transmat_ have zero sum because no transition from the state was ever observed.\n",
      "Some rows of transmat_ have zero sum because no transition from the state was ever observed.\n",
      "Some rows of transmat_ have zero sum because no transition from the state was ever observed.\n",
      "Some rows of transmat_ have zero sum because no transition from the state was ever observed.\n",
      "Some rows of transmat_ have zero sum because no transition from the state was ever observed.\n",
      "Some rows of transmat_ have zero sum because no transition from the state was ever observed.\n",
      "Some rows of transmat_ have zero sum because no transition from the state was ever observed.\n",
      "Some rows of transmat_ have zero sum because no transition from the state was ever observed.\n",
      "Some rows of transmat_ have zero sum because no transition from the state was ever observed.\n",
      "Some rows of transmat_ have zero sum because no transition from the state was ever observed.\n",
      "Some rows of transmat_ have zero sum because no transition from the state was ever observed.\n",
      "Some rows of transmat_ have zero sum because no transition from the state was ever observed.\n",
      "Some rows of transmat_ have zero sum because no transition from the state was ever observed.\n",
      "Some rows of transmat_ have zero sum because no transition from the state was ever observed.\n",
      "Some rows of transmat_ have zero sum because no transition from the state was ever observed.\n",
      "Some rows of transmat_ have zero sum because no transition from the state was ever observed.\n",
      "Some rows of transmat_ have zero sum because no transition from the state was ever observed.\n",
      "Some rows of transmat_ have zero sum because no transition from the state was ever observed.\n",
      "Some rows of transmat_ have zero sum because no transition from the state was ever observed.\n",
      "Some rows of transmat_ have zero sum because no transition from the state was ever observed.\n",
      "Some rows of transmat_ have zero sum because no transition from the state was ever observed.\n",
      "Some rows of transmat_ have zero sum because no transition from the state was ever observed.\n",
      "Some rows of transmat_ have zero sum because no transition from the state was ever observed.\n",
      "Some rows of transmat_ have zero sum because no transition from the state was ever observed.\n",
      "Some rows of transmat_ have zero sum because no transition from the state was ever observed.\n",
      "Some rows of transmat_ have zero sum because no transition from the state was ever observed.\n",
      "Some rows of transmat_ have zero sum because no transition from the state was ever observed.\n",
      "Some rows of transmat_ have zero sum because no transition from the state was ever observed.\n",
      "Some rows of transmat_ have zero sum because no transition from the state was ever observed.\n",
      "Some rows of transmat_ have zero sum because no transition from the state was ever observed.\n",
      "Some rows of transmat_ have zero sum because no transition from the state was ever observed.\n",
      "Some rows of transmat_ have zero sum because no transition from the state was ever observed.\n",
      "Some rows of transmat_ have zero sum because no transition from the state was ever observed.\n",
      "Some rows of transmat_ have zero sum because no transition from the state was ever observed.\n",
      "Some rows of transmat_ have zero sum because no transition from the state was ever observed.\n",
      "Some rows of transmat_ have zero sum because no transition from the state was ever observed.\n",
      "Some rows of transmat_ have zero sum because no transition from the state was ever observed.\n",
      "Some rows of transmat_ have zero sum because no transition from the state was ever observed.\n",
      "Some rows of transmat_ have zero sum because no transition from the state was ever observed.\n",
      "Some rows of transmat_ have zero sum because no transition from the state was ever observed.\n",
      "Some rows of transmat_ have zero sum because no transition from the state was ever observed.\n",
      "Some rows of transmat_ have zero sum because no transition from the state was ever observed.\n",
      "Some rows of transmat_ have zero sum because no transition from the state was ever observed.\n",
      "Some rows of transmat_ have zero sum because no transition from the state was ever observed.\n",
      "Some rows of transmat_ have zero sum because no transition from the state was ever observed.\n",
      "Some rows of transmat_ have zero sum because no transition from the state was ever observed.\n",
      "Some rows of transmat_ have zero sum because no transition from the state was ever observed.\n",
      "Some rows of transmat_ have zero sum because no transition from the state was ever observed.\n",
      "Some rows of transmat_ have zero sum because no transition from the state was ever observed.\n",
      "Some rows of transmat_ have zero sum because no transition from the state was ever observed.\n",
      "Some rows of transmat_ have zero sum because no transition from the state was ever observed.\n",
      "Some rows of transmat_ have zero sum because no transition from the state was ever observed.\n",
      "Some rows of transmat_ have zero sum because no transition from the state was ever observed.\n",
      "Some rows of transmat_ have zero sum because no transition from the state was ever observed.\n",
      "Some rows of transmat_ have zero sum because no transition from the state was ever observed.\n",
      "Some rows of transmat_ have zero sum because no transition from the state was ever observed.\n",
      "Some rows of transmat_ have zero sum because no transition from the state was ever observed.\n",
      "Some rows of transmat_ have zero sum because no transition from the state was ever observed.\n",
      "Some rows of transmat_ have zero sum because no transition from the state was ever observed.\n",
      "Some rows of transmat_ have zero sum because no transition from the state was ever observed.\n",
      "Some rows of transmat_ have zero sum because no transition from the state was ever observed.\n",
      "Some rows of transmat_ have zero sum because no transition from the state was ever observed.\n",
      "Some rows of transmat_ have zero sum because no transition from the state was ever observed.\n",
      "Some rows of transmat_ have zero sum because no transition from the state was ever observed.\n",
      "Some rows of transmat_ have zero sum because no transition from the state was ever observed.\n",
      "Some rows of transmat_ have zero sum because no transition from the state was ever observed.\n",
      "Some rows of transmat_ have zero sum because no transition from the state was ever observed.\n",
      "Some rows of transmat_ have zero sum because no transition from the state was ever observed.\n",
      "Some rows of transmat_ have zero sum because no transition from the state was ever observed.\n",
      "Some rows of transmat_ have zero sum because no transition from the state was ever observed.\n",
      "Some rows of transmat_ have zero sum because no transition from the state was ever observed.\n",
      "Some rows of transmat_ have zero sum because no transition from the state was ever observed.\n",
      "Some rows of transmat_ have zero sum because no transition from the state was ever observed.\n",
      "Some rows of transmat_ have zero sum because no transition from the state was ever observed.\n",
      "Some rows of transmat_ have zero sum because no transition from the state was ever observed.\n",
      "Some rows of transmat_ have zero sum because no transition from the state was ever observed.\n",
      "Some rows of transmat_ have zero sum because no transition from the state was ever observed.\n",
      "Some rows of transmat_ have zero sum because no transition from the state was ever observed.\n",
      "Some rows of transmat_ have zero sum because no transition from the state was ever observed.\n",
      "Some rows of transmat_ have zero sum because no transition from the state was ever observed.\n",
      "Some rows of transmat_ have zero sum because no transition from the state was ever observed.\n",
      "Some rows of transmat_ have zero sum because no transition from the state was ever observed.\n",
      "Some rows of transmat_ have zero sum because no transition from the state was ever observed.\n",
      "Some rows of transmat_ have zero sum because no transition from the state was ever observed.\n",
      "Some rows of transmat_ have zero sum because no transition from the state was ever observed.\n",
      "Some rows of transmat_ have zero sum because no transition from the state was ever observed.\n",
      "Some rows of transmat_ have zero sum because no transition from the state was ever observed.\n",
      "Some rows of transmat_ have zero sum because no transition from the state was ever observed.\n",
      "Some rows of transmat_ have zero sum because no transition from the state was ever observed.\n",
      "Some rows of transmat_ have zero sum because no transition from the state was ever observed.\n",
      "Some rows of transmat_ have zero sum because no transition from the state was ever observed.\n",
      "Some rows of transmat_ have zero sum because no transition from the state was ever observed.\n",
      "Some rows of transmat_ have zero sum because no transition from the state was ever observed.\n",
      "Some rows of transmat_ have zero sum because no transition from the state was ever observed.\n",
      "Some rows of transmat_ have zero sum because no transition from the state was ever observed.\n",
      "Some rows of transmat_ have zero sum because no transition from the state was ever observed.\n",
      "Some rows of transmat_ have zero sum because no transition from the state was ever observed.\n",
      "Some rows of transmat_ have zero sum because no transition from the state was ever observed.\n",
      "Some rows of transmat_ have zero sum because no transition from the state was ever observed.\n",
      "Some rows of transmat_ have zero sum because no transition from the state was ever observed.\n",
      "Some rows of transmat_ have zero sum because no transition from the state was ever observed.\n",
      "Some rows of transmat_ have zero sum because no transition from the state was ever observed.\n",
      "Some rows of transmat_ have zero sum because no transition from the state was ever observed.\n",
      "Some rows of transmat_ have zero sum because no transition from the state was ever observed.\n",
      "Some rows of transmat_ have zero sum because no transition from the state was ever observed.\n",
      "Some rows of transmat_ have zero sum because no transition from the state was ever observed.\n",
      "Some rows of transmat_ have zero sum because no transition from the state was ever observed.\n",
      "Some rows of transmat_ have zero sum because no transition from the state was ever observed.\n",
      "Some rows of transmat_ have zero sum because no transition from the state was ever observed.\n",
      "Some rows of transmat_ have zero sum because no transition from the state was ever observed.\n",
      "Some rows of transmat_ have zero sum because no transition from the state was ever observed.\n",
      "Some rows of transmat_ have zero sum because no transition from the state was ever observed.\n",
      "Some rows of transmat_ have zero sum because no transition from the state was ever observed.\n",
      "Some rows of transmat_ have zero sum because no transition from the state was ever observed.\n",
      "Some rows of transmat_ have zero sum because no transition from the state was ever observed.\n",
      "Some rows of transmat_ have zero sum because no transition from the state was ever observed.\n",
      "Some rows of transmat_ have zero sum because no transition from the state was ever observed.\n",
      "Some rows of transmat_ have zero sum because no transition from the state was ever observed.\n",
      "Some rows of transmat_ have zero sum because no transition from the state was ever observed.\n",
      "Some rows of transmat_ have zero sum because no transition from the state was ever observed.\n",
      "Some rows of transmat_ have zero sum because no transition from the state was ever observed.\n",
      "Some rows of transmat_ have zero sum because no transition from the state was ever observed.\n",
      "Some rows of transmat_ have zero sum because no transition from the state was ever observed.\n",
      "Some rows of transmat_ have zero sum because no transition from the state was ever observed.\n",
      "Some rows of transmat_ have zero sum because no transition from the state was ever observed.\n",
      "Some rows of transmat_ have zero sum because no transition from the state was ever observed.\n",
      "Some rows of transmat_ have zero sum because no transition from the state was ever observed.\n",
      "Some rows of transmat_ have zero sum because no transition from the state was ever observed.\n",
      "Some rows of transmat_ have zero sum because no transition from the state was ever observed.\n",
      "Some rows of transmat_ have zero sum because no transition from the state was ever observed.\n",
      "Some rows of transmat_ have zero sum because no transition from the state was ever observed.\n",
      "Some rows of transmat_ have zero sum because no transition from the state was ever observed.\n",
      "Some rows of transmat_ have zero sum because no transition from the state was ever observed.\n",
      "Some rows of transmat_ have zero sum because no transition from the state was ever observed.\n",
      "Some rows of transmat_ have zero sum because no transition from the state was ever observed.\n",
      "Some rows of transmat_ have zero sum because no transition from the state was ever observed.\n",
      "Some rows of transmat_ have zero sum because no transition from the state was ever observed.\n",
      "Some rows of transmat_ have zero sum because no transition from the state was ever observed.\n",
      "Some rows of transmat_ have zero sum because no transition from the state was ever observed.\n",
      "Some rows of transmat_ have zero sum because no transition from the state was ever observed.\n",
      "Some rows of transmat_ have zero sum because no transition from the state was ever observed.\n",
      "Some rows of transmat_ have zero sum because no transition from the state was ever observed.\n",
      "Some rows of transmat_ have zero sum because no transition from the state was ever observed.\n",
      "Some rows of transmat_ have zero sum because no transition from the state was ever observed.\n",
      "Some rows of transmat_ have zero sum because no transition from the state was ever observed.\n",
      "Some rows of transmat_ have zero sum because no transition from the state was ever observed.\n",
      "Some rows of transmat_ have zero sum because no transition from the state was ever observed.\n",
      "Some rows of transmat_ have zero sum because no transition from the state was ever observed.\n",
      "Some rows of transmat_ have zero sum because no transition from the state was ever observed.\n",
      "Some rows of transmat_ have zero sum because no transition from the state was ever observed.\n",
      "Some rows of transmat_ have zero sum because no transition from the state was ever observed.\n",
      "Some rows of transmat_ have zero sum because no transition from the state was ever observed.\n",
      "Some rows of transmat_ have zero sum because no transition from the state was ever observed.\n",
      "Some rows of transmat_ have zero sum because no transition from the state was ever observed.\n",
      "Some rows of transmat_ have zero sum because no transition from the state was ever observed.\n",
      "Some rows of transmat_ have zero sum because no transition from the state was ever observed.\n",
      "Some rows of transmat_ have zero sum because no transition from the state was ever observed.\n",
      "Some rows of transmat_ have zero sum because no transition from the state was ever observed.\n",
      "Some rows of transmat_ have zero sum because no transition from the state was ever observed.\n",
      "Some rows of transmat_ have zero sum because no transition from the state was ever observed.\n",
      "Some rows of transmat_ have zero sum because no transition from the state was ever observed.\n",
      "Some rows of transmat_ have zero sum because no transition from the state was ever observed.\n",
      "Some rows of transmat_ have zero sum because no transition from the state was ever observed.\n",
      "Some rows of transmat_ have zero sum because no transition from the state was ever observed.\n",
      "Some rows of transmat_ have zero sum because no transition from the state was ever observed.\n",
      "Some rows of transmat_ have zero sum because no transition from the state was ever observed.\n",
      "Some rows of transmat_ have zero sum because no transition from the state was ever observed.\n",
      "Some rows of transmat_ have zero sum because no transition from the state was ever observed.\n",
      "Some rows of transmat_ have zero sum because no transition from the state was ever observed.\n",
      "Some rows of transmat_ have zero sum because no transition from the state was ever observed.\n",
      "Some rows of transmat_ have zero sum because no transition from the state was ever observed.\n",
      "Some rows of transmat_ have zero sum because no transition from the state was ever observed.\n",
      "Some rows of transmat_ have zero sum because no transition from the state was ever observed.\n",
      "Some rows of transmat_ have zero sum because no transition from the state was ever observed.\n",
      "Some rows of transmat_ have zero sum because no transition from the state was ever observed.\n",
      "Some rows of transmat_ have zero sum because no transition from the state was ever observed.\n",
      "Some rows of transmat_ have zero sum because no transition from the state was ever observed.\n",
      "Some rows of transmat_ have zero sum because no transition from the state was ever observed.\n",
      "Some rows of transmat_ have zero sum because no transition from the state was ever observed.\n",
      "Some rows of transmat_ have zero sum because no transition from the state was ever observed.\n",
      "Some rows of transmat_ have zero sum because no transition from the state was ever observed.\n",
      "Some rows of transmat_ have zero sum because no transition from the state was ever observed.\n",
      "Some rows of transmat_ have zero sum because no transition from the state was ever observed.\n",
      "Some rows of transmat_ have zero sum because no transition from the state was ever observed.\n",
      "Some rows of transmat_ have zero sum because no transition from the state was ever observed.\n",
      "Some rows of transmat_ have zero sum because no transition from the state was ever observed.\n",
      "Some rows of transmat_ have zero sum because no transition from the state was ever observed.\n",
      "Some rows of transmat_ have zero sum because no transition from the state was ever observed.\n",
      "Some rows of transmat_ have zero sum because no transition from the state was ever observed.\n",
      "Some rows of transmat_ have zero sum because no transition from the state was ever observed.\n",
      "Some rows of transmat_ have zero sum because no transition from the state was ever observed.\n",
      "Some rows of transmat_ have zero sum because no transition from the state was ever observed.\n",
      "Some rows of transmat_ have zero sum because no transition from the state was ever observed.\n",
      "Some rows of transmat_ have zero sum because no transition from the state was ever observed.\n",
      "Some rows of transmat_ have zero sum because no transition from the state was ever observed.\n",
      "Some rows of transmat_ have zero sum because no transition from the state was ever observed.\n",
      "Some rows of transmat_ have zero sum because no transition from the state was ever observed.\n",
      "Some rows of transmat_ have zero sum because no transition from the state was ever observed.\n",
      "Some rows of transmat_ have zero sum because no transition from the state was ever observed.\n",
      "Some rows of transmat_ have zero sum because no transition from the state was ever observed.\n",
      "Some rows of transmat_ have zero sum because no transition from the state was ever observed.\n",
      "Some rows of transmat_ have zero sum because no transition from the state was ever observed.\n",
      "Some rows of transmat_ have zero sum because no transition from the state was ever observed.\n",
      "Some rows of transmat_ have zero sum because no transition from the state was ever observed.\n",
      "Some rows of transmat_ have zero sum because no transition from the state was ever observed.\n",
      "Some rows of transmat_ have zero sum because no transition from the state was ever observed.\n",
      "Some rows of transmat_ have zero sum because no transition from the state was ever observed.\n",
      "Some rows of transmat_ have zero sum because no transition from the state was ever observed.\n",
      "Some rows of transmat_ have zero sum because no transition from the state was ever observed.\n",
      "Some rows of transmat_ have zero sum because no transition from the state was ever observed.\n",
      "Some rows of transmat_ have zero sum because no transition from the state was ever observed.\n",
      "Some rows of transmat_ have zero sum because no transition from the state was ever observed.\n",
      "Some rows of transmat_ have zero sum because no transition from the state was ever observed.\n",
      "Some rows of transmat_ have zero sum because no transition from the state was ever observed.\n",
      "Some rows of transmat_ have zero sum because no transition from the state was ever observed.\n",
      "Some rows of transmat_ have zero sum because no transition from the state was ever observed.\n",
      "Some rows of transmat_ have zero sum because no transition from the state was ever observed.\n",
      "Some rows of transmat_ have zero sum because no transition from the state was ever observed.\n",
      "Some rows of transmat_ have zero sum because no transition from the state was ever observed.\n",
      "Some rows of transmat_ have zero sum because no transition from the state was ever observed.\n",
      "Some rows of transmat_ have zero sum because no transition from the state was ever observed.\n",
      "Some rows of transmat_ have zero sum because no transition from the state was ever observed.\n",
      "Some rows of transmat_ have zero sum because no transition from the state was ever observed.\n",
      "Some rows of transmat_ have zero sum because no transition from the state was ever observed.\n",
      "Some rows of transmat_ have zero sum because no transition from the state was ever observed.\n",
      "Some rows of transmat_ have zero sum because no transition from the state was ever observed.\n",
      "Some rows of transmat_ have zero sum because no transition from the state was ever observed.\n",
      "Some rows of transmat_ have zero sum because no transition from the state was ever observed.\n",
      "Some rows of transmat_ have zero sum because no transition from the state was ever observed.\n",
      "Some rows of transmat_ have zero sum because no transition from the state was ever observed.\n",
      "Some rows of transmat_ have zero sum because no transition from the state was ever observed.\n",
      "Some rows of transmat_ have zero sum because no transition from the state was ever observed.\n",
      "Some rows of transmat_ have zero sum because no transition from the state was ever observed.\n",
      "Some rows of transmat_ have zero sum because no transition from the state was ever observed.\n",
      "Some rows of transmat_ have zero sum because no transition from the state was ever observed.\n",
      "Some rows of transmat_ have zero sum because no transition from the state was ever observed.\n",
      "Some rows of transmat_ have zero sum because no transition from the state was ever observed.\n",
      "Some rows of transmat_ have zero sum because no transition from the state was ever observed.\n",
      "Some rows of transmat_ have zero sum because no transition from the state was ever observed.\n",
      "Some rows of transmat_ have zero sum because no transition from the state was ever observed.\n",
      "Some rows of transmat_ have zero sum because no transition from the state was ever observed.\n",
      "Some rows of transmat_ have zero sum because no transition from the state was ever observed.\n",
      "Some rows of transmat_ have zero sum because no transition from the state was ever observed.\n",
      "Some rows of transmat_ have zero sum because no transition from the state was ever observed.\n",
      "Some rows of transmat_ have zero sum because no transition from the state was ever observed.\n",
      "Some rows of transmat_ have zero sum because no transition from the state was ever observed.\n",
      "Some rows of transmat_ have zero sum because no transition from the state was ever observed.\n",
      "Some rows of transmat_ have zero sum because no transition from the state was ever observed.\n",
      "Some rows of transmat_ have zero sum because no transition from the state was ever observed.\n",
      "Some rows of transmat_ have zero sum because no transition from the state was ever observed.\n",
      "Some rows of transmat_ have zero sum because no transition from the state was ever observed.\n",
      "Some rows of transmat_ have zero sum because no transition from the state was ever observed.\n",
      "Some rows of transmat_ have zero sum because no transition from the state was ever observed.\n",
      "Some rows of transmat_ have zero sum because no transition from the state was ever observed.\n",
      "Some rows of transmat_ have zero sum because no transition from the state was ever observed.\n",
      "Some rows of transmat_ have zero sum because no transition from the state was ever observed.\n",
      "Some rows of transmat_ have zero sum because no transition from the state was ever observed.\n",
      "Some rows of transmat_ have zero sum because no transition from the state was ever observed.\n",
      "Some rows of transmat_ have zero sum because no transition from the state was ever observed.\n",
      "Some rows of transmat_ have zero sum because no transition from the state was ever observed.\n",
      "Some rows of transmat_ have zero sum because no transition from the state was ever observed.\n",
      "Some rows of transmat_ have zero sum because no transition from the state was ever observed.\n",
      "Some rows of transmat_ have zero sum because no transition from the state was ever observed.\n",
      "Some rows of transmat_ have zero sum because no transition from the state was ever observed.\n",
      "Some rows of transmat_ have zero sum because no transition from the state was ever observed.\n",
      "Some rows of transmat_ have zero sum because no transition from the state was ever observed.\n",
      "Some rows of transmat_ have zero sum because no transition from the state was ever observed.\n",
      "Some rows of transmat_ have zero sum because no transition from the state was ever observed.\n",
      "Some rows of transmat_ have zero sum because no transition from the state was ever observed.\n",
      "Some rows of transmat_ have zero sum because no transition from the state was ever observed.\n",
      "Some rows of transmat_ have zero sum because no transition from the state was ever observed.\n",
      "Some rows of transmat_ have zero sum because no transition from the state was ever observed.\n",
      "Some rows of transmat_ have zero sum because no transition from the state was ever observed.\n",
      "Some rows of transmat_ have zero sum because no transition from the state was ever observed.\n",
      "Some rows of transmat_ have zero sum because no transition from the state was ever observed.\n",
      "Some rows of transmat_ have zero sum because no transition from the state was ever observed.\n",
      "Some rows of transmat_ have zero sum because no transition from the state was ever observed.\n",
      "Some rows of transmat_ have zero sum because no transition from the state was ever observed.\n",
      "Some rows of transmat_ have zero sum because no transition from the state was ever observed.\n",
      "Some rows of transmat_ have zero sum because no transition from the state was ever observed.\n",
      "Some rows of transmat_ have zero sum because no transition from the state was ever observed.\n",
      "Some rows of transmat_ have zero sum because no transition from the state was ever observed.\n",
      "Some rows of transmat_ have zero sum because no transition from the state was ever observed.\n",
      "Some rows of transmat_ have zero sum because no transition from the state was ever observed.\n",
      "Some rows of transmat_ have zero sum because no transition from the state was ever observed.\n",
      "Some rows of transmat_ have zero sum because no transition from the state was ever observed.\n",
      "Some rows of transmat_ have zero sum because no transition from the state was ever observed.\n",
      "Some rows of transmat_ have zero sum because no transition from the state was ever observed.\n",
      "Some rows of transmat_ have zero sum because no transition from the state was ever observed.\n",
      "Some rows of transmat_ have zero sum because no transition from the state was ever observed.\n",
      "Some rows of transmat_ have zero sum because no transition from the state was ever observed.\n",
      "Some rows of transmat_ have zero sum because no transition from the state was ever observed.\n",
      "Some rows of transmat_ have zero sum because no transition from the state was ever observed.\n",
      "Some rows of transmat_ have zero sum because no transition from the state was ever observed.\n",
      "Some rows of transmat_ have zero sum because no transition from the state was ever observed.\n",
      "Some rows of transmat_ have zero sum because no transition from the state was ever observed.\n",
      "Some rows of transmat_ have zero sum because no transition from the state was ever observed.\n",
      "Some rows of transmat_ have zero sum because no transition from the state was ever observed.\n",
      "Model is not converging.  Current: 17213.208533435572 is not greater than 17216.49049879162. Delta is -3.2819653560472943\n"
     ]
    },
    {
     "name": "stdout",
     "output_type": "stream",
     "text": [
      ">>>>>>>>>> YPFD.BA 5 did not converge\n",
      "YPFD.BA 6\n",
      "YPFD.BA 7\n"
     ]
    },
    {
     "name": "stderr",
     "output_type": "stream",
     "text": [
      "Model is not converging.  Current: 17220.366214344893 is not greater than 17222.302417235725. Delta is -1.9362028908326465\n"
     ]
    },
    {
     "name": "stdout",
     "output_type": "stream",
     "text": [
      "YPFD.BA 8\n"
     ]
    },
    {
     "name": "stderr",
     "output_type": "stream",
     "text": [
      "Model is not converging.  Current: 17798.792427558692 is not greater than 17798.898789656123. Delta is -0.10636209743097425\n"
     ]
    },
    {
     "name": "stdout",
     "output_type": "stream",
     "text": [
      ">>>>>>>>>> YPFD.BA 8 did not converge\n",
      "YPFD.BA 9\n"
     ]
    },
    {
     "name": "stderr",
     "output_type": "stream",
     "text": [
      "Model is not converging.  Current: 17826.38732486051 is not greater than 17827.423965834478. Delta is -1.0366409739690425\n"
     ]
    },
    {
     "name": "stdout",
     "output_type": "stream",
     "text": [
      "YPFD.BA 10\n"
     ]
    },
    {
     "name": "stderr",
     "output_type": "stream",
     "text": [
      "Model is not converging.  Current: 17225.251571233086 is not greater than 17225.3600731166. Delta is -0.10850188351469114\n"
     ]
    },
    {
     "name": "stdout",
     "output_type": "stream",
     "text": [
      "YPFD.BA 11\n",
      "YPFD.BA 12\n"
     ]
    },
    {
     "name": "stderr",
     "output_type": "stream",
     "text": [
      "Model is not converging.  Current: 17232.19631488265 is not greater than 17232.20381060694. Delta is -0.007495724290492944\n"
     ]
    },
    {
     "name": "stdout",
     "output_type": "stream",
     "text": [
      "YPFD.BA 13\n"
     ]
    },
    {
     "name": "stderr",
     "output_type": "stream",
     "text": [
      "Model is not converging.  Current: 17778.291796360863 is not greater than 17785.31079929863. Delta is -7.019002937766345\n"
     ]
    },
    {
     "name": "stdout",
     "output_type": "stream",
     "text": [
      "YPFD.BA 14\n"
     ]
    },
    {
     "name": "stderr",
     "output_type": "stream",
     "text": [
      "Model is not converging.  Current: 17247.41636176166 is not greater than 17248.34424989968. Delta is -0.9278881380196253\n"
     ]
    },
    {
     "name": "stdout",
     "output_type": "stream",
     "text": [
      ">>>>>>>>>> YPFD.BA 14 did not converge\n",
      "YPFD.BA 15\n"
     ]
    },
    {
     "name": "stderr",
     "output_type": "stream",
     "text": [
      "Model is not converging.  Current: 17194.22342857503 is not greater than 17194.767693578106. Delta is -0.5442650030745426\n",
      "Model is not converging.  Current: 17646.064794280628 is not greater than 17648.9842399738. Delta is -2.9194456931727473\n",
      "Model is not converging.  Current: 17102.09427315503 is not greater than 17102.472666230442. Delta is -0.3783930754107132\n"
     ]
    },
    {
     "name": "stdout",
     "output_type": "stream",
     "text": [
      "YPF 1\n",
      "YPF 2\n",
      "YPF 3\n",
      ">>>>>>>>>> YPF 3 did not converge\n",
      "YPF 4\n"
     ]
    },
    {
     "name": "stderr",
     "output_type": "stream",
     "text": [
      "Model is not converging.  Current: 17703.88789990591 is not greater than 17707.791707227057. Delta is -3.9038073211486335\n",
      "Model is not converging.  Current: 17133.72848875819 is not greater than 17134.345010003926. Delta is -0.6165212457344751\n"
     ]
    },
    {
     "name": "stdout",
     "output_type": "stream",
     "text": [
      "YPF 5\n",
      ">>>>>>>>>> YPF 5 did not converge\n",
      "YPF 6\n"
     ]
    },
    {
     "name": "stderr",
     "output_type": "stream",
     "text": [
      "Model is not converging.  Current: 17707.840571269346 is not greater than 17709.202135573487. Delta is -1.3615643041412113\n"
     ]
    },
    {
     "name": "stdout",
     "output_type": "stream",
     "text": [
      "YPF 7\n"
     ]
    },
    {
     "name": "stderr",
     "output_type": "stream",
     "text": [
      "Model is not converging.  Current: 17156.87808752897 is not greater than 17156.975011501658. Delta is -0.09692397268736386\n"
     ]
    },
    {
     "name": "stdout",
     "output_type": "stream",
     "text": [
      "YPF 8\n",
      "YPF 9\n"
     ]
    },
    {
     "name": "stderr",
     "output_type": "stream",
     "text": [
      "Model is not converging.  Current: 17707.400110072256 is not greater than 17711.465377348137. Delta is -4.065267275880615\n"
     ]
    },
    {
     "name": "stdout",
     "output_type": "stream",
     "text": [
      "YPF 10\n"
     ]
    },
    {
     "name": "stderr",
     "output_type": "stream",
     "text": [
      "Model is not converging.  Current: 17134.12913570313 is not greater than 17136.187455328167. Delta is -2.0583196250372566\n"
     ]
    },
    {
     "name": "stdout",
     "output_type": "stream",
     "text": [
      "YPF 11\n"
     ]
    },
    {
     "name": "stderr",
     "output_type": "stream",
     "text": [
      "Model is not converging.  Current: 17754.727164271506 is not greater than 17759.977595586603. Delta is -5.250431315096648\n"
     ]
    },
    {
     "name": "stdout",
     "output_type": "stream",
     "text": [
      ">>>>>>>>>> YPF 11 did not converge\n",
      "YPF 12\n"
     ]
    },
    {
     "name": "stderr",
     "output_type": "stream",
     "text": [
      "Model is not converging.  Current: 17705.249370527603 is not greater than 17715.793864074527. Delta is -10.544493546924059\n"
     ]
    },
    {
     "name": "stdout",
     "output_type": "stream",
     "text": [
      "YPF 13\n"
     ]
    },
    {
     "name": "stderr",
     "output_type": "stream",
     "text": [
      "Model is not converging.  Current: 17112.507487297702 is not greater than 17114.352903128874. Delta is -1.8454158311724314\n"
     ]
    },
    {
     "name": "stdout",
     "output_type": "stream",
     "text": [
      "YPF 14\n",
      "YPF 15\n"
     ]
    },
    {
     "name": "stderr",
     "output_type": "stream",
     "text": [
      "Model is not converging.  Current: 17664.678419971824 is not greater than 17681.928657295426. Delta is -17.25023732360205\n"
     ]
    },
    {
     "name": "stdout",
     "output_type": "stream",
     "text": [
      "EDN.BA 1\n",
      "EDN.BA 2\n",
      "EDN.BA 3\n"
     ]
    },
    {
     "name": "stderr",
     "output_type": "stream",
     "text": [
      "Model is not converging.  Current: 17159.36524722281 is not greater than 17160.897804423945. Delta is -1.532557201135205\n"
     ]
    },
    {
     "name": "stdout",
     "output_type": "stream",
     "text": [
      "EDN.BA 4\n",
      "EDN.BA 5\n"
     ]
    },
    {
     "name": "stderr",
     "output_type": "stream",
     "text": [
      "Model is not converging.  Current: 16623.0734432425 is not greater than 16623.101595552616. Delta is -0.028152310114819556\n"
     ]
    },
    {
     "name": "stdout",
     "output_type": "stream",
     "text": [
      "EDN.BA 6\n"
     ]
    },
    {
     "name": "stderr",
     "output_type": "stream",
     "text": [
      "Model is not converging.  Current: 16581.72170426638 is not greater than 16583.54739207498. Delta is -1.8256878085994686\n"
     ]
    },
    {
     "name": "stdout",
     "output_type": "stream",
     "text": [
      "EDN.BA 7\n",
      ">>>>>>>>>> EDN.BA 7 did not converge\n",
      "EDN.BA 8\n",
      "EDN.BA 9\n"
     ]
    },
    {
     "name": "stderr",
     "output_type": "stream",
     "text": [
      "Model is not converging.  Current: 17063.76033184445 is not greater than 17076.279813233814. Delta is -12.519481389364955\n"
     ]
    },
    {
     "name": "stdout",
     "output_type": "stream",
     "text": [
      "EDN.BA 10\n",
      "EDN.BA 11\n",
      "EDN.BA 12\n"
     ]
    },
    {
     "name": "stderr",
     "output_type": "stream",
     "text": [
      "Model is not converging.  Current: 17155.988347823597 is not greater than 17155.994811153894. Delta is -0.006463330297265202\n"
     ]
    },
    {
     "name": "stdout",
     "output_type": "stream",
     "text": [
      "EDN.BA 13\n"
     ]
    },
    {
     "name": "stderr",
     "output_type": "stream",
     "text": [
      "c:\\Users\\Alfred\\.julia\\conda\\3\\envs\\hmm\\Lib\\site-packages\\hmmlearn\\hmm.py:340: RuntimeWarning: invalid value encountered in divide\n",
      "  self.means_ = ((means_weight * means_prior + stats['obs'])\n",
      "Some rows of transmat_ have zero sum because no transition from the state was ever observed.\n",
      "Some rows of transmat_ have zero sum because no transition from the state was ever observed.\n",
      "Some rows of transmat_ have zero sum because no transition from the state was ever observed.\n",
      "Some rows of transmat_ have zero sum because no transition from the state was ever observed.\n",
      "Some rows of transmat_ have zero sum because no transition from the state was ever observed.\n",
      "Some rows of transmat_ have zero sum because no transition from the state was ever observed.\n",
      "Some rows of transmat_ have zero sum because no transition from the state was ever observed.\n",
      "Some rows of transmat_ have zero sum because no transition from the state was ever observed.\n",
      "Some rows of transmat_ have zero sum because no transition from the state was ever observed.\n",
      "Some rows of transmat_ have zero sum because no transition from the state was ever observed.\n",
      "Some rows of transmat_ have zero sum because no transition from the state was ever observed.\n",
      "Some rows of transmat_ have zero sum because no transition from the state was ever observed.\n",
      "Some rows of transmat_ have zero sum because no transition from the state was ever observed.\n",
      "Some rows of transmat_ have zero sum because no transition from the state was ever observed.\n",
      "Some rows of transmat_ have zero sum because no transition from the state was ever observed.\n",
      "Some rows of transmat_ have zero sum because no transition from the state was ever observed.\n",
      "Some rows of transmat_ have zero sum because no transition from the state was ever observed.\n",
      "Some rows of transmat_ have zero sum because no transition from the state was ever observed.\n",
      "Some rows of transmat_ have zero sum because no transition from the state was ever observed.\n",
      "Some rows of transmat_ have zero sum because no transition from the state was ever observed.\n",
      "Some rows of transmat_ have zero sum because no transition from the state was ever observed.\n",
      "Some rows of transmat_ have zero sum because no transition from the state was ever observed.\n",
      "Some rows of transmat_ have zero sum because no transition from the state was ever observed.\n",
      "Some rows of transmat_ have zero sum because no transition from the state was ever observed.\n",
      "Some rows of transmat_ have zero sum because no transition from the state was ever observed.\n",
      "Some rows of transmat_ have zero sum because no transition from the state was ever observed.\n",
      "Some rows of transmat_ have zero sum because no transition from the state was ever observed.\n",
      "Some rows of transmat_ have zero sum because no transition from the state was ever observed.\n",
      "Some rows of transmat_ have zero sum because no transition from the state was ever observed.\n",
      "Some rows of transmat_ have zero sum because no transition from the state was ever observed.\n",
      "Some rows of transmat_ have zero sum because no transition from the state was ever observed.\n",
      "Some rows of transmat_ have zero sum because no transition from the state was ever observed.\n",
      "Some rows of transmat_ have zero sum because no transition from the state was ever observed.\n",
      "Some rows of transmat_ have zero sum because no transition from the state was ever observed.\n",
      "Some rows of transmat_ have zero sum because no transition from the state was ever observed.\n",
      "Some rows of transmat_ have zero sum because no transition from the state was ever observed.\n",
      "Some rows of transmat_ have zero sum because no transition from the state was ever observed.\n",
      "Some rows of transmat_ have zero sum because no transition from the state was ever observed.\n",
      "Some rows of transmat_ have zero sum because no transition from the state was ever observed.\n",
      "Some rows of transmat_ have zero sum because no transition from the state was ever observed.\n",
      "Some rows of transmat_ have zero sum because no transition from the state was ever observed.\n",
      "Some rows of transmat_ have zero sum because no transition from the state was ever observed.\n",
      "Some rows of transmat_ have zero sum because no transition from the state was ever observed.\n",
      "Some rows of transmat_ have zero sum because no transition from the state was ever observed.\n",
      "Some rows of transmat_ have zero sum because no transition from the state was ever observed.\n",
      "Some rows of transmat_ have zero sum because no transition from the state was ever observed.\n",
      "Some rows of transmat_ have zero sum because no transition from the state was ever observed.\n",
      "Some rows of transmat_ have zero sum because no transition from the state was ever observed.\n",
      "Some rows of transmat_ have zero sum because no transition from the state was ever observed.\n",
      "Some rows of transmat_ have zero sum because no transition from the state was ever observed.\n",
      "Some rows of transmat_ have zero sum because no transition from the state was ever observed.\n",
      "Some rows of transmat_ have zero sum because no transition from the state was ever observed.\n",
      "Some rows of transmat_ have zero sum because no transition from the state was ever observed.\n",
      "Some rows of transmat_ have zero sum because no transition from the state was ever observed.\n",
      "Some rows of transmat_ have zero sum because no transition from the state was ever observed.\n",
      "Some rows of transmat_ have zero sum because no transition from the state was ever observed.\n",
      "Some rows of transmat_ have zero sum because no transition from the state was ever observed.\n",
      "Some rows of transmat_ have zero sum because no transition from the state was ever observed.\n",
      "Some rows of transmat_ have zero sum because no transition from the state was ever observed.\n",
      "Some rows of transmat_ have zero sum because no transition from the state was ever observed.\n",
      "Some rows of transmat_ have zero sum because no transition from the state was ever observed.\n",
      "Some rows of transmat_ have zero sum because no transition from the state was ever observed.\n",
      "Some rows of transmat_ have zero sum because no transition from the state was ever observed.\n",
      "Some rows of transmat_ have zero sum because no transition from the state was ever observed.\n",
      "Some rows of transmat_ have zero sum because no transition from the state was ever observed.\n",
      "Some rows of transmat_ have zero sum because no transition from the state was ever observed.\n",
      "Some rows of transmat_ have zero sum because no transition from the state was ever observed.\n",
      "Some rows of transmat_ have zero sum because no transition from the state was ever observed.\n",
      "Some rows of transmat_ have zero sum because no transition from the state was ever observed.\n",
      "Some rows of transmat_ have zero sum because no transition from the state was ever observed.\n",
      "Some rows of transmat_ have zero sum because no transition from the state was ever observed.\n",
      "Some rows of transmat_ have zero sum because no transition from the state was ever observed.\n",
      "Some rows of transmat_ have zero sum because no transition from the state was ever observed.\n",
      "Some rows of transmat_ have zero sum because no transition from the state was ever observed.\n",
      "Some rows of transmat_ have zero sum because no transition from the state was ever observed.\n",
      "Some rows of transmat_ have zero sum because no transition from the state was ever observed.\n",
      "Some rows of transmat_ have zero sum because no transition from the state was ever observed.\n",
      "Some rows of transmat_ have zero sum because no transition from the state was ever observed.\n",
      "Some rows of transmat_ have zero sum because no transition from the state was ever observed.\n",
      "Some rows of transmat_ have zero sum because no transition from the state was ever observed.\n",
      "Some rows of transmat_ have zero sum because no transition from the state was ever observed.\n",
      "Some rows of transmat_ have zero sum because no transition from the state was ever observed.\n",
      "Some rows of transmat_ have zero sum because no transition from the state was ever observed.\n",
      "Some rows of transmat_ have zero sum because no transition from the state was ever observed.\n",
      "Some rows of transmat_ have zero sum because no transition from the state was ever observed.\n",
      "Some rows of transmat_ have zero sum because no transition from the state was ever observed.\n",
      "Some rows of transmat_ have zero sum because no transition from the state was ever observed.\n",
      "Some rows of transmat_ have zero sum because no transition from the state was ever observed.\n",
      "Some rows of transmat_ have zero sum because no transition from the state was ever observed.\n",
      "Some rows of transmat_ have zero sum because no transition from the state was ever observed.\n",
      "Some rows of transmat_ have zero sum because no transition from the state was ever observed.\n",
      "Some rows of transmat_ have zero sum because no transition from the state was ever observed.\n",
      "Some rows of transmat_ have zero sum because no transition from the state was ever observed.\n",
      "Some rows of transmat_ have zero sum because no transition from the state was ever observed.\n",
      "Some rows of transmat_ have zero sum because no transition from the state was ever observed.\n",
      "Some rows of transmat_ have zero sum because no transition from the state was ever observed.\n",
      "Some rows of transmat_ have zero sum because no transition from the state was ever observed.\n",
      "Some rows of transmat_ have zero sum because no transition from the state was ever observed.\n",
      "Some rows of transmat_ have zero sum because no transition from the state was ever observed.\n",
      "Some rows of transmat_ have zero sum because no transition from the state was ever observed.\n",
      "Some rows of transmat_ have zero sum because no transition from the state was ever observed.\n",
      "Some rows of transmat_ have zero sum because no transition from the state was ever observed.\n",
      "Some rows of transmat_ have zero sum because no transition from the state was ever observed.\n",
      "Some rows of transmat_ have zero sum because no transition from the state was ever observed.\n",
      "Some rows of transmat_ have zero sum because no transition from the state was ever observed.\n",
      "Some rows of transmat_ have zero sum because no transition from the state was ever observed.\n",
      "Some rows of transmat_ have zero sum because no transition from the state was ever observed.\n",
      "Some rows of transmat_ have zero sum because no transition from the state was ever observed.\n",
      "Some rows of transmat_ have zero sum because no transition from the state was ever observed.\n",
      "Some rows of transmat_ have zero sum because no transition from the state was ever observed.\n",
      "Some rows of transmat_ have zero sum because no transition from the state was ever observed.\n",
      "Some rows of transmat_ have zero sum because no transition from the state was ever observed.\n",
      "Some rows of transmat_ have zero sum because no transition from the state was ever observed.\n",
      "Some rows of transmat_ have zero sum because no transition from the state was ever observed.\n",
      "Some rows of transmat_ have zero sum because no transition from the state was ever observed.\n",
      "Some rows of transmat_ have zero sum because no transition from the state was ever observed.\n",
      "Some rows of transmat_ have zero sum because no transition from the state was ever observed.\n",
      "Some rows of transmat_ have zero sum because no transition from the state was ever observed.\n",
      "Some rows of transmat_ have zero sum because no transition from the state was ever observed.\n",
      "Some rows of transmat_ have zero sum because no transition from the state was ever observed.\n",
      "Some rows of transmat_ have zero sum because no transition from the state was ever observed.\n",
      "Some rows of transmat_ have zero sum because no transition from the state was ever observed.\n",
      "Some rows of transmat_ have zero sum because no transition from the state was ever observed.\n",
      "Some rows of transmat_ have zero sum because no transition from the state was ever observed.\n",
      "Some rows of transmat_ have zero sum because no transition from the state was ever observed.\n",
      "Some rows of transmat_ have zero sum because no transition from the state was ever observed.\n",
      "Some rows of transmat_ have zero sum because no transition from the state was ever observed.\n",
      "Some rows of transmat_ have zero sum because no transition from the state was ever observed.\n",
      "Some rows of transmat_ have zero sum because no transition from the state was ever observed.\n",
      "Some rows of transmat_ have zero sum because no transition from the state was ever observed.\n",
      "Some rows of transmat_ have zero sum because no transition from the state was ever observed.\n",
      "Some rows of transmat_ have zero sum because no transition from the state was ever observed.\n",
      "Some rows of transmat_ have zero sum because no transition from the state was ever observed.\n",
      "Some rows of transmat_ have zero sum because no transition from the state was ever observed.\n",
      "Some rows of transmat_ have zero sum because no transition from the state was ever observed.\n",
      "Some rows of transmat_ have zero sum because no transition from the state was ever observed.\n",
      "Some rows of transmat_ have zero sum because no transition from the state was ever observed.\n",
      "Some rows of transmat_ have zero sum because no transition from the state was ever observed.\n",
      "Some rows of transmat_ have zero sum because no transition from the state was ever observed.\n",
      "Some rows of transmat_ have zero sum because no transition from the state was ever observed.\n",
      "Some rows of transmat_ have zero sum because no transition from the state was ever observed.\n",
      "Some rows of transmat_ have zero sum because no transition from the state was ever observed.\n",
      "Some rows of transmat_ have zero sum because no transition from the state was ever observed.\n",
      "Some rows of transmat_ have zero sum because no transition from the state was ever observed.\n",
      "Some rows of transmat_ have zero sum because no transition from the state was ever observed.\n",
      "Some rows of transmat_ have zero sum because no transition from the state was ever observed.\n",
      "Some rows of transmat_ have zero sum because no transition from the state was ever observed.\n",
      "Some rows of transmat_ have zero sum because no transition from the state was ever observed.\n",
      "Some rows of transmat_ have zero sum because no transition from the state was ever observed.\n",
      "Some rows of transmat_ have zero sum because no transition from the state was ever observed.\n",
      "Some rows of transmat_ have zero sum because no transition from the state was ever observed.\n",
      "Some rows of transmat_ have zero sum because no transition from the state was ever observed.\n",
      "Some rows of transmat_ have zero sum because no transition from the state was ever observed.\n",
      "Some rows of transmat_ have zero sum because no transition from the state was ever observed.\n",
      "Some rows of transmat_ have zero sum because no transition from the state was ever observed.\n",
      "Some rows of transmat_ have zero sum because no transition from the state was ever observed.\n",
      "Some rows of transmat_ have zero sum because no transition from the state was ever observed.\n",
      "Some rows of transmat_ have zero sum because no transition from the state was ever observed.\n",
      "Some rows of transmat_ have zero sum because no transition from the state was ever observed.\n",
      "Some rows of transmat_ have zero sum because no transition from the state was ever observed.\n",
      "Some rows of transmat_ have zero sum because no transition from the state was ever observed.\n",
      "Some rows of transmat_ have zero sum because no transition from the state was ever observed.\n",
      "Some rows of transmat_ have zero sum because no transition from the state was ever observed.\n",
      "Some rows of transmat_ have zero sum because no transition from the state was ever observed.\n",
      "Some rows of transmat_ have zero sum because no transition from the state was ever observed.\n",
      "Some rows of transmat_ have zero sum because no transition from the state was ever observed.\n",
      "Some rows of transmat_ have zero sum because no transition from the state was ever observed.\n",
      "Some rows of transmat_ have zero sum because no transition from the state was ever observed.\n",
      "Some rows of transmat_ have zero sum because no transition from the state was ever observed.\n",
      "Some rows of transmat_ have zero sum because no transition from the state was ever observed.\n",
      "Some rows of transmat_ have zero sum because no transition from the state was ever observed.\n",
      "Some rows of transmat_ have zero sum because no transition from the state was ever observed.\n",
      "Some rows of transmat_ have zero sum because no transition from the state was ever observed.\n",
      "Some rows of transmat_ have zero sum because no transition from the state was ever observed.\n",
      "Some rows of transmat_ have zero sum because no transition from the state was ever observed.\n",
      "Some rows of transmat_ have zero sum because no transition from the state was ever observed.\n",
      "Some rows of transmat_ have zero sum because no transition from the state was ever observed.\n",
      "Some rows of transmat_ have zero sum because no transition from the state was ever observed.\n",
      "Some rows of transmat_ have zero sum because no transition from the state was ever observed.\n",
      "Some rows of transmat_ have zero sum because no transition from the state was ever observed.\n",
      "Some rows of transmat_ have zero sum because no transition from the state was ever observed.\n",
      "Some rows of transmat_ have zero sum because no transition from the state was ever observed.\n",
      "Some rows of transmat_ have zero sum because no transition from the state was ever observed.\n",
      "Some rows of transmat_ have zero sum because no transition from the state was ever observed.\n",
      "Some rows of transmat_ have zero sum because no transition from the state was ever observed.\n",
      "Some rows of transmat_ have zero sum because no transition from the state was ever observed.\n",
      "Some rows of transmat_ have zero sum because no transition from the state was ever observed.\n",
      "Some rows of transmat_ have zero sum because no transition from the state was ever observed.\n",
      "Some rows of transmat_ have zero sum because no transition from the state was ever observed.\n",
      "Some rows of transmat_ have zero sum because no transition from the state was ever observed.\n",
      "Some rows of transmat_ have zero sum because no transition from the state was ever observed.\n",
      "Some rows of transmat_ have zero sum because no transition from the state was ever observed.\n",
      "Some rows of transmat_ have zero sum because no transition from the state was ever observed.\n",
      "Some rows of transmat_ have zero sum because no transition from the state was ever observed.\n",
      "Some rows of transmat_ have zero sum because no transition from the state was ever observed.\n",
      "Some rows of transmat_ have zero sum because no transition from the state was ever observed.\n",
      "Some rows of transmat_ have zero sum because no transition from the state was ever observed.\n",
      "Some rows of transmat_ have zero sum because no transition from the state was ever observed.\n",
      "Some rows of transmat_ have zero sum because no transition from the state was ever observed.\n",
      "Some rows of transmat_ have zero sum because no transition from the state was ever observed.\n",
      "Some rows of transmat_ have zero sum because no transition from the state was ever observed.\n",
      "Some rows of transmat_ have zero sum because no transition from the state was ever observed.\n",
      "Some rows of transmat_ have zero sum because no transition from the state was ever observed.\n",
      "Some rows of transmat_ have zero sum because no transition from the state was ever observed.\n",
      "Some rows of transmat_ have zero sum because no transition from the state was ever observed.\n",
      "Some rows of transmat_ have zero sum because no transition from the state was ever observed.\n",
      "Some rows of transmat_ have zero sum because no transition from the state was ever observed.\n",
      "Some rows of transmat_ have zero sum because no transition from the state was ever observed.\n",
      "Some rows of transmat_ have zero sum because no transition from the state was ever observed.\n",
      "Some rows of transmat_ have zero sum because no transition from the state was ever observed.\n",
      "Some rows of transmat_ have zero sum because no transition from the state was ever observed.\n",
      "Some rows of transmat_ have zero sum because no transition from the state was ever observed.\n",
      "Some rows of transmat_ have zero sum because no transition from the state was ever observed.\n",
      "Some rows of transmat_ have zero sum because no transition from the state was ever observed.\n",
      "Some rows of transmat_ have zero sum because no transition from the state was ever observed.\n",
      "Some rows of transmat_ have zero sum because no transition from the state was ever observed.\n",
      "Some rows of transmat_ have zero sum because no transition from the state was ever observed.\n",
      "Some rows of transmat_ have zero sum because no transition from the state was ever observed.\n",
      "Some rows of transmat_ have zero sum because no transition from the state was ever observed.\n",
      "Some rows of transmat_ have zero sum because no transition from the state was ever observed.\n",
      "Some rows of transmat_ have zero sum because no transition from the state was ever observed.\n",
      "Some rows of transmat_ have zero sum because no transition from the state was ever observed.\n",
      "Some rows of transmat_ have zero sum because no transition from the state was ever observed.\n",
      "Some rows of transmat_ have zero sum because no transition from the state was ever observed.\n",
      "Some rows of transmat_ have zero sum because no transition from the state was ever observed.\n",
      "Some rows of transmat_ have zero sum because no transition from the state was ever observed.\n",
      "Some rows of transmat_ have zero sum because no transition from the state was ever observed.\n",
      "Some rows of transmat_ have zero sum because no transition from the state was ever observed.\n",
      "Some rows of transmat_ have zero sum because no transition from the state was ever observed.\n",
      "Some rows of transmat_ have zero sum because no transition from the state was ever observed.\n",
      "Some rows of transmat_ have zero sum because no transition from the state was ever observed.\n",
      "Some rows of transmat_ have zero sum because no transition from the state was ever observed.\n",
      "Some rows of transmat_ have zero sum because no transition from the state was ever observed.\n",
      "Some rows of transmat_ have zero sum because no transition from the state was ever observed.\n",
      "Some rows of transmat_ have zero sum because no transition from the state was ever observed.\n",
      "Some rows of transmat_ have zero sum because no transition from the state was ever observed.\n",
      "Some rows of transmat_ have zero sum because no transition from the state was ever observed.\n",
      "Some rows of transmat_ have zero sum because no transition from the state was ever observed.\n",
      "Some rows of transmat_ have zero sum because no transition from the state was ever observed.\n",
      "Some rows of transmat_ have zero sum because no transition from the state was ever observed.\n",
      "Some rows of transmat_ have zero sum because no transition from the state was ever observed.\n",
      "Some rows of transmat_ have zero sum because no transition from the state was ever observed.\n",
      "Some rows of transmat_ have zero sum because no transition from the state was ever observed.\n",
      "Some rows of transmat_ have zero sum because no transition from the state was ever observed.\n",
      "Some rows of transmat_ have zero sum because no transition from the state was ever observed.\n",
      "Some rows of transmat_ have zero sum because no transition from the state was ever observed.\n",
      "Some rows of transmat_ have zero sum because no transition from the state was ever observed.\n",
      "Some rows of transmat_ have zero sum because no transition from the state was ever observed.\n",
      "Some rows of transmat_ have zero sum because no transition from the state was ever observed.\n",
      "Some rows of transmat_ have zero sum because no transition from the state was ever observed.\n",
      "Some rows of transmat_ have zero sum because no transition from the state was ever observed.\n",
      "Some rows of transmat_ have zero sum because no transition from the state was ever observed.\n",
      "Some rows of transmat_ have zero sum because no transition from the state was ever observed.\n",
      "Some rows of transmat_ have zero sum because no transition from the state was ever observed.\n",
      "Some rows of transmat_ have zero sum because no transition from the state was ever observed.\n",
      "Some rows of transmat_ have zero sum because no transition from the state was ever observed.\n",
      "Some rows of transmat_ have zero sum because no transition from the state was ever observed.\n",
      "Some rows of transmat_ have zero sum because no transition from the state was ever observed.\n",
      "Some rows of transmat_ have zero sum because no transition from the state was ever observed.\n",
      "Some rows of transmat_ have zero sum because no transition from the state was ever observed.\n",
      "Some rows of transmat_ have zero sum because no transition from the state was ever observed.\n",
      "Some rows of transmat_ have zero sum because no transition from the state was ever observed.\n",
      "Some rows of transmat_ have zero sum because no transition from the state was ever observed.\n",
      "Some rows of transmat_ have zero sum because no transition from the state was ever observed.\n",
      "Some rows of transmat_ have zero sum because no transition from the state was ever observed.\n",
      "Some rows of transmat_ have zero sum because no transition from the state was ever observed.\n",
      "Some rows of transmat_ have zero sum because no transition from the state was ever observed.\n",
      "Some rows of transmat_ have zero sum because no transition from the state was ever observed.\n",
      "Some rows of transmat_ have zero sum because no transition from the state was ever observed.\n",
      "Some rows of transmat_ have zero sum because no transition from the state was ever observed.\n",
      "Some rows of transmat_ have zero sum because no transition from the state was ever observed.\n",
      "Some rows of transmat_ have zero sum because no transition from the state was ever observed.\n",
      "Some rows of transmat_ have zero sum because no transition from the state was ever observed.\n",
      "Some rows of transmat_ have zero sum because no transition from the state was ever observed.\n",
      "Some rows of transmat_ have zero sum because no transition from the state was ever observed.\n",
      "Some rows of transmat_ have zero sum because no transition from the state was ever observed.\n",
      "Some rows of transmat_ have zero sum because no transition from the state was ever observed.\n",
      "Some rows of transmat_ have zero sum because no transition from the state was ever observed.\n",
      "Some rows of transmat_ have zero sum because no transition from the state was ever observed.\n",
      "Some rows of transmat_ have zero sum because no transition from the state was ever observed.\n",
      "Some rows of transmat_ have zero sum because no transition from the state was ever observed.\n",
      "Some rows of transmat_ have zero sum because no transition from the state was ever observed.\n",
      "Some rows of transmat_ have zero sum because no transition from the state was ever observed.\n",
      "Some rows of transmat_ have zero sum because no transition from the state was ever observed.\n",
      "Some rows of transmat_ have zero sum because no transition from the state was ever observed.\n",
      "Some rows of transmat_ have zero sum because no transition from the state was ever observed.\n",
      "Some rows of transmat_ have zero sum because no transition from the state was ever observed.\n",
      "Some rows of transmat_ have zero sum because no transition from the state was ever observed.\n",
      "Some rows of transmat_ have zero sum because no transition from the state was ever observed.\n",
      "Some rows of transmat_ have zero sum because no transition from the state was ever observed.\n",
      "Some rows of transmat_ have zero sum because no transition from the state was ever observed.\n",
      "Some rows of transmat_ have zero sum because no transition from the state was ever observed.\n",
      "Some rows of transmat_ have zero sum because no transition from the state was ever observed.\n",
      "Some rows of transmat_ have zero sum because no transition from the state was ever observed.\n",
      "Some rows of transmat_ have zero sum because no transition from the state was ever observed.\n",
      "Some rows of transmat_ have zero sum because no transition from the state was ever observed.\n",
      "Some rows of transmat_ have zero sum because no transition from the state was ever observed.\n",
      "Some rows of transmat_ have zero sum because no transition from the state was ever observed.\n",
      "Some rows of transmat_ have zero sum because no transition from the state was ever observed.\n",
      "Some rows of transmat_ have zero sum because no transition from the state was ever observed.\n",
      "Some rows of transmat_ have zero sum because no transition from the state was ever observed.\n",
      "Some rows of transmat_ have zero sum because no transition from the state was ever observed.\n",
      "Some rows of transmat_ have zero sum because no transition from the state was ever observed.\n",
      "Some rows of transmat_ have zero sum because no transition from the state was ever observed.\n",
      "Some rows of transmat_ have zero sum because no transition from the state was ever observed.\n",
      "Some rows of transmat_ have zero sum because no transition from the state was ever observed.\n",
      "Some rows of transmat_ have zero sum because no transition from the state was ever observed.\n",
      "Some rows of transmat_ have zero sum because no transition from the state was ever observed.\n",
      "Some rows of transmat_ have zero sum because no transition from the state was ever observed.\n",
      "Some rows of transmat_ have zero sum because no transition from the state was ever observed.\n",
      "Some rows of transmat_ have zero sum because no transition from the state was ever observed.\n",
      "Some rows of transmat_ have zero sum because no transition from the state was ever observed.\n",
      "Some rows of transmat_ have zero sum because no transition from the state was ever observed.\n",
      "Some rows of transmat_ have zero sum because no transition from the state was ever observed.\n",
      "Some rows of transmat_ have zero sum because no transition from the state was ever observed.\n",
      "Some rows of transmat_ have zero sum because no transition from the state was ever observed.\n",
      "Some rows of transmat_ have zero sum because no transition from the state was ever observed.\n",
      "Some rows of transmat_ have zero sum because no transition from the state was ever observed.\n",
      "Some rows of transmat_ have zero sum because no transition from the state was ever observed.\n",
      "Some rows of transmat_ have zero sum because no transition from the state was ever observed.\n",
      "Some rows of transmat_ have zero sum because no transition from the state was ever observed.\n",
      "Some rows of transmat_ have zero sum because no transition from the state was ever observed.\n",
      "Some rows of transmat_ have zero sum because no transition from the state was ever observed.\n",
      "Some rows of transmat_ have zero sum because no transition from the state was ever observed.\n",
      "Some rows of transmat_ have zero sum because no transition from the state was ever observed.\n",
      "Some rows of transmat_ have zero sum because no transition from the state was ever observed.\n",
      "Some rows of transmat_ have zero sum because no transition from the state was ever observed.\n",
      "Some rows of transmat_ have zero sum because no transition from the state was ever observed.\n",
      "Some rows of transmat_ have zero sum because no transition from the state was ever observed.\n",
      "Some rows of transmat_ have zero sum because no transition from the state was ever observed.\n",
      "Some rows of transmat_ have zero sum because no transition from the state was ever observed.\n",
      "Some rows of transmat_ have zero sum because no transition from the state was ever observed.\n",
      "Some rows of transmat_ have zero sum because no transition from the state was ever observed.\n",
      "Some rows of transmat_ have zero sum because no transition from the state was ever observed.\n",
      "Some rows of transmat_ have zero sum because no transition from the state was ever observed.\n",
      "Some rows of transmat_ have zero sum because no transition from the state was ever observed.\n",
      "Some rows of transmat_ have zero sum because no transition from the state was ever observed.\n",
      "Some rows of transmat_ have zero sum because no transition from the state was ever observed.\n",
      "Some rows of transmat_ have zero sum because no transition from the state was ever observed.\n",
      "Some rows of transmat_ have zero sum because no transition from the state was ever observed.\n",
      "Some rows of transmat_ have zero sum because no transition from the state was ever observed.\n",
      "Some rows of transmat_ have zero sum because no transition from the state was ever observed.\n",
      "Some rows of transmat_ have zero sum because no transition from the state was ever observed.\n",
      "Some rows of transmat_ have zero sum because no transition from the state was ever observed.\n",
      "Some rows of transmat_ have zero sum because no transition from the state was ever observed.\n",
      "Some rows of transmat_ have zero sum because no transition from the state was ever observed.\n",
      "Some rows of transmat_ have zero sum because no transition from the state was ever observed.\n",
      "Some rows of transmat_ have zero sum because no transition from the state was ever observed.\n",
      "Some rows of transmat_ have zero sum because no transition from the state was ever observed.\n",
      "Some rows of transmat_ have zero sum because no transition from the state was ever observed.\n",
      "Some rows of transmat_ have zero sum because no transition from the state was ever observed.\n",
      "Some rows of transmat_ have zero sum because no transition from the state was ever observed.\n",
      "Some rows of transmat_ have zero sum because no transition from the state was ever observed.\n",
      "Some rows of transmat_ have zero sum because no transition from the state was ever observed.\n",
      "Some rows of transmat_ have zero sum because no transition from the state was ever observed.\n",
      "Some rows of transmat_ have zero sum because no transition from the state was ever observed.\n",
      "Some rows of transmat_ have zero sum because no transition from the state was ever observed.\n",
      "Some rows of transmat_ have zero sum because no transition from the state was ever observed.\n",
      "Some rows of transmat_ have zero sum because no transition from the state was ever observed.\n",
      "Some rows of transmat_ have zero sum because no transition from the state was ever observed.\n",
      "Some rows of transmat_ have zero sum because no transition from the state was ever observed.\n",
      "Some rows of transmat_ have zero sum because no transition from the state was ever observed.\n",
      "Some rows of transmat_ have zero sum because no transition from the state was ever observed.\n",
      "Some rows of transmat_ have zero sum because no transition from the state was ever observed.\n",
      "Some rows of transmat_ have zero sum because no transition from the state was ever observed.\n",
      "Some rows of transmat_ have zero sum because no transition from the state was ever observed.\n",
      "Some rows of transmat_ have zero sum because no transition from the state was ever observed.\n",
      "Some rows of transmat_ have zero sum because no transition from the state was ever observed.\n",
      "Some rows of transmat_ have zero sum because no transition from the state was ever observed.\n",
      "Some rows of transmat_ have zero sum because no transition from the state was ever observed.\n",
      "Some rows of transmat_ have zero sum because no transition from the state was ever observed.\n",
      "Some rows of transmat_ have zero sum because no transition from the state was ever observed.\n",
      "Some rows of transmat_ have zero sum because no transition from the state was ever observed.\n",
      "Some rows of transmat_ have zero sum because no transition from the state was ever observed.\n",
      "Some rows of transmat_ have zero sum because no transition from the state was ever observed.\n",
      "Some rows of transmat_ have zero sum because no transition from the state was ever observed.\n",
      "Some rows of transmat_ have zero sum because no transition from the state was ever observed.\n",
      "Some rows of transmat_ have zero sum because no transition from the state was ever observed.\n",
      "Some rows of transmat_ have zero sum because no transition from the state was ever observed.\n",
      "Some rows of transmat_ have zero sum because no transition from the state was ever observed.\n",
      "Some rows of transmat_ have zero sum because no transition from the state was ever observed.\n",
      "Some rows of transmat_ have zero sum because no transition from the state was ever observed.\n",
      "Some rows of transmat_ have zero sum because no transition from the state was ever observed.\n",
      "Some rows of transmat_ have zero sum because no transition from the state was ever observed.\n",
      "Some rows of transmat_ have zero sum because no transition from the state was ever observed.\n",
      "Some rows of transmat_ have zero sum because no transition from the state was ever observed.\n",
      "Some rows of transmat_ have zero sum because no transition from the state was ever observed.\n",
      "Some rows of transmat_ have zero sum because no transition from the state was ever observed.\n",
      "Some rows of transmat_ have zero sum because no transition from the state was ever observed.\n",
      "Some rows of transmat_ have zero sum because no transition from the state was ever observed.\n",
      "Some rows of transmat_ have zero sum because no transition from the state was ever observed.\n",
      "Some rows of transmat_ have zero sum because no transition from the state was ever observed.\n",
      "Some rows of transmat_ have zero sum because no transition from the state was ever observed.\n",
      "Some rows of transmat_ have zero sum because no transition from the state was ever observed.\n",
      "Some rows of transmat_ have zero sum because no transition from the state was ever observed.\n",
      "Some rows of transmat_ have zero sum because no transition from the state was ever observed.\n",
      "Some rows of transmat_ have zero sum because no transition from the state was ever observed.\n",
      "Some rows of transmat_ have zero sum because no transition from the state was ever observed.\n",
      "Some rows of transmat_ have zero sum because no transition from the state was ever observed.\n",
      "Some rows of transmat_ have zero sum because no transition from the state was ever observed.\n",
      "Some rows of transmat_ have zero sum because no transition from the state was ever observed.\n",
      "Some rows of transmat_ have zero sum because no transition from the state was ever observed.\n",
      "Some rows of transmat_ have zero sum because no transition from the state was ever observed.\n",
      "Some rows of transmat_ have zero sum because no transition from the state was ever observed.\n",
      "Some rows of transmat_ have zero sum because no transition from the state was ever observed.\n",
      "Some rows of transmat_ have zero sum because no transition from the state was ever observed.\n",
      "Some rows of transmat_ have zero sum because no transition from the state was ever observed.\n",
      "Some rows of transmat_ have zero sum because no transition from the state was ever observed.\n",
      "Some rows of transmat_ have zero sum because no transition from the state was ever observed.\n",
      "Some rows of transmat_ have zero sum because no transition from the state was ever observed.\n",
      "Some rows of transmat_ have zero sum because no transition from the state was ever observed.\n",
      "Some rows of transmat_ have zero sum because no transition from the state was ever observed.\n",
      "Some rows of transmat_ have zero sum because no transition from the state was ever observed.\n",
      "Some rows of transmat_ have zero sum because no transition from the state was ever observed.\n",
      "Some rows of transmat_ have zero sum because no transition from the state was ever observed.\n",
      "Some rows of transmat_ have zero sum because no transition from the state was ever observed.\n",
      "Some rows of transmat_ have zero sum because no transition from the state was ever observed.\n",
      "Some rows of transmat_ have zero sum because no transition from the state was ever observed.\n",
      "Some rows of transmat_ have zero sum because no transition from the state was ever observed.\n",
      "Some rows of transmat_ have zero sum because no transition from the state was ever observed.\n",
      "Some rows of transmat_ have zero sum because no transition from the state was ever observed.\n",
      "Some rows of transmat_ have zero sum because no transition from the state was ever observed.\n",
      "Some rows of transmat_ have zero sum because no transition from the state was ever observed.\n",
      "Some rows of transmat_ have zero sum because no transition from the state was ever observed.\n",
      "Some rows of transmat_ have zero sum because no transition from the state was ever observed.\n",
      "Some rows of transmat_ have zero sum because no transition from the state was ever observed.\n",
      "Some rows of transmat_ have zero sum because no transition from the state was ever observed.\n",
      "Some rows of transmat_ have zero sum because no transition from the state was ever observed.\n",
      "Some rows of transmat_ have zero sum because no transition from the state was ever observed.\n"
     ]
    },
    {
     "name": "stdout",
     "output_type": "stream",
     "text": [
      ">>>>>>>>>> EDN.BA 13 did not converge\n",
      "EDN.BA 14\n"
     ]
    },
    {
     "name": "stderr",
     "output_type": "stream",
     "text": [
      "Model is not converging.  Current: 17098.237846440476 is not greater than 17100.22684466866. Delta is -1.9889982281856646\n"
     ]
    },
    {
     "name": "stdout",
     "output_type": "stream",
     "text": [
      "EDN.BA 15\n"
     ]
    },
    {
     "name": "stderr",
     "output_type": "stream",
     "text": [
      "Model is not converging.  Current: 17158.635353050176 is not greater than 17158.646099098885. Delta is -0.010746048708824674\n"
     ]
    },
    {
     "name": "stdout",
     "output_type": "stream",
     "text": [
      "EDN 1\n",
      "EDN 2\n",
      "EDN 3\n"
     ]
    },
    {
     "name": "stderr",
     "output_type": "stream",
     "text": [
      "Model is not converging.  Current: 16565.70547807716 is not greater than 16567.10991095012. Delta is -1.404432872957841\n",
      "Model is not converging.  Current: 16569.625033690416 is not greater than 16571.550107720777. Delta is -1.9250740303614293\n"
     ]
    },
    {
     "name": "stdout",
     "output_type": "stream",
     "text": [
      "EDN 4\n",
      "EDN 5\n"
     ]
    },
    {
     "name": "stderr",
     "output_type": "stream",
     "text": [
      "Model is not converging.  Current: 16520.248571932916 is not greater than 16524.931708139102. Delta is -4.683136206185736\n"
     ]
    },
    {
     "name": "stdout",
     "output_type": "stream",
     "text": [
      "EDN 6\n",
      "EDN 7\n"
     ]
    },
    {
     "name": "stderr",
     "output_type": "stream",
     "text": [
      "Model is not converging.  Current: 15787.368555240088 is not greater than 15789.178888695958. Delta is -1.810333455870932\n"
     ]
    },
    {
     "name": "stdout",
     "output_type": "stream",
     "text": [
      ">>>>>>>>>> EDN 7 did not converge\n",
      "EDN 8\n",
      "EDN 9\n"
     ]
    },
    {
     "name": "stderr",
     "output_type": "stream",
     "text": [
      "Model is not converging.  Current: 16475.781493253446 is not greater than 16483.654861526913. Delta is -7.873368273467349\n"
     ]
    },
    {
     "name": "stdout",
     "output_type": "stream",
     "text": [
      ">>>>>>>>>> EDN 9 did not converge\n",
      "EDN 10\n"
     ]
    },
    {
     "name": "stderr",
     "output_type": "stream",
     "text": [
      "c:\\Users\\Alfred\\.julia\\conda\\3\\envs\\hmm\\Lib\\site-packages\\hmmlearn\\hmm.py:340: RuntimeWarning: invalid value encountered in divide\n",
      "  self.means_ = ((means_weight * means_prior + stats['obs'])\n",
      "Some rows of transmat_ have zero sum because no transition from the state was ever observed.\n",
      "Some rows of transmat_ have zero sum because no transition from the state was ever observed.\n",
      "Some rows of transmat_ have zero sum because no transition from the state was ever observed.\n",
      "Some rows of transmat_ have zero sum because no transition from the state was ever observed.\n",
      "Some rows of transmat_ have zero sum because no transition from the state was ever observed.\n",
      "Some rows of transmat_ have zero sum because no transition from the state was ever observed.\n",
      "Some rows of transmat_ have zero sum because no transition from the state was ever observed.\n",
      "Some rows of transmat_ have zero sum because no transition from the state was ever observed.\n",
      "Some rows of transmat_ have zero sum because no transition from the state was ever observed.\n",
      "Some rows of transmat_ have zero sum because no transition from the state was ever observed.\n",
      "Some rows of transmat_ have zero sum because no transition from the state was ever observed.\n",
      "Some rows of transmat_ have zero sum because no transition from the state was ever observed.\n",
      "Some rows of transmat_ have zero sum because no transition from the state was ever observed.\n",
      "Some rows of transmat_ have zero sum because no transition from the state was ever observed.\n",
      "Some rows of transmat_ have zero sum because no transition from the state was ever observed.\n",
      "Some rows of transmat_ have zero sum because no transition from the state was ever observed.\n",
      "Some rows of transmat_ have zero sum because no transition from the state was ever observed.\n",
      "Some rows of transmat_ have zero sum because no transition from the state was ever observed.\n",
      "Some rows of transmat_ have zero sum because no transition from the state was ever observed.\n",
      "Some rows of transmat_ have zero sum because no transition from the state was ever observed.\n",
      "Some rows of transmat_ have zero sum because no transition from the state was ever observed.\n",
      "Some rows of transmat_ have zero sum because no transition from the state was ever observed.\n",
      "Some rows of transmat_ have zero sum because no transition from the state was ever observed.\n",
      "Some rows of transmat_ have zero sum because no transition from the state was ever observed.\n",
      "Some rows of transmat_ have zero sum because no transition from the state was ever observed.\n",
      "Some rows of transmat_ have zero sum because no transition from the state was ever observed.\n",
      "Some rows of transmat_ have zero sum because no transition from the state was ever observed.\n",
      "Some rows of transmat_ have zero sum because no transition from the state was ever observed.\n",
      "Some rows of transmat_ have zero sum because no transition from the state was ever observed.\n",
      "Some rows of transmat_ have zero sum because no transition from the state was ever observed.\n",
      "Some rows of transmat_ have zero sum because no transition from the state was ever observed.\n",
      "Some rows of transmat_ have zero sum because no transition from the state was ever observed.\n",
      "Some rows of transmat_ have zero sum because no transition from the state was ever observed.\n",
      "Some rows of transmat_ have zero sum because no transition from the state was ever observed.\n",
      "Some rows of transmat_ have zero sum because no transition from the state was ever observed.\n",
      "Some rows of transmat_ have zero sum because no transition from the state was ever observed.\n",
      "Some rows of transmat_ have zero sum because no transition from the state was ever observed.\n",
      "Some rows of transmat_ have zero sum because no transition from the state was ever observed.\n",
      "Some rows of transmat_ have zero sum because no transition from the state was ever observed.\n",
      "Some rows of transmat_ have zero sum because no transition from the state was ever observed.\n",
      "Some rows of transmat_ have zero sum because no transition from the state was ever observed.\n",
      "Some rows of transmat_ have zero sum because no transition from the state was ever observed.\n",
      "Some rows of transmat_ have zero sum because no transition from the state was ever observed.\n",
      "Some rows of transmat_ have zero sum because no transition from the state was ever observed.\n",
      "Some rows of transmat_ have zero sum because no transition from the state was ever observed.\n",
      "Some rows of transmat_ have zero sum because no transition from the state was ever observed.\n",
      "Some rows of transmat_ have zero sum because no transition from the state was ever observed.\n",
      "Some rows of transmat_ have zero sum because no transition from the state was ever observed.\n",
      "Some rows of transmat_ have zero sum because no transition from the state was ever observed.\n",
      "Some rows of transmat_ have zero sum because no transition from the state was ever observed.\n",
      "Some rows of transmat_ have zero sum because no transition from the state was ever observed.\n",
      "Some rows of transmat_ have zero sum because no transition from the state was ever observed.\n",
      "Some rows of transmat_ have zero sum because no transition from the state was ever observed.\n",
      "Some rows of transmat_ have zero sum because no transition from the state was ever observed.\n",
      "Some rows of transmat_ have zero sum because no transition from the state was ever observed.\n",
      "Some rows of transmat_ have zero sum because no transition from the state was ever observed.\n",
      "Some rows of transmat_ have zero sum because no transition from the state was ever observed.\n",
      "Some rows of transmat_ have zero sum because no transition from the state was ever observed.\n",
      "Some rows of transmat_ have zero sum because no transition from the state was ever observed.\n",
      "Some rows of transmat_ have zero sum because no transition from the state was ever observed.\n",
      "Some rows of transmat_ have zero sum because no transition from the state was ever observed.\n",
      "Some rows of transmat_ have zero sum because no transition from the state was ever observed.\n",
      "Some rows of transmat_ have zero sum because no transition from the state was ever observed.\n",
      "Some rows of transmat_ have zero sum because no transition from the state was ever observed.\n",
      "Some rows of transmat_ have zero sum because no transition from the state was ever observed.\n",
      "Some rows of transmat_ have zero sum because no transition from the state was ever observed.\n",
      "Some rows of transmat_ have zero sum because no transition from the state was ever observed.\n",
      "Some rows of transmat_ have zero sum because no transition from the state was ever observed.\n",
      "Some rows of transmat_ have zero sum because no transition from the state was ever observed.\n",
      "Some rows of transmat_ have zero sum because no transition from the state was ever observed.\n",
      "Some rows of transmat_ have zero sum because no transition from the state was ever observed.\n",
      "Some rows of transmat_ have zero sum because no transition from the state was ever observed.\n",
      "Some rows of transmat_ have zero sum because no transition from the state was ever observed.\n",
      "Some rows of transmat_ have zero sum because no transition from the state was ever observed.\n",
      "Some rows of transmat_ have zero sum because no transition from the state was ever observed.\n",
      "Some rows of transmat_ have zero sum because no transition from the state was ever observed.\n",
      "Some rows of transmat_ have zero sum because no transition from the state was ever observed.\n",
      "Some rows of transmat_ have zero sum because no transition from the state was ever observed.\n",
      "Some rows of transmat_ have zero sum because no transition from the state was ever observed.\n",
      "Some rows of transmat_ have zero sum because no transition from the state was ever observed.\n",
      "Some rows of transmat_ have zero sum because no transition from the state was ever observed.\n",
      "Some rows of transmat_ have zero sum because no transition from the state was ever observed.\n",
      "Some rows of transmat_ have zero sum because no transition from the state was ever observed.\n",
      "Some rows of transmat_ have zero sum because no transition from the state was ever observed.\n",
      "Some rows of transmat_ have zero sum because no transition from the state was ever observed.\n",
      "Some rows of transmat_ have zero sum because no transition from the state was ever observed.\n",
      "Some rows of transmat_ have zero sum because no transition from the state was ever observed.\n",
      "Some rows of transmat_ have zero sum because no transition from the state was ever observed.\n",
      "Some rows of transmat_ have zero sum because no transition from the state was ever observed.\n",
      "Some rows of transmat_ have zero sum because no transition from the state was ever observed.\n",
      "Some rows of transmat_ have zero sum because no transition from the state was ever observed.\n",
      "Some rows of transmat_ have zero sum because no transition from the state was ever observed.\n",
      "Some rows of transmat_ have zero sum because no transition from the state was ever observed.\n",
      "Some rows of transmat_ have zero sum because no transition from the state was ever observed.\n",
      "Some rows of transmat_ have zero sum because no transition from the state was ever observed.\n",
      "Some rows of transmat_ have zero sum because no transition from the state was ever observed.\n",
      "Some rows of transmat_ have zero sum because no transition from the state was ever observed.\n",
      "Some rows of transmat_ have zero sum because no transition from the state was ever observed.\n",
      "Some rows of transmat_ have zero sum because no transition from the state was ever observed.\n",
      "Some rows of transmat_ have zero sum because no transition from the state was ever observed.\n",
      "Some rows of transmat_ have zero sum because no transition from the state was ever observed.\n",
      "Some rows of transmat_ have zero sum because no transition from the state was ever observed.\n",
      "Some rows of transmat_ have zero sum because no transition from the state was ever observed.\n",
      "Some rows of transmat_ have zero sum because no transition from the state was ever observed.\n",
      "Some rows of transmat_ have zero sum because no transition from the state was ever observed.\n",
      "Some rows of transmat_ have zero sum because no transition from the state was ever observed.\n",
      "Some rows of transmat_ have zero sum because no transition from the state was ever observed.\n",
      "Some rows of transmat_ have zero sum because no transition from the state was ever observed.\n",
      "Some rows of transmat_ have zero sum because no transition from the state was ever observed.\n",
      "Some rows of transmat_ have zero sum because no transition from the state was ever observed.\n",
      "Some rows of transmat_ have zero sum because no transition from the state was ever observed.\n",
      "Some rows of transmat_ have zero sum because no transition from the state was ever observed.\n",
      "Some rows of transmat_ have zero sum because no transition from the state was ever observed.\n",
      "Some rows of transmat_ have zero sum because no transition from the state was ever observed.\n",
      "Some rows of transmat_ have zero sum because no transition from the state was ever observed.\n",
      "Some rows of transmat_ have zero sum because no transition from the state was ever observed.\n",
      "Some rows of transmat_ have zero sum because no transition from the state was ever observed.\n",
      "Some rows of transmat_ have zero sum because no transition from the state was ever observed.\n",
      "Some rows of transmat_ have zero sum because no transition from the state was ever observed.\n",
      "Some rows of transmat_ have zero sum because no transition from the state was ever observed.\n",
      "Some rows of transmat_ have zero sum because no transition from the state was ever observed.\n",
      "Some rows of transmat_ have zero sum because no transition from the state was ever observed.\n",
      "Some rows of transmat_ have zero sum because no transition from the state was ever observed.\n",
      "Some rows of transmat_ have zero sum because no transition from the state was ever observed.\n",
      "Some rows of transmat_ have zero sum because no transition from the state was ever observed.\n",
      "Some rows of transmat_ have zero sum because no transition from the state was ever observed.\n",
      "Some rows of transmat_ have zero sum because no transition from the state was ever observed.\n",
      "Some rows of transmat_ have zero sum because no transition from the state was ever observed.\n",
      "Some rows of transmat_ have zero sum because no transition from the state was ever observed.\n",
      "Some rows of transmat_ have zero sum because no transition from the state was ever observed.\n",
      "Some rows of transmat_ have zero sum because no transition from the state was ever observed.\n",
      "Some rows of transmat_ have zero sum because no transition from the state was ever observed.\n",
      "Some rows of transmat_ have zero sum because no transition from the state was ever observed.\n",
      "Some rows of transmat_ have zero sum because no transition from the state was ever observed.\n",
      "Some rows of transmat_ have zero sum because no transition from the state was ever observed.\n",
      "Some rows of transmat_ have zero sum because no transition from the state was ever observed.\n",
      "Some rows of transmat_ have zero sum because no transition from the state was ever observed.\n",
      "Some rows of transmat_ have zero sum because no transition from the state was ever observed.\n",
      "Some rows of transmat_ have zero sum because no transition from the state was ever observed.\n",
      "Some rows of transmat_ have zero sum because no transition from the state was ever observed.\n",
      "Some rows of transmat_ have zero sum because no transition from the state was ever observed.\n",
      "Some rows of transmat_ have zero sum because no transition from the state was ever observed.\n",
      "Some rows of transmat_ have zero sum because no transition from the state was ever observed.\n",
      "Some rows of transmat_ have zero sum because no transition from the state was ever observed.\n",
      "Some rows of transmat_ have zero sum because no transition from the state was ever observed.\n",
      "Some rows of transmat_ have zero sum because no transition from the state was ever observed.\n",
      "Some rows of transmat_ have zero sum because no transition from the state was ever observed.\n",
      "Some rows of transmat_ have zero sum because no transition from the state was ever observed.\n",
      "Some rows of transmat_ have zero sum because no transition from the state was ever observed.\n",
      "Some rows of transmat_ have zero sum because no transition from the state was ever observed.\n",
      "Some rows of transmat_ have zero sum because no transition from the state was ever observed.\n",
      "Some rows of transmat_ have zero sum because no transition from the state was ever observed.\n",
      "Some rows of transmat_ have zero sum because no transition from the state was ever observed.\n",
      "Some rows of transmat_ have zero sum because no transition from the state was ever observed.\n",
      "Some rows of transmat_ have zero sum because no transition from the state was ever observed.\n",
      "Some rows of transmat_ have zero sum because no transition from the state was ever observed.\n",
      "Some rows of transmat_ have zero sum because no transition from the state was ever observed.\n",
      "Some rows of transmat_ have zero sum because no transition from the state was ever observed.\n",
      "Some rows of transmat_ have zero sum because no transition from the state was ever observed.\n",
      "Some rows of transmat_ have zero sum because no transition from the state was ever observed.\n",
      "Some rows of transmat_ have zero sum because no transition from the state was ever observed.\n",
      "Some rows of transmat_ have zero sum because no transition from the state was ever observed.\n",
      "Some rows of transmat_ have zero sum because no transition from the state was ever observed.\n",
      "Some rows of transmat_ have zero sum because no transition from the state was ever observed.\n",
      "Some rows of transmat_ have zero sum because no transition from the state was ever observed.\n",
      "Some rows of transmat_ have zero sum because no transition from the state was ever observed.\n",
      "Some rows of transmat_ have zero sum because no transition from the state was ever observed.\n",
      "Some rows of transmat_ have zero sum because no transition from the state was ever observed.\n",
      "Some rows of transmat_ have zero sum because no transition from the state was ever observed.\n",
      "Some rows of transmat_ have zero sum because no transition from the state was ever observed.\n",
      "Some rows of transmat_ have zero sum because no transition from the state was ever observed.\n",
      "Some rows of transmat_ have zero sum because no transition from the state was ever observed.\n",
      "Some rows of transmat_ have zero sum because no transition from the state was ever observed.\n",
      "Some rows of transmat_ have zero sum because no transition from the state was ever observed.\n",
      "Some rows of transmat_ have zero sum because no transition from the state was ever observed.\n",
      "Some rows of transmat_ have zero sum because no transition from the state was ever observed.\n",
      "Some rows of transmat_ have zero sum because no transition from the state was ever observed.\n",
      "Some rows of transmat_ have zero sum because no transition from the state was ever observed.\n",
      "Some rows of transmat_ have zero sum because no transition from the state was ever observed.\n",
      "Some rows of transmat_ have zero sum because no transition from the state was ever observed.\n",
      "Some rows of transmat_ have zero sum because no transition from the state was ever observed.\n",
      "Some rows of transmat_ have zero sum because no transition from the state was ever observed.\n",
      "Some rows of transmat_ have zero sum because no transition from the state was ever observed.\n",
      "Some rows of transmat_ have zero sum because no transition from the state was ever observed.\n",
      "Some rows of transmat_ have zero sum because no transition from the state was ever observed.\n",
      "Some rows of transmat_ have zero sum because no transition from the state was ever observed.\n",
      "Some rows of transmat_ have zero sum because no transition from the state was ever observed.\n",
      "Some rows of transmat_ have zero sum because no transition from the state was ever observed.\n",
      "Some rows of transmat_ have zero sum because no transition from the state was ever observed.\n",
      "Some rows of transmat_ have zero sum because no transition from the state was ever observed.\n",
      "Some rows of transmat_ have zero sum because no transition from the state was ever observed.\n",
      "Some rows of transmat_ have zero sum because no transition from the state was ever observed.\n",
      "Some rows of transmat_ have zero sum because no transition from the state was ever observed.\n",
      "Some rows of transmat_ have zero sum because no transition from the state was ever observed.\n",
      "Some rows of transmat_ have zero sum because no transition from the state was ever observed.\n",
      "Some rows of transmat_ have zero sum because no transition from the state was ever observed.\n",
      "Some rows of transmat_ have zero sum because no transition from the state was ever observed.\n",
      "Some rows of transmat_ have zero sum because no transition from the state was ever observed.\n",
      "Some rows of transmat_ have zero sum because no transition from the state was ever observed.\n",
      "Some rows of transmat_ have zero sum because no transition from the state was ever observed.\n",
      "Some rows of transmat_ have zero sum because no transition from the state was ever observed.\n",
      "Some rows of transmat_ have zero sum because no transition from the state was ever observed.\n",
      "Some rows of transmat_ have zero sum because no transition from the state was ever observed.\n",
      "Some rows of transmat_ have zero sum because no transition from the state was ever observed.\n",
      "Some rows of transmat_ have zero sum because no transition from the state was ever observed.\n",
      "Some rows of transmat_ have zero sum because no transition from the state was ever observed.\n",
      "Some rows of transmat_ have zero sum because no transition from the state was ever observed.\n",
      "Some rows of transmat_ have zero sum because no transition from the state was ever observed.\n",
      "Some rows of transmat_ have zero sum because no transition from the state was ever observed.\n",
      "Some rows of transmat_ have zero sum because no transition from the state was ever observed.\n",
      "Some rows of transmat_ have zero sum because no transition from the state was ever observed.\n",
      "Some rows of transmat_ have zero sum because no transition from the state was ever observed.\n",
      "Some rows of transmat_ have zero sum because no transition from the state was ever observed.\n",
      "Some rows of transmat_ have zero sum because no transition from the state was ever observed.\n",
      "Some rows of transmat_ have zero sum because no transition from the state was ever observed.\n",
      "Some rows of transmat_ have zero sum because no transition from the state was ever observed.\n",
      "Some rows of transmat_ have zero sum because no transition from the state was ever observed.\n",
      "Some rows of transmat_ have zero sum because no transition from the state was ever observed.\n",
      "Some rows of transmat_ have zero sum because no transition from the state was ever observed.\n",
      "Some rows of transmat_ have zero sum because no transition from the state was ever observed.\n",
      "Some rows of transmat_ have zero sum because no transition from the state was ever observed.\n",
      "Some rows of transmat_ have zero sum because no transition from the state was ever observed.\n",
      "Some rows of transmat_ have zero sum because no transition from the state was ever observed.\n",
      "Some rows of transmat_ have zero sum because no transition from the state was ever observed.\n",
      "Some rows of transmat_ have zero sum because no transition from the state was ever observed.\n",
      "Some rows of transmat_ have zero sum because no transition from the state was ever observed.\n",
      "Some rows of transmat_ have zero sum because no transition from the state was ever observed.\n",
      "Some rows of transmat_ have zero sum because no transition from the state was ever observed.\n",
      "Some rows of transmat_ have zero sum because no transition from the state was ever observed.\n",
      "Some rows of transmat_ have zero sum because no transition from the state was ever observed.\n",
      "Some rows of transmat_ have zero sum because no transition from the state was ever observed.\n",
      "Some rows of transmat_ have zero sum because no transition from the state was ever observed.\n",
      "Some rows of transmat_ have zero sum because no transition from the state was ever observed.\n",
      "Some rows of transmat_ have zero sum because no transition from the state was ever observed.\n",
      "Some rows of transmat_ have zero sum because no transition from the state was ever observed.\n",
      "Some rows of transmat_ have zero sum because no transition from the state was ever observed.\n",
      "Some rows of transmat_ have zero sum because no transition from the state was ever observed.\n",
      "Some rows of transmat_ have zero sum because no transition from the state was ever observed.\n",
      "Some rows of transmat_ have zero sum because no transition from the state was ever observed.\n",
      "Some rows of transmat_ have zero sum because no transition from the state was ever observed.\n",
      "Some rows of transmat_ have zero sum because no transition from the state was ever observed.\n",
      "Some rows of transmat_ have zero sum because no transition from the state was ever observed.\n",
      "Some rows of transmat_ have zero sum because no transition from the state was ever observed.\n",
      "Some rows of transmat_ have zero sum because no transition from the state was ever observed.\n",
      "Some rows of transmat_ have zero sum because no transition from the state was ever observed.\n",
      "Some rows of transmat_ have zero sum because no transition from the state was ever observed.\n",
      "Some rows of transmat_ have zero sum because no transition from the state was ever observed.\n",
      "Some rows of transmat_ have zero sum because no transition from the state was ever observed.\n",
      "Some rows of transmat_ have zero sum because no transition from the state was ever observed.\n",
      "Some rows of transmat_ have zero sum because no transition from the state was ever observed.\n",
      "Some rows of transmat_ have zero sum because no transition from the state was ever observed.\n",
      "Some rows of transmat_ have zero sum because no transition from the state was ever observed.\n",
      "Some rows of transmat_ have zero sum because no transition from the state was ever observed.\n",
      "Some rows of transmat_ have zero sum because no transition from the state was ever observed.\n",
      "Some rows of transmat_ have zero sum because no transition from the state was ever observed.\n",
      "Some rows of transmat_ have zero sum because no transition from the state was ever observed.\n",
      "Some rows of transmat_ have zero sum because no transition from the state was ever observed.\n",
      "Some rows of transmat_ have zero sum because no transition from the state was ever observed.\n",
      "Some rows of transmat_ have zero sum because no transition from the state was ever observed.\n",
      "Some rows of transmat_ have zero sum because no transition from the state was ever observed.\n",
      "Some rows of transmat_ have zero sum because no transition from the state was ever observed.\n",
      "Some rows of transmat_ have zero sum because no transition from the state was ever observed.\n",
      "Some rows of transmat_ have zero sum because no transition from the state was ever observed.\n",
      "Some rows of transmat_ have zero sum because no transition from the state was ever observed.\n",
      "Some rows of transmat_ have zero sum because no transition from the state was ever observed.\n",
      "Some rows of transmat_ have zero sum because no transition from the state was ever observed.\n",
      "Some rows of transmat_ have zero sum because no transition from the state was ever observed.\n",
      "Some rows of transmat_ have zero sum because no transition from the state was ever observed.\n",
      "Some rows of transmat_ have zero sum because no transition from the state was ever observed.\n",
      "Some rows of transmat_ have zero sum because no transition from the state was ever observed.\n",
      "Some rows of transmat_ have zero sum because no transition from the state was ever observed.\n",
      "Some rows of transmat_ have zero sum because no transition from the state was ever observed.\n",
      "Some rows of transmat_ have zero sum because no transition from the state was ever observed.\n",
      "Some rows of transmat_ have zero sum because no transition from the state was ever observed.\n",
      "Some rows of transmat_ have zero sum because no transition from the state was ever observed.\n",
      "Some rows of transmat_ have zero sum because no transition from the state was ever observed.\n",
      "Some rows of transmat_ have zero sum because no transition from the state was ever observed.\n",
      "Some rows of transmat_ have zero sum because no transition from the state was ever observed.\n",
      "Some rows of transmat_ have zero sum because no transition from the state was ever observed.\n",
      "Some rows of transmat_ have zero sum because no transition from the state was ever observed.\n",
      "Some rows of transmat_ have zero sum because no transition from the state was ever observed.\n",
      "Some rows of transmat_ have zero sum because no transition from the state was ever observed.\n",
      "Some rows of transmat_ have zero sum because no transition from the state was ever observed.\n",
      "Some rows of transmat_ have zero sum because no transition from the state was ever observed.\n",
      "Some rows of transmat_ have zero sum because no transition from the state was ever observed.\n",
      "Some rows of transmat_ have zero sum because no transition from the state was ever observed.\n",
      "Some rows of transmat_ have zero sum because no transition from the state was ever observed.\n",
      "Some rows of transmat_ have zero sum because no transition from the state was ever observed.\n",
      "Some rows of transmat_ have zero sum because no transition from the state was ever observed.\n",
      "Some rows of transmat_ have zero sum because no transition from the state was ever observed.\n",
      "Some rows of transmat_ have zero sum because no transition from the state was ever observed.\n",
      "Some rows of transmat_ have zero sum because no transition from the state was ever observed.\n",
      "Some rows of transmat_ have zero sum because no transition from the state was ever observed.\n",
      "Some rows of transmat_ have zero sum because no transition from the state was ever observed.\n",
      "Some rows of transmat_ have zero sum because no transition from the state was ever observed.\n",
      "Some rows of transmat_ have zero sum because no transition from the state was ever observed.\n",
      "Some rows of transmat_ have zero sum because no transition from the state was ever observed.\n",
      "Some rows of transmat_ have zero sum because no transition from the state was ever observed.\n",
      "Some rows of transmat_ have zero sum because no transition from the state was ever observed.\n",
      "Some rows of transmat_ have zero sum because no transition from the state was ever observed.\n",
      "Some rows of transmat_ have zero sum because no transition from the state was ever observed.\n",
      "Some rows of transmat_ have zero sum because no transition from the state was ever observed.\n",
      "Some rows of transmat_ have zero sum because no transition from the state was ever observed.\n",
      "Some rows of transmat_ have zero sum because no transition from the state was ever observed.\n",
      "Some rows of transmat_ have zero sum because no transition from the state was ever observed.\n",
      "Some rows of transmat_ have zero sum because no transition from the state was ever observed.\n",
      "Some rows of transmat_ have zero sum because no transition from the state was ever observed.\n",
      "Some rows of transmat_ have zero sum because no transition from the state was ever observed.\n",
      "Some rows of transmat_ have zero sum because no transition from the state was ever observed.\n",
      "Some rows of transmat_ have zero sum because no transition from the state was ever observed.\n",
      "Some rows of transmat_ have zero sum because no transition from the state was ever observed.\n",
      "Some rows of transmat_ have zero sum because no transition from the state was ever observed.\n",
      "Some rows of transmat_ have zero sum because no transition from the state was ever observed.\n",
      "Some rows of transmat_ have zero sum because no transition from the state was ever observed.\n",
      "Some rows of transmat_ have zero sum because no transition from the state was ever observed.\n",
      "Some rows of transmat_ have zero sum because no transition from the state was ever observed.\n",
      "Some rows of transmat_ have zero sum because no transition from the state was ever observed.\n",
      "Some rows of transmat_ have zero sum because no transition from the state was ever observed.\n",
      "Some rows of transmat_ have zero sum because no transition from the state was ever observed.\n",
      "Some rows of transmat_ have zero sum because no transition from the state was ever observed.\n",
      "Some rows of transmat_ have zero sum because no transition from the state was ever observed.\n",
      "Some rows of transmat_ have zero sum because no transition from the state was ever observed.\n",
      "Some rows of transmat_ have zero sum because no transition from the state was ever observed.\n",
      "Some rows of transmat_ have zero sum because no transition from the state was ever observed.\n",
      "Some rows of transmat_ have zero sum because no transition from the state was ever observed.\n",
      "Some rows of transmat_ have zero sum because no transition from the state was ever observed.\n",
      "Some rows of transmat_ have zero sum because no transition from the state was ever observed.\n",
      "Some rows of transmat_ have zero sum because no transition from the state was ever observed.\n",
      "Some rows of transmat_ have zero sum because no transition from the state was ever observed.\n",
      "Some rows of transmat_ have zero sum because no transition from the state was ever observed.\n",
      "Some rows of transmat_ have zero sum because no transition from the state was ever observed.\n",
      "Some rows of transmat_ have zero sum because no transition from the state was ever observed.\n",
      "Some rows of transmat_ have zero sum because no transition from the state was ever observed.\n",
      "Some rows of transmat_ have zero sum because no transition from the state was ever observed.\n",
      "Some rows of transmat_ have zero sum because no transition from the state was ever observed.\n",
      "Some rows of transmat_ have zero sum because no transition from the state was ever observed.\n",
      "Some rows of transmat_ have zero sum because no transition from the state was ever observed.\n",
      "Some rows of transmat_ have zero sum because no transition from the state was ever observed.\n",
      "Some rows of transmat_ have zero sum because no transition from the state was ever observed.\n",
      "Some rows of transmat_ have zero sum because no transition from the state was ever observed.\n",
      "Some rows of transmat_ have zero sum because no transition from the state was ever observed.\n",
      "Some rows of transmat_ have zero sum because no transition from the state was ever observed.\n",
      "Some rows of transmat_ have zero sum because no transition from the state was ever observed.\n",
      "Some rows of transmat_ have zero sum because no transition from the state was ever observed.\n",
      "Some rows of transmat_ have zero sum because no transition from the state was ever observed.\n",
      "Some rows of transmat_ have zero sum because no transition from the state was ever observed.\n",
      "Some rows of transmat_ have zero sum because no transition from the state was ever observed.\n",
      "Some rows of transmat_ have zero sum because no transition from the state was ever observed.\n",
      "Some rows of transmat_ have zero sum because no transition from the state was ever observed.\n",
      "Some rows of transmat_ have zero sum because no transition from the state was ever observed.\n",
      "Some rows of transmat_ have zero sum because no transition from the state was ever observed.\n",
      "Some rows of transmat_ have zero sum because no transition from the state was ever observed.\n",
      "Some rows of transmat_ have zero sum because no transition from the state was ever observed.\n",
      "Some rows of transmat_ have zero sum because no transition from the state was ever observed.\n",
      "Some rows of transmat_ have zero sum because no transition from the state was ever observed.\n",
      "Some rows of transmat_ have zero sum because no transition from the state was ever observed.\n",
      "Some rows of transmat_ have zero sum because no transition from the state was ever observed.\n",
      "Some rows of transmat_ have zero sum because no transition from the state was ever observed.\n",
      "Some rows of transmat_ have zero sum because no transition from the state was ever observed.\n",
      "Some rows of transmat_ have zero sum because no transition from the state was ever observed.\n",
      "Some rows of transmat_ have zero sum because no transition from the state was ever observed.\n",
      "Some rows of transmat_ have zero sum because no transition from the state was ever observed.\n",
      "Some rows of transmat_ have zero sum because no transition from the state was ever observed.\n",
      "Some rows of transmat_ have zero sum because no transition from the state was ever observed.\n",
      "Some rows of transmat_ have zero sum because no transition from the state was ever observed.\n",
      "Some rows of transmat_ have zero sum because no transition from the state was ever observed.\n",
      "Some rows of transmat_ have zero sum because no transition from the state was ever observed.\n",
      "Some rows of transmat_ have zero sum because no transition from the state was ever observed.\n",
      "Some rows of transmat_ have zero sum because no transition from the state was ever observed.\n",
      "Some rows of transmat_ have zero sum because no transition from the state was ever observed.\n",
      "Some rows of transmat_ have zero sum because no transition from the state was ever observed.\n",
      "Some rows of transmat_ have zero sum because no transition from the state was ever observed.\n",
      "Some rows of transmat_ have zero sum because no transition from the state was ever observed.\n",
      "Some rows of transmat_ have zero sum because no transition from the state was ever observed.\n",
      "Some rows of transmat_ have zero sum because no transition from the state was ever observed.\n",
      "Some rows of transmat_ have zero sum because no transition from the state was ever observed.\n",
      "Some rows of transmat_ have zero sum because no transition from the state was ever observed.\n",
      "Some rows of transmat_ have zero sum because no transition from the state was ever observed.\n",
      "Some rows of transmat_ have zero sum because no transition from the state was ever observed.\n",
      "Some rows of transmat_ have zero sum because no transition from the state was ever observed.\n",
      "Some rows of transmat_ have zero sum because no transition from the state was ever observed.\n",
      "Some rows of transmat_ have zero sum because no transition from the state was ever observed.\n",
      "Some rows of transmat_ have zero sum because no transition from the state was ever observed.\n",
      "Some rows of transmat_ have zero sum because no transition from the state was ever observed.\n",
      "Some rows of transmat_ have zero sum because no transition from the state was ever observed.\n",
      "Some rows of transmat_ have zero sum because no transition from the state was ever observed.\n",
      "Some rows of transmat_ have zero sum because no transition from the state was ever observed.\n",
      "Some rows of transmat_ have zero sum because no transition from the state was ever observed.\n",
      "Some rows of transmat_ have zero sum because no transition from the state was ever observed.\n",
      "Some rows of transmat_ have zero sum because no transition from the state was ever observed.\n",
      "Some rows of transmat_ have zero sum because no transition from the state was ever observed.\n",
      "Some rows of transmat_ have zero sum because no transition from the state was ever observed.\n",
      "Some rows of transmat_ have zero sum because no transition from the state was ever observed.\n",
      "Some rows of transmat_ have zero sum because no transition from the state was ever observed.\n",
      "Some rows of transmat_ have zero sum because no transition from the state was ever observed.\n",
      "Some rows of transmat_ have zero sum because no transition from the state was ever observed.\n",
      "Some rows of transmat_ have zero sum because no transition from the state was ever observed.\n",
      "Some rows of transmat_ have zero sum because no transition from the state was ever observed.\n",
      "Some rows of transmat_ have zero sum because no transition from the state was ever observed.\n",
      "Some rows of transmat_ have zero sum because no transition from the state was ever observed.\n",
      "Some rows of transmat_ have zero sum because no transition from the state was ever observed.\n",
      "Some rows of transmat_ have zero sum because no transition from the state was ever observed.\n",
      "Some rows of transmat_ have zero sum because no transition from the state was ever observed.\n",
      "Some rows of transmat_ have zero sum because no transition from the state was ever observed.\n",
      "Some rows of transmat_ have zero sum because no transition from the state was ever observed.\n",
      "Some rows of transmat_ have zero sum because no transition from the state was ever observed.\n",
      "Some rows of transmat_ have zero sum because no transition from the state was ever observed.\n",
      "Some rows of transmat_ have zero sum because no transition from the state was ever observed.\n",
      "Some rows of transmat_ have zero sum because no transition from the state was ever observed.\n",
      "Some rows of transmat_ have zero sum because no transition from the state was ever observed.\n",
      "Some rows of transmat_ have zero sum because no transition from the state was ever observed.\n",
      "Some rows of transmat_ have zero sum because no transition from the state was ever observed.\n",
      "Some rows of transmat_ have zero sum because no transition from the state was ever observed.\n",
      "Some rows of transmat_ have zero sum because no transition from the state was ever observed.\n",
      "Some rows of transmat_ have zero sum because no transition from the state was ever observed.\n",
      "Some rows of transmat_ have zero sum because no transition from the state was ever observed.\n",
      "Some rows of transmat_ have zero sum because no transition from the state was ever observed.\n",
      "Some rows of transmat_ have zero sum because no transition from the state was ever observed.\n",
      "Some rows of transmat_ have zero sum because no transition from the state was ever observed.\n",
      "Some rows of transmat_ have zero sum because no transition from the state was ever observed.\n",
      "Some rows of transmat_ have zero sum because no transition from the state was ever observed.\n",
      "Some rows of transmat_ have zero sum because no transition from the state was ever observed.\n",
      "Some rows of transmat_ have zero sum because no transition from the state was ever observed.\n",
      "Some rows of transmat_ have zero sum because no transition from the state was ever observed.\n",
      "Some rows of transmat_ have zero sum because no transition from the state was ever observed.\n"
     ]
    },
    {
     "name": "stdout",
     "output_type": "stream",
     "text": [
      ">>>>>>>>>> EDN 10 did not converge\n",
      "EDN 11\n"
     ]
    },
    {
     "name": "stderr",
     "output_type": "stream",
     "text": [
      "Model is not converging.  Current: 16596.871287470174 is not greater than 16598.674730159568. Delta is -1.8034426893937052\n"
     ]
    },
    {
     "name": "stdout",
     "output_type": "stream",
     "text": [
      "EDN 12\n"
     ]
    },
    {
     "name": "stderr",
     "output_type": "stream",
     "text": [
      "Model is not converging.  Current: 16068.881712363116 is not greater than 16069.879407156544. Delta is -0.9976947934283089\n"
     ]
    },
    {
     "name": "stdout",
     "output_type": "stream",
     "text": [
      ">>>>>>>>>> EDN 12 did not converge\n",
      "EDN 13\n"
     ]
    },
    {
     "name": "stderr",
     "output_type": "stream",
     "text": [
      "c:\\Users\\Alfred\\.julia\\conda\\3\\envs\\hmm\\Lib\\site-packages\\hmmlearn\\hmm.py:340: RuntimeWarning: invalid value encountered in divide\n",
      "  self.means_ = ((means_weight * means_prior + stats['obs'])\n",
      "Some rows of transmat_ have zero sum because no transition from the state was ever observed.\n",
      "Some rows of transmat_ have zero sum because no transition from the state was ever observed.\n",
      "Some rows of transmat_ have zero sum because no transition from the state was ever observed.\n",
      "Some rows of transmat_ have zero sum because no transition from the state was ever observed.\n",
      "Some rows of transmat_ have zero sum because no transition from the state was ever observed.\n",
      "Some rows of transmat_ have zero sum because no transition from the state was ever observed.\n",
      "Some rows of transmat_ have zero sum because no transition from the state was ever observed.\n",
      "Some rows of transmat_ have zero sum because no transition from the state was ever observed.\n",
      "Some rows of transmat_ have zero sum because no transition from the state was ever observed.\n",
      "Some rows of transmat_ have zero sum because no transition from the state was ever observed.\n",
      "Some rows of transmat_ have zero sum because no transition from the state was ever observed.\n",
      "Some rows of transmat_ have zero sum because no transition from the state was ever observed.\n",
      "Some rows of transmat_ have zero sum because no transition from the state was ever observed.\n",
      "Some rows of transmat_ have zero sum because no transition from the state was ever observed.\n",
      "Some rows of transmat_ have zero sum because no transition from the state was ever observed.\n",
      "Some rows of transmat_ have zero sum because no transition from the state was ever observed.\n",
      "Some rows of transmat_ have zero sum because no transition from the state was ever observed.\n",
      "Some rows of transmat_ have zero sum because no transition from the state was ever observed.\n",
      "Some rows of transmat_ have zero sum because no transition from the state was ever observed.\n",
      "Some rows of transmat_ have zero sum because no transition from the state was ever observed.\n",
      "Some rows of transmat_ have zero sum because no transition from the state was ever observed.\n",
      "Some rows of transmat_ have zero sum because no transition from the state was ever observed.\n",
      "Some rows of transmat_ have zero sum because no transition from the state was ever observed.\n",
      "Some rows of transmat_ have zero sum because no transition from the state was ever observed.\n",
      "Some rows of transmat_ have zero sum because no transition from the state was ever observed.\n",
      "Some rows of transmat_ have zero sum because no transition from the state was ever observed.\n",
      "Some rows of transmat_ have zero sum because no transition from the state was ever observed.\n",
      "Some rows of transmat_ have zero sum because no transition from the state was ever observed.\n",
      "Some rows of transmat_ have zero sum because no transition from the state was ever observed.\n",
      "Some rows of transmat_ have zero sum because no transition from the state was ever observed.\n",
      "Some rows of transmat_ have zero sum because no transition from the state was ever observed.\n",
      "Some rows of transmat_ have zero sum because no transition from the state was ever observed.\n",
      "Some rows of transmat_ have zero sum because no transition from the state was ever observed.\n",
      "Some rows of transmat_ have zero sum because no transition from the state was ever observed.\n",
      "Some rows of transmat_ have zero sum because no transition from the state was ever observed.\n",
      "Some rows of transmat_ have zero sum because no transition from the state was ever observed.\n",
      "Some rows of transmat_ have zero sum because no transition from the state was ever observed.\n",
      "Some rows of transmat_ have zero sum because no transition from the state was ever observed.\n",
      "Some rows of transmat_ have zero sum because no transition from the state was ever observed.\n",
      "Some rows of transmat_ have zero sum because no transition from the state was ever observed.\n",
      "Some rows of transmat_ have zero sum because no transition from the state was ever observed.\n",
      "Some rows of transmat_ have zero sum because no transition from the state was ever observed.\n",
      "Some rows of transmat_ have zero sum because no transition from the state was ever observed.\n",
      "Some rows of transmat_ have zero sum because no transition from the state was ever observed.\n",
      "Some rows of transmat_ have zero sum because no transition from the state was ever observed.\n",
      "Some rows of transmat_ have zero sum because no transition from the state was ever observed.\n",
      "Some rows of transmat_ have zero sum because no transition from the state was ever observed.\n",
      "Some rows of transmat_ have zero sum because no transition from the state was ever observed.\n",
      "Some rows of transmat_ have zero sum because no transition from the state was ever observed.\n",
      "Some rows of transmat_ have zero sum because no transition from the state was ever observed.\n",
      "Some rows of transmat_ have zero sum because no transition from the state was ever observed.\n",
      "Some rows of transmat_ have zero sum because no transition from the state was ever observed.\n",
      "Some rows of transmat_ have zero sum because no transition from the state was ever observed.\n",
      "Some rows of transmat_ have zero sum because no transition from the state was ever observed.\n",
      "Some rows of transmat_ have zero sum because no transition from the state was ever observed.\n",
      "Some rows of transmat_ have zero sum because no transition from the state was ever observed.\n",
      "Some rows of transmat_ have zero sum because no transition from the state was ever observed.\n",
      "Some rows of transmat_ have zero sum because no transition from the state was ever observed.\n",
      "Some rows of transmat_ have zero sum because no transition from the state was ever observed.\n",
      "Some rows of transmat_ have zero sum because no transition from the state was ever observed.\n",
      "Some rows of transmat_ have zero sum because no transition from the state was ever observed.\n",
      "Some rows of transmat_ have zero sum because no transition from the state was ever observed.\n",
      "Some rows of transmat_ have zero sum because no transition from the state was ever observed.\n",
      "Some rows of transmat_ have zero sum because no transition from the state was ever observed.\n",
      "Some rows of transmat_ have zero sum because no transition from the state was ever observed.\n",
      "Some rows of transmat_ have zero sum because no transition from the state was ever observed.\n",
      "Some rows of transmat_ have zero sum because no transition from the state was ever observed.\n",
      "Some rows of transmat_ have zero sum because no transition from the state was ever observed.\n",
      "Some rows of transmat_ have zero sum because no transition from the state was ever observed.\n",
      "Some rows of transmat_ have zero sum because no transition from the state was ever observed.\n",
      "Some rows of transmat_ have zero sum because no transition from the state was ever observed.\n",
      "Some rows of transmat_ have zero sum because no transition from the state was ever observed.\n",
      "Some rows of transmat_ have zero sum because no transition from the state was ever observed.\n",
      "Some rows of transmat_ have zero sum because no transition from the state was ever observed.\n",
      "Some rows of transmat_ have zero sum because no transition from the state was ever observed.\n",
      "Some rows of transmat_ have zero sum because no transition from the state was ever observed.\n",
      "Some rows of transmat_ have zero sum because no transition from the state was ever observed.\n",
      "Some rows of transmat_ have zero sum because no transition from the state was ever observed.\n",
      "Some rows of transmat_ have zero sum because no transition from the state was ever observed.\n",
      "Some rows of transmat_ have zero sum because no transition from the state was ever observed.\n",
      "Some rows of transmat_ have zero sum because no transition from the state was ever observed.\n",
      "Some rows of transmat_ have zero sum because no transition from the state was ever observed.\n",
      "Some rows of transmat_ have zero sum because no transition from the state was ever observed.\n",
      "Some rows of transmat_ have zero sum because no transition from the state was ever observed.\n",
      "Some rows of transmat_ have zero sum because no transition from the state was ever observed.\n",
      "Some rows of transmat_ have zero sum because no transition from the state was ever observed.\n",
      "Some rows of transmat_ have zero sum because no transition from the state was ever observed.\n",
      "Some rows of transmat_ have zero sum because no transition from the state was ever observed.\n",
      "Some rows of transmat_ have zero sum because no transition from the state was ever observed.\n",
      "Some rows of transmat_ have zero sum because no transition from the state was ever observed.\n",
      "Some rows of transmat_ have zero sum because no transition from the state was ever observed.\n",
      "Some rows of transmat_ have zero sum because no transition from the state was ever observed.\n",
      "Some rows of transmat_ have zero sum because no transition from the state was ever observed.\n",
      "Some rows of transmat_ have zero sum because no transition from the state was ever observed.\n",
      "Some rows of transmat_ have zero sum because no transition from the state was ever observed.\n",
      "Some rows of transmat_ have zero sum because no transition from the state was ever observed.\n",
      "Some rows of transmat_ have zero sum because no transition from the state was ever observed.\n",
      "Some rows of transmat_ have zero sum because no transition from the state was ever observed.\n",
      "Some rows of transmat_ have zero sum because no transition from the state was ever observed.\n",
      "Some rows of transmat_ have zero sum because no transition from the state was ever observed.\n",
      "Some rows of transmat_ have zero sum because no transition from the state was ever observed.\n",
      "Some rows of transmat_ have zero sum because no transition from the state was ever observed.\n",
      "Some rows of transmat_ have zero sum because no transition from the state was ever observed.\n",
      "Some rows of transmat_ have zero sum because no transition from the state was ever observed.\n",
      "Some rows of transmat_ have zero sum because no transition from the state was ever observed.\n",
      "Some rows of transmat_ have zero sum because no transition from the state was ever observed.\n",
      "Some rows of transmat_ have zero sum because no transition from the state was ever observed.\n",
      "Some rows of transmat_ have zero sum because no transition from the state was ever observed.\n",
      "Some rows of transmat_ have zero sum because no transition from the state was ever observed.\n",
      "Some rows of transmat_ have zero sum because no transition from the state was ever observed.\n",
      "Some rows of transmat_ have zero sum because no transition from the state was ever observed.\n",
      "Some rows of transmat_ have zero sum because no transition from the state was ever observed.\n",
      "Some rows of transmat_ have zero sum because no transition from the state was ever observed.\n",
      "Some rows of transmat_ have zero sum because no transition from the state was ever observed.\n",
      "Some rows of transmat_ have zero sum because no transition from the state was ever observed.\n",
      "Some rows of transmat_ have zero sum because no transition from the state was ever observed.\n",
      "Some rows of transmat_ have zero sum because no transition from the state was ever observed.\n",
      "Some rows of transmat_ have zero sum because no transition from the state was ever observed.\n",
      "Some rows of transmat_ have zero sum because no transition from the state was ever observed.\n",
      "Some rows of transmat_ have zero sum because no transition from the state was ever observed.\n",
      "Some rows of transmat_ have zero sum because no transition from the state was ever observed.\n",
      "Some rows of transmat_ have zero sum because no transition from the state was ever observed.\n",
      "Some rows of transmat_ have zero sum because no transition from the state was ever observed.\n",
      "Some rows of transmat_ have zero sum because no transition from the state was ever observed.\n",
      "Some rows of transmat_ have zero sum because no transition from the state was ever observed.\n",
      "Some rows of transmat_ have zero sum because no transition from the state was ever observed.\n",
      "Some rows of transmat_ have zero sum because no transition from the state was ever observed.\n",
      "Some rows of transmat_ have zero sum because no transition from the state was ever observed.\n",
      "Some rows of transmat_ have zero sum because no transition from the state was ever observed.\n",
      "Some rows of transmat_ have zero sum because no transition from the state was ever observed.\n",
      "Some rows of transmat_ have zero sum because no transition from the state was ever observed.\n",
      "Some rows of transmat_ have zero sum because no transition from the state was ever observed.\n",
      "Some rows of transmat_ have zero sum because no transition from the state was ever observed.\n",
      "Some rows of transmat_ have zero sum because no transition from the state was ever observed.\n",
      "Some rows of transmat_ have zero sum because no transition from the state was ever observed.\n",
      "Some rows of transmat_ have zero sum because no transition from the state was ever observed.\n",
      "Some rows of transmat_ have zero sum because no transition from the state was ever observed.\n",
      "Some rows of transmat_ have zero sum because no transition from the state was ever observed.\n",
      "Some rows of transmat_ have zero sum because no transition from the state was ever observed.\n",
      "Some rows of transmat_ have zero sum because no transition from the state was ever observed.\n",
      "Some rows of transmat_ have zero sum because no transition from the state was ever observed.\n",
      "Some rows of transmat_ have zero sum because no transition from the state was ever observed.\n",
      "Some rows of transmat_ have zero sum because no transition from the state was ever observed.\n",
      "Some rows of transmat_ have zero sum because no transition from the state was ever observed.\n",
      "Some rows of transmat_ have zero sum because no transition from the state was ever observed.\n",
      "Some rows of transmat_ have zero sum because no transition from the state was ever observed.\n",
      "Some rows of transmat_ have zero sum because no transition from the state was ever observed.\n",
      "Some rows of transmat_ have zero sum because no transition from the state was ever observed.\n",
      "Some rows of transmat_ have zero sum because no transition from the state was ever observed.\n",
      "Some rows of transmat_ have zero sum because no transition from the state was ever observed.\n",
      "Some rows of transmat_ have zero sum because no transition from the state was ever observed.\n",
      "Some rows of transmat_ have zero sum because no transition from the state was ever observed.\n",
      "Some rows of transmat_ have zero sum because no transition from the state was ever observed.\n",
      "Some rows of transmat_ have zero sum because no transition from the state was ever observed.\n",
      "Some rows of transmat_ have zero sum because no transition from the state was ever observed.\n",
      "Some rows of transmat_ have zero sum because no transition from the state was ever observed.\n",
      "Some rows of transmat_ have zero sum because no transition from the state was ever observed.\n",
      "Some rows of transmat_ have zero sum because no transition from the state was ever observed.\n",
      "Some rows of transmat_ have zero sum because no transition from the state was ever observed.\n",
      "Some rows of transmat_ have zero sum because no transition from the state was ever observed.\n",
      "Some rows of transmat_ have zero sum because no transition from the state was ever observed.\n",
      "Some rows of transmat_ have zero sum because no transition from the state was ever observed.\n",
      "Some rows of transmat_ have zero sum because no transition from the state was ever observed.\n",
      "Some rows of transmat_ have zero sum because no transition from the state was ever observed.\n",
      "Some rows of transmat_ have zero sum because no transition from the state was ever observed.\n",
      "Some rows of transmat_ have zero sum because no transition from the state was ever observed.\n",
      "Some rows of transmat_ have zero sum because no transition from the state was ever observed.\n",
      "Some rows of transmat_ have zero sum because no transition from the state was ever observed.\n",
      "Some rows of transmat_ have zero sum because no transition from the state was ever observed.\n",
      "Some rows of transmat_ have zero sum because no transition from the state was ever observed.\n",
      "Some rows of transmat_ have zero sum because no transition from the state was ever observed.\n",
      "Some rows of transmat_ have zero sum because no transition from the state was ever observed.\n",
      "Some rows of transmat_ have zero sum because no transition from the state was ever observed.\n",
      "Some rows of transmat_ have zero sum because no transition from the state was ever observed.\n",
      "Some rows of transmat_ have zero sum because no transition from the state was ever observed.\n",
      "Some rows of transmat_ have zero sum because no transition from the state was ever observed.\n",
      "Some rows of transmat_ have zero sum because no transition from the state was ever observed.\n",
      "Some rows of transmat_ have zero sum because no transition from the state was ever observed.\n",
      "Some rows of transmat_ have zero sum because no transition from the state was ever observed.\n",
      "Some rows of transmat_ have zero sum because no transition from the state was ever observed.\n",
      "Some rows of transmat_ have zero sum because no transition from the state was ever observed.\n",
      "Some rows of transmat_ have zero sum because no transition from the state was ever observed.\n",
      "Some rows of transmat_ have zero sum because no transition from the state was ever observed.\n",
      "Some rows of transmat_ have zero sum because no transition from the state was ever observed.\n",
      "Some rows of transmat_ have zero sum because no transition from the state was ever observed.\n",
      "Some rows of transmat_ have zero sum because no transition from the state was ever observed.\n",
      "Some rows of transmat_ have zero sum because no transition from the state was ever observed.\n",
      "Some rows of transmat_ have zero sum because no transition from the state was ever observed.\n",
      "Some rows of transmat_ have zero sum because no transition from the state was ever observed.\n",
      "Some rows of transmat_ have zero sum because no transition from the state was ever observed.\n",
      "Some rows of transmat_ have zero sum because no transition from the state was ever observed.\n",
      "Some rows of transmat_ have zero sum because no transition from the state was ever observed.\n",
      "Some rows of transmat_ have zero sum because no transition from the state was ever observed.\n",
      "Some rows of transmat_ have zero sum because no transition from the state was ever observed.\n",
      "Some rows of transmat_ have zero sum because no transition from the state was ever observed.\n",
      "Some rows of transmat_ have zero sum because no transition from the state was ever observed.\n",
      "Some rows of transmat_ have zero sum because no transition from the state was ever observed.\n",
      "Some rows of transmat_ have zero sum because no transition from the state was ever observed.\n",
      "Some rows of transmat_ have zero sum because no transition from the state was ever observed.\n",
      "Some rows of transmat_ have zero sum because no transition from the state was ever observed.\n",
      "Some rows of transmat_ have zero sum because no transition from the state was ever observed.\n",
      "Some rows of transmat_ have zero sum because no transition from the state was ever observed.\n",
      "Some rows of transmat_ have zero sum because no transition from the state was ever observed.\n",
      "Some rows of transmat_ have zero sum because no transition from the state was ever observed.\n",
      "Some rows of transmat_ have zero sum because no transition from the state was ever observed.\n",
      "Some rows of transmat_ have zero sum because no transition from the state was ever observed.\n",
      "Some rows of transmat_ have zero sum because no transition from the state was ever observed.\n",
      "Some rows of transmat_ have zero sum because no transition from the state was ever observed.\n",
      "Some rows of transmat_ have zero sum because no transition from the state was ever observed.\n",
      "Some rows of transmat_ have zero sum because no transition from the state was ever observed.\n",
      "Some rows of transmat_ have zero sum because no transition from the state was ever observed.\n",
      "Some rows of transmat_ have zero sum because no transition from the state was ever observed.\n",
      "Some rows of transmat_ have zero sum because no transition from the state was ever observed.\n",
      "Some rows of transmat_ have zero sum because no transition from the state was ever observed.\n",
      "Some rows of transmat_ have zero sum because no transition from the state was ever observed.\n",
      "Some rows of transmat_ have zero sum because no transition from the state was ever observed.\n",
      "Some rows of transmat_ have zero sum because no transition from the state was ever observed.\n",
      "Some rows of transmat_ have zero sum because no transition from the state was ever observed.\n",
      "Some rows of transmat_ have zero sum because no transition from the state was ever observed.\n",
      "Some rows of transmat_ have zero sum because no transition from the state was ever observed.\n",
      "Some rows of transmat_ have zero sum because no transition from the state was ever observed.\n",
      "Some rows of transmat_ have zero sum because no transition from the state was ever observed.\n",
      "Some rows of transmat_ have zero sum because no transition from the state was ever observed.\n",
      "Some rows of transmat_ have zero sum because no transition from the state was ever observed.\n",
      "Some rows of transmat_ have zero sum because no transition from the state was ever observed.\n",
      "Some rows of transmat_ have zero sum because no transition from the state was ever observed.\n",
      "Some rows of transmat_ have zero sum because no transition from the state was ever observed.\n",
      "Some rows of transmat_ have zero sum because no transition from the state was ever observed.\n",
      "Some rows of transmat_ have zero sum because no transition from the state was ever observed.\n",
      "Some rows of transmat_ have zero sum because no transition from the state was ever observed.\n",
      "Some rows of transmat_ have zero sum because no transition from the state was ever observed.\n",
      "Some rows of transmat_ have zero sum because no transition from the state was ever observed.\n",
      "Some rows of transmat_ have zero sum because no transition from the state was ever observed.\n",
      "Some rows of transmat_ have zero sum because no transition from the state was ever observed.\n",
      "Some rows of transmat_ have zero sum because no transition from the state was ever observed.\n",
      "Some rows of transmat_ have zero sum because no transition from the state was ever observed.\n",
      "Some rows of transmat_ have zero sum because no transition from the state was ever observed.\n",
      "Some rows of transmat_ have zero sum because no transition from the state was ever observed.\n",
      "Some rows of transmat_ have zero sum because no transition from the state was ever observed.\n",
      "Some rows of transmat_ have zero sum because no transition from the state was ever observed.\n",
      "Some rows of transmat_ have zero sum because no transition from the state was ever observed.\n",
      "Some rows of transmat_ have zero sum because no transition from the state was ever observed.\n",
      "Some rows of transmat_ have zero sum because no transition from the state was ever observed.\n",
      "Some rows of transmat_ have zero sum because no transition from the state was ever observed.\n",
      "Some rows of transmat_ have zero sum because no transition from the state was ever observed.\n",
      "Some rows of transmat_ have zero sum because no transition from the state was ever observed.\n",
      "Some rows of transmat_ have zero sum because no transition from the state was ever observed.\n",
      "Some rows of transmat_ have zero sum because no transition from the state was ever observed.\n",
      "Some rows of transmat_ have zero sum because no transition from the state was ever observed.\n",
      "Some rows of transmat_ have zero sum because no transition from the state was ever observed.\n",
      "Some rows of transmat_ have zero sum because no transition from the state was ever observed.\n",
      "Some rows of transmat_ have zero sum because no transition from the state was ever observed.\n",
      "Some rows of transmat_ have zero sum because no transition from the state was ever observed.\n",
      "Some rows of transmat_ have zero sum because no transition from the state was ever observed.\n",
      "Some rows of transmat_ have zero sum because no transition from the state was ever observed.\n",
      "Some rows of transmat_ have zero sum because no transition from the state was ever observed.\n",
      "Some rows of transmat_ have zero sum because no transition from the state was ever observed.\n",
      "Some rows of transmat_ have zero sum because no transition from the state was ever observed.\n",
      "Some rows of transmat_ have zero sum because no transition from the state was ever observed.\n",
      "Some rows of transmat_ have zero sum because no transition from the state was ever observed.\n",
      "Some rows of transmat_ have zero sum because no transition from the state was ever observed.\n",
      "Some rows of transmat_ have zero sum because no transition from the state was ever observed.\n",
      "Some rows of transmat_ have zero sum because no transition from the state was ever observed.\n",
      "Some rows of transmat_ have zero sum because no transition from the state was ever observed.\n",
      "Some rows of transmat_ have zero sum because no transition from the state was ever observed.\n",
      "Some rows of transmat_ have zero sum because no transition from the state was ever observed.\n",
      "Some rows of transmat_ have zero sum because no transition from the state was ever observed.\n",
      "Some rows of transmat_ have zero sum because no transition from the state was ever observed.\n",
      "Some rows of transmat_ have zero sum because no transition from the state was ever observed.\n",
      "Some rows of transmat_ have zero sum because no transition from the state was ever observed.\n",
      "Some rows of transmat_ have zero sum because no transition from the state was ever observed.\n",
      "Some rows of transmat_ have zero sum because no transition from the state was ever observed.\n",
      "Some rows of transmat_ have zero sum because no transition from the state was ever observed.\n",
      "Some rows of transmat_ have zero sum because no transition from the state was ever observed.\n",
      "Some rows of transmat_ have zero sum because no transition from the state was ever observed.\n",
      "Some rows of transmat_ have zero sum because no transition from the state was ever observed.\n",
      "Some rows of transmat_ have zero sum because no transition from the state was ever observed.\n",
      "Some rows of transmat_ have zero sum because no transition from the state was ever observed.\n",
      "Some rows of transmat_ have zero sum because no transition from the state was ever observed.\n",
      "Some rows of transmat_ have zero sum because no transition from the state was ever observed.\n",
      "Some rows of transmat_ have zero sum because no transition from the state was ever observed.\n",
      "Some rows of transmat_ have zero sum because no transition from the state was ever observed.\n",
      "Some rows of transmat_ have zero sum because no transition from the state was ever observed.\n",
      "Some rows of transmat_ have zero sum because no transition from the state was ever observed.\n",
      "Some rows of transmat_ have zero sum because no transition from the state was ever observed.\n",
      "Some rows of transmat_ have zero sum because no transition from the state was ever observed.\n",
      "Some rows of transmat_ have zero sum because no transition from the state was ever observed.\n",
      "Some rows of transmat_ have zero sum because no transition from the state was ever observed.\n",
      "Some rows of transmat_ have zero sum because no transition from the state was ever observed.\n",
      "Some rows of transmat_ have zero sum because no transition from the state was ever observed.\n",
      "Some rows of transmat_ have zero sum because no transition from the state was ever observed.\n",
      "Some rows of transmat_ have zero sum because no transition from the state was ever observed.\n",
      "Some rows of transmat_ have zero sum because no transition from the state was ever observed.\n",
      "Some rows of transmat_ have zero sum because no transition from the state was ever observed.\n",
      "Some rows of transmat_ have zero sum because no transition from the state was ever observed.\n",
      "Some rows of transmat_ have zero sum because no transition from the state was ever observed.\n",
      "Some rows of transmat_ have zero sum because no transition from the state was ever observed.\n",
      "Some rows of transmat_ have zero sum because no transition from the state was ever observed.\n",
      "Some rows of transmat_ have zero sum because no transition from the state was ever observed.\n",
      "Some rows of transmat_ have zero sum because no transition from the state was ever observed.\n",
      "Some rows of transmat_ have zero sum because no transition from the state was ever observed.\n",
      "Some rows of transmat_ have zero sum because no transition from the state was ever observed.\n",
      "Some rows of transmat_ have zero sum because no transition from the state was ever observed.\n",
      "Some rows of transmat_ have zero sum because no transition from the state was ever observed.\n",
      "Some rows of transmat_ have zero sum because no transition from the state was ever observed.\n",
      "Some rows of transmat_ have zero sum because no transition from the state was ever observed.\n",
      "Some rows of transmat_ have zero sum because no transition from the state was ever observed.\n",
      "Some rows of transmat_ have zero sum because no transition from the state was ever observed.\n",
      "Some rows of transmat_ have zero sum because no transition from the state was ever observed.\n",
      "Some rows of transmat_ have zero sum because no transition from the state was ever observed.\n",
      "Some rows of transmat_ have zero sum because no transition from the state was ever observed.\n",
      "Some rows of transmat_ have zero sum because no transition from the state was ever observed.\n",
      "Some rows of transmat_ have zero sum because no transition from the state was ever observed.\n",
      "Some rows of transmat_ have zero sum because no transition from the state was ever observed.\n",
      "Some rows of transmat_ have zero sum because no transition from the state was ever observed.\n",
      "Some rows of transmat_ have zero sum because no transition from the state was ever observed.\n",
      "Some rows of transmat_ have zero sum because no transition from the state was ever observed.\n",
      "Some rows of transmat_ have zero sum because no transition from the state was ever observed.\n",
      "Some rows of transmat_ have zero sum because no transition from the state was ever observed.\n",
      "Some rows of transmat_ have zero sum because no transition from the state was ever observed.\n",
      "Some rows of transmat_ have zero sum because no transition from the state was ever observed.\n",
      "Some rows of transmat_ have zero sum because no transition from the state was ever observed.\n",
      "Some rows of transmat_ have zero sum because no transition from the state was ever observed.\n",
      "Some rows of transmat_ have zero sum because no transition from the state was ever observed.\n",
      "Some rows of transmat_ have zero sum because no transition from the state was ever observed.\n",
      "Some rows of transmat_ have zero sum because no transition from the state was ever observed.\n",
      "Some rows of transmat_ have zero sum because no transition from the state was ever observed.\n",
      "Some rows of transmat_ have zero sum because no transition from the state was ever observed.\n",
      "Some rows of transmat_ have zero sum because no transition from the state was ever observed.\n",
      "Some rows of transmat_ have zero sum because no transition from the state was ever observed.\n",
      "Some rows of transmat_ have zero sum because no transition from the state was ever observed.\n",
      "Some rows of transmat_ have zero sum because no transition from the state was ever observed.\n",
      "Some rows of transmat_ have zero sum because no transition from the state was ever observed.\n",
      "Some rows of transmat_ have zero sum because no transition from the state was ever observed.\n",
      "Some rows of transmat_ have zero sum because no transition from the state was ever observed.\n",
      "Some rows of transmat_ have zero sum because no transition from the state was ever observed.\n",
      "Some rows of transmat_ have zero sum because no transition from the state was ever observed.\n",
      "Some rows of transmat_ have zero sum because no transition from the state was ever observed.\n",
      "Some rows of transmat_ have zero sum because no transition from the state was ever observed.\n",
      "Some rows of transmat_ have zero sum because no transition from the state was ever observed.\n",
      "Some rows of transmat_ have zero sum because no transition from the state was ever observed.\n",
      "Some rows of transmat_ have zero sum because no transition from the state was ever observed.\n",
      "Some rows of transmat_ have zero sum because no transition from the state was ever observed.\n",
      "Some rows of transmat_ have zero sum because no transition from the state was ever observed.\n",
      "Some rows of transmat_ have zero sum because no transition from the state was ever observed.\n",
      "Some rows of transmat_ have zero sum because no transition from the state was ever observed.\n",
      "Some rows of transmat_ have zero sum because no transition from the state was ever observed.\n",
      "Some rows of transmat_ have zero sum because no transition from the state was ever observed.\n",
      "Some rows of transmat_ have zero sum because no transition from the state was ever observed.\n",
      "Some rows of transmat_ have zero sum because no transition from the state was ever observed.\n",
      "Some rows of transmat_ have zero sum because no transition from the state was ever observed.\n",
      "Some rows of transmat_ have zero sum because no transition from the state was ever observed.\n",
      "Some rows of transmat_ have zero sum because no transition from the state was ever observed.\n",
      "Some rows of transmat_ have zero sum because no transition from the state was ever observed.\n",
      "Some rows of transmat_ have zero sum because no transition from the state was ever observed.\n",
      "Some rows of transmat_ have zero sum because no transition from the state was ever observed.\n",
      "Some rows of transmat_ have zero sum because no transition from the state was ever observed.\n",
      "Some rows of transmat_ have zero sum because no transition from the state was ever observed.\n",
      "Some rows of transmat_ have zero sum because no transition from the state was ever observed.\n",
      "Some rows of transmat_ have zero sum because no transition from the state was ever observed.\n",
      "Some rows of transmat_ have zero sum because no transition from the state was ever observed.\n",
      "Some rows of transmat_ have zero sum because no transition from the state was ever observed.\n",
      "Some rows of transmat_ have zero sum because no transition from the state was ever observed.\n",
      "Some rows of transmat_ have zero sum because no transition from the state was ever observed.\n",
      "Some rows of transmat_ have zero sum because no transition from the state was ever observed.\n",
      "Some rows of transmat_ have zero sum because no transition from the state was ever observed.\n",
      "Some rows of transmat_ have zero sum because no transition from the state was ever observed.\n",
      "Some rows of transmat_ have zero sum because no transition from the state was ever observed.\n",
      "Some rows of transmat_ have zero sum because no transition from the state was ever observed.\n",
      "Some rows of transmat_ have zero sum because no transition from the state was ever observed.\n",
      "Some rows of transmat_ have zero sum because no transition from the state was ever observed.\n",
      "Some rows of transmat_ have zero sum because no transition from the state was ever observed.\n",
      "Some rows of transmat_ have zero sum because no transition from the state was ever observed.\n",
      "Some rows of transmat_ have zero sum because no transition from the state was ever observed.\n",
      "Some rows of transmat_ have zero sum because no transition from the state was ever observed.\n",
      "Some rows of transmat_ have zero sum because no transition from the state was ever observed.\n",
      "Some rows of transmat_ have zero sum because no transition from the state was ever observed.\n",
      "Some rows of transmat_ have zero sum because no transition from the state was ever observed.\n",
      "Some rows of transmat_ have zero sum because no transition from the state was ever observed.\n",
      "Some rows of transmat_ have zero sum because no transition from the state was ever observed.\n",
      "Some rows of transmat_ have zero sum because no transition from the state was ever observed.\n",
      "Some rows of transmat_ have zero sum because no transition from the state was ever observed.\n",
      "Some rows of transmat_ have zero sum because no transition from the state was ever observed.\n",
      "Some rows of transmat_ have zero sum because no transition from the state was ever observed.\n",
      "Some rows of transmat_ have zero sum because no transition from the state was ever observed.\n",
      "Some rows of transmat_ have zero sum because no transition from the state was ever observed.\n",
      "Some rows of transmat_ have zero sum because no transition from the state was ever observed.\n",
      "Some rows of transmat_ have zero sum because no transition from the state was ever observed.\n",
      "Some rows of transmat_ have zero sum because no transition from the state was ever observed.\n",
      "Some rows of transmat_ have zero sum because no transition from the state was ever observed.\n",
      "Some rows of transmat_ have zero sum because no transition from the state was ever observed.\n",
      "Some rows of transmat_ have zero sum because no transition from the state was ever observed.\n",
      "Some rows of transmat_ have zero sum because no transition from the state was ever observed.\n",
      "Some rows of transmat_ have zero sum because no transition from the state was ever observed.\n",
      "Some rows of transmat_ have zero sum because no transition from the state was ever observed.\n",
      "Some rows of transmat_ have zero sum because no transition from the state was ever observed.\n",
      "Some rows of transmat_ have zero sum because no transition from the state was ever observed.\n",
      "Some rows of transmat_ have zero sum because no transition from the state was ever observed.\n",
      "Some rows of transmat_ have zero sum because no transition from the state was ever observed.\n",
      "Some rows of transmat_ have zero sum because no transition from the state was ever observed.\n",
      "Some rows of transmat_ have zero sum because no transition from the state was ever observed.\n",
      "Some rows of transmat_ have zero sum because no transition from the state was ever observed.\n",
      "Some rows of transmat_ have zero sum because no transition from the state was ever observed.\n",
      "Some rows of transmat_ have zero sum because no transition from the state was ever observed.\n",
      "Some rows of transmat_ have zero sum because no transition from the state was ever observed.\n",
      "Some rows of transmat_ have zero sum because no transition from the state was ever observed.\n",
      "Some rows of transmat_ have zero sum because no transition from the state was ever observed.\n",
      "Some rows of transmat_ have zero sum because no transition from the state was ever observed.\n",
      "Some rows of transmat_ have zero sum because no transition from the state was ever observed.\n",
      "Some rows of transmat_ have zero sum because no transition from the state was ever observed.\n",
      "Some rows of transmat_ have zero sum because no transition from the state was ever observed.\n",
      "Some rows of transmat_ have zero sum because no transition from the state was ever observed.\n",
      "Some rows of transmat_ have zero sum because no transition from the state was ever observed.\n",
      "Some rows of transmat_ have zero sum because no transition from the state was ever observed.\n",
      "Some rows of transmat_ have zero sum because no transition from the state was ever observed.\n",
      "Some rows of transmat_ have zero sum because no transition from the state was ever observed.\n",
      "Some rows of transmat_ have zero sum because no transition from the state was ever observed.\n",
      "Some rows of transmat_ have zero sum because no transition from the state was ever observed.\n",
      "Some rows of transmat_ have zero sum because no transition from the state was ever observed.\n",
      "Some rows of transmat_ have zero sum because no transition from the state was ever observed.\n",
      "Some rows of transmat_ have zero sum because no transition from the state was ever observed.\n",
      "Some rows of transmat_ have zero sum because no transition from the state was ever observed.\n",
      "Some rows of transmat_ have zero sum because no transition from the state was ever observed.\n",
      "Some rows of transmat_ have zero sum because no transition from the state was ever observed.\n",
      "Some rows of transmat_ have zero sum because no transition from the state was ever observed.\n",
      "Some rows of transmat_ have zero sum because no transition from the state was ever observed.\n",
      "Some rows of transmat_ have zero sum because no transition from the state was ever observed.\n",
      "Some rows of transmat_ have zero sum because no transition from the state was ever observed.\n",
      "Some rows of transmat_ have zero sum because no transition from the state was ever observed.\n"
     ]
    },
    {
     "name": "stdout",
     "output_type": "stream",
     "text": [
      ">>>>>>>>>> EDN 13 did not converge\n",
      "EDN 14\n"
     ]
    },
    {
     "name": "stderr",
     "output_type": "stream",
     "text": [
      "Model is not converging.  Current: 16067.043867908968 is not greater than 16069.715123714326. Delta is -2.671255805358669\n"
     ]
    },
    {
     "name": "stdout",
     "output_type": "stream",
     "text": [
      ">>>>>>>>>> EDN 14 did not converge\n",
      "EDN 15\n"
     ]
    },
    {
     "name": "stderr",
     "output_type": "stream",
     "text": [
      "Model is not converging.  Current: 16034.289272699747 is not greater than 16037.556705204854. Delta is -3.267432505106626\n",
      "Model is not converging.  Current: 16823.532553851022 is not greater than 16825.761326282656. Delta is -2.2287724316338426\n"
     ]
    },
    {
     "name": "stdout",
     "output_type": "stream",
     "text": [
      "BMA.BA 1\n",
      "BMA.BA 2\n",
      "BMA.BA 3\n",
      ">>>>>>>>>> BMA.BA 3 did not converge\n",
      "BMA.BA 4\n"
     ]
    },
    {
     "name": "stderr",
     "output_type": "stream",
     "text": [
      "Model is not converging.  Current: 17418.733560641478 is not greater than 17420.146983289796. Delta is -1.4134226483183738\n"
     ]
    },
    {
     "name": "stdout",
     "output_type": "stream",
     "text": [
      ">>>>>>>>>> BMA.BA 4 did not converge\n",
      "BMA.BA 5\n"
     ]
    },
    {
     "name": "stderr",
     "output_type": "stream",
     "text": [
      "Model is not converging.  Current: 16870.490577848275 is not greater than 16871.021808294045. Delta is -0.5312304457693244\n",
      "Model is not converging.  Current: 17394.0246122937 is not greater than 17397.841352129268. Delta is -3.816739835569024\n"
     ]
    },
    {
     "name": "stdout",
     "output_type": "stream",
     "text": [
      ">>>>>>>>>> BMA.BA 5 did not converge\n",
      "BMA.BA 6\n",
      ">>>>>>>>>> BMA.BA 6 did not converge\n",
      "BMA.BA 7\n"
     ]
    },
    {
     "name": "stderr",
     "output_type": "stream",
     "text": [
      "Model is not converging.  Current: 16514.09586784607 is not greater than 16515.960707224065. Delta is -1.8648393779949402\n"
     ]
    },
    {
     "name": "stdout",
     "output_type": "stream",
     "text": [
      ">>>>>>>>>> BMA.BA 7 did not converge\n",
      "BMA.BA 8\n"
     ]
    },
    {
     "name": "stderr",
     "output_type": "stream",
     "text": [
      "Model is not converging.  Current: 17374.683435988984 is not greater than 17381.213305890386. Delta is -6.52986990140198\n"
     ]
    },
    {
     "name": "stdout",
     "output_type": "stream",
     "text": [
      "BMA.BA 9\n",
      "BMA.BA 10\n"
     ]
    },
    {
     "name": "stderr",
     "output_type": "stream",
     "text": [
      "Model is not converging.  Current: 17355.978991838947 is not greater than 17366.169121767194. Delta is -10.190129928247188\n",
      "Model is not converging.  Current: 17353.85341303484 is not greater than 17357.90432299242. Delta is -4.050909957579279\n"
     ]
    },
    {
     "name": "stdout",
     "output_type": "stream",
     "text": [
      "BMA.BA 11\n",
      "BMA.BA 12\n"
     ]
    },
    {
     "name": "stderr",
     "output_type": "stream",
     "text": [
      "Model is not converging.  Current: 17353.61901996006 is not greater than 17355.933400649235. Delta is -2.314380689174868\n"
     ]
    },
    {
     "name": "stdout",
     "output_type": "stream",
     "text": [
      "BMA.BA 13\n"
     ]
    },
    {
     "name": "stderr",
     "output_type": "stream",
     "text": [
      "Model is not converging.  Current: 17371.7855818116 is not greater than 17371.788015725477. Delta is -0.0024339138763025403\n"
     ]
    },
    {
     "name": "stdout",
     "output_type": "stream",
     "text": [
      "BMA.BA 14\n"
     ]
    },
    {
     "name": "stderr",
     "output_type": "stream",
     "text": [
      "Model is not converging.  Current: 17405.81877120986 is not greater than 17409.82421478083. Delta is -4.005443570971693\n"
     ]
    },
    {
     "name": "stdout",
     "output_type": "stream",
     "text": [
      "BMA.BA 15\n"
     ]
    },
    {
     "name": "stderr",
     "output_type": "stream",
     "text": [
      "Model is not converging.  Current: 17424.85703728817 is not greater than 17425.983127170406. Delta is -1.1260898822365562\n",
      "Model is not converging.  Current: 17301.75240439675 is not greater than 17302.788697502016. Delta is -1.0362931052659405\n"
     ]
    },
    {
     "name": "stdout",
     "output_type": "stream",
     "text": [
      ">>>>>>>>>> BMA.BA 15 did not converge\n",
      "BMA 1\n",
      "BMA 2\n",
      "BMA 3\n"
     ]
    },
    {
     "name": "stderr",
     "output_type": "stream",
     "text": [
      "Model is not converging.  Current: 17356.143949244073 is not greater than 17360.249976993433. Delta is -4.106027749359782\n",
      "Model is not converging.  Current: 17367.27237836682 is not greater than 17370.267271844044. Delta is -2.9948934772255598\n",
      "Model is not converging.  Current: 16856.872252654364 is not greater than 16858.439556935326. Delta is -1.5673042809612525\n"
     ]
    },
    {
     "name": "stdout",
     "output_type": "stream",
     "text": [
      ">>>>>>>>>> BMA 3 did not converge\n",
      "BMA 4\n",
      ">>>>>>>>>> BMA 4 did not converge\n",
      "BMA 5\n",
      "BMA 6\n"
     ]
    },
    {
     "name": "stderr",
     "output_type": "stream",
     "text": [
      "Model is not converging.  Current: 17353.12159806404 is not greater than 17360.44857800053. Delta is -7.326979936489806\n",
      "Model is not converging.  Current: 16501.855037772155 is not greater than 16505.839322695636. Delta is -3.9842849234810274\n"
     ]
    },
    {
     "name": "stdout",
     "output_type": "stream",
     "text": [
      "BMA 7\n",
      "BMA 8\n",
      "BMA 9\n"
     ]
    },
    {
     "name": "stderr",
     "output_type": "stream",
     "text": [
      "Model is not converging.  Current: 16859.51025814898 is not greater than 16860.00491224166. Delta is -0.4946540926794114\n",
      "Model is not converging.  Current: 17293.42392956125 is not greater than 17298.170359717686. Delta is -4.746430156435963\n"
     ]
    },
    {
     "name": "stdout",
     "output_type": "stream",
     "text": [
      ">>>>>>>>>> BMA 9 did not converge\n",
      "BMA 10\n",
      "BMA 11\n"
     ]
    },
    {
     "name": "stderr",
     "output_type": "stream",
     "text": [
      "Model is not converging.  Current: 17344.44471833077 is not greater than 17346.48135308921. Delta is -2.036634758438595\n"
     ]
    },
    {
     "name": "stdout",
     "output_type": "stream",
     "text": [
      "BMA 12\n",
      "BMA 13\n"
     ]
    },
    {
     "name": "stderr",
     "output_type": "stream",
     "text": [
      "Model is not converging.  Current: 16842.12768042595 is not greater than 16842.14638624375. Delta is -0.01870581779803615\n"
     ]
    },
    {
     "name": "stdout",
     "output_type": "stream",
     "text": [
      "BMA 14\n"
     ]
    },
    {
     "name": "stderr",
     "output_type": "stream",
     "text": [
      "Model is not converging.  Current: 17361.432233023286 is not greater than 17366.62144064272. Delta is -5.189207619434455\n"
     ]
    },
    {
     "name": "stdout",
     "output_type": "stream",
     "text": [
      "BMA 15\n"
     ]
    },
    {
     "name": "stderr",
     "output_type": "stream",
     "text": [
      "Model is not converging.  Current: 17285.703949497485 is not greater than 17296.002770697734. Delta is -10.298821200249222\n"
     ]
    },
    {
     "name": "stdout",
     "output_type": "stream",
     "text": [
      "BBAR.BA 1\n",
      "BBAR.BA 2\n",
      "BBAR.BA 3\n",
      "BBAR.BA 4\n",
      "BBAR.BA 5\n"
     ]
    },
    {
     "name": "stderr",
     "output_type": "stream",
     "text": [
      "c:\\Users\\Alfred\\.julia\\conda\\3\\envs\\hmm\\Lib\\site-packages\\hmmlearn\\hmm.py:340: RuntimeWarning: invalid value encountered in divide\n",
      "  self.means_ = ((means_weight * means_prior + stats['obs'])\n"
     ]
    },
    {
     "name": "stdout",
     "output_type": "stream",
     "text": [
      ">>>>>>>>>> BBAR.BA 5 did not converge\n",
      "BBAR.BA 6\n",
      "BBAR.BA 7\n"
     ]
    },
    {
     "name": "stderr",
     "output_type": "stream",
     "text": [
      "Model is not converging.  Current: 19461.19834975107 is not greater than 19461.93646099718. Delta is -0.7381112461116572\n"
     ]
    },
    {
     "name": "stdout",
     "output_type": "stream",
     "text": [
      "BBAR.BA 8\n",
      "BBAR.BA 9\n",
      "BBAR.BA 10\n",
      "BBAR.BA 11\n",
      "BBAR.BA 12\n"
     ]
    },
    {
     "name": "stderr",
     "output_type": "stream",
     "text": [
      "c:\\Users\\Alfred\\.julia\\conda\\3\\envs\\hmm\\Lib\\site-packages\\hmmlearn\\hmm.py:340: RuntimeWarning: invalid value encountered in divide\n",
      "  self.means_ = ((means_weight * means_prior + stats['obs'])\n",
      "Some rows of transmat_ have zero sum because no transition from the state was ever observed.\n",
      "Some rows of transmat_ have zero sum because no transition from the state was ever observed.\n",
      "Some rows of transmat_ have zero sum because no transition from the state was ever observed.\n",
      "Some rows of transmat_ have zero sum because no transition from the state was ever observed.\n",
      "Some rows of transmat_ have zero sum because no transition from the state was ever observed.\n",
      "Some rows of transmat_ have zero sum because no transition from the state was ever observed.\n",
      "Some rows of transmat_ have zero sum because no transition from the state was ever observed.\n",
      "Some rows of transmat_ have zero sum because no transition from the state was ever observed.\n",
      "Some rows of transmat_ have zero sum because no transition from the state was ever observed.\n",
      "Some rows of transmat_ have zero sum because no transition from the state was ever observed.\n",
      "Some rows of transmat_ have zero sum because no transition from the state was ever observed.\n",
      "Some rows of transmat_ have zero sum because no transition from the state was ever observed.\n",
      "Some rows of transmat_ have zero sum because no transition from the state was ever observed.\n",
      "Some rows of transmat_ have zero sum because no transition from the state was ever observed.\n",
      "Some rows of transmat_ have zero sum because no transition from the state was ever observed.\n",
      "Some rows of transmat_ have zero sum because no transition from the state was ever observed.\n",
      "Some rows of transmat_ have zero sum because no transition from the state was ever observed.\n",
      "Some rows of transmat_ have zero sum because no transition from the state was ever observed.\n",
      "Some rows of transmat_ have zero sum because no transition from the state was ever observed.\n",
      "Some rows of transmat_ have zero sum because no transition from the state was ever observed.\n",
      "Some rows of transmat_ have zero sum because no transition from the state was ever observed.\n",
      "Some rows of transmat_ have zero sum because no transition from the state was ever observed.\n",
      "Some rows of transmat_ have zero sum because no transition from the state was ever observed.\n",
      "Some rows of transmat_ have zero sum because no transition from the state was ever observed.\n",
      "Some rows of transmat_ have zero sum because no transition from the state was ever observed.\n",
      "Some rows of transmat_ have zero sum because no transition from the state was ever observed.\n",
      "Some rows of transmat_ have zero sum because no transition from the state was ever observed.\n",
      "Some rows of transmat_ have zero sum because no transition from the state was ever observed.\n",
      "Some rows of transmat_ have zero sum because no transition from the state was ever observed.\n",
      "Some rows of transmat_ have zero sum because no transition from the state was ever observed.\n",
      "Some rows of transmat_ have zero sum because no transition from the state was ever observed.\n",
      "Some rows of transmat_ have zero sum because no transition from the state was ever observed.\n",
      "Some rows of transmat_ have zero sum because no transition from the state was ever observed.\n",
      "Some rows of transmat_ have zero sum because no transition from the state was ever observed.\n",
      "Some rows of transmat_ have zero sum because no transition from the state was ever observed.\n",
      "Some rows of transmat_ have zero sum because no transition from the state was ever observed.\n",
      "Some rows of transmat_ have zero sum because no transition from the state was ever observed.\n",
      "Some rows of transmat_ have zero sum because no transition from the state was ever observed.\n",
      "Some rows of transmat_ have zero sum because no transition from the state was ever observed.\n",
      "Some rows of transmat_ have zero sum because no transition from the state was ever observed.\n",
      "Some rows of transmat_ have zero sum because no transition from the state was ever observed.\n",
      "Some rows of transmat_ have zero sum because no transition from the state was ever observed.\n",
      "Some rows of transmat_ have zero sum because no transition from the state was ever observed.\n",
      "Some rows of transmat_ have zero sum because no transition from the state was ever observed.\n",
      "Some rows of transmat_ have zero sum because no transition from the state was ever observed.\n",
      "Some rows of transmat_ have zero sum because no transition from the state was ever observed.\n",
      "Some rows of transmat_ have zero sum because no transition from the state was ever observed.\n",
      "Some rows of transmat_ have zero sum because no transition from the state was ever observed.\n",
      "Some rows of transmat_ have zero sum because no transition from the state was ever observed.\n",
      "Some rows of transmat_ have zero sum because no transition from the state was ever observed.\n",
      "Some rows of transmat_ have zero sum because no transition from the state was ever observed.\n",
      "Some rows of transmat_ have zero sum because no transition from the state was ever observed.\n",
      "Some rows of transmat_ have zero sum because no transition from the state was ever observed.\n",
      "Some rows of transmat_ have zero sum because no transition from the state was ever observed.\n",
      "Some rows of transmat_ have zero sum because no transition from the state was ever observed.\n",
      "Some rows of transmat_ have zero sum because no transition from the state was ever observed.\n",
      "Some rows of transmat_ have zero sum because no transition from the state was ever observed.\n",
      "Some rows of transmat_ have zero sum because no transition from the state was ever observed.\n",
      "Some rows of transmat_ have zero sum because no transition from the state was ever observed.\n",
      "Some rows of transmat_ have zero sum because no transition from the state was ever observed.\n",
      "Some rows of transmat_ have zero sum because no transition from the state was ever observed.\n",
      "Some rows of transmat_ have zero sum because no transition from the state was ever observed.\n",
      "Some rows of transmat_ have zero sum because no transition from the state was ever observed.\n",
      "Some rows of transmat_ have zero sum because no transition from the state was ever observed.\n",
      "Some rows of transmat_ have zero sum because no transition from the state was ever observed.\n",
      "Some rows of transmat_ have zero sum because no transition from the state was ever observed.\n",
      "Some rows of transmat_ have zero sum because no transition from the state was ever observed.\n",
      "Some rows of transmat_ have zero sum because no transition from the state was ever observed.\n",
      "Some rows of transmat_ have zero sum because no transition from the state was ever observed.\n",
      "Some rows of transmat_ have zero sum because no transition from the state was ever observed.\n",
      "Some rows of transmat_ have zero sum because no transition from the state was ever observed.\n",
      "Some rows of transmat_ have zero sum because no transition from the state was ever observed.\n",
      "Some rows of transmat_ have zero sum because no transition from the state was ever observed.\n",
      "Some rows of transmat_ have zero sum because no transition from the state was ever observed.\n",
      "Some rows of transmat_ have zero sum because no transition from the state was ever observed.\n",
      "Some rows of transmat_ have zero sum because no transition from the state was ever observed.\n",
      "Some rows of transmat_ have zero sum because no transition from the state was ever observed.\n",
      "Some rows of transmat_ have zero sum because no transition from the state was ever observed.\n",
      "Some rows of transmat_ have zero sum because no transition from the state was ever observed.\n",
      "Some rows of transmat_ have zero sum because no transition from the state was ever observed.\n",
      "Some rows of transmat_ have zero sum because no transition from the state was ever observed.\n",
      "Some rows of transmat_ have zero sum because no transition from the state was ever observed.\n",
      "Some rows of transmat_ have zero sum because no transition from the state was ever observed.\n",
      "Some rows of transmat_ have zero sum because no transition from the state was ever observed.\n",
      "Some rows of transmat_ have zero sum because no transition from the state was ever observed.\n",
      "Some rows of transmat_ have zero sum because no transition from the state was ever observed.\n",
      "Some rows of transmat_ have zero sum because no transition from the state was ever observed.\n",
      "Some rows of transmat_ have zero sum because no transition from the state was ever observed.\n",
      "Some rows of transmat_ have zero sum because no transition from the state was ever observed.\n",
      "Some rows of transmat_ have zero sum because no transition from the state was ever observed.\n",
      "Some rows of transmat_ have zero sum because no transition from the state was ever observed.\n",
      "Some rows of transmat_ have zero sum because no transition from the state was ever observed.\n",
      "Some rows of transmat_ have zero sum because no transition from the state was ever observed.\n",
      "Some rows of transmat_ have zero sum because no transition from the state was ever observed.\n",
      "Some rows of transmat_ have zero sum because no transition from the state was ever observed.\n",
      "Some rows of transmat_ have zero sum because no transition from the state was ever observed.\n",
      "Some rows of transmat_ have zero sum because no transition from the state was ever observed.\n",
      "Some rows of transmat_ have zero sum because no transition from the state was ever observed.\n",
      "Some rows of transmat_ have zero sum because no transition from the state was ever observed.\n",
      "Some rows of transmat_ have zero sum because no transition from the state was ever observed.\n",
      "Some rows of transmat_ have zero sum because no transition from the state was ever observed.\n",
      "Some rows of transmat_ have zero sum because no transition from the state was ever observed.\n",
      "Some rows of transmat_ have zero sum because no transition from the state was ever observed.\n",
      "Some rows of transmat_ have zero sum because no transition from the state was ever observed.\n",
      "Some rows of transmat_ have zero sum because no transition from the state was ever observed.\n",
      "Some rows of transmat_ have zero sum because no transition from the state was ever observed.\n",
      "Some rows of transmat_ have zero sum because no transition from the state was ever observed.\n",
      "Some rows of transmat_ have zero sum because no transition from the state was ever observed.\n",
      "Some rows of transmat_ have zero sum because no transition from the state was ever observed.\n",
      "Some rows of transmat_ have zero sum because no transition from the state was ever observed.\n",
      "Some rows of transmat_ have zero sum because no transition from the state was ever observed.\n",
      "Some rows of transmat_ have zero sum because no transition from the state was ever observed.\n",
      "Some rows of transmat_ have zero sum because no transition from the state was ever observed.\n",
      "Some rows of transmat_ have zero sum because no transition from the state was ever observed.\n",
      "Some rows of transmat_ have zero sum because no transition from the state was ever observed.\n",
      "Some rows of transmat_ have zero sum because no transition from the state was ever observed.\n",
      "Some rows of transmat_ have zero sum because no transition from the state was ever observed.\n",
      "Some rows of transmat_ have zero sum because no transition from the state was ever observed.\n",
      "Some rows of transmat_ have zero sum because no transition from the state was ever observed.\n",
      "Some rows of transmat_ have zero sum because no transition from the state was ever observed.\n",
      "Some rows of transmat_ have zero sum because no transition from the state was ever observed.\n",
      "Some rows of transmat_ have zero sum because no transition from the state was ever observed.\n",
      "Some rows of transmat_ have zero sum because no transition from the state was ever observed.\n",
      "Some rows of transmat_ have zero sum because no transition from the state was ever observed.\n",
      "Some rows of transmat_ have zero sum because no transition from the state was ever observed.\n",
      "Some rows of transmat_ have zero sum because no transition from the state was ever observed.\n",
      "Some rows of transmat_ have zero sum because no transition from the state was ever observed.\n",
      "Some rows of transmat_ have zero sum because no transition from the state was ever observed.\n",
      "Some rows of transmat_ have zero sum because no transition from the state was ever observed.\n",
      "Some rows of transmat_ have zero sum because no transition from the state was ever observed.\n",
      "Some rows of transmat_ have zero sum because no transition from the state was ever observed.\n",
      "Some rows of transmat_ have zero sum because no transition from the state was ever observed.\n",
      "Some rows of transmat_ have zero sum because no transition from the state was ever observed.\n",
      "Some rows of transmat_ have zero sum because no transition from the state was ever observed.\n",
      "Some rows of transmat_ have zero sum because no transition from the state was ever observed.\n",
      "Some rows of transmat_ have zero sum because no transition from the state was ever observed.\n",
      "Some rows of transmat_ have zero sum because no transition from the state was ever observed.\n",
      "Some rows of transmat_ have zero sum because no transition from the state was ever observed.\n",
      "Some rows of transmat_ have zero sum because no transition from the state was ever observed.\n",
      "Some rows of transmat_ have zero sum because no transition from the state was ever observed.\n",
      "Some rows of transmat_ have zero sum because no transition from the state was ever observed.\n",
      "Some rows of transmat_ have zero sum because no transition from the state was ever observed.\n",
      "Some rows of transmat_ have zero sum because no transition from the state was ever observed.\n",
      "Some rows of transmat_ have zero sum because no transition from the state was ever observed.\n",
      "Some rows of transmat_ have zero sum because no transition from the state was ever observed.\n",
      "Some rows of transmat_ have zero sum because no transition from the state was ever observed.\n",
      "Some rows of transmat_ have zero sum because no transition from the state was ever observed.\n",
      "Some rows of transmat_ have zero sum because no transition from the state was ever observed.\n",
      "Some rows of transmat_ have zero sum because no transition from the state was ever observed.\n",
      "Some rows of transmat_ have zero sum because no transition from the state was ever observed.\n",
      "Some rows of transmat_ have zero sum because no transition from the state was ever observed.\n",
      "Some rows of transmat_ have zero sum because no transition from the state was ever observed.\n",
      "Some rows of transmat_ have zero sum because no transition from the state was ever observed.\n",
      "Some rows of transmat_ have zero sum because no transition from the state was ever observed.\n",
      "Some rows of transmat_ have zero sum because no transition from the state was ever observed.\n",
      "Some rows of transmat_ have zero sum because no transition from the state was ever observed.\n",
      "Some rows of transmat_ have zero sum because no transition from the state was ever observed.\n",
      "Some rows of transmat_ have zero sum because no transition from the state was ever observed.\n",
      "Some rows of transmat_ have zero sum because no transition from the state was ever observed.\n",
      "Some rows of transmat_ have zero sum because no transition from the state was ever observed.\n",
      "Some rows of transmat_ have zero sum because no transition from the state was ever observed.\n",
      "Some rows of transmat_ have zero sum because no transition from the state was ever observed.\n",
      "Some rows of transmat_ have zero sum because no transition from the state was ever observed.\n",
      "Some rows of transmat_ have zero sum because no transition from the state was ever observed.\n",
      "Some rows of transmat_ have zero sum because no transition from the state was ever observed.\n",
      "Some rows of transmat_ have zero sum because no transition from the state was ever observed.\n",
      "Some rows of transmat_ have zero sum because no transition from the state was ever observed.\n",
      "Some rows of transmat_ have zero sum because no transition from the state was ever observed.\n",
      "Some rows of transmat_ have zero sum because no transition from the state was ever observed.\n",
      "Some rows of transmat_ have zero sum because no transition from the state was ever observed.\n",
      "Some rows of transmat_ have zero sum because no transition from the state was ever observed.\n",
      "Some rows of transmat_ have zero sum because no transition from the state was ever observed.\n",
      "Some rows of transmat_ have zero sum because no transition from the state was ever observed.\n",
      "Some rows of transmat_ have zero sum because no transition from the state was ever observed.\n",
      "Some rows of transmat_ have zero sum because no transition from the state was ever observed.\n",
      "Some rows of transmat_ have zero sum because no transition from the state was ever observed.\n",
      "Some rows of transmat_ have zero sum because no transition from the state was ever observed.\n",
      "Some rows of transmat_ have zero sum because no transition from the state was ever observed.\n",
      "Some rows of transmat_ have zero sum because no transition from the state was ever observed.\n",
      "Some rows of transmat_ have zero sum because no transition from the state was ever observed.\n",
      "Some rows of transmat_ have zero sum because no transition from the state was ever observed.\n",
      "Some rows of transmat_ have zero sum because no transition from the state was ever observed.\n",
      "Some rows of transmat_ have zero sum because no transition from the state was ever observed.\n",
      "Some rows of transmat_ have zero sum because no transition from the state was ever observed.\n",
      "Some rows of transmat_ have zero sum because no transition from the state was ever observed.\n",
      "Some rows of transmat_ have zero sum because no transition from the state was ever observed.\n",
      "Some rows of transmat_ have zero sum because no transition from the state was ever observed.\n",
      "Some rows of transmat_ have zero sum because no transition from the state was ever observed.\n",
      "Some rows of transmat_ have zero sum because no transition from the state was ever observed.\n",
      "Some rows of transmat_ have zero sum because no transition from the state was ever observed.\n",
      "Some rows of transmat_ have zero sum because no transition from the state was ever observed.\n",
      "Some rows of transmat_ have zero sum because no transition from the state was ever observed.\n",
      "Some rows of transmat_ have zero sum because no transition from the state was ever observed.\n",
      "Some rows of transmat_ have zero sum because no transition from the state was ever observed.\n",
      "Some rows of transmat_ have zero sum because no transition from the state was ever observed.\n",
      "Some rows of transmat_ have zero sum because no transition from the state was ever observed.\n",
      "Some rows of transmat_ have zero sum because no transition from the state was ever observed.\n",
      "Some rows of transmat_ have zero sum because no transition from the state was ever observed.\n",
      "Some rows of transmat_ have zero sum because no transition from the state was ever observed.\n",
      "Some rows of transmat_ have zero sum because no transition from the state was ever observed.\n",
      "Some rows of transmat_ have zero sum because no transition from the state was ever observed.\n",
      "Some rows of transmat_ have zero sum because no transition from the state was ever observed.\n",
      "Some rows of transmat_ have zero sum because no transition from the state was ever observed.\n",
      "Some rows of transmat_ have zero sum because no transition from the state was ever observed.\n",
      "Some rows of transmat_ have zero sum because no transition from the state was ever observed.\n",
      "Some rows of transmat_ have zero sum because no transition from the state was ever observed.\n",
      "Some rows of transmat_ have zero sum because no transition from the state was ever observed.\n",
      "Some rows of transmat_ have zero sum because no transition from the state was ever observed.\n",
      "Some rows of transmat_ have zero sum because no transition from the state was ever observed.\n",
      "Some rows of transmat_ have zero sum because no transition from the state was ever observed.\n",
      "Some rows of transmat_ have zero sum because no transition from the state was ever observed.\n",
      "Some rows of transmat_ have zero sum because no transition from the state was ever observed.\n",
      "Some rows of transmat_ have zero sum because no transition from the state was ever observed.\n",
      "Some rows of transmat_ have zero sum because no transition from the state was ever observed.\n",
      "Some rows of transmat_ have zero sum because no transition from the state was ever observed.\n",
      "Some rows of transmat_ have zero sum because no transition from the state was ever observed.\n",
      "Some rows of transmat_ have zero sum because no transition from the state was ever observed.\n",
      "Some rows of transmat_ have zero sum because no transition from the state was ever observed.\n",
      "Some rows of transmat_ have zero sum because no transition from the state was ever observed.\n",
      "Some rows of transmat_ have zero sum because no transition from the state was ever observed.\n",
      "Some rows of transmat_ have zero sum because no transition from the state was ever observed.\n",
      "Some rows of transmat_ have zero sum because no transition from the state was ever observed.\n",
      "Some rows of transmat_ have zero sum because no transition from the state was ever observed.\n",
      "Some rows of transmat_ have zero sum because no transition from the state was ever observed.\n",
      "Some rows of transmat_ have zero sum because no transition from the state was ever observed.\n",
      "Some rows of transmat_ have zero sum because no transition from the state was ever observed.\n",
      "Some rows of transmat_ have zero sum because no transition from the state was ever observed.\n",
      "Some rows of transmat_ have zero sum because no transition from the state was ever observed.\n",
      "Some rows of transmat_ have zero sum because no transition from the state was ever observed.\n",
      "Some rows of transmat_ have zero sum because no transition from the state was ever observed.\n",
      "Some rows of transmat_ have zero sum because no transition from the state was ever observed.\n",
      "Some rows of transmat_ have zero sum because no transition from the state was ever observed.\n",
      "Some rows of transmat_ have zero sum because no transition from the state was ever observed.\n",
      "Some rows of transmat_ have zero sum because no transition from the state was ever observed.\n",
      "Some rows of transmat_ have zero sum because no transition from the state was ever observed.\n",
      "Some rows of transmat_ have zero sum because no transition from the state was ever observed.\n",
      "Some rows of transmat_ have zero sum because no transition from the state was ever observed.\n",
      "Some rows of transmat_ have zero sum because no transition from the state was ever observed.\n",
      "Some rows of transmat_ have zero sum because no transition from the state was ever observed.\n",
      "Some rows of transmat_ have zero sum because no transition from the state was ever observed.\n",
      "Some rows of transmat_ have zero sum because no transition from the state was ever observed.\n",
      "Some rows of transmat_ have zero sum because no transition from the state was ever observed.\n",
      "Some rows of transmat_ have zero sum because no transition from the state was ever observed.\n",
      "Some rows of transmat_ have zero sum because no transition from the state was ever observed.\n",
      "Some rows of transmat_ have zero sum because no transition from the state was ever observed.\n",
      "Some rows of transmat_ have zero sum because no transition from the state was ever observed.\n",
      "Some rows of transmat_ have zero sum because no transition from the state was ever observed.\n",
      "Some rows of transmat_ have zero sum because no transition from the state was ever observed.\n",
      "Some rows of transmat_ have zero sum because no transition from the state was ever observed.\n",
      "Some rows of transmat_ have zero sum because no transition from the state was ever observed.\n",
      "Some rows of transmat_ have zero sum because no transition from the state was ever observed.\n",
      "Some rows of transmat_ have zero sum because no transition from the state was ever observed.\n",
      "Some rows of transmat_ have zero sum because no transition from the state was ever observed.\n",
      "Some rows of transmat_ have zero sum because no transition from the state was ever observed.\n",
      "Some rows of transmat_ have zero sum because no transition from the state was ever observed.\n",
      "Some rows of transmat_ have zero sum because no transition from the state was ever observed.\n",
      "Some rows of transmat_ have zero sum because no transition from the state was ever observed.\n",
      "Some rows of transmat_ have zero sum because no transition from the state was ever observed.\n",
      "Some rows of transmat_ have zero sum because no transition from the state was ever observed.\n",
      "Some rows of transmat_ have zero sum because no transition from the state was ever observed.\n",
      "Some rows of transmat_ have zero sum because no transition from the state was ever observed.\n",
      "Some rows of transmat_ have zero sum because no transition from the state was ever observed.\n",
      "Some rows of transmat_ have zero sum because no transition from the state was ever observed.\n",
      "Some rows of transmat_ have zero sum because no transition from the state was ever observed.\n",
      "Some rows of transmat_ have zero sum because no transition from the state was ever observed.\n",
      "Some rows of transmat_ have zero sum because no transition from the state was ever observed.\n",
      "Some rows of transmat_ have zero sum because no transition from the state was ever observed.\n",
      "Some rows of transmat_ have zero sum because no transition from the state was ever observed.\n",
      "Some rows of transmat_ have zero sum because no transition from the state was ever observed.\n",
      "Some rows of transmat_ have zero sum because no transition from the state was ever observed.\n",
      "Some rows of transmat_ have zero sum because no transition from the state was ever observed.\n",
      "Some rows of transmat_ have zero sum because no transition from the state was ever observed.\n",
      "Some rows of transmat_ have zero sum because no transition from the state was ever observed.\n",
      "Some rows of transmat_ have zero sum because no transition from the state was ever observed.\n",
      "Some rows of transmat_ have zero sum because no transition from the state was ever observed.\n",
      "Some rows of transmat_ have zero sum because no transition from the state was ever observed.\n",
      "Some rows of transmat_ have zero sum because no transition from the state was ever observed.\n",
      "Some rows of transmat_ have zero sum because no transition from the state was ever observed.\n",
      "Some rows of transmat_ have zero sum because no transition from the state was ever observed.\n",
      "Some rows of transmat_ have zero sum because no transition from the state was ever observed.\n",
      "Some rows of transmat_ have zero sum because no transition from the state was ever observed.\n",
      "Some rows of transmat_ have zero sum because no transition from the state was ever observed.\n",
      "Some rows of transmat_ have zero sum because no transition from the state was ever observed.\n",
      "Some rows of transmat_ have zero sum because no transition from the state was ever observed.\n",
      "Some rows of transmat_ have zero sum because no transition from the state was ever observed.\n",
      "Some rows of transmat_ have zero sum because no transition from the state was ever observed.\n",
      "Some rows of transmat_ have zero sum because no transition from the state was ever observed.\n",
      "Some rows of transmat_ have zero sum because no transition from the state was ever observed.\n",
      "Some rows of transmat_ have zero sum because no transition from the state was ever observed.\n",
      "Some rows of transmat_ have zero sum because no transition from the state was ever observed.\n",
      "Some rows of transmat_ have zero sum because no transition from the state was ever observed.\n",
      "Some rows of transmat_ have zero sum because no transition from the state was ever observed.\n",
      "Some rows of transmat_ have zero sum because no transition from the state was ever observed.\n",
      "Some rows of transmat_ have zero sum because no transition from the state was ever observed.\n",
      "Some rows of transmat_ have zero sum because no transition from the state was ever observed.\n",
      "Some rows of transmat_ have zero sum because no transition from the state was ever observed.\n",
      "Some rows of transmat_ have zero sum because no transition from the state was ever observed.\n",
      "Some rows of transmat_ have zero sum because no transition from the state was ever observed.\n",
      "Some rows of transmat_ have zero sum because no transition from the state was ever observed.\n",
      "Some rows of transmat_ have zero sum because no transition from the state was ever observed.\n",
      "Some rows of transmat_ have zero sum because no transition from the state was ever observed.\n",
      "Some rows of transmat_ have zero sum because no transition from the state was ever observed.\n",
      "Some rows of transmat_ have zero sum because no transition from the state was ever observed.\n",
      "Some rows of transmat_ have zero sum because no transition from the state was ever observed.\n",
      "Some rows of transmat_ have zero sum because no transition from the state was ever observed.\n",
      "Some rows of transmat_ have zero sum because no transition from the state was ever observed.\n",
      "Some rows of transmat_ have zero sum because no transition from the state was ever observed.\n",
      "Some rows of transmat_ have zero sum because no transition from the state was ever observed.\n",
      "Some rows of transmat_ have zero sum because no transition from the state was ever observed.\n",
      "Some rows of transmat_ have zero sum because no transition from the state was ever observed.\n",
      "Some rows of transmat_ have zero sum because no transition from the state was ever observed.\n",
      "Some rows of transmat_ have zero sum because no transition from the state was ever observed.\n",
      "Some rows of transmat_ have zero sum because no transition from the state was ever observed.\n",
      "Some rows of transmat_ have zero sum because no transition from the state was ever observed.\n",
      "Some rows of transmat_ have zero sum because no transition from the state was ever observed.\n",
      "Some rows of transmat_ have zero sum because no transition from the state was ever observed.\n",
      "Some rows of transmat_ have zero sum because no transition from the state was ever observed.\n",
      "Some rows of transmat_ have zero sum because no transition from the state was ever observed.\n",
      "Some rows of transmat_ have zero sum because no transition from the state was ever observed.\n",
      "Some rows of transmat_ have zero sum because no transition from the state was ever observed.\n",
      "Some rows of transmat_ have zero sum because no transition from the state was ever observed.\n",
      "Some rows of transmat_ have zero sum because no transition from the state was ever observed.\n",
      "Some rows of transmat_ have zero sum because no transition from the state was ever observed.\n",
      "Some rows of transmat_ have zero sum because no transition from the state was ever observed.\n",
      "Some rows of transmat_ have zero sum because no transition from the state was ever observed.\n",
      "Some rows of transmat_ have zero sum because no transition from the state was ever observed.\n",
      "Some rows of transmat_ have zero sum because no transition from the state was ever observed.\n",
      "Some rows of transmat_ have zero sum because no transition from the state was ever observed.\n",
      "Some rows of transmat_ have zero sum because no transition from the state was ever observed.\n",
      "Some rows of transmat_ have zero sum because no transition from the state was ever observed.\n",
      "Some rows of transmat_ have zero sum because no transition from the state was ever observed.\n",
      "Some rows of transmat_ have zero sum because no transition from the state was ever observed.\n",
      "Some rows of transmat_ have zero sum because no transition from the state was ever observed.\n",
      "Some rows of transmat_ have zero sum because no transition from the state was ever observed.\n",
      "Some rows of transmat_ have zero sum because no transition from the state was ever observed.\n",
      "Some rows of transmat_ have zero sum because no transition from the state was ever observed.\n",
      "Some rows of transmat_ have zero sum because no transition from the state was ever observed.\n",
      "Some rows of transmat_ have zero sum because no transition from the state was ever observed.\n",
      "Some rows of transmat_ have zero sum because no transition from the state was ever observed.\n",
      "Some rows of transmat_ have zero sum because no transition from the state was ever observed.\n",
      "Some rows of transmat_ have zero sum because no transition from the state was ever observed.\n",
      "Some rows of transmat_ have zero sum because no transition from the state was ever observed.\n",
      "Some rows of transmat_ have zero sum because no transition from the state was ever observed.\n",
      "Some rows of transmat_ have zero sum because no transition from the state was ever observed.\n",
      "Some rows of transmat_ have zero sum because no transition from the state was ever observed.\n",
      "Some rows of transmat_ have zero sum because no transition from the state was ever observed.\n",
      "Some rows of transmat_ have zero sum because no transition from the state was ever observed.\n",
      "Some rows of transmat_ have zero sum because no transition from the state was ever observed.\n",
      "Some rows of transmat_ have zero sum because no transition from the state was ever observed.\n",
      "Some rows of transmat_ have zero sum because no transition from the state was ever observed.\n",
      "Some rows of transmat_ have zero sum because no transition from the state was ever observed.\n",
      "Some rows of transmat_ have zero sum because no transition from the state was ever observed.\n",
      "Some rows of transmat_ have zero sum because no transition from the state was ever observed.\n",
      "Some rows of transmat_ have zero sum because no transition from the state was ever observed.\n",
      "Some rows of transmat_ have zero sum because no transition from the state was ever observed.\n",
      "Some rows of transmat_ have zero sum because no transition from the state was ever observed.\n",
      "Some rows of transmat_ have zero sum because no transition from the state was ever observed.\n",
      "Some rows of transmat_ have zero sum because no transition from the state was ever observed.\n",
      "Some rows of transmat_ have zero sum because no transition from the state was ever observed.\n",
      "Some rows of transmat_ have zero sum because no transition from the state was ever observed.\n",
      "Some rows of transmat_ have zero sum because no transition from the state was ever observed.\n",
      "Some rows of transmat_ have zero sum because no transition from the state was ever observed.\n",
      "Some rows of transmat_ have zero sum because no transition from the state was ever observed.\n",
      "Some rows of transmat_ have zero sum because no transition from the state was ever observed.\n",
      "Some rows of transmat_ have zero sum because no transition from the state was ever observed.\n",
      "Some rows of transmat_ have zero sum because no transition from the state was ever observed.\n",
      "Some rows of transmat_ have zero sum because no transition from the state was ever observed.\n",
      "Some rows of transmat_ have zero sum because no transition from the state was ever observed.\n",
      "Some rows of transmat_ have zero sum because no transition from the state was ever observed.\n",
      "Some rows of transmat_ have zero sum because no transition from the state was ever observed.\n",
      "Some rows of transmat_ have zero sum because no transition from the state was ever observed.\n",
      "Some rows of transmat_ have zero sum because no transition from the state was ever observed.\n",
      "Some rows of transmat_ have zero sum because no transition from the state was ever observed.\n",
      "Some rows of transmat_ have zero sum because no transition from the state was ever observed.\n",
      "Some rows of transmat_ have zero sum because no transition from the state was ever observed.\n",
      "Some rows of transmat_ have zero sum because no transition from the state was ever observed.\n",
      "Some rows of transmat_ have zero sum because no transition from the state was ever observed.\n",
      "Some rows of transmat_ have zero sum because no transition from the state was ever observed.\n",
      "Some rows of transmat_ have zero sum because no transition from the state was ever observed.\n",
      "Some rows of transmat_ have zero sum because no transition from the state was ever observed.\n",
      "Some rows of transmat_ have zero sum because no transition from the state was ever observed.\n",
      "Some rows of transmat_ have zero sum because no transition from the state was ever observed.\n",
      "Some rows of transmat_ have zero sum because no transition from the state was ever observed.\n",
      "Some rows of transmat_ have zero sum because no transition from the state was ever observed.\n",
      "Some rows of transmat_ have zero sum because no transition from the state was ever observed.\n",
      "Some rows of transmat_ have zero sum because no transition from the state was ever observed.\n",
      "Some rows of transmat_ have zero sum because no transition from the state was ever observed.\n",
      "Some rows of transmat_ have zero sum because no transition from the state was ever observed.\n",
      "Some rows of transmat_ have zero sum because no transition from the state was ever observed.\n",
      "Some rows of transmat_ have zero sum because no transition from the state was ever observed.\n",
      "Some rows of transmat_ have zero sum because no transition from the state was ever observed.\n",
      "Some rows of transmat_ have zero sum because no transition from the state was ever observed.\n",
      "Some rows of transmat_ have zero sum because no transition from the state was ever observed.\n",
      "Some rows of transmat_ have zero sum because no transition from the state was ever observed.\n",
      "Some rows of transmat_ have zero sum because no transition from the state was ever observed.\n",
      "Some rows of transmat_ have zero sum because no transition from the state was ever observed.\n",
      "Some rows of transmat_ have zero sum because no transition from the state was ever observed.\n",
      "Some rows of transmat_ have zero sum because no transition from the state was ever observed.\n",
      "Some rows of transmat_ have zero sum because no transition from the state was ever observed.\n",
      "Some rows of transmat_ have zero sum because no transition from the state was ever observed.\n",
      "Some rows of transmat_ have zero sum because no transition from the state was ever observed.\n",
      "Some rows of transmat_ have zero sum because no transition from the state was ever observed.\n",
      "Some rows of transmat_ have zero sum because no transition from the state was ever observed.\n",
      "Some rows of transmat_ have zero sum because no transition from the state was ever observed.\n",
      "Some rows of transmat_ have zero sum because no transition from the state was ever observed.\n",
      "Some rows of transmat_ have zero sum because no transition from the state was ever observed.\n",
      "Some rows of transmat_ have zero sum because no transition from the state was ever observed.\n",
      "Some rows of transmat_ have zero sum because no transition from the state was ever observed.\n",
      "Some rows of transmat_ have zero sum because no transition from the state was ever observed.\n",
      "Some rows of transmat_ have zero sum because no transition from the state was ever observed.\n",
      "Some rows of transmat_ have zero sum because no transition from the state was ever observed.\n",
      "Some rows of transmat_ have zero sum because no transition from the state was ever observed.\n",
      "Some rows of transmat_ have zero sum because no transition from the state was ever observed.\n",
      "Some rows of transmat_ have zero sum because no transition from the state was ever observed.\n",
      "Some rows of transmat_ have zero sum because no transition from the state was ever observed.\n",
      "Some rows of transmat_ have zero sum because no transition from the state was ever observed.\n",
      "Some rows of transmat_ have zero sum because no transition from the state was ever observed.\n",
      "Some rows of transmat_ have zero sum because no transition from the state was ever observed.\n",
      "Some rows of transmat_ have zero sum because no transition from the state was ever observed.\n",
      "Some rows of transmat_ have zero sum because no transition from the state was ever observed.\n",
      "Some rows of transmat_ have zero sum because no transition from the state was ever observed.\n",
      "Some rows of transmat_ have zero sum because no transition from the state was ever observed.\n",
      "Some rows of transmat_ have zero sum because no transition from the state was ever observed.\n",
      "Some rows of transmat_ have zero sum because no transition from the state was ever observed.\n",
      "Some rows of transmat_ have zero sum because no transition from the state was ever observed.\n",
      "Some rows of transmat_ have zero sum because no transition from the state was ever observed.\n",
      "Some rows of transmat_ have zero sum because no transition from the state was ever observed.\n",
      "Some rows of transmat_ have zero sum because no transition from the state was ever observed.\n",
      "Some rows of transmat_ have zero sum because no transition from the state was ever observed.\n",
      "Some rows of transmat_ have zero sum because no transition from the state was ever observed.\n",
      "Some rows of transmat_ have zero sum because no transition from the state was ever observed.\n",
      "Some rows of transmat_ have zero sum because no transition from the state was ever observed.\n",
      "Some rows of transmat_ have zero sum because no transition from the state was ever observed.\n",
      "Some rows of transmat_ have zero sum because no transition from the state was ever observed.\n",
      "Some rows of transmat_ have zero sum because no transition from the state was ever observed.\n",
      "Some rows of transmat_ have zero sum because no transition from the state was ever observed.\n",
      "Some rows of transmat_ have zero sum because no transition from the state was ever observed.\n",
      "Some rows of transmat_ have zero sum because no transition from the state was ever observed.\n",
      "Some rows of transmat_ have zero sum because no transition from the state was ever observed.\n",
      "Some rows of transmat_ have zero sum because no transition from the state was ever observed.\n",
      "Some rows of transmat_ have zero sum because no transition from the state was ever observed.\n",
      "Some rows of transmat_ have zero sum because no transition from the state was ever observed.\n"
     ]
    },
    {
     "name": "stdout",
     "output_type": "stream",
     "text": [
      ">>>>>>>>>> BBAR.BA 12 did not converge\n",
      "BBAR.BA 13\n"
     ]
    },
    {
     "name": "stderr",
     "output_type": "stream",
     "text": [
      "Model is not converging.  Current: 18672.725562842665 is not greater than 18676.831782359. Delta is -4.106219516335841\n"
     ]
    },
    {
     "name": "stdout",
     "output_type": "stream",
     "text": [
      ">>>>>>>>>> BBAR.BA 13 did not converge\n",
      "BBAR.BA 14\n"
     ]
    },
    {
     "name": "stderr",
     "output_type": "stream",
     "text": [
      "Model is not converging.  Current: 18839.95973693278 is not greater than 18840.185383727283. Delta is -0.22564679450442782\n"
     ]
    },
    {
     "name": "stdout",
     "output_type": "stream",
     "text": [
      ">>>>>>>>>> BBAR.BA 14 did not converge\n",
      "BBAR.BA 15\n"
     ]
    },
    {
     "name": "stderr",
     "output_type": "stream",
     "text": [
      "Model is not converging.  Current: 16980.476473934974 is not greater than 16980.912518619232. Delta is -0.43604468425837695\n"
     ]
    },
    {
     "name": "stdout",
     "output_type": "stream",
     "text": [
      "BBAR 1\n",
      "BBAR 2\n",
      "BBAR 3\n"
     ]
    },
    {
     "name": "stderr",
     "output_type": "stream",
     "text": [
      "Model is not converging.  Current: 17167.56075972157 is not greater than 17172.206482001682. Delta is -4.645722280110931\n",
      "Model is not converging.  Current: 17129.520644004242 is not greater than 17131.30485517575. Delta is -1.784211171507195\n"
     ]
    },
    {
     "name": "stdout",
     "output_type": "stream",
     "text": [
      "BBAR 4\n",
      "BBAR 5\n"
     ]
    },
    {
     "name": "stderr",
     "output_type": "stream",
     "text": [
      "Model is not converging.  Current: 16637.284874041692 is not greater than 16637.642297514678. Delta is -0.357423472985829\n",
      "Model is not converging.  Current: 17113.632859487705 is not greater than 17117.269557795255. Delta is -3.6366983075495227\n"
     ]
    },
    {
     "name": "stdout",
     "output_type": "stream",
     "text": [
      "BBAR 6\n",
      "BBAR 7\n"
     ]
    },
    {
     "name": "stderr",
     "output_type": "stream",
     "text": [
      "Model is not converging.  Current: 16303.098582975319 is not greater than 16304.41334226665. Delta is -1.3147592913301196\n"
     ]
    },
    {
     "name": "stdout",
     "output_type": "stream",
     "text": [
      ">>>>>>>>>> BBAR 7 did not converge\n",
      "BBAR 8\n"
     ]
    },
    {
     "name": "stderr",
     "output_type": "stream",
     "text": [
      "Model is not converging.  Current: 17147.914692446288 is not greater than 17147.927722420645. Delta is -0.013029974357777974\n"
     ]
    },
    {
     "name": "stdout",
     "output_type": "stream",
     "text": [
      "BBAR 9\n"
     ]
    },
    {
     "name": "stderr",
     "output_type": "stream",
     "text": [
      "Model is not converging.  Current: 17099.16613764689 is not greater than 17108.19829801209. Delta is -9.032160365197342\n"
     ]
    },
    {
     "name": "stdout",
     "output_type": "stream",
     "text": [
      "BBAR 10\n"
     ]
    },
    {
     "name": "stderr",
     "output_type": "stream",
     "text": [
      "c:\\Users\\Alfred\\.julia\\conda\\3\\envs\\hmm\\Lib\\site-packages\\hmmlearn\\hmm.py:340: RuntimeWarning: invalid value encountered in divide\n",
      "  self.means_ = ((means_weight * means_prior + stats['obs'])\n",
      "Some rows of transmat_ have zero sum because no transition from the state was ever observed.\n",
      "Model is not converging.  Current: -inf is not greater than 16662.588072934486. Delta is -inf\n"
     ]
    },
    {
     "name": "stdout",
     "output_type": "stream",
     "text": [
      ">>>>>>>>>> BBAR 10 did not converge\n",
      "BBAR 11\n"
     ]
    },
    {
     "name": "stderr",
     "output_type": "stream",
     "text": [
      "Model is not converging.  Current: 17145.555832378184 is not greater than 17145.668710925078. Delta is -0.11287854689362575\n"
     ]
    },
    {
     "name": "stdout",
     "output_type": "stream",
     "text": [
      "BBAR 12\n"
     ]
    },
    {
     "name": "stderr",
     "output_type": "stream",
     "text": [
      "Model is not converging.  Current: 16659.67892785111 is not greater than 16662.438627895473. Delta is -2.7597000443638535\n"
     ]
    },
    {
     "name": "stdout",
     "output_type": "stream",
     "text": [
      "BBAR 13\n"
     ]
    },
    {
     "name": "stderr",
     "output_type": "stream",
     "text": [
      "Model is not converging.  Current: 16596.707083162644 is not greater than 16598.904545823316. Delta is -2.19746266067159\n"
     ]
    },
    {
     "name": "stdout",
     "output_type": "stream",
     "text": [
      ">>>>>>>>>> BBAR 13 did not converge\n",
      "BBAR 14\n"
     ]
    },
    {
     "name": "stderr",
     "output_type": "stream",
     "text": [
      "Model is not converging.  Current: 17104.796963684155 is not greater than 17105.618710827897. Delta is -0.821747143741959\n"
     ]
    },
    {
     "name": "stdout",
     "output_type": "stream",
     "text": [
      "BBAR 15\n"
     ]
    },
    {
     "name": "stderr",
     "output_type": "stream",
     "text": [
      "Model is not converging.  Current: 17121.98634655059 is not greater than 17128.800132705786. Delta is -6.813786155194975\n"
     ]
    }
   ],
   "source": [
    "for stock in tickerlist:\n",
    "    columns = [f'{stock}_log_rets', f'{stock}_gk_vol']\n",
    "    insample_data = df[columns]\n",
    "\n",
    "    param_dict={\n",
    "        \"covariance_type\" : \"diag\", \n",
    "        \"n_iter\" : 500,\n",
    "        \"random_state\" : random_state\n",
    "        #no voy a usar startprob_prior por devlog 20-06-23\n",
    "        }\n",
    "\n",
    "    for nstate in range_states:\n",
    "        model = hmm.GaussianHMM(n_components= nstate, **param_dict, verbose=False)\n",
    "        results = model.fit(insample_data)\n",
    "\n",
    "        convergence=results.monitor_.converged\n",
    "        # esta es la condición de si el modelo convergió\n",
    "\n",
    "        all_states_found=np.isclose(a=(model.transmat_.sum(axis=1)), b=1).all()\n",
    "        # esta es la condición de que todos los estados (nstates) hayan sido observados\n",
    "        # si no, alguna fila en la matriz de transición del modelo son 0.\n",
    "        # el errormsg es \"Some rows of transmat_ have zero sum because no transition from the state was ever observed\".\n",
    "\n",
    "        startprob_check = (model.startprob_.sum()==1)\n",
    "        # esta es la condición de que los estados al inicializar estén definidos\n",
    "        \n",
    "        good_model = convergence and all_states_found and startprob_check\n",
    "\n",
    "        if good_model:\n",
    "            try:\n",
    "                results_dict_df[stock].loc[nstate, \"AIC\"]=model.aic(insample_data)\n",
    "                results_dict_df[stock].loc[nstate, \"BIC\"]=model.bic(insample_data)\n",
    "            except ValueError:\n",
    "                pass\n",
    "        else: \n",
    "            print(\">\"*10,f\"{stock} {nstate} did not converge\")\n",
    "            results_dict_df[stock].loc[nstate, \"BIC\"]=np.inf\n",
    "            results_dict_df[stock].loc[nstate, \"BIC\"]=np.inf"
   ]
  },
  {
   "cell_type": "code",
   "execution_count": 54,
   "metadata": {},
   "outputs": [
    {
     "name": "stdout",
     "output_type": "stream",
     "text": [
      "For stock ^MERV, best AIC: 7 best BIC: 3\n"
     ]
    },
    {
     "name": "stderr",
     "output_type": "stream",
     "text": [
      "Model is not converging.  Current: 17743.986469759584 is not greater than 17744.318424185913. Delta is -0.3319544263285934\n",
      "Model is not converging.  Current: 18922.516761095125 is not greater than 18922.640342060477. Delta is -0.1235809653517208\n",
      "Model is not converging.  Current: 16770.464039001974 is not greater than 16770.892862973047. Delta is -0.4288239710731432\n"
     ]
    },
    {
     "name": "stdout",
     "output_type": "stream",
     "text": [
      "For stock GGAL.BA, best AIC: 7 best BIC: 3\n",
      "For stock GGAL, best AIC: 7 best BIC: 3\n"
     ]
    },
    {
     "name": "stderr",
     "output_type": "stream",
     "text": [
      "Model is not converging.  Current: 17405.414747463186 is not greater than 17413.864602481484. Delta is -8.449855018297967\n",
      "Model is not converging.  Current: 17220.366214344893 is not greater than 17222.302417235725. Delta is -1.9362028908326465\n"
     ]
    },
    {
     "name": "stdout",
     "output_type": "stream",
     "text": [
      "For stock YPFD.BA, best AIC: 7 best BIC: 3\n"
     ]
    },
    {
     "name": "stderr",
     "output_type": "stream",
     "text": [
      "Model is not converging.  Current: 17222.531800164437 is not greater than 17223.31491379854. Delta is -0.7831136341010279\n"
     ]
    },
    {
     "name": "stdout",
     "output_type": "stream",
     "text": [
      "For stock YPF, best AIC: 7 best BIC: 3\n"
     ]
    },
    {
     "name": "stderr",
     "output_type": "stream",
     "text": [
      "Model is not converging.  Current: 17156.87808752897 is not greater than 17156.975011501658. Delta is -0.09692397268736386\n",
      "Model is not converging.  Current: 17102.09427315503 is not greater than 17102.472666230442. Delta is -0.3783930754107132\n",
      "Model is not converging.  Current: 16581.72170426582 is not greater than 16583.54739207417. Delta is -1.825687808352086\n"
     ]
    },
    {
     "name": "stdout",
     "output_type": "stream",
     "text": [
      "For stock EDN.BA, best AIC: 7 best BIC: 3\n"
     ]
    },
    {
     "name": "stderr",
     "output_type": "stream",
     "text": [
      "Model is not converging.  Current: 17159.36524722281 is not greater than 17160.897804423945. Delta is -1.532557201135205\n",
      "Model is not converging.  Current: 15787.36855523936 is not greater than 15789.178888695578. Delta is -1.810333456218359\n"
     ]
    },
    {
     "name": "stdout",
     "output_type": "stream",
     "text": [
      "For stock EDN, best AIC: 7 best BIC: 3\n"
     ]
    },
    {
     "name": "stderr",
     "output_type": "stream",
     "text": [
      "Model is not converging.  Current: 16565.70547807547 is not greater than 16567.109910946674. Delta is -1.4044328712043352\n",
      "Model is not converging.  Current: 16514.09586784607 is not greater than 16515.960707224065. Delta is -1.8648393779949402\n",
      "Model is not converging.  Current: 16823.532553851048 is not greater than 16825.76132628264. Delta is -2.228772431593825\n"
     ]
    },
    {
     "name": "stdout",
     "output_type": "stream",
     "text": [
      "For stock BMA.BA, best AIC: 7 best BIC: 3\n"
     ]
    },
    {
     "name": "stderr",
     "output_type": "stream",
     "text": [
      "Model is not converging.  Current: 16501.855037773297 is not greater than 16505.83932269615. Delta is -3.984284922851657\n"
     ]
    },
    {
     "name": "stdout",
     "output_type": "stream",
     "text": [
      "For stock BMA, best AIC: 7 best BIC: 3\n"
     ]
    },
    {
     "name": "stderr",
     "output_type": "stream",
     "text": [
      "Model is not converging.  Current: 17356.143949253845 is not greater than 17360.249976997107. Delta is -4.10602774326253\n"
     ]
    },
    {
     "name": "stdout",
     "output_type": "stream",
     "text": [
      "For stock BBAR.BA, best AIC: 7 best BIC: 3\n"
     ]
    },
    {
     "name": "stderr",
     "output_type": "stream",
     "text": [
      "Model is not converging.  Current: 19461.19834975107 is not greater than 19461.93646099718. Delta is -0.7381112461116572\n",
      "Model is not converging.  Current: 16303.098582975319 is not greater than 16304.41334226665. Delta is -1.3147592913301196\n"
     ]
    },
    {
     "name": "stdout",
     "output_type": "stream",
     "text": [
      "For stock BBAR, best AIC: 7 best BIC: 3\n"
     ]
    },
    {
     "name": "stderr",
     "output_type": "stream",
     "text": [
      "Model is not converging.  Current: 17167.56075972157 is not greater than 17172.206482001682. Delta is -4.645722280110931\n"
     ]
    }
   ],
   "source": [
    "for stock in tickerlist:\n",
    "    columns = [f'{stock}_log_rets', f'{stock}_gk_vol']\n",
    "    insample_data = df[columns]\n",
    "    \n",
    "    best_aic_nstate=results_dict_df[stock][\"AIC\"].astype(float).idxmin()\n",
    "    best_bic_nstate=results_dict_df[stock][\"BIC\"].astype(float).idxmin()\n",
    "    print(f\"For stock {stock}, best AIC: {best_aic_nstate} best BIC: {best_bic_nstate}\")\n",
    "\n",
    "    aic_best_model[stock]=hmm.GaussianHMM(n_components = best_aic_nstate, **param_dict).fit(insample_data)\n",
    "    bic_best_model[stock]=hmm.GaussianHMM(n_components = best_bic_nstate, **param_dict).fit(insample_data)"
   ]
  },
  {
   "cell_type": "markdown",
   "metadata": {},
   "source": [
    "# Generating out of sample data"
   ]
  },
  {
   "cell_type": "code",
   "execution_count": 55,
   "metadata": {},
   "outputs": [],
   "source": [
    "name=f'finaldf_test_{params[\"tablename\"]}.pickle'\n",
    "filename=os.path.join(dataroute, name)\n",
    "with open(filename, 'rb') as handle:\n",
    "    df_test=pickle.load(handle)"
   ]
  },
  {
   "cell_type": "code",
   "execution_count": 56,
   "metadata": {},
   "outputs": [],
   "source": [
    "def generate_HMM_samples_residuals(model, insample_data, oos_data):\n",
    "    \"\"\"\n",
    "    \n",
    "    \"\"\"\n",
    "    # como el modelo es memoryless, sólo necesito 1 día de observación para saber en qué estado estoy\n",
    "    # por lo tanto, en vez de complicarme con dos datasets, puedo agregarle el ultimo día de insample_data al ppio de oos_data\n",
    "    # pseudocodigo\n",
    "    oos_data=pd.concat([insample_data[-1:], oos_data])\n",
    "    del insample_data\n",
    "\n",
    "    samples=pd.DataFrame(columns=oos_data.columns)\n",
    "    residuals=pd.DataFrame(columns=oos_data.columns)\n",
    "\n",
    "    # for i=0\n",
    "    for i in range(1,\n",
    "                   len(oos_data.index)):\n",
    "        prev_obs=oos_data[i-1:i]\n",
    "\n",
    "        todays_obs = oos_data[i:i+1]\n",
    "        todays_date = todays_obs.index\n",
    "\n",
    "        state=model.decode(prev_obs)[1][-1]\n",
    "        # decode()[0] is the log probability, decode()[1] is the sequence of states, [-1] is the last state\n",
    "        # since we have added the last datum of insample_data to oos_data, then the \n",
    "            # TODO: revisar que tenga sentido decodear solo el ultimo día.\n",
    "            # La alternativa es agregar diez días de insample al principio y usar un decode con diez dias, \n",
    "            # me quedo con el ultimo valor del array que maximiza la log-likelihood de la secuencia entera\n",
    "            # pero como es memoryless, not sure if it makesense\n",
    "        \n",
    "        sample = model.sample(n_samples=1, random_state=random_state, currstate=state)[0]\n",
    "        # sample()[0] is the array with observations of the sampled variables, sample()[1] is the value of the currstate\n",
    "        sample = pd.DataFrame(data=sample, columns=oos_data.columns, index=todays_date)\n",
    "\n",
    "        samples=pd.concat([samples, sample])   \n",
    "        # sampling given state t-1\n",
    "        # observar realización en t+i\n",
    "        residual = todays_obs-sample\n",
    "        \n",
    "        residuals=pd.concat([residuals, residual])\n",
    "    \n",
    "    return samples, residuals"
   ]
  },
  {
   "cell_type": "code",
   "execution_count": 57,
   "metadata": {},
   "outputs": [],
   "source": [
    "aic_best_residuals={stock:None for stock in tickerlist}\n",
    "bic_best_residuals={stock:None for stock in tickerlist}"
   ]
  },
  {
   "cell_type": "code",
   "execution_count": 60,
   "metadata": {},
   "outputs": [],
   "source": [
    "for stock in tickerlist:\n",
    "    columns = [f'{stock}_log_rets', f'{stock}_gk_vol']\n",
    "    insample_data = df[columns]\n",
    "    oos_data=df_test[columns]\n",
    "\n",
    "    samples, aic_best_residuals[stock] = generate_HMM_samples_residuals(\n",
    "        aic_best_model[stock], \n",
    "        insample_data=insample_data, \n",
    "        oos_data=oos_data)\n",
    "\n",
    "    samples, bic_best_residuals[stock] = generate_HMM_samples_residuals(\n",
    "        bic_best_model[stock], \n",
    "        insample_data=insample_data, \n",
    "        oos_data=oos_data)"
   ]
  },
  {
   "cell_type": "markdown",
   "metadata": {},
   "source": [
    "# Guardado de datos"
   ]
  },
  {
   "cell_type": "code",
   "execution_count": 62,
   "metadata": {},
   "outputs": [],
   "source": [
    "with open(os.path.join(resultsroute, f\"\"\"HMM_univ_{params[\"tablename\"]}_aic_bestmodels.pickle\"\"\"), \"wb\") as output_file:\n",
    "    pickle.dump(aic_best_model, output_file)\n",
    "\n",
    "with open(os.path.join(resultsroute, f\"\"\"HMM_univ_{params[\"tablename\"]}_bic_bestmodels.pickle\"\"\"), \"wb\") as output_file:\n",
    "    pickle.dump(bic_best_model, output_file)"
   ]
  },
  {
   "cell_type": "code",
   "execution_count": 63,
   "metadata": {},
   "outputs": [],
   "source": [
    "with open(os.path.join(resultsroute, f\"\"\"HMM_univ_{params[\"tablename\"]}_aic_residuals.pickle\"\"\"), \"wb\") as output_file:\n",
    "    pickle.dump(aic_best_residuals, output_file)\n",
    "\n",
    "with open(os.path.join(resultsroute, f\"\"\"HMM_univ_{params[\"tablename\"]}_bic_residuals.pickle\"\"\"), \"wb\") as output_file:\n",
    "    pickle.dump(bic_best_residuals, output_file)"
   ]
  },
  {
   "cell_type": "markdown",
   "metadata": {},
   "source": [
    "# Graficando"
   ]
  },
  {
   "cell_type": "code",
   "execution_count": 72,
   "metadata": {},
   "outputs": [],
   "source": [
    "def plot_close_rets_vol(model, data, key, IC):\n",
    "    prediction= model.predict(data)\n",
    "    states=set(prediction)\n",
    "\n",
    "    fig=plt.figure(figsize = (20, 20))\n",
    "    plt.tight_layout()\n",
    "    plt.title(f\"{key} Log returns and intraday Vol\\n{model.n_components} states / best by {IC}\")\n",
    "\n",
    "    for subplot, var in zip(range(1,3), data.columns):    \n",
    "        plt.subplot(2,1,subplot)\n",
    "        for i in set(prediction):\n",
    "            state = (prediction == i)\n",
    "            x = data.index[state]\n",
    "            y = data[var].iloc[state]\n",
    "            plt.plot(x, y, '.')\n",
    "        plt.legend(states, fontsize=16)\n",
    "        \n",
    "        plt.grid(True)\n",
    "        plt.xlabel(\"datetime\", fontsize=16)\n",
    "        plt.ylabel(var, fontsize=16)\n",
    "            \n",
    "    plt.savefig(os.path.join(resultsroute, \"graphs\", \n",
    "                             f\"HMM\", \n",
    "                             f\"{key}_model_{IC}.png\"))"
   ]
  },
  {
   "cell_type": "code",
   "execution_count": null,
   "metadata": {
    "scrolled": true
   },
   "outputs": [],
   "source": [
    "for dictionary, IC in zip([aic_best_model, bic_best_model], [\"AIC\", \"BIC\"]):\n",
    "    for key, model in dictionary.items():\n",
    "        columns = [f'{stock}_log_rets', f'{stock}_gk_vol']\n",
    "        insample_data = df[columns]\n",
    "        oos_data=df_test[columns]\n",
    "        train_end=insample_data.index.max()\n",
    "        data=pd.concat([insample_data, oos_data])\n",
    "\n",
    "        plot_close_rets_vol(model, data, key, IC)"
   ]
  },
  {
   "cell_type": "markdown",
   "metadata": {},
   "source": [
    "## HMM Selection"
   ]
  },
  {
   "cell_type": "markdown",
   "metadata": {},
   "source": [
    "Selecting the Number of States in Hidden Markov Models: Pragmatic Solutions Illustrated Using Animal Movement\n",
    "https://sci-hub.st/10.1007/s13253-017-0283-8"
   ]
  }
 ],
 "metadata": {
  "@webio": {
   "lastCommId": null,
   "lastKernelId": null
  },
  "kernelspec": {
   "display_name": "Python 3 (ipykernel)",
   "language": "python",
   "name": "python3"
  },
  "language_info": {
   "codemirror_mode": {
    "name": "ipython",
    "version": 3
   },
   "file_extension": ".py",
   "mimetype": "text/x-python",
   "name": "python",
   "nbconvert_exporter": "python",
   "pygments_lexer": "ipython3",
   "version": "3.11.3"
  }
 },
 "nbformat": 4,
 "nbformat_minor": 2
}
