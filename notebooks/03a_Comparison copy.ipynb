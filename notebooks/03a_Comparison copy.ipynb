{
 "cells": [
  {
   "cell_type": "markdown",
   "id": "53f032f0",
   "metadata": {},
   "source": [
    "# Comparison\n"
   ]
  },
  {
   "cell_type": "code",
   "execution_count": 13,
   "id": "1eba1443",
   "metadata": {},
   "outputs": [],
   "source": [
    "import pandas as pd\n",
    "import numpy as np\n",
    "import os\n",
    "import pickle\n",
    "\n",
    "pd.set_option(\"display.max_columns\", None)"
   ]
  },
  {
   "cell_type": "code",
   "execution_count": 14,
   "id": "a94baead",
   "metadata": {},
   "outputs": [],
   "source": [
    "from scripts.params import get_params\n",
    "from scripts.aux_functions import get_all_results_matching, subset_of_columns, clean_modelname\n",
    "\n",
    "params = get_params()"
   ]
  },
  {
   "cell_type": "code",
   "execution_count": 15,
   "id": "7a9048bb",
   "metadata": {},
   "outputs": [],
   "source": [
    "from scripts.epftoolbox_dm_gw import DM, plot_multivariate_DM_test, GW, plot_multivariate_GW_test"
   ]
  },
  {
   "cell_type": "code",
   "execution_count": 16,
   "id": "904542a3",
   "metadata": {},
   "outputs": [],
   "source": [
    "dataroute = params[\"dataroute\"]\n",
    "resultsroute = params[\"resultsroute\"]\n",
    "dumproute = params[\"dumproute\"]\n",
    "graphsroute = params[\"graphsroute\"]\n",
    "dmroute=params[\"dmroute\"]\n",
    "gwroute=params[\"gwroute\"]"
   ]
  },
  {
   "cell_type": "code",
   "execution_count": 17,
   "id": "260608bd",
   "metadata": {},
   "outputs": [],
   "source": [
    "start_test = params[\"start_test\"]\n",
    "local_suffix = params[\"local_suffix\"]"
   ]
  },
  {
   "cell_type": "code",
   "execution_count": 18,
   "id": "595cbc82",
   "metadata": {},
   "outputs": [],
   "source": [
    "name = f'finaldf_test_{params[\"tablename\"]}.pickle'\n",
    "filename = os.path.join(dataroute, name)\n",
    "with open(filename, \"rb\") as handle:\n",
    "    df_test = pickle.load(handle)\n",
    "    \n",
    "df_test.index=pd.to_datetime(df_test.index.copy())"
   ]
  },
  {
   "cell_type": "code",
   "execution_count": 19,
   "id": "95e9fb2e",
   "metadata": {},
   "outputs": [
    {
     "name": "stdout",
     "output_type": "stream",
     "text": [
      "{'GARCH_BR_^BVSP_aic_best_forecasts.pickle': '..\\\\results\\\\BR_^BVSP\\\\GARCH_BR_^BVSP_aic_best_forecasts.pickle', 'GARCH_BR_^BVSP_bic_best_forecasts.pickle': '..\\\\results\\\\BR_^BVSP\\\\GARCH_BR_^BVSP_bic_best_forecasts.pickle', 'HMM_multiv_BR_^BVSP_aic_best_forecasts.pickle': '..\\\\results\\\\BR_^BVSP\\\\HMM_multiv_BR_^BVSP_aic_best_forecasts.pickle', 'HMM_multiv_BR_^BVSP_bic_best_forecasts.pickle': '..\\\\results\\\\BR_^BVSP\\\\HMM_multiv_BR_^BVSP_bic_best_forecasts.pickle', 'HMM_univ_BR_^BVSP_aic_best_forecasts.pickle': '..\\\\results\\\\BR_^BVSP\\\\HMM_univ_BR_^BVSP_aic_best_forecasts.pickle', 'HMM_univ_BR_^BVSP_bic_best_forecasts.pickle': '..\\\\results\\\\BR_^BVSP\\\\HMM_univ_BR_^BVSP_bic_best_forecasts.pickle', 'HMM_with_vol_BR_^BVSP_aic_best_forecasts.pickle': '..\\\\results\\\\BR_^BVSP\\\\HMM_with_vol_BR_^BVSP_aic_best_forecasts.pickle', 'HMM_with_vol_BR_^BVSP_bic_best_forecasts.pickle': '..\\\\results\\\\BR_^BVSP\\\\HMM_with_vol_BR_^BVSP_bic_best_forecasts.pickle', 'VAR_multiv_BR_^BVSP_aic_best_forecasts.pickle': '..\\\\results\\\\BR_^BVSP\\\\VAR_multiv_BR_^BVSP_aic_best_forecasts.pickle', 'VAR_multiv_BR_^BVSP_bic_best_forecasts.pickle': '..\\\\results\\\\BR_^BVSP\\\\VAR_multiv_BR_^BVSP_bic_best_forecasts.pickle', 'VAR_with_vol_BR_^BVSP_aic_best_forecasts.pickle': '..\\\\results\\\\BR_^BVSP\\\\VAR_with_vol_BR_^BVSP_aic_best_forecasts.pickle', 'VAR_with_vol_BR_^BVSP_bic_best_forecasts.pickle': '..\\\\results\\\\BR_^BVSP\\\\VAR_with_vol_BR_^BVSP_bic_best_forecasts.pickle'}\n",
      "{'GARCH_BR_^BVSP_aic_best_residuals.pickle': '..\\\\results\\\\BR_^BVSP\\\\GARCH_BR_^BVSP_aic_best_residuals.pickle', 'GARCH_BR_^BVSP_bic_best_residuals.pickle': '..\\\\results\\\\BR_^BVSP\\\\GARCH_BR_^BVSP_bic_best_residuals.pickle', 'HMM_multiv_BR_^BVSP_aic_best_residuals.pickle': '..\\\\results\\\\BR_^BVSP\\\\HMM_multiv_BR_^BVSP_aic_best_residuals.pickle', 'HMM_multiv_BR_^BVSP_bic_best_residuals.pickle': '..\\\\results\\\\BR_^BVSP\\\\HMM_multiv_BR_^BVSP_bic_best_residuals.pickle', 'HMM_univ_BR_^BVSP_aic_best_residuals.pickle': '..\\\\results\\\\BR_^BVSP\\\\HMM_univ_BR_^BVSP_aic_best_residuals.pickle', 'HMM_univ_BR_^BVSP_bic_best_residuals.pickle': '..\\\\results\\\\BR_^BVSP\\\\HMM_univ_BR_^BVSP_bic_best_residuals.pickle', 'HMM_with_vol_BR_^BVSP_aic_best_residuals.pickle': '..\\\\results\\\\BR_^BVSP\\\\HMM_with_vol_BR_^BVSP_aic_best_residuals.pickle', 'HMM_with_vol_BR_^BVSP_bic_best_residuals.pickle': '..\\\\results\\\\BR_^BVSP\\\\HMM_with_vol_BR_^BVSP_bic_best_residuals.pickle', 'VAR_multiv_BR_^BVSP_aic_best_residuals.pickle': '..\\\\results\\\\BR_^BVSP\\\\VAR_multiv_BR_^BVSP_aic_best_residuals.pickle', 'VAR_multiv_BR_^BVSP_bic_best_residuals.pickle': '..\\\\results\\\\BR_^BVSP\\\\VAR_multiv_BR_^BVSP_bic_best_residuals.pickle', 'VAR_with_vol_BR_^BVSP_aic_best_residuals.pickle': '..\\\\results\\\\BR_^BVSP\\\\VAR_with_vol_BR_^BVSP_aic_best_residuals.pickle', 'VAR_with_vol_BR_^BVSP_bic_best_residuals.pickle': '..\\\\results\\\\BR_^BVSP\\\\VAR_with_vol_BR_^BVSP_bic_best_residuals.pickle'}\n"
     ]
    }
   ],
   "source": [
    "all_forecasts = get_all_results_matching(params[\"resultsroute\"], [\"best_forecasts\"])\n",
    "all_residuals = get_all_results_matching(params[\"resultsroute\"], [\"best_residuals\"])"
   ]
  },
  {
   "cell_type": "code",
   "execution_count": 21,
   "id": "9947de48",
   "metadata": {},
   "outputs": [],
   "source": [
    "def open_pickle_route(route:str):\n",
    "    with open(route, \"rb\") as file:\n",
    "        dictionary = pickle.load(file)\n",
    "    return dictionary"
   ]
  },
  {
   "cell_type": "code",
   "execution_count": 32,
   "id": "c3e21581",
   "metadata": {},
   "outputs": [],
   "source": [
    "def create_prefix(picklename:str):\n",
    "    picklename=picklename.replace(f\"\"\"{params[\"tablename\"]}_\"\"\", \"\").replace(\".pickle\", \"\").replace(\"_residuals\", \"\").replace(\"_forecasts\", \"\").replace(\"best\", \"\")\n",
    "    return picklename"
   ]
  },
  {
   "cell_type": "code",
   "execution_count": 51,
   "id": "124828fb",
   "metadata": {},
   "outputs": [],
   "source": [
    "def concat_dictionary(dictionary:dict, prefix:str):\n",
    "    colname_list=[]\n",
    "    df_list=[]\n",
    "    for key, value in dictionary.items():\n",
    "        value.index = pd.to_datetime(value.index)\n",
    "        value = subset_of_columns(value, \"log_rets\", \"USD\")\n",
    "        \n",
    "        df_list.append(value)\n",
    "        \n",
    "        colname = prefix + key\n",
    "        colname_list.append(colname)\n",
    "    \n",
    "    pickledf = pd.concat(df_list, axis=1, join=\"outer\")\n",
    "    pickledf.columns = colname_list\n",
    "    \n",
    "    return pickledf"
   ]
  },
  {
   "cell_type": "code",
   "execution_count": 52,
   "id": "4704932c",
   "metadata": {},
   "outputs": [],
   "source": [
    "def aggregate_single_pickle(picklename:str, pickleroute:str):\n",
    "    prefix = create_prefix(picklename)\n",
    "    dictionary = open_pickle_route(pickleroute)\n",
    "    pickledf = concat_dictionary(dictionary, prefix)\n",
    "    return pickledf"
   ]
  },
  {
   "cell_type": "code",
   "execution_count": 53,
   "id": "9c3f4b9f",
   "metadata": {},
   "outputs": [
    {
     "ename": "ValueError",
     "evalue": "Length mismatch: Expected axis has 20 elements, new values have 10 elements",
     "output_type": "error",
     "traceback": [
      "\u001b[1;31m---------------------------------------------------------------------------\u001b[0m",
      "\u001b[1;31mValueError\u001b[0m                                Traceback (most recent call last)",
      "Cell \u001b[1;32mIn[53], line 1\u001b[0m\n\u001b[1;32m----> 1\u001b[0m \u001b[43maggregate_single_pickle\u001b[49m\u001b[43m(\u001b[49m\u001b[38;5;124;43m'\u001b[39;49m\u001b[38;5;124;43mHMM_multiv_BR_^BVSP_aic_best_forecasts.pickle\u001b[39;49m\u001b[38;5;124;43m'\u001b[39;49m\u001b[43m,\u001b[49m\u001b[43m \u001b[49m\u001b[38;5;124;43m'\u001b[39;49m\u001b[38;5;124;43m..\u001b[39;49m\u001b[38;5;130;43;01m\\\\\u001b[39;49;00m\u001b[38;5;124;43mresults\u001b[39;49m\u001b[38;5;130;43;01m\\\\\u001b[39;49;00m\u001b[38;5;124;43mBR_^BVSP\u001b[39;49m\u001b[38;5;130;43;01m\\\\\u001b[39;49;00m\u001b[38;5;124;43mHMM_multiv_BR_^BVSP_aic_best_forecasts.pickle\u001b[39;49m\u001b[38;5;124;43m'\u001b[39;49m\u001b[43m)\u001b[49m\n",
      "Cell \u001b[1;32mIn[52], line 4\u001b[0m, in \u001b[0;36maggregate_single_pickle\u001b[1;34m(picklename, pickleroute)\u001b[0m\n\u001b[0;32m      2\u001b[0m prefix \u001b[38;5;241m=\u001b[39m create_prefix(picklename)\n\u001b[0;32m      3\u001b[0m dictionary \u001b[38;5;241m=\u001b[39m open_pickle_route(pickleroute)\n\u001b[1;32m----> 4\u001b[0m pickledf \u001b[38;5;241m=\u001b[39m \u001b[43mconcat_dictionary\u001b[49m\u001b[43m(\u001b[49m\u001b[43mdictionary\u001b[49m\u001b[43m,\u001b[49m\u001b[43m \u001b[49m\u001b[43mprefix\u001b[49m\u001b[43m)\u001b[49m\n\u001b[0;32m      5\u001b[0m \u001b[38;5;28;01mreturn\u001b[39;00m pickledf\n",
      "Cell \u001b[1;32mIn[51], line 14\u001b[0m, in \u001b[0;36mconcat_dictionary\u001b[1;34m(dictionary, prefix)\u001b[0m\n\u001b[0;32m     11\u001b[0m     colname_list\u001b[38;5;241m.\u001b[39mappend(colname)\n\u001b[0;32m     13\u001b[0m pickledf \u001b[38;5;241m=\u001b[39m pd\u001b[38;5;241m.\u001b[39mconcat(df_list, axis\u001b[38;5;241m=\u001b[39m\u001b[38;5;241m1\u001b[39m, join\u001b[38;5;241m=\u001b[39m\u001b[38;5;124m\"\u001b[39m\u001b[38;5;124mouter\u001b[39m\u001b[38;5;124m\"\u001b[39m)\n\u001b[1;32m---> 14\u001b[0m \u001b[43mpickledf\u001b[49m\u001b[38;5;241;43m.\u001b[39;49m\u001b[43mcolumns\u001b[49m \u001b[38;5;241m=\u001b[39m colname_list\n\u001b[0;32m     16\u001b[0m \u001b[38;5;28;01mreturn\u001b[39;00m pickledf\n",
      "File \u001b[1;32mc:\\Users\\alfredo.sampron\\AppData\\Local\\miniconda3\\envs\\hmm\\Lib\\site-packages\\pandas\\core\\generic.py:6218\u001b[0m, in \u001b[0;36mNDFrame.__setattr__\u001b[1;34m(self, name, value)\u001b[0m\n\u001b[0;32m   6216\u001b[0m \u001b[38;5;28;01mtry\u001b[39;00m:\n\u001b[0;32m   6217\u001b[0m     \u001b[38;5;28mobject\u001b[39m\u001b[38;5;241m.\u001b[39m\u001b[38;5;21m__getattribute__\u001b[39m(\u001b[38;5;28mself\u001b[39m, name)\n\u001b[1;32m-> 6218\u001b[0m     \u001b[38;5;28;01mreturn\u001b[39;00m \u001b[38;5;28;43mobject\u001b[39;49m\u001b[38;5;241;43m.\u001b[39;49m\u001b[38;5;21;43m__setattr__\u001b[39;49m\u001b[43m(\u001b[49m\u001b[38;5;28;43mself\u001b[39;49m\u001b[43m,\u001b[49m\u001b[43m \u001b[49m\u001b[43mname\u001b[49m\u001b[43m,\u001b[49m\u001b[43m \u001b[49m\u001b[43mvalue\u001b[49m\u001b[43m)\u001b[49m\n\u001b[0;32m   6219\u001b[0m \u001b[38;5;28;01mexcept\u001b[39;00m \u001b[38;5;167;01mAttributeError\u001b[39;00m:\n\u001b[0;32m   6220\u001b[0m     \u001b[38;5;28;01mpass\u001b[39;00m\n",
      "File \u001b[1;32mproperties.pyx:69\u001b[0m, in \u001b[0;36mpandas._libs.properties.AxisProperty.__set__\u001b[1;34m()\u001b[0m\n",
      "File \u001b[1;32mc:\\Users\\alfredo.sampron\\AppData\\Local\\miniconda3\\envs\\hmm\\Lib\\site-packages\\pandas\\core\\generic.py:767\u001b[0m, in \u001b[0;36mNDFrame._set_axis\u001b[1;34m(self, axis, labels)\u001b[0m\n\u001b[0;32m    762\u001b[0m \u001b[38;5;250m\u001b[39m\u001b[38;5;124;03m\"\"\"\u001b[39;00m\n\u001b[0;32m    763\u001b[0m \u001b[38;5;124;03mThis is called from the cython code when we set the `index` attribute\u001b[39;00m\n\u001b[0;32m    764\u001b[0m \u001b[38;5;124;03mdirectly, e.g. `series.index = [1, 2, 3]`.\u001b[39;00m\n\u001b[0;32m    765\u001b[0m \u001b[38;5;124;03m\"\"\"\u001b[39;00m\n\u001b[0;32m    766\u001b[0m labels \u001b[38;5;241m=\u001b[39m ensure_index(labels)\n\u001b[1;32m--> 767\u001b[0m \u001b[38;5;28;43mself\u001b[39;49m\u001b[38;5;241;43m.\u001b[39;49m\u001b[43m_mgr\u001b[49m\u001b[38;5;241;43m.\u001b[39;49m\u001b[43mset_axis\u001b[49m\u001b[43m(\u001b[49m\u001b[43maxis\u001b[49m\u001b[43m,\u001b[49m\u001b[43m \u001b[49m\u001b[43mlabels\u001b[49m\u001b[43m)\u001b[49m\n\u001b[0;32m    768\u001b[0m \u001b[38;5;28mself\u001b[39m\u001b[38;5;241m.\u001b[39m_clear_item_cache()\n",
      "File \u001b[1;32mc:\\Users\\alfredo.sampron\\AppData\\Local\\miniconda3\\envs\\hmm\\Lib\\site-packages\\pandas\\core\\internals\\managers.py:227\u001b[0m, in \u001b[0;36mBaseBlockManager.set_axis\u001b[1;34m(self, axis, new_labels)\u001b[0m\n\u001b[0;32m    225\u001b[0m \u001b[38;5;28;01mdef\u001b[39;00m \u001b[38;5;21mset_axis\u001b[39m(\u001b[38;5;28mself\u001b[39m, axis: AxisInt, new_labels: Index) \u001b[38;5;241m-\u001b[39m\u001b[38;5;241m>\u001b[39m \u001b[38;5;28;01mNone\u001b[39;00m:\n\u001b[0;32m    226\u001b[0m     \u001b[38;5;66;03m# Caller is responsible for ensuring we have an Index object.\u001b[39;00m\n\u001b[1;32m--> 227\u001b[0m     \u001b[38;5;28;43mself\u001b[39;49m\u001b[38;5;241;43m.\u001b[39;49m\u001b[43m_validate_set_axis\u001b[49m\u001b[43m(\u001b[49m\u001b[43maxis\u001b[49m\u001b[43m,\u001b[49m\u001b[43m \u001b[49m\u001b[43mnew_labels\u001b[49m\u001b[43m)\u001b[49m\n\u001b[0;32m    228\u001b[0m     \u001b[38;5;28mself\u001b[39m\u001b[38;5;241m.\u001b[39maxes[axis] \u001b[38;5;241m=\u001b[39m new_labels\n",
      "File \u001b[1;32mc:\\Users\\alfredo.sampron\\AppData\\Local\\miniconda3\\envs\\hmm\\Lib\\site-packages\\pandas\\core\\internals\\base.py:85\u001b[0m, in \u001b[0;36mDataManager._validate_set_axis\u001b[1;34m(self, axis, new_labels)\u001b[0m\n\u001b[0;32m     82\u001b[0m     \u001b[38;5;28;01mpass\u001b[39;00m\n\u001b[0;32m     84\u001b[0m \u001b[38;5;28;01melif\u001b[39;00m new_len \u001b[38;5;241m!=\u001b[39m old_len:\n\u001b[1;32m---> 85\u001b[0m     \u001b[38;5;28;01mraise\u001b[39;00m \u001b[38;5;167;01mValueError\u001b[39;00m(\n\u001b[0;32m     86\u001b[0m         \u001b[38;5;124mf\u001b[39m\u001b[38;5;124m\"\u001b[39m\u001b[38;5;124mLength mismatch: Expected axis has \u001b[39m\u001b[38;5;132;01m{\u001b[39;00mold_len\u001b[38;5;132;01m}\u001b[39;00m\u001b[38;5;124m elements, new \u001b[39m\u001b[38;5;124m\"\u001b[39m\n\u001b[0;32m     87\u001b[0m         \u001b[38;5;124mf\u001b[39m\u001b[38;5;124m\"\u001b[39m\u001b[38;5;124mvalues have \u001b[39m\u001b[38;5;132;01m{\u001b[39;00mnew_len\u001b[38;5;132;01m}\u001b[39;00m\u001b[38;5;124m elements\u001b[39m\u001b[38;5;124m\"\u001b[39m\n\u001b[0;32m     88\u001b[0m     )\n",
      "\u001b[1;31mValueError\u001b[0m: Length mismatch: Expected axis has 20 elements, new values have 10 elements"
     ]
    }
   ],
   "source": [
    "aggregate_single_pickle('HMM_multiv_BR_^BVSP_aic_best_forecasts.pickle', '..\\\\results\\\\BR_^BVSP\\\\HMM_multiv_BR_^BVSP_aic_best_forecasts.pickle')"
   ]
  },
  {
   "cell_type": "code",
   "execution_count": 45,
   "id": "145f3969",
   "metadata": {},
   "outputs": [],
   "source": [
    "def aggregate_dict(dictionary:dict):\n",
    "    pickledf_list=[]\n",
    "    for picklename, pickleroute in dictionary.items():\n",
    "        pickledf = aggregate_single_pickle(picklename, pickleroute)\n",
    "        pickledf_list.append(pickledf)\n",
    "    aggdf = pd.concat(pickledf_list, axis=1, join=\"outer\")\n",
    "    return aggdf"
   ]
  },
  {
   "cell_type": "code",
   "execution_count": 46,
   "id": "a5297d72",
   "metadata": {},
   "outputs": [
    {
     "ename": "ValueError",
     "evalue": "Length mismatch: Expected axis has 40 elements, new values have 10 elements",
     "output_type": "error",
     "traceback": [
      "\u001b[1;31m---------------------------------------------------------------------------\u001b[0m",
      "\u001b[1;31mValueError\u001b[0m                                Traceback (most recent call last)",
      "Cell \u001b[1;32mIn[46], line 1\u001b[0m\n\u001b[1;32m----> 1\u001b[0m forecasts \u001b[38;5;241m=\u001b[39m \u001b[43maggregate_dict\u001b[49m\u001b[43m(\u001b[49m\u001b[43mall_forecasts\u001b[49m\u001b[43m)\u001b[49m\n",
      "Cell \u001b[1;32mIn[45], line 4\u001b[0m, in \u001b[0;36maggregate_dict\u001b[1;34m(dictionary)\u001b[0m\n\u001b[0;32m      2\u001b[0m pickledf_list\u001b[38;5;241m=\u001b[39m[]\n\u001b[0;32m      3\u001b[0m \u001b[38;5;28;01mfor\u001b[39;00m picklename, pickleroute \u001b[38;5;129;01min\u001b[39;00m dictionary\u001b[38;5;241m.\u001b[39mitems():\n\u001b[1;32m----> 4\u001b[0m     pickledf \u001b[38;5;241m=\u001b[39m \u001b[43maggregate_single_pickle\u001b[49m\u001b[43m(\u001b[49m\u001b[43mpicklename\u001b[49m\u001b[43m,\u001b[49m\u001b[43m \u001b[49m\u001b[43mpickleroute\u001b[49m\u001b[43m)\u001b[49m\n\u001b[0;32m      5\u001b[0m     pickledf_list\u001b[38;5;241m.\u001b[39mappend(pickledf)\n\u001b[0;32m      6\u001b[0m aggdf \u001b[38;5;241m=\u001b[39m pd\u001b[38;5;241m.\u001b[39mconcat(pickledf_list, axis\u001b[38;5;241m=\u001b[39m\u001b[38;5;241m1\u001b[39m, join\u001b[38;5;241m=\u001b[39m\u001b[38;5;124m\"\u001b[39m\u001b[38;5;124mouter\u001b[39m\u001b[38;5;124m\"\u001b[39m)\n",
      "Cell \u001b[1;32mIn[44], line 4\u001b[0m, in \u001b[0;36maggregate_single_pickle\u001b[1;34m(picklename, pickleroute)\u001b[0m\n\u001b[0;32m      2\u001b[0m prefix \u001b[38;5;241m=\u001b[39m create_prefix(picklename)\n\u001b[0;32m      3\u001b[0m dictionary \u001b[38;5;241m=\u001b[39m open_pickle_route(pickleroute)\n\u001b[1;32m----> 4\u001b[0m pickledf \u001b[38;5;241m=\u001b[39m \u001b[43mconcat_dictionary\u001b[49m\u001b[43m(\u001b[49m\u001b[43mdictionary\u001b[49m\u001b[43m,\u001b[49m\u001b[43m \u001b[49m\u001b[43mprefix\u001b[49m\u001b[43m)\u001b[49m\n\u001b[0;32m      5\u001b[0m \u001b[38;5;28;01mreturn\u001b[39;00m pickledf\n",
      "Cell \u001b[1;32mIn[41], line 12\u001b[0m, in \u001b[0;36mconcat_dictionary\u001b[1;34m(dictionary, prefix)\u001b[0m\n\u001b[0;32m      9\u001b[0m     colname_list\u001b[38;5;241m.\u001b[39mappend(colname)\n\u001b[0;32m     11\u001b[0m pickledf \u001b[38;5;241m=\u001b[39m pd\u001b[38;5;241m.\u001b[39mconcat(df_list, axis\u001b[38;5;241m=\u001b[39m\u001b[38;5;241m1\u001b[39m, join\u001b[38;5;241m=\u001b[39m\u001b[38;5;124m\"\u001b[39m\u001b[38;5;124mouter\u001b[39m\u001b[38;5;124m\"\u001b[39m)\n\u001b[1;32m---> 12\u001b[0m \u001b[43mpickledf\u001b[49m\u001b[38;5;241;43m.\u001b[39;49m\u001b[43mcolumns\u001b[49m \u001b[38;5;241m=\u001b[39m colname_list\n\u001b[0;32m     14\u001b[0m \u001b[38;5;28;01mreturn\u001b[39;00m pickledf\n",
      "File \u001b[1;32mc:\\Users\\alfredo.sampron\\AppData\\Local\\miniconda3\\envs\\hmm\\Lib\\site-packages\\pandas\\core\\generic.py:6218\u001b[0m, in \u001b[0;36mNDFrame.__setattr__\u001b[1;34m(self, name, value)\u001b[0m\n\u001b[0;32m   6216\u001b[0m \u001b[38;5;28;01mtry\u001b[39;00m:\n\u001b[0;32m   6217\u001b[0m     \u001b[38;5;28mobject\u001b[39m\u001b[38;5;241m.\u001b[39m\u001b[38;5;21m__getattribute__\u001b[39m(\u001b[38;5;28mself\u001b[39m, name)\n\u001b[1;32m-> 6218\u001b[0m     \u001b[38;5;28;01mreturn\u001b[39;00m \u001b[38;5;28;43mobject\u001b[39;49m\u001b[38;5;241;43m.\u001b[39;49m\u001b[38;5;21;43m__setattr__\u001b[39;49m\u001b[43m(\u001b[49m\u001b[38;5;28;43mself\u001b[39;49m\u001b[43m,\u001b[49m\u001b[43m \u001b[49m\u001b[43mname\u001b[49m\u001b[43m,\u001b[49m\u001b[43m \u001b[49m\u001b[43mvalue\u001b[49m\u001b[43m)\u001b[49m\n\u001b[0;32m   6219\u001b[0m \u001b[38;5;28;01mexcept\u001b[39;00m \u001b[38;5;167;01mAttributeError\u001b[39;00m:\n\u001b[0;32m   6220\u001b[0m     \u001b[38;5;28;01mpass\u001b[39;00m\n",
      "File \u001b[1;32mproperties.pyx:69\u001b[0m, in \u001b[0;36mpandas._libs.properties.AxisProperty.__set__\u001b[1;34m()\u001b[0m\n",
      "File \u001b[1;32mc:\\Users\\alfredo.sampron\\AppData\\Local\\miniconda3\\envs\\hmm\\Lib\\site-packages\\pandas\\core\\generic.py:767\u001b[0m, in \u001b[0;36mNDFrame._set_axis\u001b[1;34m(self, axis, labels)\u001b[0m\n\u001b[0;32m    762\u001b[0m \u001b[38;5;250m\u001b[39m\u001b[38;5;124;03m\"\"\"\u001b[39;00m\n\u001b[0;32m    763\u001b[0m \u001b[38;5;124;03mThis is called from the cython code when we set the `index` attribute\u001b[39;00m\n\u001b[0;32m    764\u001b[0m \u001b[38;5;124;03mdirectly, e.g. `series.index = [1, 2, 3]`.\u001b[39;00m\n\u001b[0;32m    765\u001b[0m \u001b[38;5;124;03m\"\"\"\u001b[39;00m\n\u001b[0;32m    766\u001b[0m labels \u001b[38;5;241m=\u001b[39m ensure_index(labels)\n\u001b[1;32m--> 767\u001b[0m \u001b[38;5;28;43mself\u001b[39;49m\u001b[38;5;241;43m.\u001b[39;49m\u001b[43m_mgr\u001b[49m\u001b[38;5;241;43m.\u001b[39;49m\u001b[43mset_axis\u001b[49m\u001b[43m(\u001b[49m\u001b[43maxis\u001b[49m\u001b[43m,\u001b[49m\u001b[43m \u001b[49m\u001b[43mlabels\u001b[49m\u001b[43m)\u001b[49m\n\u001b[0;32m    768\u001b[0m \u001b[38;5;28mself\u001b[39m\u001b[38;5;241m.\u001b[39m_clear_item_cache()\n",
      "File \u001b[1;32mc:\\Users\\alfredo.sampron\\AppData\\Local\\miniconda3\\envs\\hmm\\Lib\\site-packages\\pandas\\core\\internals\\managers.py:227\u001b[0m, in \u001b[0;36mBaseBlockManager.set_axis\u001b[1;34m(self, axis, new_labels)\u001b[0m\n\u001b[0;32m    225\u001b[0m \u001b[38;5;28;01mdef\u001b[39;00m \u001b[38;5;21mset_axis\u001b[39m(\u001b[38;5;28mself\u001b[39m, axis: AxisInt, new_labels: Index) \u001b[38;5;241m-\u001b[39m\u001b[38;5;241m>\u001b[39m \u001b[38;5;28;01mNone\u001b[39;00m:\n\u001b[0;32m    226\u001b[0m     \u001b[38;5;66;03m# Caller is responsible for ensuring we have an Index object.\u001b[39;00m\n\u001b[1;32m--> 227\u001b[0m     \u001b[38;5;28;43mself\u001b[39;49m\u001b[38;5;241;43m.\u001b[39;49m\u001b[43m_validate_set_axis\u001b[49m\u001b[43m(\u001b[49m\u001b[43maxis\u001b[49m\u001b[43m,\u001b[49m\u001b[43m \u001b[49m\u001b[43mnew_labels\u001b[49m\u001b[43m)\u001b[49m\n\u001b[0;32m    228\u001b[0m     \u001b[38;5;28mself\u001b[39m\u001b[38;5;241m.\u001b[39maxes[axis] \u001b[38;5;241m=\u001b[39m new_labels\n",
      "File \u001b[1;32mc:\\Users\\alfredo.sampron\\AppData\\Local\\miniconda3\\envs\\hmm\\Lib\\site-packages\\pandas\\core\\internals\\base.py:85\u001b[0m, in \u001b[0;36mDataManager._validate_set_axis\u001b[1;34m(self, axis, new_labels)\u001b[0m\n\u001b[0;32m     82\u001b[0m     \u001b[38;5;28;01mpass\u001b[39;00m\n\u001b[0;32m     84\u001b[0m \u001b[38;5;28;01melif\u001b[39;00m new_len \u001b[38;5;241m!=\u001b[39m old_len:\n\u001b[1;32m---> 85\u001b[0m     \u001b[38;5;28;01mraise\u001b[39;00m \u001b[38;5;167;01mValueError\u001b[39;00m(\n\u001b[0;32m     86\u001b[0m         \u001b[38;5;124mf\u001b[39m\u001b[38;5;124m\"\u001b[39m\u001b[38;5;124mLength mismatch: Expected axis has \u001b[39m\u001b[38;5;132;01m{\u001b[39;00mold_len\u001b[38;5;132;01m}\u001b[39;00m\u001b[38;5;124m elements, new \u001b[39m\u001b[38;5;124m\"\u001b[39m\n\u001b[0;32m     87\u001b[0m         \u001b[38;5;124mf\u001b[39m\u001b[38;5;124m\"\u001b[39m\u001b[38;5;124mvalues have \u001b[39m\u001b[38;5;132;01m{\u001b[39;00mnew_len\u001b[38;5;132;01m}\u001b[39;00m\u001b[38;5;124m elements\u001b[39m\u001b[38;5;124m\"\u001b[39m\n\u001b[0;32m     88\u001b[0m     )\n",
      "\u001b[1;31mValueError\u001b[0m: Length mismatch: Expected axis has 40 elements, new values have 10 elements"
     ]
    }
   ],
   "source": [
    "forecasts = aggregate_dict(all_forecasts)"
   ]
  }
 ],
 "metadata": {
  "@webio": {
   "lastCommId": null,
   "lastKernelId": null
  },
  "kernelspec": {
   "display_name": "Python 3 (ipykernel)",
   "language": "python",
   "name": "python3"
  },
  "language_info": {
   "codemirror_mode": {
    "name": "ipython",
    "version": 3
   },
   "file_extension": ".py",
   "mimetype": "text/x-python",
   "name": "python",
   "nbconvert_exporter": "python",
   "pygments_lexer": "ipython3",
   "version": "3.11.5"
  }
 },
 "nbformat": 4,
 "nbformat_minor": 5
}
