{
 "cells": [
  {
   "cell_type": "markdown",
   "id": "53f032f0",
   "metadata": {},
   "source": [
    "# Comparison\n"
   ]
  },
  {
   "cell_type": "code",
   "execution_count": 4,
   "id": "1eba1443",
   "metadata": {},
   "outputs": [],
   "source": [
    "import pandas as pd\n",
    "import numpy as np\n",
    "import os\n",
    "import pickle\n",
    "\n",
    "pd.set_option(\"display.max_columns\", None)"
   ]
  },
  {
   "cell_type": "code",
   "execution_count": 6,
   "id": "a94baead",
   "metadata": {},
   "outputs": [],
   "source": [
    "from scripts.params import get_params\n",
    "params = get_params()"
   ]
  },
  {
   "cell_type": "code",
   "execution_count": 7,
   "id": "904542a3",
   "metadata": {},
   "outputs": [],
   "source": [
    "dataroute = params[\"dataroute\"]\n",
    "resultsroute = params[\"resultsroute\"]\n",
    "dumproute = params[\"dumproute\"]\n",
    "graphsroute = params[\"graphsroute\"]"
   ]
  },
  {
   "cell_type": "code",
   "execution_count": 8,
   "id": "ef610248",
   "metadata": {},
   "outputs": [],
   "source": [
    "forecasts=\"forecasts_by_stock_\" + params[\"tablename\"] + \".pickle\"\n",
    "filename=os.path.join(resultsroute, forecasts)\n",
    "with open(filename, \"rb\") as handle:\n",
    "    forecasts_by_stock = pickle.load(handle)"
   ]
  },
  {
   "cell_type": "code",
   "execution_count": 10,
   "id": "4633ac35",
   "metadata": {},
   "outputs": [],
   "source": [
    "residuals=\"residuals_by_stock_\" + params[\"tablename\"] + \".pickle\"\n",
    "filename=os.path.join(resultsroute, forecasts)\n",
    "with open(filename, \"rb\") as handle:\n",
    "    residuals_by_stock = pickle.load(handle)"
   ]
  }
 ],
 "metadata": {
  "@webio": {
   "lastCommId": null,
   "lastKernelId": null
  },
  "kernelspec": {
   "display_name": "Python 3 (ipykernel)",
   "language": "python",
   "name": "python3"
  },
  "language_info": {
   "codemirror_mode": {
    "name": "ipython",
    "version": 3
   },
   "file_extension": ".py",
   "mimetype": "text/x-python",
   "name": "python",
   "nbconvert_exporter": "python",
   "pygments_lexer": "ipython3",
   "version": "3.11.5"
  }
 },
 "nbformat": 4,
 "nbformat_minor": 5
}
