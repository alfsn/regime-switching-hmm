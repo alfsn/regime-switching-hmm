{
 "cells": [
  {
   "cell_type": "markdown",
   "id": "53f032f0",
   "metadata": {},
   "source": [
    "# Comparison\n"
   ]
  },
  {
   "cell_type": "code",
   "execution_count": 21,
   "id": "1eba1443",
   "metadata": {},
   "outputs": [],
   "source": [
    "import pandas as pd\n",
    "import numpy as np\n",
    "import os\n",
    "import pickle\n",
    "import matplotlib.pyplot as plt\n",
    "import seaborn as sb\n",
    "\n",
    "pd.set_option(\"display.max_columns\", None)"
   ]
  },
  {
   "cell_type": "code",
   "execution_count": 22,
   "id": "a94baead",
   "metadata": {},
   "outputs": [],
   "source": [
    "from scripts.params import get_params\n",
    "\n",
    "params = get_params()\n",
    "\n",
    "from scripts.aux_functions import subset_of_columns"
   ]
  },
  {
   "cell_type": "code",
   "execution_count": 23,
   "id": "904542a3",
   "metadata": {},
   "outputs": [],
   "source": [
    "dataroute = params[\"dataroute\"]\n",
    "resultsroute = params[\"resultsroute\"]\n",
    "dumproute = params[\"dumproute\"]\n",
    "graphsroute = params[\"graphsroute\"]"
   ]
  },
  {
   "cell_type": "code",
   "execution_count": 24,
   "id": "ef610248",
   "metadata": {},
   "outputs": [],
   "source": [
    "forecasts = \"forecasts_by_stock_\" + params[\"tablename\"] + \".pickle\"\n",
    "filename = os.path.join(resultsroute, forecasts)\n",
    "with open(filename, \"rb\") as handle:\n",
    "    forecasts_by_stock = pickle.load(handle)"
   ]
  },
  {
   "cell_type": "code",
   "execution_count": 25,
   "id": "4633ac35",
   "metadata": {},
   "outputs": [],
   "source": [
    "residuals = \"residuals_by_stock_\" + params[\"tablename\"] + \".pickle\"\n",
    "filename = os.path.join(resultsroute, forecasts)\n",
    "with open(filename, \"rb\") as handle:\n",
    "    residuals_by_stock = pickle.load(handle)"
   ]
  },
  {
   "cell_type": "code",
   "execution_count": 26,
   "id": "7ebc0d5c",
   "metadata": {},
   "outputs": [],
   "source": [
    "def plot_forecasts(df, stock, filter=\"\"):\n",
    "    fig, ax = plt.subplots(figsize=(12, 6))\n",
    "\n",
    "    log_rets = df[f\"{stock}_log_rets\"]\n",
    "    other_fcast = subset_of_columns(forecasts_by_stock[stock], filter)\n",
    "\n",
    "    sb.lineplot(data=log_rets, markers=True, label=\"Actual Returns\", linewidth=1.5)\n",
    "    sb.lineplot(data=other_fcast, markers=True)\n",
    "\n",
    "    plt.title(f\"Forecasts Plot {stock}\", fontsize=16)\n",
    "    plt.xlabel(\"Date\", fontsize=14)\n",
    "    plt.ylabel(\"Values\", fontsize=14)\n",
    "    plt.xticks(rotation=45)\n",
    "    plt.grid(True, linestyle=\"--\", linewidth=0.5)\n",
    "\n",
    "    handles, labels = ax.get_legend_handles_labels()\n",
    "    ax.legend(handles, labels, title=\"Series\", loc=\"upper left\", bbox_to_anchor=(1, 1))\n",
    "    plt.tight_layout()\n",
    "\n",
    "    return fig"
   ]
  },
  {
   "cell_type": "code",
   "execution_count": 27,
   "id": "9085b0d1",
   "metadata": {},
   "outputs": [],
   "source": [
    "def plot_residuals(df, stock):\n",
    "    fig, ax = plt.subplots(figsize=(12, 6))\n",
    "\n",
    "    sb.lineplot(data=df, markers=True)\n",
    "\n",
    "    plt.title(f\"Residuals Plot {stock}\", fontsize=16)\n",
    "    plt.xlabel(\"Date\", fontsize=14)\n",
    "    plt.ylabel(\"Values\", fontsize=14)\n",
    "    plt.xticks(rotation=45)\n",
    "    plt.grid(True, linestyle=\"--\", linewidth=0.5)\n",
    "    plt.axhline(y=0, color=\"black\", linestyle=\"--\", linewidth=1.5, label=\"Zero Error\")\n",
    "\n",
    "    handles, labels = ax.get_legend_handles_labels()\n",
    "    ax.legend(handles, labels, title=\"Series\", loc=\"upper left\", bbox_to_anchor=(1, 1))\n",
    "    plt.tight_layout()\n",
    "\n",
    "    return fig"
   ]
  },
  {
   "cell_type": "code",
   "execution_count": null,
   "id": "afda5d07",
   "metadata": {},
   "outputs": [],
   "source": [
    "resdf = subset_of_columns(residuals_by_stock[params[\"tickerlist\"][0]], \"bic\")\n",
    "plot_residuals(resdf, params[\"tickerlist\"][0])"
   ]
  },
  {
   "cell_type": "code",
   "execution_count": null,
   "id": "3ef44a03",
   "metadata": {},
   "outputs": [],
   "source": [
    "for ticker in params[\"tickerlist\"]:\n",
    "    for model_type in params[\"model_list\"]:\n",
    "        resdf = subset_of_columns(residuals_by_stock[ticker], model_type)\n",
    "        fig = plot_residuals(resdf, ticker)\n",
    "        fig.savefig(os.path.join(graphsroute, \"forecasts\", model_type, f\"{ticker}.png\"))"
   ]
  }
 ],
 "metadata": {
  "@webio": {
   "lastCommId": null,
   "lastKernelId": null
  },
  "kernelspec": {
   "display_name": "Python 3 (ipykernel)",
   "language": "python",
   "name": "python3"
  },
  "language_info": {
   "codemirror_mode": {
    "name": "ipython",
    "version": 3
   },
   "file_extension": ".py",
   "mimetype": "text/x-python",
   "name": "python",
   "nbconvert_exporter": "python",
   "pygments_lexer": "ipython3",
   "version": "3.11.5"
  }
 },
 "nbformat": 4,
 "nbformat_minor": 5
}
