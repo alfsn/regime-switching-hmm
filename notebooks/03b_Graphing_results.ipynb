{
 "cells": [
  {
   "cell_type": "markdown",
   "id": "53f032f0",
   "metadata": {},
   "source": [
    "# Comparison\n"
   ]
  },
  {
   "cell_type": "code",
   "execution_count": 2,
   "id": "1eba1443",
   "metadata": {},
   "outputs": [],
   "source": [
    "import pandas as pd\n",
    "import numpy as np\n",
    "import os\n",
    "import pickle\n",
    "\n",
    "pd.set_option(\"display.max_columns\", None)"
   ]
  },
  {
   "cell_type": "code",
   "execution_count": 9,
   "id": "a94baead",
   "metadata": {},
   "outputs": [],
   "source": [
    "from scripts.params import get_params\n",
    "params = get_params()\n",
    "\n",
    "from scripts.aux_functions import subset_of_columns"
   ]
  },
  {
   "cell_type": "code",
   "execution_count": 4,
   "id": "904542a3",
   "metadata": {},
   "outputs": [],
   "source": [
    "dataroute = params[\"dataroute\"]\n",
    "resultsroute = params[\"resultsroute\"]\n",
    "dumproute = params[\"dumproute\"]\n",
    "graphsroute = params[\"graphsroute\"]"
   ]
  },
  {
   "cell_type": "code",
   "execution_count": 5,
   "id": "ef610248",
   "metadata": {},
   "outputs": [],
   "source": [
    "forecasts=\"forecasts_by_stock_\" + params[\"tablename\"] + \".pickle\"\n",
    "filename=os.path.join(resultsroute, forecasts)\n",
    "with open(filename, \"rb\") as handle:\n",
    "    forecasts_by_stock = pickle.load(handle)"
   ]
  },
  {
   "cell_type": "code",
   "execution_count": 6,
   "id": "4633ac35",
   "metadata": {},
   "outputs": [],
   "source": [
    "residuals=\"residuals_by_stock_\" + params[\"tablename\"] + \".pickle\"\n",
    "filename=os.path.join(resultsroute, forecasts)\n",
    "with open(filename, \"rb\") as handle:\n",
    "    residuals_by_stock = pickle.load(handle)"
   ]
  },
  {
   "cell_type": "code",
   "execution_count": 10,
   "id": "ccad1db1",
   "metadata": {},
   "outputs": [
    {
     "data": {
      "text/html": [
       "<div>\n",
       "<style scoped>\n",
       "    .dataframe tbody tr th:only-of-type {\n",
       "        vertical-align: middle;\n",
       "    }\n",
       "\n",
       "    .dataframe tbody tr th {\n",
       "        vertical-align: top;\n",
       "    }\n",
       "\n",
       "    .dataframe thead th {\n",
       "        text-align: right;\n",
       "    }\n",
       "</style>\n",
       "<table border=\"1\" class=\"dataframe\">\n",
       "  <thead>\n",
       "    <tr style=\"text-align: right;\">\n",
       "      <th></th>\n",
       "      <th>HMM_multiv_aic_VALE</th>\n",
       "      <th>HMM_univ_aic_VALE</th>\n",
       "      <th>HMM_with_vol_aic_VALE</th>\n",
       "    </tr>\n",
       "  </thead>\n",
       "  <tbody>\n",
       "    <tr>\n",
       "      <th>2023-06-01</th>\n",
       "      <td>0.027281</td>\n",
       "      <td>0.028140</td>\n",
       "      <td>0.025759</td>\n",
       "    </tr>\n",
       "    <tr>\n",
       "      <th>2023-06-02</th>\n",
       "      <td>0.046796</td>\n",
       "      <td>0.043268</td>\n",
       "      <td>0.042011</td>\n",
       "    </tr>\n",
       "    <tr>\n",
       "      <th>2023-06-05</th>\n",
       "      <td>-0.005108</td>\n",
       "      <td>-0.003221</td>\n",
       "      <td>-0.004161</td>\n",
       "    </tr>\n",
       "    <tr>\n",
       "      <th>2023-06-06</th>\n",
       "      <td>0.008521</td>\n",
       "      <td>0.010984</td>\n",
       "      <td>0.008665</td>\n",
       "    </tr>\n",
       "    <tr>\n",
       "      <th>2023-06-07</th>\n",
       "      <td>0.013015</td>\n",
       "      <td>0.015567</td>\n",
       "      <td>0.014330</td>\n",
       "    </tr>\n",
       "    <tr>\n",
       "      <th>...</th>\n",
       "      <td>...</td>\n",
       "      <td>...</td>\n",
       "      <td>...</td>\n",
       "    </tr>\n",
       "    <tr>\n",
       "      <th>2023-11-24</th>\n",
       "      <td>-0.009006</td>\n",
       "      <td>-0.009958</td>\n",
       "      <td>-0.010388</td>\n",
       "    </tr>\n",
       "    <tr>\n",
       "      <th>2023-11-27</th>\n",
       "      <td>-0.011424</td>\n",
       "      <td>-0.011468</td>\n",
       "      <td>-0.010125</td>\n",
       "    </tr>\n",
       "    <tr>\n",
       "      <th>2023-11-28</th>\n",
       "      <td>0.013376</td>\n",
       "      <td>0.013002</td>\n",
       "      <td>0.010237</td>\n",
       "    </tr>\n",
       "    <tr>\n",
       "      <th>2023-11-29</th>\n",
       "      <td>-0.010202</td>\n",
       "      <td>-0.010004</td>\n",
       "      <td>-0.009048</td>\n",
       "    </tr>\n",
       "    <tr>\n",
       "      <th>2023-11-30</th>\n",
       "      <td>0.004636</td>\n",
       "      <td>0.004093</td>\n",
       "      <td>0.002002</td>\n",
       "    </tr>\n",
       "  </tbody>\n",
       "</table>\n",
       "<p>126 rows × 3 columns</p>\n",
       "</div>"
      ],
      "text/plain": [
       "            HMM_multiv_aic_VALE  HMM_univ_aic_VALE  HMM_with_vol_aic_VALE\n",
       "2023-06-01             0.027281           0.028140               0.025759\n",
       "2023-06-02             0.046796           0.043268               0.042011\n",
       "2023-06-05            -0.005108          -0.003221              -0.004161\n",
       "2023-06-06             0.008521           0.010984               0.008665\n",
       "2023-06-07             0.013015           0.015567               0.014330\n",
       "...                         ...                ...                    ...\n",
       "2023-11-24            -0.009006          -0.009958              -0.010388\n",
       "2023-11-27            -0.011424          -0.011468              -0.010125\n",
       "2023-11-28             0.013376           0.013002               0.010237\n",
       "2023-11-29            -0.010202          -0.010004              -0.009048\n",
       "2023-11-30             0.004636           0.004093               0.002002\n",
       "\n",
       "[126 rows x 3 columns]"
      ]
     },
     "execution_count": 10,
     "metadata": {},
     "output_type": "execute_result"
    }
   ],
   "source": [
    "subset_of_columns(subset_of_columns(residuals_by_stock[\"VALE\"], \"HMM\"), \"aic\")"
   ]
  },
  {
   "cell_type": "code",
   "execution_count": null,
   "id": "d9f2fb82",
   "metadata": {},
   "outputs": [],
   "source": [
    "def plot_close_rets(data, model, key, name):\n",
    "    fig = plt.figure(figsize=(20, 20))\n",
    "    plt.tight_layout()\n",
    "    plt.title(f\"{key} Log returns\")\n",
    "\n",
    "    plt.subplot(1, 1, 1)\n",
    "\n",
    "    x = data[key][\"log_rets\"]\n",
    "    y = data[key].index\n",
    "\n",
    "    plt.plot(x, y, \".\", c=\"red\")\n",
    "    # plt.plot(x, model.predict(x), '.', c=\"blue\")\n",
    "\n",
    "    plt.grid(True)\n",
    "    plt.xlabel(\"datetime\", fontsize=16)\n",
    "    plt.ylabel(\"log rets\", fontsize=16)\n",
    "\n",
    "    plt.savefig(\n",
    "        os.path.join(resultsroute, \"graphs\", f\"GARCH\", f\"{key}_model_{name}.png\")\n",
    "    )"
   ]
  }
 ],
 "metadata": {
  "@webio": {
   "lastCommId": null,
   "lastKernelId": null
  },
  "kernelspec": {
   "display_name": "Python 3 (ipykernel)",
   "language": "python",
   "name": "python3"
  },
  "language_info": {
   "codemirror_mode": {
    "name": "ipython",
    "version": 3
   },
   "file_extension": ".py",
   "mimetype": "text/x-python",
   "name": "python",
   "nbconvert_exporter": "python",
   "pygments_lexer": "ipython3",
   "version": "3.11.5"
  }
 },
 "nbformat": 4,
 "nbformat_minor": 5
}
