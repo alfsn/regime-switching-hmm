{
 "cells": [
  {
   "cell_type": "code",
   "execution_count": 1,
   "metadata": {},
   "outputs": [],
   "source": [
    "import numpy as np\n",
    "import pandas as pd\n",
    "import pandas_datareader as web\n",
    "import matplotlib.pyplot as plt\n",
    "from hmmlearn import hmm\n",
    "\n",
    "import os\n",
    "import pickle"
   ]
  },
  {
   "cell_type": "code",
   "execution_count": 2,
   "metadata": {},
   "outputs": [],
   "source": [
    "import yfinance as yf\n",
    "yf.pdr_override()"
   ]
  },
  {
   "cell_type": "code",
   "execution_count": 3,
   "metadata": {},
   "outputs": [],
   "source": [
    "tickerlist=[\"^MERV\", \n",
    "            \"GGAL\", \"GGAL.BA\", \n",
    "            \"YPF\", \"YPFD.BA\",\n",
    "            \"EDN\", \"EDN.BA\",\n",
    "            \"BMA\", \"BMA.BA\"] \n",
    "# sumar tamb BBAR/BBAR? TEO/TECO2?"
   ]
  },
  {
   "cell_type": "code",
   "execution_count": 4,
   "metadata": {},
   "outputs": [],
   "source": [
    "factordict={\"GGAL\": 10, \"YPF\":1, \"EDN\":20, \"BMA\":10, \"BBAR\":3, \"TEO\":5}"
   ]
  },
  {
   "cell_type": "code",
   "execution_count": 5,
   "metadata": {},
   "outputs": [
    {
     "data": {
      "text/plain": [
       "[('GGAL', 'GGAL.BA'), ('YPF', 'YPFD.BA'), ('EDN', 'EDN.BA'), ('BMA', 'BMA.BA')]"
      ]
     },
     "execution_count": 5,
     "metadata": {},
     "output_type": "execute_result"
    }
   ],
   "source": [
    "stocks=tickerlist.copy()\n",
    "stocks.remove(\"^MERV\")\n",
    "stocklist=[]\n",
    "\n",
    "for i in range(0, len(stocks), 2):\n",
    "    stocklist.append((stocks[i], stocks[i+1]))\n",
    "del stocks\n",
    "stocklist"
   ]
  },
  {
   "cell_type": "code",
   "execution_count": 6,
   "metadata": {},
   "outputs": [],
   "source": [
    "ohlclist=[\"Open\", \"High\", \"Low\", \"Close\"]"
   ]
  },
  {
   "cell_type": "code",
   "execution_count": 7,
   "metadata": {},
   "outputs": [],
   "source": [
    "objectlist=[]\n",
    "\n",
    "for ticker in tickerlist:\n",
    "    objectlist.append(yf.Ticker(ticker))    "
   ]
  },
  {
   "cell_type": "code",
   "execution_count": 8,
   "metadata": {},
   "outputs": [],
   "source": [
    "# get historical market data\n",
    "data={}\n",
    "start='2013-01-01'\n",
    "end=\"2023-06-01\""
   ]
  },
  {
   "cell_type": "code",
   "execution_count": 16,
   "metadata": {},
   "outputs": [],
   "source": [
    "name=f'dataset_{start}_{end}_{str(tickerlist)}.pickle'\n",
    "dataroute=os.path.join(\"..\", \"..\",  \"data\")\n",
    "filename=os.path.join(dataroute, name)"
   ]
  },
  {
   "cell_type": "code",
   "execution_count": 17,
   "metadata": {},
   "outputs": [],
   "source": [
    "if not os.path.exists(filename):\n",
    "    for ticker in objectlist:\n",
    "        # descargo data en un diccionario[ticker]\n",
    "        data[ticker.ticker] = ticker.history(start=start, end=end)\n",
    "        # guardo en un pickle\n",
    "    with open(filename, 'wb') as handle:\n",
    "        pickle.dump(data, handle, protocol=pickle.HIGHEST_PROTOCOL)\n",
    "            \n",
    "else:\n",
    "    with open(filename, 'rb') as handle:\n",
    "        data=pickle.load(handle)"
   ]
  },
  {
   "cell_type": "code",
   "execution_count": 46,
   "metadata": {},
   "outputs": [],
   "source": [
    "# Another example\n",
    "model = hmm.GaussianHMM(n_components=3, covariance_type=\"diag\", n_iter=100)\n",
    "K = 2# Number of sites\n",
    "model.n_features = K # initialise that the model has size of observations =  K "
   ]
  },
  {
   "cell_type": "code",
   "execution_count": 47,
   "metadata": {},
   "outputs": [
    {
     "data": {
      "text/plain": [
       "array([[ 0.89235633,  0.28141464],\n",
       "       [-1.3931979 , -2.27164473],\n",
       "       [ 0.92917295, -1.05628851],\n",
       "       [-0.97263267,  0.45002902],\n",
       "       [ 0.71811569,  1.39895219]])"
      ]
     },
     "execution_count": 47,
     "metadata": {},
     "output_type": "execute_result"
    }
   ],
   "source": [
    "\n",
    "# Create a random training sequence (only 1 sequence) with length = 100.\n",
    "X1 = np.random.randn(100, K) # 100 observation for K sites\n",
    "X1[:5]"
   ]
  },
  {
   "cell_type": "code",
   "execution_count": 48,
   "metadata": {},
   "outputs": [
    {
     "data": {
      "text/plain": [
       "array([[1.94265845e-01, 1.06147711e+00],\n",
       "       [9.31269736e-01, 2.19813807e-01],\n",
       "       [6.05156713e-04, 2.39203078e+00]])"
      ]
     },
     "execution_count": 48,
     "metadata": {},
     "output_type": "execute_result"
    }
   ],
   "source": [
    "model.fit(X1)\n",
    "# Sample the fitted model\n",
    "X, Z = model.sample(3)\n",
    "X"
   ]
  },
  {
   "cell_type": "code",
   "execution_count": 49,
   "metadata": {},
   "outputs": [
    {
     "data": {
      "text/plain": [
       "(100, 2)"
      ]
     },
     "execution_count": 49,
     "metadata": {},
     "output_type": "execute_result"
    }
   ],
   "source": [
    "X1.shape"
   ]
  },
  {
   "cell_type": "code",
   "execution_count": 51,
   "metadata": {},
   "outputs": [
    {
     "data": {
      "text/html": [
       "<div>\n",
       "<style scoped>\n",
       "    .dataframe tbody tr th:only-of-type {\n",
       "        vertical-align: middle;\n",
       "    }\n",
       "\n",
       "    .dataframe tbody tr th {\n",
       "        vertical-align: top;\n",
       "    }\n",
       "\n",
       "    .dataframe thead th {\n",
       "        text-align: right;\n",
       "    }\n",
       "</style>\n",
       "<table border=\"1\" class=\"dataframe\">\n",
       "  <thead>\n",
       "    <tr style=\"text-align: right;\">\n",
       "      <th></th>\n",
       "      <th>Open</th>\n",
       "      <th>High</th>\n",
       "      <th>Low</th>\n",
       "      <th>Close</th>\n",
       "      <th>Volume</th>\n",
       "      <th>Dividends</th>\n",
       "      <th>Stock Splits</th>\n",
       "    </tr>\n",
       "    <tr>\n",
       "      <th>Date</th>\n",
       "      <th></th>\n",
       "      <th></th>\n",
       "      <th></th>\n",
       "      <th></th>\n",
       "      <th></th>\n",
       "      <th></th>\n",
       "      <th></th>\n",
       "    </tr>\n",
       "  </thead>\n",
       "  <tbody>\n",
       "    <tr>\n",
       "      <th>2013-01-02</th>\n",
       "      <td>5.965933</td>\n",
       "      <td>6.112495</td>\n",
       "      <td>5.802128</td>\n",
       "      <td>6.086631</td>\n",
       "      <td>342600</td>\n",
       "      <td>0.000</td>\n",
       "      <td>0</td>\n",
       "    </tr>\n",
       "    <tr>\n",
       "      <th>2013-01-03</th>\n",
       "      <td>6.034902</td>\n",
       "      <td>6.259056</td>\n",
       "      <td>5.957310</td>\n",
       "      <td>6.009038</td>\n",
       "      <td>147800</td>\n",
       "      <td>0.000</td>\n",
       "      <td>0</td>\n",
       "    </tr>\n",
       "    <tr>\n",
       "      <th>2013-01-04</th>\n",
       "      <td>6.043524</td>\n",
       "      <td>6.078009</td>\n",
       "      <td>5.896962</td>\n",
       "      <td>5.948689</td>\n",
       "      <td>42900</td>\n",
       "      <td>0.000</td>\n",
       "      <td>0</td>\n",
       "    </tr>\n",
       "    <tr>\n",
       "      <th>2013-01-07</th>\n",
       "      <td>5.888340</td>\n",
       "      <td>6.034902</td>\n",
       "      <td>5.845234</td>\n",
       "      <td>5.862476</td>\n",
       "      <td>69300</td>\n",
       "      <td>0.000</td>\n",
       "      <td>0</td>\n",
       "    </tr>\n",
       "    <tr>\n",
       "      <th>2013-01-08</th>\n",
       "      <td>5.888341</td>\n",
       "      <td>5.957311</td>\n",
       "      <td>5.707294</td>\n",
       "      <td>5.767643</td>\n",
       "      <td>133500</td>\n",
       "      <td>0.000</td>\n",
       "      <td>0</td>\n",
       "    </tr>\n",
       "    <tr>\n",
       "      <th>...</th>\n",
       "      <td>...</td>\n",
       "      <td>...</td>\n",
       "      <td>...</td>\n",
       "      <td>...</td>\n",
       "      <td>...</td>\n",
       "      <td>...</td>\n",
       "      <td>...</td>\n",
       "    </tr>\n",
       "    <tr>\n",
       "      <th>2023-05-24</th>\n",
       "      <td>11.020744</td>\n",
       "      <td>11.453873</td>\n",
       "      <td>10.789741</td>\n",
       "      <td>11.319122</td>\n",
       "      <td>671400</td>\n",
       "      <td>0.000</td>\n",
       "      <td>0</td>\n",
       "    </tr>\n",
       "    <tr>\n",
       "      <th>2023-05-25</th>\n",
       "      <td>11.261371</td>\n",
       "      <td>11.405748</td>\n",
       "      <td>11.011118</td>\n",
       "      <td>11.222871</td>\n",
       "      <td>225200</td>\n",
       "      <td>0.000</td>\n",
       "      <td>0</td>\n",
       "    </tr>\n",
       "    <tr>\n",
       "      <th>2023-05-26</th>\n",
       "      <td>11.193995</td>\n",
       "      <td>11.434623</td>\n",
       "      <td>11.020743</td>\n",
       "      <td>11.242121</td>\n",
       "      <td>252200</td>\n",
       "      <td>0.000</td>\n",
       "      <td>0</td>\n",
       "    </tr>\n",
       "    <tr>\n",
       "      <th>2023-05-30</th>\n",
       "      <td>11.165121</td>\n",
       "      <td>11.684876</td>\n",
       "      <td>10.924493</td>\n",
       "      <td>11.656000</td>\n",
       "      <td>326300</td>\n",
       "      <td>0.000</td>\n",
       "      <td>0</td>\n",
       "    </tr>\n",
       "    <tr>\n",
       "      <th>2023-05-31</th>\n",
       "      <td>11.620000</td>\n",
       "      <td>12.010000</td>\n",
       "      <td>11.450000</td>\n",
       "      <td>11.870000</td>\n",
       "      <td>576200</td>\n",
       "      <td>0.454</td>\n",
       "      <td>0</td>\n",
       "    </tr>\n",
       "  </tbody>\n",
       "</table>\n",
       "<p>2621 rows × 7 columns</p>\n",
       "</div>"
      ],
      "text/plain": [
       "                 Open       High        Low      Close  Volume  Dividends  \\\n",
       "Date                                                                        \n",
       "2013-01-02   5.965933   6.112495   5.802128   6.086631  342600      0.000   \n",
       "2013-01-03   6.034902   6.259056   5.957310   6.009038  147800      0.000   \n",
       "2013-01-04   6.043524   6.078009   5.896962   5.948689   42900      0.000   \n",
       "2013-01-07   5.888340   6.034902   5.845234   5.862476   69300      0.000   \n",
       "2013-01-08   5.888341   5.957311   5.707294   5.767643  133500      0.000   \n",
       "...               ...        ...        ...        ...     ...        ...   \n",
       "2023-05-24  11.020744  11.453873  10.789741  11.319122  671400      0.000   \n",
       "2023-05-25  11.261371  11.405748  11.011118  11.222871  225200      0.000   \n",
       "2023-05-26  11.193995  11.434623  11.020743  11.242121  252200      0.000   \n",
       "2023-05-30  11.165121  11.684876  10.924493  11.656000  326300      0.000   \n",
       "2023-05-31  11.620000  12.010000  11.450000  11.870000  576200      0.454   \n",
       "\n",
       "            Stock Splits  \n",
       "Date                      \n",
       "2013-01-02             0  \n",
       "2013-01-03             0  \n",
       "2013-01-04             0  \n",
       "2013-01-07             0  \n",
       "2013-01-08             0  \n",
       "...                  ...  \n",
       "2023-05-24             0  \n",
       "2023-05-25             0  \n",
       "2023-05-26             0  \n",
       "2023-05-30             0  \n",
       "2023-05-31             0  \n",
       "\n",
       "[2621 rows x 7 columns]"
      ]
     },
     "execution_count": 51,
     "metadata": {},
     "output_type": "execute_result"
    }
   ],
   "source": [
    "data[\"GGAL\"]"
   ]
  },
  {
   "cell_type": "code",
   "execution_count": null,
   "metadata": {},
   "outputs": [],
   "source": []
  }
 ],
 "metadata": {
  "kernelspec": {
   "display_name": "Python 3",
   "language": "python",
   "name": "python3"
  },
  "language_info": {
   "codemirror_mode": {
    "name": "ipython",
    "version": 3
   },
   "file_extension": ".py",
   "mimetype": "text/x-python",
   "name": "python",
   "nbconvert_exporter": "python",
   "pygments_lexer": "ipython3",
   "version": "3.7.5"
  }
 },
 "nbformat": 4,
 "nbformat_minor": 2
}
